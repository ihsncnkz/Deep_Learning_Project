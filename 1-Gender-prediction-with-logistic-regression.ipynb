{
 "cells": [
  {
   "cell_type": "markdown",
   "id": "ee34a559",
   "metadata": {
    "papermill": {
     "duration": 0.009139,
     "end_time": "2022-08-16T09:41:12.929609",
     "exception": false,
     "start_time": "2022-08-16T09:41:12.920470",
     "status": "completed"
    },
    "tags": []
   },
   "source": [
    "# Description\n",
    "Hello,<br>\n",
    "In this project, I will implement the Logistic Regression model. I applied this model to another dataset before, but that dataset did not consist of pictures, this time my dataset consists of pictures and I will use these pictures to predict gender. Logistic regression is one of the most popular Machine Learning algorithms, which comes under the Supervised Learning technique. It is used for predicting the categorical dependent variable using a given set of independent variables.<br>\n",
    "\n",
    "I improve myself in data science and machine learning. With this project, I am making my first attempt at deep learning topics. I will share my projects on learning machine learning and data science in this section.<br>\n",
    "\n",
    "[For a detailed description of the dataset, please click here](https://www.kaggle.com/datasets/gpiosenka/gender-classification-from-an-image)\n",
    "\n",
    "Data Science And Machine Learning Projects:<br>\n",
    "- [GPU Search](https://www.kaggle.com/code/ihsncnkz/gpu-search)\n",
    "- [EDA And Linear Regression](https://www.kaggle.com/code/ihsncnkz/eda-and-linear-regression)\n",
    "- [Regression Models](https://www.kaggle.com/code/ihsncnkz/regression-models)\n",
    "- [Logistic Regression](https://www.kaggle.com/code/ihsncnkz/logistic-regression)\n",
    "- [Classification With K-Nearest Neighbors(KNN)](https://www.kaggle.com/code/ihsncnkz/classification-with-k-nearest-neighbors-knn)\n",
    "- [Classification With Support Vector Machine(SVM)](https://www.kaggle.com/code/ihsncnkz/classification-with-support-vector-machine-svm)\n",
    "- [Classification With Naive Bayes Classification](https://www.kaggle.com/code/ihsncnkz/classification-with-naive-bayes-classification)\n",
    "- [Decision Tree And Random Forest Classifier Models](https://www.kaggle.com/code/ihsncnkz/decision-tree-and-random-forest-classifier-models)\n",
    "- [K-Means And Hierarchical Clustering With 3D Plotly](https://www.kaggle.com/code/ihsncnkz/k-means-and-hierarchical-clustering-with-3d-plotly)\n",
    "- [Natural Language Process(NLP) With Naive Bayes](https://www.kaggle.com/code/ihsncnkz/natural-language-process-nlp-with-naive-bayes)\n",
    "- [Recommendation System With KNN](https://www.kaggle.com/code/ihsncnkz/recommendation-system-with-knn)"
   ]
  },
  {
   "cell_type": "markdown",
   "id": "9ef35102",
   "metadata": {
    "papermill": {
     "duration": 0.007416,
     "end_time": "2022-08-16T09:41:12.945058",
     "exception": false,
     "start_time": "2022-08-16T09:41:12.937642",
     "status": "completed"
    },
    "tags": []
   },
   "source": [
    "# Contents\n",
    "- [Prepare Dataset For Logistic Regression](#1)\n",
    "- [Logistic Regression](#2)\n",
    "    - [Step by step Logistic Regression](#lr1)\n",
    "    - [Logistic Regression with Sklearn Library](#lr2)\n",
    "- [CONCLUSION](#3)"
   ]
  },
  {
   "cell_type": "markdown",
   "id": "8a78f41f",
   "metadata": {
    "papermill": {
     "duration": 0.00748,
     "end_time": "2022-08-16T09:41:12.960190",
     "exception": false,
     "start_time": "2022-08-16T09:41:12.952710",
     "status": "completed"
    },
    "tags": []
   },
   "source": [
    "# Prepare Dataset For Logistic Regression <a id=\"1\"></a>"
   ]
  },
  {
   "cell_type": "code",
   "execution_count": 1,
   "id": "d27eea79",
   "metadata": {
    "_cell_guid": "b1076dfc-b9ad-4769-8c92-a6c4dae69d19",
    "_uuid": "8f2839f25d086af736a60e9eeb907d3b93b6e0e5",
    "execution": {
     "iopub.execute_input": "2022-08-16T09:41:12.978413Z",
     "iopub.status.busy": "2022-08-16T09:41:12.977643Z",
     "iopub.status.idle": "2022-08-16T09:41:14.406511Z",
     "shell.execute_reply": "2022-08-16T09:41:14.405314Z"
    },
    "papermill": {
     "duration": 1.441838,
     "end_time": "2022-08-16T09:41:14.409824",
     "exception": false,
     "start_time": "2022-08-16T09:41:12.967986",
     "status": "completed"
    },
    "tags": []
   },
   "outputs": [],
   "source": [
    "# Import Library\n",
    "import numpy as np # linear algebra\n",
    "import pandas as pd # data processing, CSV file I/O (e.g. pd.read_csv)\n",
    "import matplotlib.pyplot as plt\n",
    "import seaborn as sns\n",
    "\n",
    "import cv2 \n",
    "import os \n",
    "from random import shuffle  \n",
    "from tqdm import tqdm \n",
    "from PIL import Image\n",
    "\n",
    "# filter warnings and not show warnings\n",
    "import warnings\n",
    "warnings.filterwarnings('ignore')"
   ]
  },
  {
   "cell_type": "markdown",
   "id": "29368325",
   "metadata": {
    "papermill": {
     "duration": 0.007747,
     "end_time": "2022-08-16T09:41:14.425679",
     "exception": false,
     "start_time": "2022-08-16T09:41:14.417932",
     "status": "completed"
    },
    "tags": []
   },
   "source": [
    "Location of my data"
   ]
  },
  {
   "cell_type": "code",
   "execution_count": 2,
   "id": "9d75fce4",
   "metadata": {
    "execution": {
     "iopub.execute_input": "2022-08-16T09:41:14.443135Z",
     "iopub.status.busy": "2022-08-16T09:41:14.442728Z",
     "iopub.status.idle": "2022-08-16T09:41:14.447320Z",
     "shell.execute_reply": "2022-08-16T09:41:14.446536Z"
    },
    "papermill": {
     "duration": 0.015759,
     "end_time": "2022-08-16T09:41:14.449351",
     "exception": false,
     "start_time": "2022-08-16T09:41:14.433592",
     "status": "completed"
    },
    "tags": []
   },
   "outputs": [],
   "source": [
    "Train_Female = \"../input/gender-classification-from-an-image/gender/train/female\"\n",
    "Train_Male = \"../input/gender-classification-from-an-image/gender/train/male\"\n",
    "Test_Female = \"../input/gender-classification-from-an-image/gender/test/female\"\n",
    "Test_Male = \"../input/gender-classification-from-an-image/gender/test/male\""
   ]
  },
  {
   "cell_type": "markdown",
   "id": "b1311322",
   "metadata": {
    "papermill": {
     "duration": 0.007563,
     "end_time": "2022-08-16T09:41:14.464890",
     "exception": false,
     "start_time": "2022-08-16T09:41:14.457327",
     "status": "completed"
    },
    "tags": []
   },
   "source": [
    "Female example image "
   ]
  },
  {
   "cell_type": "code",
   "execution_count": 3,
   "id": "2e76423e",
   "metadata": {
    "execution": {
     "iopub.execute_input": "2022-08-16T09:41:14.482539Z",
     "iopub.status.busy": "2022-08-16T09:41:14.482073Z",
     "iopub.status.idle": "2022-08-16T09:41:14.518231Z",
     "shell.execute_reply": "2022-08-16T09:41:14.517286Z"
    },
    "papermill": {
     "duration": 0.048056,
     "end_time": "2022-08-16T09:41:14.520802",
     "exception": false,
     "start_time": "2022-08-16T09:41:14.472746",
     "status": "completed"
    },
    "tags": []
   },
   "outputs": [
    {
     "data": {
      "image/png": "[encoded data removed]",
      "text/plain": [
       "<PIL.JpegImagePlugin.JpegImageFile image mode=RGB size=81x104>"
      ]
     },
     "execution_count": 3,
     "metadata": {},
     "output_type": "execute_result"
    }
   ],
   "source": [
    "Image.open(\"../input/gender-classification-from-an-image/gender/train/female/0023.jpg\")"
   ]
  },
  {
   "cell_type": "markdown",
   "id": "8c931bc0",
   "metadata": {
    "papermill": {
     "duration": 0.008052,
     "end_time": "2022-08-16T09:41:14.537328",
     "exception": false,
     "start_time": "2022-08-16T09:41:14.529276",
     "status": "completed"
    },
    "tags": []
   },
   "source": [
    "Male example image"
   ]
  },
  {
   "cell_type": "code",
   "execution_count": 4,
   "id": "34ab7d3a",
   "metadata": {
    "execution": {
     "iopub.execute_input": "2022-08-16T09:41:14.556181Z",
     "iopub.status.busy": "2022-08-16T09:41:14.555601Z",
     "iopub.status.idle": "2022-08-16T09:41:14.572505Z",
     "shell.execute_reply": "2022-08-16T09:41:14.571563Z"
    },
    "papermill": {
     "duration": 0.029241,
     "end_time": "2022-08-16T09:41:14.575004",
     "exception": false,
     "start_time": "2022-08-16T09:41:14.545763",
     "status": "completed"
    },
    "tags": []
   },
   "outputs": [
    {
     "data": {
      "image/png": "[encoded data removed]",
      "text/plain": [
       "<PIL.JpegImagePlugin.JpegImageFile image mode=RGB size=83x111>"
      ]
     },
     "execution_count": 4,
     "metadata": {},
     "output_type": "execute_result"
    }
   ],
   "source": [
    "Image.open(\"../input/gender-classification-from-an-image/gender/train/male/0023.jpg\")"
   ]
  },
  {
   "cell_type": "markdown",
   "id": "1617bdcf",
   "metadata": {
    "papermill": {
     "duration": 0.00919,
     "end_time": "2022-08-16T09:41:14.593350",
     "exception": false,
     "start_time": "2022-08-16T09:41:14.584160",
     "status": "completed"
    },
    "tags": []
   },
   "source": [
    "I convert images to gray format with \"cv2.IMREAD_GRAYSCALE\"."
   ]
  },
  {
   "cell_type": "code",
   "execution_count": 5,
   "id": "28383f9b",
   "metadata": {
    "execution": {
     "iopub.execute_input": "2022-08-16T09:41:14.613243Z",
     "iopub.status.busy": "2022-08-16T09:41:14.612155Z",
     "iopub.status.idle": "2022-08-16T09:41:26.640843Z",
     "shell.execute_reply": "2022-08-16T09:41:26.639847Z"
    },
    "papermill": {
     "duration": 12.041157,
     "end_time": "2022-08-16T09:41:26.643345",
     "exception": false,
     "start_time": "2022-08-16T09:41:14.602188",
     "status": "completed"
    },
    "tags": []
   },
   "outputs": [
    {
     "name": "stderr",
     "output_type": "stream",
     "text": [
      "100%|██████████| 1747/1747 [00:05<00:00, 302.08it/s]\n",
      "100%|██████████| 1744/1744 [00:05<00:00, 303.02it/s]\n"
     ]
    },
    {
     "data": {
      "text/plain": [
       "(-0.5, 63.5, 63.5, -0.5)"
      ]
     },
     "execution_count": 5,
     "metadata": {},
     "output_type": "execute_result"
    },
    {
     "data": {
      "image/png": "[encoded data removed]",
      "text/plain": [
       "<Figure size 720x720 with 2 Axes>"
      ]
     },
     "metadata": {
      "needs_background": "light"
     },
     "output_type": "display_data"
    }
   ],
   "source": [
    "image_size = 64\n",
    "for image1 in tqdm(os.listdir(Train_Female)):\n",
    "    path = os.path.join(Train_Female, image1)\n",
    "    img = cv2.imread(path, cv2.IMREAD_GRAYSCALE)\n",
    "    img = cv2.resize(img, (image_size, image_size)).flatten()\n",
    "    np_img = np.asarray(img)\n",
    "    \n",
    "for image2 in tqdm(os.listdir(Train_Male)):\n",
    "    path2 = os.path.join(Train_Male, image2)\n",
    "    img2 = cv2.imread(path2, cv2.IMREAD_GRAYSCALE)\n",
    "    img2 = cv2.resize(img2, (image_size, image_size)).flatten()\n",
    "    np_img2 = np.asarray(img2)\n",
    "    \n",
    "plt.figure(figsize=(10,10))\n",
    "plt.subplot(1, 2, 1)\n",
    "plt.imshow(np_img.reshape(image_size, image_size))\n",
    "plt.axis('off')\n",
    "plt.subplot(1, 2, 2)\n",
    "plt.imshow(np_img2.reshape(image_size, image_size))\n",
    "plt.axis('off')"
   ]
  },
  {
   "cell_type": "markdown",
   "id": "114eb062",
   "metadata": {
    "papermill": {
     "duration": 0.016702,
     "end_time": "2022-08-16T09:41:26.677301",
     "exception": false,
     "start_time": "2022-08-16T09:41:26.660599",
     "status": "completed"
    },
    "tags": []
   },
   "source": [
    "I prepare the function for constitute to train_data and test_data."
   ]
  },
  {
   "cell_type": "code",
   "execution_count": 6,
   "id": "a139ac5b",
   "metadata": {
    "execution": {
     "iopub.execute_input": "2022-08-16T09:41:26.712097Z",
     "iopub.status.busy": "2022-08-16T09:41:26.711668Z",
     "iopub.status.idle": "2022-08-16T09:41:26.720404Z",
     "shell.execute_reply": "2022-08-16T09:41:26.719061Z"
    },
    "papermill": {
     "duration": 0.02872,
     "end_time": "2022-08-16T09:41:26.722614",
     "exception": false,
     "start_time": "2022-08-16T09:41:26.693894",
     "status": "completed"
    },
    "tags": []
   },
   "outputs": [],
   "source": [
    "def train_data():\n",
    "    train_data_female = []\n",
    "    train_data_male = []\n",
    "    for image1 in tqdm(os.listdir(Train_Female)):\n",
    "        path = os.path.join(Train_Female, image1)\n",
    "        img1 = cv2.imread(path, cv2.IMREAD_GRAYSCALE)\n",
    "        img1 = cv2.resize(img1, (image_size, image_size))\n",
    "        train_data_female.append(img1)\n",
    "        \n",
    "    for image2 in tqdm(os.listdir(Train_Male)): \n",
    "        path2 = os.path.join(Train_Male, image2)\n",
    "        img2 = cv2.imread(path2, cv2.IMREAD_GRAYSCALE) \n",
    "        img2 = cv2.resize(img2, (image_size, image_size))\n",
    "        train_data_male.append(img2) \n",
    "    \n",
    "    Train_data = np.concatenate((np.asarray(train_data_female), np.asarray(train_data_male)), axis = 0)\n",
    "    return Train_data"
   ]
  },
  {
   "cell_type": "code",
   "execution_count": 7,
   "id": "319636e5",
   "metadata": {
    "execution": {
     "iopub.execute_input": "2022-08-16T09:41:26.757630Z",
     "iopub.status.busy": "2022-08-16T09:41:26.757127Z",
     "iopub.status.idle": "2022-08-16T09:41:26.765728Z",
     "shell.execute_reply": "2022-08-16T09:41:26.764452Z"
    },
    "papermill": {
     "duration": 0.028974,
     "end_time": "2022-08-16T09:41:26.768202",
     "exception": false,
     "start_time": "2022-08-16T09:41:26.739228",
     "status": "completed"
    },
    "tags": []
   },
   "outputs": [],
   "source": [
    "def test_data():\n",
    "    test_data_female = []\n",
    "    test_data_male = []\n",
    "    \n",
    "    for image1 in tqdm(os.listdir(Test_Female)): \n",
    "        path = os.path.join(Test_Female, image1)\n",
    "        img1 = cv2.imread(path, cv2.IMREAD_GRAYSCALE) \n",
    "        img1 = cv2.resize(img1, (image_size, image_size))\n",
    "        test_data_female.append(img1)\n",
    "        \n",
    "    for image2 in tqdm(os.listdir(Test_Male)): \n",
    "        path2 = os.path.join(Test_Male, image2)\n",
    "        img2 = cv2.imread(path2, cv2.IMREAD_GRAYSCALE) \n",
    "        img2 = cv2.resize(img2, (image_size, image_size))\n",
    "        test_data_male.append(img2) \n",
    "    \n",
    "    test_data= np.concatenate((np.asarray(test_data_female),np.asarray(test_data_male)),axis=0) \n",
    "    return test_data "
   ]
  },
  {
   "cell_type": "code",
   "execution_count": 8,
   "id": "c6d79735",
   "metadata": {
    "execution": {
     "iopub.execute_input": "2022-08-16T09:41:26.804123Z",
     "iopub.status.busy": "2022-08-16T09:41:26.803432Z",
     "iopub.status.idle": "2022-08-16T09:41:30.997003Z",
     "shell.execute_reply": "2022-08-16T09:41:30.994720Z"
    },
    "papermill": {
     "duration": 4.214558,
     "end_time": "2022-08-16T09:41:30.999559",
     "exception": false,
     "start_time": "2022-08-16T09:41:26.785001",
     "status": "completed"
    },
    "tags": []
   },
   "outputs": [
    {
     "name": "stderr",
     "output_type": "stream",
     "text": [
      "100%|██████████| 1747/1747 [00:01<00:00, 978.16it/s]\n",
      "100%|██████████| 1744/1744 [00:01<00:00, 993.61it/s]\n",
      "100%|██████████| 100/100 [00:00<00:00, 350.56it/s]\n",
      "100%|██████████| 100/100 [00:00<00:00, 337.61it/s]\n"
     ]
    }
   ],
   "source": [
    "train_data = train_data() \n",
    "test_data = test_data()"
   ]
  },
  {
   "cell_type": "markdown",
   "id": "0465c2ea",
   "metadata": {
    "papermill": {
     "duration": 0.020023,
     "end_time": "2022-08-16T09:41:31.039316",
     "exception": false,
     "start_time": "2022-08-16T09:41:31.019293",
     "status": "completed"
    },
    "tags": []
   },
   "source": [
    "I combine the train_data and test_data that I prepared and I apply and normalize the dataset I have combined."
   ]
  },
  {
   "cell_type": "code",
   "execution_count": 9,
   "id": "9a6b2dcd",
   "metadata": {
    "execution": {
     "iopub.execute_input": "2022-08-16T09:41:31.080601Z",
     "iopub.status.busy": "2022-08-16T09:41:31.079451Z",
     "iopub.status.idle": "2022-08-16T09:41:31.187205Z",
     "shell.execute_reply": "2022-08-16T09:41:31.186104Z"
    },
    "papermill": {
     "duration": 0.131136,
     "end_time": "2022-08-16T09:41:31.189971",
     "exception": false,
     "start_time": "2022-08-16T09:41:31.058835",
     "status": "completed"
    },
    "tags": []
   },
   "outputs": [],
   "source": [
    "X_data = np.concatenate((train_data, test_data), axis = 0)\n",
    "X_data = (X_data - np.min(X_data))/(np.max(X_data) - np.min(X_data))"
   ]
  },
  {
   "cell_type": "markdown",
   "id": "67a299c3",
   "metadata": {
    "papermill": {
     "duration": 0.019145,
     "end_time": "2022-08-16T09:41:31.228772",
     "exception": false,
     "start_time": "2022-08-16T09:41:31.209627",
     "status": "completed"
    },
    "tags": []
   },
   "source": [
    "I am preparing my dataset Y, which consists of zeros and ones."
   ]
  },
  {
   "cell_type": "code",
   "execution_count": 10,
   "id": "094bcf63",
   "metadata": {
    "execution": {
     "iopub.execute_input": "2022-08-16T09:41:31.269563Z",
     "iopub.status.busy": "2022-08-16T09:41:31.268663Z",
     "iopub.status.idle": "2022-08-16T09:41:31.274903Z",
     "shell.execute_reply": "2022-08-16T09:41:31.273849Z"
    },
    "papermill": {
     "duration": 0.028954,
     "end_time": "2022-08-16T09:41:31.277094",
     "exception": false,
     "start_time": "2022-08-16T09:41:31.248140",
     "status": "completed"
    },
    "tags": []
   },
   "outputs": [],
   "source": [
    "z1 = np.zeros(1747)\n",
    "o1 = np.ones(1744)\n",
    "Y_train = np.concatenate((o1, z1), axis = 0)\n",
    "z = np.zeros(100)\n",
    "o = np.ones(100)\n",
    "Y_test = np.concatenate((o, z), axis = 0)"
   ]
  },
  {
   "cell_type": "code",
   "execution_count": 11,
   "id": "016f9048",
   "metadata": {
    "execution": {
     "iopub.execute_input": "2022-08-16T09:41:31.318282Z",
     "iopub.status.busy": "2022-08-16T09:41:31.317150Z",
     "iopub.status.idle": "2022-08-16T09:41:31.323270Z",
     "shell.execute_reply": "2022-08-16T09:41:31.322428Z"
    },
    "papermill": {
     "duration": 0.028893,
     "end_time": "2022-08-16T09:41:31.325524",
     "exception": false,
     "start_time": "2022-08-16T09:41:31.296631",
     "status": "completed"
    },
    "tags": []
   },
   "outputs": [],
   "source": [
    "Y_data = np.concatenate((Y_train, Y_test), axis = 0).reshape(X_data.shape[0],1)"
   ]
  },
  {
   "cell_type": "code",
   "execution_count": 12,
   "id": "e9d2b909",
   "metadata": {
    "execution": {
     "iopub.execute_input": "2022-08-16T09:41:31.366543Z",
     "iopub.status.busy": "2022-08-16T09:41:31.365869Z",
     "iopub.status.idle": "2022-08-16T09:41:31.372323Z",
     "shell.execute_reply": "2022-08-16T09:41:31.370973Z"
    },
    "papermill": {
     "duration": 0.029816,
     "end_time": "2022-08-16T09:41:31.374659",
     "exception": false,
     "start_time": "2022-08-16T09:41:31.344843",
     "status": "completed"
    },
    "tags": []
   },
   "outputs": [
    {
     "name": "stdout",
     "output_type": "stream",
     "text": [
      "X shape:  (3691, 64, 64)\n",
      "Y shape:  (3691, 1)\n"
     ]
    }
   ],
   "source": [
    "print(\"X shape: \", X_data.shape)\n",
    "print(\"Y shape: \", Y_data.shape)"
   ]
  },
  {
   "cell_type": "markdown",
   "id": "1cf09c61",
   "metadata": {
    "papermill": {
     "duration": 0.019051,
     "end_time": "2022-08-16T09:41:31.413083",
     "exception": false,
     "start_time": "2022-08-16T09:41:31.394032",
     "status": "completed"
    },
    "tags": []
   },
   "source": [
    "Train and Test Split"
   ]
  },
  {
   "cell_type": "code",
   "execution_count": 13,
   "id": "33878c1f",
   "metadata": {
    "execution": {
     "iopub.execute_input": "2022-08-16T09:41:31.454334Z",
     "iopub.status.busy": "2022-08-16T09:41:31.453635Z",
     "iopub.status.idle": "2022-08-16T09:41:31.693936Z",
     "shell.execute_reply": "2022-08-16T09:41:31.692905Z"
    },
    "papermill": {
     "duration": 0.263998,
     "end_time": "2022-08-16T09:41:31.696504",
     "exception": false,
     "start_time": "2022-08-16T09:41:31.432506",
     "status": "completed"
    },
    "tags": []
   },
   "outputs": [],
   "source": [
    "from sklearn.model_selection import train_test_split\n",
    "x_train, x_test, y_train, y_test = train_test_split(X_data, Y_data, test_size = 0.15, random_state = 42)\n",
    "number_of_train = x_train.shape[0]\n",
    "number_of_test = x_test.shape[0]"
   ]
  },
  {
   "cell_type": "code",
   "execution_count": 14,
   "id": "84611fb8",
   "metadata": {
    "execution": {
     "iopub.execute_input": "2022-08-16T09:41:31.737621Z",
     "iopub.status.busy": "2022-08-16T09:41:31.736882Z",
     "iopub.status.idle": "2022-08-16T09:41:31.743873Z",
     "shell.execute_reply": "2022-08-16T09:41:31.742555Z"
    },
    "papermill": {
     "duration": 0.030344,
     "end_time": "2022-08-16T09:41:31.746615",
     "exception": false,
     "start_time": "2022-08-16T09:41:31.716271",
     "status": "completed"
    },
    "tags": []
   },
   "outputs": [
    {
     "name": "stdout",
     "output_type": "stream",
     "text": [
      "X train flatten (3137, 4096)\n",
      "X test flatten (554, 4096)\n"
     ]
    }
   ],
   "source": [
    "x_train_flatten = x_train.reshape(number_of_train, x_train.shape[1] * x_train.shape[2])\n",
    "x_test_flatten = x_test.reshape(number_of_test, x_test.shape[1] * x_test.shape[2])\n",
    "print(\"X train flatten\",x_train_flatten.shape)\n",
    "print(\"X test flatten\",x_test_flatten.shape)"
   ]
  },
  {
   "cell_type": "code",
   "execution_count": 15,
   "id": "c12de0f7",
   "metadata": {
    "execution": {
     "iopub.execute_input": "2022-08-16T09:41:31.788214Z",
     "iopub.status.busy": "2022-08-16T09:41:31.787646Z",
     "iopub.status.idle": "2022-08-16T09:41:31.794693Z",
     "shell.execute_reply": "2022-08-16T09:41:31.793551Z"
    },
    "papermill": {
     "duration": 0.030864,
     "end_time": "2022-08-16T09:41:31.797347",
     "exception": false,
     "start_time": "2022-08-16T09:41:31.766483",
     "status": "completed"
    },
    "tags": []
   },
   "outputs": [
    {
     "name": "stdout",
     "output_type": "stream",
     "text": [
      "x train:  (4096, 3137)\n",
      "x test:  (4096, 554)\n",
      "y train:  (1, 3137)\n",
      "y test:  (1, 554)\n"
     ]
    }
   ],
   "source": [
    "x_train = x_train_flatten.T\n",
    "x_test = x_test_flatten.T\n",
    "y_test = y_test.T\n",
    "y_train = y_train.T\n",
    "print(\"x train: \",x_train.shape)\n",
    "print(\"x test: \",x_test.shape)\n",
    "print(\"y train: \",y_train.shape)\n",
    "print(\"y test: \",y_test.shape)"
   ]
  },
  {
   "cell_type": "markdown",
   "id": "4465ab07",
   "metadata": {
    "papermill": {
     "duration": 0.019264,
     "end_time": "2022-08-16T09:41:31.836393",
     "exception": false,
     "start_time": "2022-08-16T09:41:31.817129",
     "status": "completed"
    },
    "tags": []
   },
   "source": [
    "# Logistic Regression <a id = \"2\"></a>"
   ]
  },
  {
   "cell_type": "markdown",
   "id": "f8d1a0d7",
   "metadata": {
    "papermill": {
     "duration": 0.019447,
     "end_time": "2022-08-16T09:41:31.875571",
     "exception": false,
     "start_time": "2022-08-16T09:41:31.856124",
     "status": "completed"
    },
    "tags": []
   },
   "source": [
    "## Step by step Logistic Regression <a id = \"lr1\"></a>"
   ]
  },
  {
   "cell_type": "code",
   "execution_count": 16,
   "id": "6460755e",
   "metadata": {
    "execution": {
     "iopub.execute_input": "2022-08-16T09:41:31.916895Z",
     "iopub.status.busy": "2022-08-16T09:41:31.916200Z",
     "iopub.status.idle": "2022-08-16T09:41:31.935795Z",
     "shell.execute_reply": "2022-08-16T09:41:31.934561Z"
    },
    "papermill": {
     "duration": 0.043022,
     "end_time": "2022-08-16T09:41:31.938199",
     "exception": false,
     "start_time": "2022-08-16T09:41:31.895177",
     "status": "completed"
    },
    "tags": []
   },
   "outputs": [],
   "source": [
    "# I specify the weight(w) and bias(b) variable.\n",
    "def initialize_weights_and_bias(dimension):\n",
    "    w = np.full((dimension,1), 0.01)\n",
    "    b = 0.0\n",
    "    return w, b\n",
    "\n",
    "# I find sigmoid values with weight, bias, and image values.\n",
    "def sigmoid(z):\n",
    "    y_head = 1 / (1 + np.exp(-z))\n",
    "    return y_head\n",
    "\n",
    "\"\"\"\n",
    "def forward_propagation(w,b,x_train,y_train):\n",
    "    z = np.dot(w.T, x_train) + b\n",
    "    y_head = sigmoid(z)\n",
    "    loss = -y_head * np.log(y_head) - (1 - y_train) * np.log(1 - y_head)\n",
    "    cost = (np.sum(loss)) / x_train.shape[1]\n",
    "    return cost\n",
    "\"\"\"\n",
    "\n",
    "# This is a step of logistic regression. In this step I find the gender of to image (female and male).\n",
    "# I calculate loss and cost values. These are error values.\n",
    "def forward_backward_propagation(w,b,x_train,y_train):\n",
    "    # forward propagation\n",
    "    z = np.dot(w.T, x_train) + b\n",
    "    y_head = sigmoid(z)\n",
    "    loss = -y_head * np.log(y_head) - (1 - y_train) * np.log(1 - y_head)\n",
    "    cost = (np.sum(loss)) / x_train.shape[1]\n",
    "    # backward propagation\n",
    "    derivative_weight = (np.dot(x_train,((y_head-y_train).T)))/x_train.shape[1]\n",
    "    derivative_bias = np.sum(y_head-y_train)/x_train.shape[1]\n",
    "    gradients = {\"derivative_weight\": derivative_weight,\"derivative_bias\": derivative_bias}\n",
    "    return cost,gradients\n",
    "\n",
    "# In this step, I specify the weight(w) and bias(b) for the best coherence of my dataset.\n",
    "def update(w, b, x_train, y_train, learning_rate, number_of_iteration):\n",
    "    cost_list = []\n",
    "    cost_list2 = []\n",
    "    index = []\n",
    "    \n",
    "    for i in range(number_of_iteration):\n",
    "        cost, gradients = forward_backward_propagation(w,b,x_train,y_train)\n",
    "        cost_list.append(cost)\n",
    "        \n",
    "        w = w - learning_rate * gradients[\"derivative_weight\"]\n",
    "        b = b - learning_rate * gradients[\"derivative_bias\"]\n",
    "        if i % 100 == 0:\n",
    "            cost_list2.append(cost)\n",
    "            index.append(i)\n",
    "            print(\"Cost after iteration %i: %f\" %(i, cost))\n",
    "            \n",
    "    parameters = {\"weight\": w,\"bias\": b}\n",
    "    plt.plot(index,cost_list2)\n",
    "    plt.xticks(index,rotation='vertical')\n",
    "    plt.xlabel(\"Number of Iteration\")\n",
    "    plt.ylabel(\"Cost\")\n",
    "    plt.show()\n",
    "    \n",
    "    return parameters, gradients, cost_list\n",
    "\n",
    "# Chapter of Predict\n",
    "def predict(w,b,x_test):\n",
    "    z = sigmoid(np.dot(w.T, x_test) + b)\n",
    "    Y_prediction = np.zeros((1, x_test.shape[1]))\n",
    "    \n",
    "    for i in range(z.shape[1]):\n",
    "        if z[0,i] <= 0.5:\n",
    "            Y_prediction[0,i] = 0\n",
    "        else:\n",
    "            Y_prediction[0,i] = 1\n",
    "    \n",
    "    return Y_prediction\n",
    "\n",
    "# Logistic Regression\n",
    "def logistic_regression(x_train, y_train, x_test, y_test, learning_rate ,  num_iterations):\n",
    "\n",
    "    dimension =  x_train.shape[0]\n",
    "    w,b = initialize_weights_and_bias(dimension)\n",
    "\n",
    "    parameters, gradients, cost_list = update(w, b, x_train, y_train, learning_rate,num_iterations)\n",
    "    \n",
    "    y_prediction_test = predict(parameters[\"weight\"],parameters[\"bias\"],x_test)\n",
    "    y_prediction_train = predict(parameters[\"weight\"],parameters[\"bias\"],x_train)\n",
    "    \n",
    "    print(\"Test Accuracy: {} %\".format(round(100 - np.mean(np.abs(y_prediction_test - y_test)) * 100,2)))\n",
    "    print(\"Train Accuracy: {} %\".format(round(100 - np.mean(np.abs(y_prediction_train - y_train)) * 100,2)))"
   ]
  },
  {
   "cell_type": "code",
   "execution_count": 17,
   "id": "7a9dc7b4",
   "metadata": {
    "execution": {
     "iopub.execute_input": "2022-08-16T09:41:31.979139Z",
     "iopub.status.busy": "2022-08-16T09:41:31.977981Z",
     "iopub.status.idle": "2022-08-16T09:41:45.499788Z",
     "shell.execute_reply": "2022-08-16T09:41:45.498457Z"
    },
    "papermill": {
     "duration": 13.545384,
     "end_time": "2022-08-16T09:41:45.502956",
     "exception": false,
     "start_time": "2022-08-16T09:41:31.957572",
     "status": "completed"
    },
    "tags": []
   },
   "outputs": [
    {
     "name": "stdout",
     "output_type": "stream",
     "text": [
      "Cost after iteration 0: 10.659855\n",
      "Cost after iteration 100: 0.320866\n",
      "Cost after iteration 200: 0.345652\n",
      "Cost after iteration 300: 0.354530\n",
      "Cost after iteration 400: 0.365113\n",
      "Cost after iteration 500: 0.377500\n",
      "Cost after iteration 600: 0.391845\n",
      "Cost after iteration 700: 0.409124\n",
      "Cost after iteration 800: 0.431126\n",
      "Cost after iteration 900: 0.452766\n",
      "Cost after iteration 1000: 0.455547\n",
      "Cost after iteration 1100: 0.450848\n",
      "Cost after iteration 1200: 0.446172\n",
      "Cost after iteration 1300: 0.441785\n",
      "Cost after iteration 1400: 0.437673\n"
     ]
    },
    {
     "data": {
      "image/png": "[encoded data removed]",
      "text/plain": [
       "<Figure size 432x288 with 1 Axes>"
      ]
     },
     "metadata": {
      "needs_background": "light"
     },
     "output_type": "display_data"
    },
    {
     "name": "stdout",
     "output_type": "stream",
     "text": [
      "Test Accuracy: 81.95 %\n",
      "Train Accuracy: 84.25 %\n"
     ]
    }
   ],
   "source": [
    "logistic_regression(x_train, y_train, x_test, y_test,learning_rate = 0.01, num_iterations = 1500)"
   ]
  },
  {
   "cell_type": "markdown",
   "id": "e59f9315",
   "metadata": {
    "papermill": {
     "duration": 0.032966,
     "end_time": "2022-08-16T09:41:45.569803",
     "exception": false,
     "start_time": "2022-08-16T09:41:45.536837",
     "status": "completed"
    },
    "tags": []
   },
   "source": [
    "## Logistic Regression with Sklearn Library <a id = \"lr2\"></a>\n",
    "\n",
    "I use GridSearch because I want to find the best parameters of logistic regression."
   ]
  },
  {
   "cell_type": "code",
   "execution_count": 18,
   "id": "2529d8d1",
   "metadata": {
    "execution": {
     "iopub.execute_input": "2022-08-16T09:41:45.630383Z",
     "iopub.status.busy": "2022-08-16T09:41:45.629258Z",
     "iopub.status.idle": "2022-08-16T09:41:48.206020Z",
     "shell.execute_reply": "2022-08-16T09:41:48.204723Z"
    },
    "papermill": {
     "duration": 2.607451,
     "end_time": "2022-08-16T09:41:48.210589",
     "exception": false,
     "start_time": "2022-08-16T09:41:45.603138",
     "status": "completed"
    },
    "tags": []
   },
   "outputs": [
    {
     "name": "stdout",
     "output_type": "stream",
     "text": [
      "test accuracy: 0.8303249097472925 \n",
      "train accuracy: 0.9126554032515142 \n"
     ]
    }
   ],
   "source": [
    "from sklearn.linear_model import LogisticRegression\n",
    "\n",
    "lr = LogisticRegression(random_state = 42)\n",
    "\n",
    "print(\"test accuracy: {} \".format(lr.fit(x_train.T, y_train.T).score(x_test.T, y_test.T)))\n",
    "print(\"train accuracy: {} \".format(lr.fit(x_train.T, y_train.T).score(x_train.T, y_train.T)))"
   ]
  },
  {
   "cell_type": "code",
   "execution_count": 19,
   "id": "bf6e9425",
   "metadata": {
    "execution": {
     "iopub.execute_input": "2022-08-16T09:41:48.280451Z",
     "iopub.status.busy": "2022-08-16T09:41:48.279586Z",
     "iopub.status.idle": "2022-08-16T09:43:08.627266Z",
     "shell.execute_reply": "2022-08-16T09:43:08.625838Z"
    },
    "papermill": {
     "duration": 80.404401,
     "end_time": "2022-08-16T09:43:08.648638",
     "exception": false,
     "start_time": "2022-08-16T09:41:48.244237",
     "status": "completed"
    },
    "tags": []
   },
   "outputs": [
    {
     "data": {
      "text/plain": [
       "GridSearchCV(cv=10, estimator=LogisticRegression(random_state=42),\n",
       "             param_grid={'C': array([1.e-03, 1.e-02, 1.e-01, 1.e+00, 1.e+01, 1.e+02, 1.e+03]),\n",
       "                         'penalty': ['l1', 'l2']})"
      ]
     },
     "execution_count": 19,
     "metadata": {},
     "output_type": "execute_result"
    }
   ],
   "source": [
    "from sklearn.model_selection import GridSearchCV\n",
    "\n",
    "grid = {\"C\": np.logspace(-3,3,7),\"penalty\":[\"l1\",\"l2\"]}\n",
    "\n",
    "lr_gs = GridSearchCV(lr, grid, cv = 10)\n",
    "lr_gs.fit(x_train.T, y_train.T)"
   ]
  },
  {
   "cell_type": "code",
   "execution_count": 20,
   "id": "4858213e",
   "metadata": {
    "execution": {
     "iopub.execute_input": "2022-08-16T09:43:08.718508Z",
     "iopub.status.busy": "2022-08-16T09:43:08.717167Z",
     "iopub.status.idle": "2022-08-16T09:43:08.723518Z",
     "shell.execute_reply": "2022-08-16T09:43:08.722416Z"
    },
    "papermill": {
     "duration": 0.043506,
     "end_time": "2022-08-16T09:43:08.725838",
     "exception": false,
     "start_time": "2022-08-16T09:43:08.682332",
     "status": "completed"
    },
    "tags": []
   },
   "outputs": [
    {
     "name": "stdout",
     "output_type": "stream",
     "text": [
      "The best hyperparameters of the GridSearch model {'C': 0.1, 'penalty': 'l2'}\n",
      "Accuracy:  0.8393429112146681\n"
     ]
    }
   ],
   "source": [
    "print(\"The best hyperparameters of the GridSearch model\", lr_gs.best_params_)\n",
    "print(\"Accuracy: \", lr_gs.best_score_)"
   ]
  },
  {
   "cell_type": "code",
   "execution_count": 21,
   "id": "1eb7dec7",
   "metadata": {
    "execution": {
     "iopub.execute_input": "2022-08-16T09:43:08.770517Z",
     "iopub.status.busy": "2022-08-16T09:43:08.769252Z",
     "iopub.status.idle": "2022-08-16T09:43:12.363355Z",
     "shell.execute_reply": "2022-08-16T09:43:12.362105Z"
    },
    "papermill": {
     "duration": 3.620097,
     "end_time": "2022-08-16T09:43:12.366846",
     "exception": false,
     "start_time": "2022-08-16T09:43:08.746749",
     "status": "completed"
    },
    "tags": []
   },
   "outputs": [
    {
     "name": "stdout",
     "output_type": "stream",
     "text": [
      "test accuracy: 0.8357400722021661 \n",
      "train accuracy: 0.8992668154287536 \n"
     ]
    }
   ],
   "source": [
    "New_lr = LogisticRegression(C= 0.1, penalty = \"l2\", random_state = 42)\n",
    "New_lr.fit(x_train.T, y_train.T)\n",
    "\n",
    "\n",
    "print(\"test accuracy: {} \".format(New_lr.fit(x_train.T, y_train.T).score(x_test.T, y_test.T)))\n",
    "print(\"train accuracy: {} \".format(New_lr.fit(x_train.T, y_train.T).score(x_train.T, y_train.T)))"
   ]
  },
  {
   "cell_type": "markdown",
   "id": "7e570d54",
   "metadata": {
    "papermill": {
     "duration": 0.033819,
     "end_time": "2022-08-16T09:43:12.434875",
     "exception": false,
     "start_time": "2022-08-16T09:43:12.401056",
     "status": "completed"
    },
    "tags": []
   },
   "source": [
    "# CONCLUSION <a id = \"3\"></a>\n",
    "****\n",
    "I am learning the English language newly if I make an errata please advise me in the comment. Thank you for reading my notebook, your votes and your comments. I will be waiting for your advice."
   ]
  }
 ],
 "metadata": {
  "kernelspec": {
   "display_name": "Python 3",
   "language": "python",
   "name": "python3"
  },
  "language_info": {
   "codemirror_mode": {
    "name": "ipython",
    "version": 3
   },
   "file_extension": ".py",
   "mimetype": "text/x-python",
   "name": "python",
   "nbconvert_exporter": "python",
   "pygments_lexer": "ipython3",
   "version": "3.7.12"
  },
  "papermill": {
   "default_parameters": {},
   "duration": 130.165692,
   "end_time": "2022-08-16T09:43:13.196532",
   "environment_variables": {},
   "exception": null,
   "input_path": "__notebook__.ipynb",
   "output_path": "__notebook__.ipynb",
   "parameters": {},
   "start_time": "2022-08-16T09:41:03.030840",
   "version": "2.3.4"
  }
 },
 "nbformat": 4,
 "nbformat_minor": 5
}
