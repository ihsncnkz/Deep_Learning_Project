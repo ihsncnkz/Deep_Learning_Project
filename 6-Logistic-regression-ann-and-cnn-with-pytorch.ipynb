{
 "cells": [
  {
   "cell_type": "markdown",
   "id": "2c1a76d9",
   "metadata": {
    "papermill": {
     "duration": 0.00974,
     "end_time": "2022-08-31T16:37:36.049044",
     "exception": false,
     "start_time": "2022-08-31T16:37:36.039304",
     "status": "completed"
    },
    "tags": []
   },
   "source": [
    "# Introduction\n",
    "Hello, In this notebook, I will apply two models of Deep Learning and one model of Machine Learning. These are The Logistic Regression, Artificial Neural Network(ANN), and Convolutional Neural Network(CNN) models. My main reason for making this notebook is because I want to learn Pytorch and so I will constitute the models with Pytorch API and I will apply them to the dataset. Before this, I prepared a project with Pytorch. In that project, I applied the Linear Regression model with PyTorch. I will share that project in this chapter. In this project, I continue to learn from where I left off. I improve myself in Deep Learning at the moment. This project is my seventeenth project on the way to improving myself and my sixth project in deep learning. I will share my previous projects in this section. In this learning path, I would be very happy if you would examine my notebook and help me with how to improve my notebook or what I should do in this development path. I wish you a good day and good work.\n",
    "\n",
    "[For a detailed description of the dataset, please click here](https://www.kaggle.com/datasets/khotijahs1/digitrecognizer)\n",
    "\n",
    "My projects about Deep Learning:<br>\n",
    "- [Gender Prediction With Logistic Regression](https://www.kaggle.com/code/ihsncnkz/gender-prediction-with-logistic-regression)\n",
    "- [Cat And Dog Prediction With ANN](https://www.kaggle.com/code/ihsncnkz/cat-and-dog-prediction-with-ann)\n",
    "- [Linear Regression With Pytorch](https://www.kaggle.com/code/ihsncnkz/linear-regression-with-pytorch)\n",
    "- [My First Convolutional Neural Network(CNN) Work](https://www.kaggle.com/code/ihsncnkz/my-first-convolutional-neural-network-cnn-work)\n",
    "- [Predict With CNN Model](https://www.kaggle.com/code/ihsncnkz/predict-with-cnn-model)\n",
    "\n",
    "My projects about Data Science and Machine Learning:\n",
    "- [GPU Search](https://www.kaggle.com/code/ihsncnkz/gpu-search)\n",
    "- [EDA And Linear Regression](https://www.kaggle.com/code/ihsncnkz/eda-and-linear-regression)\n",
    "- [Regression Models](https://www.kaggle.com/code/ihsncnkz/regression-models)\n",
    "- [Logistic Regression](https://www.kaggle.com/code/ihsncnkz/logistic-regression)\n",
    "- [Classification With K-Nearest Neighbors(KNN)](https://www.kaggle.com/code/ihsncnkz/classification-with-k-nearest-neighbors-knn)\n",
    "- [Classification With Support Vector Machine(SVM)](https://www.kaggle.com/code/ihsncnkz/classification-with-support-vector-machine-svm)\n",
    "- [Classification With Naive Bayes Classification](https://www.kaggle.com/code/ihsncnkz/classification-with-naive-bayes-classification)\n",
    "- [Decision Tree And Random Forest Classifier Models](https://www.kaggle.com/code/ihsncnkz/decision-tree-and-random-forest-classifier-models)\n",
    "- [K-Means And Hierarchical Clustering With 3D Plotly](https://www.kaggle.com/code/ihsncnkz/k-means-and-hierarchical-clustering-with-3d-plotly)\n",
    "- [Natural Language Process(NLP) With Naive Bayes](https://www.kaggle.com/code/ihsncnkz/natural-language-process-nlp-with-naive-bayes)\n",
    "- [Recommendation System With KNN](https://www.kaggle.com/code/ihsncnkz/recommendation-system-with-knn)\n"
   ]
  },
  {
   "cell_type": "markdown",
   "id": "b45a8bdf",
   "metadata": {
    "papermill": {
     "duration": 0.008329,
     "end_time": "2022-08-31T16:37:36.065964",
     "exception": false,
     "start_time": "2022-08-31T16:37:36.057635",
     "status": "completed"
    },
    "tags": []
   },
   "source": [
    "# Content <a id=\"cont\"></a>\n",
    "- [Prepare Data For Models](#1)\n",
    "- [Logistic Regression](#2)\n",
    "- [Artificial Neural Network (ANN)](#3)\n",
    "- [Convolutional neural network (CNN)](#4)\n",
    "- [CONCLUSION](#5)"
   ]
  },
  {
   "cell_type": "markdown",
   "id": "e4b98372",
   "metadata": {
    "papermill": {
     "duration": 0.00808,
     "end_time": "2022-08-31T16:37:36.082573",
     "exception": false,
     "start_time": "2022-08-31T16:37:36.074493",
     "status": "completed"
    },
    "tags": []
   },
   "source": [
    "# Prepare Data For Models <a id=\"1\"></a>\n",
    "[Go Content](#cont) <br>\n",
    "\n",
    "I will prepare the dataset for models in this chapter."
   ]
  },
  {
   "cell_type": "code",
   "execution_count": 1,
   "id": "df27b71f",
   "metadata": {
    "execution": {
     "iopub.execute_input": "2022-08-31T16:37:36.102797Z",
     "iopub.status.busy": "2022-08-31T16:37:36.102310Z",
     "iopub.status.idle": "2022-08-31T16:37:36.124575Z",
     "shell.execute_reply": "2022-08-31T16:37:36.123480Z"
    },
    "papermill": {
     "duration": 0.036636,
     "end_time": "2022-08-31T16:37:36.127734",
     "exception": false,
     "start_time": "2022-08-31T16:37:36.091098",
     "status": "completed"
    },
    "tags": []
   },
   "outputs": [
    {
     "name": "stdout",
     "output_type": "stream",
     "text": [
      "['sample_submission.csv', 'train.csv', 'test.csv']\n"
     ]
    }
   ],
   "source": [
    "# This Python 3 environment comes with many helpful analytics libraries installed\n",
    "# It is defined by the kaggle/python docker image: https://github.com/kaggle/docker-python\n",
    "# For example, here's several helpful packages to load in \n",
    "\n",
    "import numpy as np # linear algebra\n",
    "import pandas as pd # data processing, CSV file I/O (e.g. pd.read_csv)\n",
    "import matplotlib.pyplot as plt\n",
    "\n",
    "# Input data files are available in the \"../input/\" directory.\n",
    "# For example, running this (by clicking run or pressing Shift+Enter) will list the files in the input directory\n",
    "\n",
    "import os\n",
    "print(os.listdir(\"../input/digitrecognizer\"))\n",
    "\n",
    "# Any results you write to the current directory are saved as output."
   ]
  },
  {
   "cell_type": "code",
   "execution_count": 2,
   "id": "4e745a07",
   "metadata": {
    "_cell_guid": "b1076dfc-b9ad-4769-8c92-a6c4dae69d19",
    "_uuid": "8f2839f25d086af736a60e9eeb907d3b93b6e0e5",
    "execution": {
     "iopub.execute_input": "2022-08-31T16:37:36.148402Z",
     "iopub.status.busy": "2022-08-31T16:37:36.147607Z",
     "iopub.status.idle": "2022-08-31T16:37:39.316725Z",
     "shell.execute_reply": "2022-08-31T16:37:39.315391Z"
    },
    "papermill": {
     "duration": 3.182155,
     "end_time": "2022-08-31T16:37:39.319541",
     "exception": false,
     "start_time": "2022-08-31T16:37:36.137386",
     "status": "completed"
    },
    "tags": []
   },
   "outputs": [],
   "source": [
    "# Import Libraries\n",
    "import torch\n",
    "import torch.nn as nn\n",
    "from torch.autograd import Variable\n",
    "from torch.utils.data import DataLoader\n",
    "import pandas as pd\n",
    "from sklearn.model_selection import train_test_split"
   ]
  },
  {
   "cell_type": "markdown",
   "id": "131347ce",
   "metadata": {
    "papermill": {
     "duration": 0.00828,
     "end_time": "2022-08-31T16:37:39.336574",
     "exception": false,
     "start_time": "2022-08-31T16:37:39.328294",
     "status": "completed"
    },
    "tags": []
   },
   "source": [
    "I read the dataset with the pandan library."
   ]
  },
  {
   "cell_type": "code",
   "execution_count": 3,
   "id": "b55a74f8",
   "metadata": {
    "execution": {
     "iopub.execute_input": "2022-08-31T16:37:39.356165Z",
     "iopub.status.busy": "2022-08-31T16:37:39.355222Z",
     "iopub.status.idle": "2022-08-31T16:37:43.269583Z",
     "shell.execute_reply": "2022-08-31T16:37:43.268401Z"
    },
    "papermill": {
     "duration": 3.927121,
     "end_time": "2022-08-31T16:37:43.272326",
     "exception": false,
     "start_time": "2022-08-31T16:37:39.345205",
     "status": "completed"
    },
    "tags": []
   },
   "outputs": [
    {
     "data": {
      "text/html": [
       "<div>\n",
       "<style scoped>\n",
       "    .dataframe tbody tr th:only-of-type {\n",
       "        vertical-align: middle;\n",
       "    }\n",
       "\n",
       "    .dataframe tbody tr th {\n",
       "        vertical-align: top;\n",
       "    }\n",
       "\n",
       "    .dataframe thead th {\n",
       "        text-align: right;\n",
       "    }\n",
       "</style>\n",
       "<table border=\"1\" class=\"dataframe\">\n",
       "  <thead>\n",
       "    <tr style=\"text-align: right;\">\n",
       "      <th></th>\n",
       "      <th>label</th>\n",
       "      <th>pixel0</th>\n",
       "      <th>pixel1</th>\n",
       "      <th>pixel2</th>\n",
       "      <th>pixel3</th>\n",
       "      <th>pixel4</th>\n",
       "      <th>pixel5</th>\n",
       "      <th>pixel6</th>\n",
       "      <th>pixel7</th>\n",
       "      <th>pixel8</th>\n",
       "      <th>...</th>\n",
       "      <th>pixel774</th>\n",
       "      <th>pixel775</th>\n",
       "      <th>pixel776</th>\n",
       "      <th>pixel777</th>\n",
       "      <th>pixel778</th>\n",
       "      <th>pixel779</th>\n",
       "      <th>pixel780</th>\n",
       "      <th>pixel781</th>\n",
       "      <th>pixel782</th>\n",
       "      <th>pixel783</th>\n",
       "    </tr>\n",
       "  </thead>\n",
       "  <tbody>\n",
       "    <tr>\n",
       "      <th>0</th>\n",
       "      <td>1.0</td>\n",
       "      <td>0.0</td>\n",
       "      <td>0.0</td>\n",
       "      <td>0.0</td>\n",
       "      <td>0.0</td>\n",
       "      <td>0.0</td>\n",
       "      <td>0.0</td>\n",
       "      <td>0.0</td>\n",
       "      <td>0.0</td>\n",
       "      <td>0.0</td>\n",
       "      <td>...</td>\n",
       "      <td>0.0</td>\n",
       "      <td>0.0</td>\n",
       "      <td>0.0</td>\n",
       "      <td>0.0</td>\n",
       "      <td>0.0</td>\n",
       "      <td>0.0</td>\n",
       "      <td>0.0</td>\n",
       "      <td>0.0</td>\n",
       "      <td>0.0</td>\n",
       "      <td>0.0</td>\n",
       "    </tr>\n",
       "    <tr>\n",
       "      <th>1</th>\n",
       "      <td>0.0</td>\n",
       "      <td>0.0</td>\n",
       "      <td>0.0</td>\n",
       "      <td>0.0</td>\n",
       "      <td>0.0</td>\n",
       "      <td>0.0</td>\n",
       "      <td>0.0</td>\n",
       "      <td>0.0</td>\n",
       "      <td>0.0</td>\n",
       "      <td>0.0</td>\n",
       "      <td>...</td>\n",
       "      <td>0.0</td>\n",
       "      <td>0.0</td>\n",
       "      <td>0.0</td>\n",
       "      <td>0.0</td>\n",
       "      <td>0.0</td>\n",
       "      <td>0.0</td>\n",
       "      <td>0.0</td>\n",
       "      <td>0.0</td>\n",
       "      <td>0.0</td>\n",
       "      <td>0.0</td>\n",
       "    </tr>\n",
       "    <tr>\n",
       "      <th>2</th>\n",
       "      <td>1.0</td>\n",
       "      <td>0.0</td>\n",
       "      <td>0.0</td>\n",
       "      <td>0.0</td>\n",
       "      <td>0.0</td>\n",
       "      <td>0.0</td>\n",
       "      <td>0.0</td>\n",
       "      <td>0.0</td>\n",
       "      <td>0.0</td>\n",
       "      <td>0.0</td>\n",
       "      <td>...</td>\n",
       "      <td>0.0</td>\n",
       "      <td>0.0</td>\n",
       "      <td>0.0</td>\n",
       "      <td>0.0</td>\n",
       "      <td>0.0</td>\n",
       "      <td>0.0</td>\n",
       "      <td>0.0</td>\n",
       "      <td>0.0</td>\n",
       "      <td>0.0</td>\n",
       "      <td>0.0</td>\n",
       "    </tr>\n",
       "    <tr>\n",
       "      <th>3</th>\n",
       "      <td>4.0</td>\n",
       "      <td>0.0</td>\n",
       "      <td>0.0</td>\n",
       "      <td>0.0</td>\n",
       "      <td>0.0</td>\n",
       "      <td>0.0</td>\n",
       "      <td>0.0</td>\n",
       "      <td>0.0</td>\n",
       "      <td>0.0</td>\n",
       "      <td>0.0</td>\n",
       "      <td>...</td>\n",
       "      <td>0.0</td>\n",
       "      <td>0.0</td>\n",
       "      <td>0.0</td>\n",
       "      <td>0.0</td>\n",
       "      <td>0.0</td>\n",
       "      <td>0.0</td>\n",
       "      <td>0.0</td>\n",
       "      <td>0.0</td>\n",
       "      <td>0.0</td>\n",
       "      <td>0.0</td>\n",
       "    </tr>\n",
       "    <tr>\n",
       "      <th>4</th>\n",
       "      <td>0.0</td>\n",
       "      <td>0.0</td>\n",
       "      <td>0.0</td>\n",
       "      <td>0.0</td>\n",
       "      <td>0.0</td>\n",
       "      <td>0.0</td>\n",
       "      <td>0.0</td>\n",
       "      <td>0.0</td>\n",
       "      <td>0.0</td>\n",
       "      <td>0.0</td>\n",
       "      <td>...</td>\n",
       "      <td>0.0</td>\n",
       "      <td>0.0</td>\n",
       "      <td>0.0</td>\n",
       "      <td>0.0</td>\n",
       "      <td>0.0</td>\n",
       "      <td>0.0</td>\n",
       "      <td>0.0</td>\n",
       "      <td>0.0</td>\n",
       "      <td>0.0</td>\n",
       "      <td>0.0</td>\n",
       "    </tr>\n",
       "    <tr>\n",
       "      <th>...</th>\n",
       "      <td>...</td>\n",
       "      <td>...</td>\n",
       "      <td>...</td>\n",
       "      <td>...</td>\n",
       "      <td>...</td>\n",
       "      <td>...</td>\n",
       "      <td>...</td>\n",
       "      <td>...</td>\n",
       "      <td>...</td>\n",
       "      <td>...</td>\n",
       "      <td>...</td>\n",
       "      <td>...</td>\n",
       "      <td>...</td>\n",
       "      <td>...</td>\n",
       "      <td>...</td>\n",
       "      <td>...</td>\n",
       "      <td>...</td>\n",
       "      <td>...</td>\n",
       "      <td>...</td>\n",
       "      <td>...</td>\n",
       "      <td>...</td>\n",
       "    </tr>\n",
       "    <tr>\n",
       "      <th>41995</th>\n",
       "      <td>0.0</td>\n",
       "      <td>0.0</td>\n",
       "      <td>0.0</td>\n",
       "      <td>0.0</td>\n",
       "      <td>0.0</td>\n",
       "      <td>0.0</td>\n",
       "      <td>0.0</td>\n",
       "      <td>0.0</td>\n",
       "      <td>0.0</td>\n",
       "      <td>0.0</td>\n",
       "      <td>...</td>\n",
       "      <td>0.0</td>\n",
       "      <td>0.0</td>\n",
       "      <td>0.0</td>\n",
       "      <td>0.0</td>\n",
       "      <td>0.0</td>\n",
       "      <td>0.0</td>\n",
       "      <td>0.0</td>\n",
       "      <td>0.0</td>\n",
       "      <td>0.0</td>\n",
       "      <td>0.0</td>\n",
       "    </tr>\n",
       "    <tr>\n",
       "      <th>41996</th>\n",
       "      <td>1.0</td>\n",
       "      <td>0.0</td>\n",
       "      <td>0.0</td>\n",
       "      <td>0.0</td>\n",
       "      <td>0.0</td>\n",
       "      <td>0.0</td>\n",
       "      <td>0.0</td>\n",
       "      <td>0.0</td>\n",
       "      <td>0.0</td>\n",
       "      <td>0.0</td>\n",
       "      <td>...</td>\n",
       "      <td>0.0</td>\n",
       "      <td>0.0</td>\n",
       "      <td>0.0</td>\n",
       "      <td>0.0</td>\n",
       "      <td>0.0</td>\n",
       "      <td>0.0</td>\n",
       "      <td>0.0</td>\n",
       "      <td>0.0</td>\n",
       "      <td>0.0</td>\n",
       "      <td>0.0</td>\n",
       "    </tr>\n",
       "    <tr>\n",
       "      <th>41997</th>\n",
       "      <td>7.0</td>\n",
       "      <td>0.0</td>\n",
       "      <td>0.0</td>\n",
       "      <td>0.0</td>\n",
       "      <td>0.0</td>\n",
       "      <td>0.0</td>\n",
       "      <td>0.0</td>\n",
       "      <td>0.0</td>\n",
       "      <td>0.0</td>\n",
       "      <td>0.0</td>\n",
       "      <td>...</td>\n",
       "      <td>0.0</td>\n",
       "      <td>0.0</td>\n",
       "      <td>0.0</td>\n",
       "      <td>0.0</td>\n",
       "      <td>0.0</td>\n",
       "      <td>0.0</td>\n",
       "      <td>0.0</td>\n",
       "      <td>0.0</td>\n",
       "      <td>0.0</td>\n",
       "      <td>0.0</td>\n",
       "    </tr>\n",
       "    <tr>\n",
       "      <th>41998</th>\n",
       "      <td>6.0</td>\n",
       "      <td>0.0</td>\n",
       "      <td>0.0</td>\n",
       "      <td>0.0</td>\n",
       "      <td>0.0</td>\n",
       "      <td>0.0</td>\n",
       "      <td>0.0</td>\n",
       "      <td>0.0</td>\n",
       "      <td>0.0</td>\n",
       "      <td>0.0</td>\n",
       "      <td>...</td>\n",
       "      <td>0.0</td>\n",
       "      <td>0.0</td>\n",
       "      <td>0.0</td>\n",
       "      <td>0.0</td>\n",
       "      <td>0.0</td>\n",
       "      <td>0.0</td>\n",
       "      <td>0.0</td>\n",
       "      <td>0.0</td>\n",
       "      <td>0.0</td>\n",
       "      <td>0.0</td>\n",
       "    </tr>\n",
       "    <tr>\n",
       "      <th>41999</th>\n",
       "      <td>9.0</td>\n",
       "      <td>0.0</td>\n",
       "      <td>0.0</td>\n",
       "      <td>0.0</td>\n",
       "      <td>0.0</td>\n",
       "      <td>0.0</td>\n",
       "      <td>0.0</td>\n",
       "      <td>0.0</td>\n",
       "      <td>0.0</td>\n",
       "      <td>0.0</td>\n",
       "      <td>...</td>\n",
       "      <td>0.0</td>\n",
       "      <td>0.0</td>\n",
       "      <td>0.0</td>\n",
       "      <td>0.0</td>\n",
       "      <td>0.0</td>\n",
       "      <td>0.0</td>\n",
       "      <td>0.0</td>\n",
       "      <td>0.0</td>\n",
       "      <td>0.0</td>\n",
       "      <td>0.0</td>\n",
       "    </tr>\n",
       "  </tbody>\n",
       "</table>\n",
       "<p>42000 rows × 785 columns</p>\n",
       "</div>"
      ],
      "text/plain": [
       "       label  pixel0  pixel1  pixel2  pixel3  pixel4  pixel5  pixel6  pixel7  \\\n",
       "0        1.0     0.0     0.0     0.0     0.0     0.0     0.0     0.0     0.0   \n",
       "1        0.0     0.0     0.0     0.0     0.0     0.0     0.0     0.0     0.0   \n",
       "2        1.0     0.0     0.0     0.0     0.0     0.0     0.0     0.0     0.0   \n",
       "3        4.0     0.0     0.0     0.0     0.0     0.0     0.0     0.0     0.0   \n",
       "4        0.0     0.0     0.0     0.0     0.0     0.0     0.0     0.0     0.0   \n",
       "...      ...     ...     ...     ...     ...     ...     ...     ...     ...   \n",
       "41995    0.0     0.0     0.0     0.0     0.0     0.0     0.0     0.0     0.0   \n",
       "41996    1.0     0.0     0.0     0.0     0.0     0.0     0.0     0.0     0.0   \n",
       "41997    7.0     0.0     0.0     0.0     0.0     0.0     0.0     0.0     0.0   \n",
       "41998    6.0     0.0     0.0     0.0     0.0     0.0     0.0     0.0     0.0   \n",
       "41999    9.0     0.0     0.0     0.0     0.0     0.0     0.0     0.0     0.0   \n",
       "\n",
       "       pixel8  ...  pixel774  pixel775  pixel776  pixel777  pixel778  \\\n",
       "0         0.0  ...       0.0       0.0       0.0       0.0       0.0   \n",
       "1         0.0  ...       0.0       0.0       0.0       0.0       0.0   \n",
       "2         0.0  ...       0.0       0.0       0.0       0.0       0.0   \n",
       "3         0.0  ...       0.0       0.0       0.0       0.0       0.0   \n",
       "4         0.0  ...       0.0       0.0       0.0       0.0       0.0   \n",
       "...       ...  ...       ...       ...       ...       ...       ...   \n",
       "41995     0.0  ...       0.0       0.0       0.0       0.0       0.0   \n",
       "41996     0.0  ...       0.0       0.0       0.0       0.0       0.0   \n",
       "41997     0.0  ...       0.0       0.0       0.0       0.0       0.0   \n",
       "41998     0.0  ...       0.0       0.0       0.0       0.0       0.0   \n",
       "41999     0.0  ...       0.0       0.0       0.0       0.0       0.0   \n",
       "\n",
       "       pixel779  pixel780  pixel781  pixel782  pixel783  \n",
       "0           0.0       0.0       0.0       0.0       0.0  \n",
       "1           0.0       0.0       0.0       0.0       0.0  \n",
       "2           0.0       0.0       0.0       0.0       0.0  \n",
       "3           0.0       0.0       0.0       0.0       0.0  \n",
       "4           0.0       0.0       0.0       0.0       0.0  \n",
       "...         ...       ...       ...       ...       ...  \n",
       "41995       0.0       0.0       0.0       0.0       0.0  \n",
       "41996       0.0       0.0       0.0       0.0       0.0  \n",
       "41997       0.0       0.0       0.0       0.0       0.0  \n",
       "41998       0.0       0.0       0.0       0.0       0.0  \n",
       "41999       0.0       0.0       0.0       0.0       0.0  \n",
       "\n",
       "[42000 rows x 785 columns]"
      ]
     },
     "execution_count": 3,
     "metadata": {},
     "output_type": "execute_result"
    }
   ],
   "source": [
    "# Load data\n",
    "train = pd.read_csv(r\"../input/digitrecognizer/train.csv\", dtype = np.float32)\n",
    "train"
   ]
  },
  {
   "cell_type": "markdown",
   "id": "910a3f0b",
   "metadata": {
    "papermill": {
     "duration": 0.008687,
     "end_time": "2022-08-31T16:37:43.291430",
     "exception": false,
     "start_time": "2022-08-31T16:37:43.282743",
     "status": "completed"
    },
    "tags": []
   },
   "source": [
    "I split the dataset into features(pixels) and labels(numbers from 0 to 9)"
   ]
  },
  {
   "cell_type": "code",
   "execution_count": 4,
   "id": "fa56caef",
   "metadata": {
    "execution": {
     "iopub.execute_input": "2022-08-31T16:37:43.312900Z",
     "iopub.status.busy": "2022-08-31T16:37:43.311860Z",
     "iopub.status.idle": "2022-08-31T16:37:43.437398Z",
     "shell.execute_reply": "2022-08-31T16:37:43.436012Z"
    },
    "papermill": {
     "duration": 0.139141,
     "end_time": "2022-08-31T16:37:43.440203",
     "exception": false,
     "start_time": "2022-08-31T16:37:43.301062",
     "status": "completed"
    },
    "tags": []
   },
   "outputs": [],
   "source": [
    "# Data split\n",
    "y = train.label.values # target \n",
    "x = train.loc[:, train.columns != \"label\"].values/255 #normalization features"
   ]
  },
  {
   "cell_type": "code",
   "execution_count": 5,
   "id": "1699aad8",
   "metadata": {
    "execution": {
     "iopub.execute_input": "2022-08-31T16:37:43.460169Z",
     "iopub.status.busy": "2022-08-31T16:37:43.459752Z",
     "iopub.status.idle": "2022-08-31T16:37:43.833515Z",
     "shell.execute_reply": "2022-08-31T16:37:43.832228Z"
    },
    "papermill": {
     "duration": 0.387103,
     "end_time": "2022-08-31T16:37:43.836437",
     "exception": false,
     "start_time": "2022-08-31T16:37:43.449334",
     "status": "completed"
    },
    "tags": []
   },
   "outputs": [],
   "source": [
    "# train test split\n",
    "x_train, x_test, y_train, y_test = train_test_split(x, y, test_size = 0.2, random_state = 42)"
   ]
  },
  {
   "cell_type": "code",
   "execution_count": 6,
   "id": "d6e6c205",
   "metadata": {
    "execution": {
     "iopub.execute_input": "2022-08-31T16:37:43.857094Z",
     "iopub.status.busy": "2022-08-31T16:37:43.856624Z",
     "iopub.status.idle": "2022-08-31T16:37:43.864366Z",
     "shell.execute_reply": "2022-08-31T16:37:43.863120Z"
    },
    "papermill": {
     "duration": 0.020754,
     "end_time": "2022-08-31T16:37:43.866640",
     "exception": false,
     "start_time": "2022-08-31T16:37:43.845886",
     "status": "completed"
    },
    "tags": []
   },
   "outputs": [
    {
     "data": {
      "text/plain": [
       "array([[0., 0., 0., ..., 0., 0., 0.],\n",
       "       [0., 0., 0., ..., 0., 0., 0.],\n",
       "       [0., 0., 0., ..., 0., 0., 0.],\n",
       "       ...,\n",
       "       [0., 0., 0., ..., 0., 0., 0.],\n",
       "       [0., 0., 0., ..., 0., 0., 0.],\n",
       "       [0., 0., 0., ..., 0., 0., 0.]], dtype=float32)"
      ]
     },
     "execution_count": 6,
     "metadata": {},
     "output_type": "execute_result"
    }
   ],
   "source": [
    "x_train"
   ]
  },
  {
   "cell_type": "code",
   "execution_count": 7,
   "id": "bb072d63",
   "metadata": {
    "execution": {
     "iopub.execute_input": "2022-08-31T16:37:43.886817Z",
     "iopub.status.busy": "2022-08-31T16:37:43.886368Z",
     "iopub.status.idle": "2022-08-31T16:37:43.893553Z",
     "shell.execute_reply": "2022-08-31T16:37:43.892751Z"
    },
    "papermill": {
     "duration": 0.019633,
     "end_time": "2022-08-31T16:37:43.895528",
     "exception": false,
     "start_time": "2022-08-31T16:37:43.875895",
     "status": "completed"
    },
    "tags": []
   },
   "outputs": [
    {
     "data": {
      "text/plain": [
       "array([8., 1., 9., ..., 3., 0., 9.], dtype=float32)"
      ]
     },
     "execution_count": 7,
     "metadata": {},
     "output_type": "execute_result"
    }
   ],
   "source": [
    "y_test"
   ]
  },
  {
   "cell_type": "markdown",
   "id": "296a91fc",
   "metadata": {
    "papermill": {
     "duration": 0.009007,
     "end_time": "2022-08-31T16:37:43.913776",
     "exception": false,
     "start_time": "2022-08-31T16:37:43.904769",
     "status": "completed"
    },
    "tags": []
   },
   "source": [
    "I create a Tensor from a numpy.ndarray."
   ]
  },
  {
   "cell_type": "code",
   "execution_count": 8,
   "id": "c88e3464",
   "metadata": {
    "execution": {
     "iopub.execute_input": "2022-08-31T16:37:43.934207Z",
     "iopub.status.busy": "2022-08-31T16:37:43.933833Z",
     "iopub.status.idle": "2022-08-31T16:37:43.940041Z",
     "shell.execute_reply": "2022-08-31T16:37:43.938774Z"
    },
    "papermill": {
     "duration": 0.01924,
     "end_time": "2022-08-31T16:37:43.942347",
     "exception": false,
     "start_time": "2022-08-31T16:37:43.923107",
     "status": "completed"
    },
    "tags": []
   },
   "outputs": [],
   "source": [
    "X_Train = torch.from_numpy(x_train)\n",
    "Y_Train = torch.from_numpy(y_train).type(torch.LongTensor) # data type is long\n",
    "\n",
    "X_Test = torch.from_numpy(x_test)\n",
    "Y_Test = torch.from_numpy(y_test).type(torch.LongTensor) # data type is long"
   ]
  },
  {
   "cell_type": "markdown",
   "id": "ab6eb156",
   "metadata": {
    "papermill": {
     "duration": 0.009029,
     "end_time": "2022-08-31T16:37:43.960565",
     "exception": false,
     "start_time": "2022-08-31T16:37:43.951536",
     "status": "completed"
    },
    "tags": []
   },
   "source": [
    "I specify the batch size and the epoch."
   ]
  },
  {
   "cell_type": "code",
   "execution_count": 9,
   "id": "ba861d73",
   "metadata": {
    "execution": {
     "iopub.execute_input": "2022-08-31T16:37:43.981456Z",
     "iopub.status.busy": "2022-08-31T16:37:43.980217Z",
     "iopub.status.idle": "2022-08-31T16:37:43.986222Z",
     "shell.execute_reply": "2022-08-31T16:37:43.985338Z"
    },
    "papermill": {
     "duration": 0.018881,
     "end_time": "2022-08-31T16:37:43.988648",
     "exception": false,
     "start_time": "2022-08-31T16:37:43.969767",
     "status": "completed"
    },
    "tags": []
   },
   "outputs": [],
   "source": [
    "# batch size, epoch and iteration\n",
    "batch_size = 100\n",
    "n_iters = 10000\n",
    "num_epoch = n_iters / (len(x_train) / batch_size)\n",
    "num_epoch = int(num_epoch)"
   ]
  },
  {
   "cell_type": "markdown",
   "id": "ae9a5d62",
   "metadata": {
    "papermill": {
     "duration": 0.010019,
     "end_time": "2022-08-31T16:37:44.007987",
     "exception": false,
     "start_time": "2022-08-31T16:37:43.997968",
     "status": "completed"
    },
    "tags": []
   },
   "source": [
    "I specify data for Pytorch."
   ]
  },
  {
   "cell_type": "code",
   "execution_count": 10,
   "id": "034f803a",
   "metadata": {
    "execution": {
     "iopub.execute_input": "2022-08-31T16:37:44.029096Z",
     "iopub.status.busy": "2022-08-31T16:37:44.028684Z",
     "iopub.status.idle": "2022-08-31T16:37:44.034991Z",
     "shell.execute_reply": "2022-08-31T16:37:44.033764Z"
    },
    "papermill": {
     "duration": 0.019418,
     "end_time": "2022-08-31T16:37:44.037213",
     "exception": false,
     "start_time": "2022-08-31T16:37:44.017795",
     "status": "completed"
    },
    "tags": []
   },
   "outputs": [],
   "source": [
    "# Pytorch train and test sets\n",
    "train = torch.utils.data.TensorDataset(X_Train, Y_Train)\n",
    "test = torch.utils.data.TensorDataset(X_Test, Y_Test)\n",
    "\n",
    "# data loader\n",
    "train_loader = DataLoader(train, batch_size = batch_size, shuffle = False)\n",
    "test_loader = DataLoader(test, batch_size = batch_size, shuffle = False)"
   ]
  },
  {
   "cell_type": "markdown",
   "id": "2e2daff9",
   "metadata": {
    "papermill": {
     "duration": 0.008884,
     "end_time": "2022-08-31T16:37:44.055209",
     "exception": false,
     "start_time": "2022-08-31T16:37:44.046325",
     "status": "completed"
    },
    "tags": []
   },
   "source": [
    "I visualize one of the images in the dataset"
   ]
  },
  {
   "cell_type": "code",
   "execution_count": 11,
   "id": "9afaf105",
   "metadata": {
    "execution": {
     "iopub.execute_input": "2022-08-31T16:37:44.076124Z",
     "iopub.status.busy": "2022-08-31T16:37:44.074861Z",
     "iopub.status.idle": "2022-08-31T16:37:44.235181Z",
     "shell.execute_reply": "2022-08-31T16:37:44.233128Z"
    },
    "papermill": {
     "duration": 0.177108,
     "end_time": "2022-08-31T16:37:44.241586",
     "exception": false,
     "start_time": "2022-08-31T16:37:44.064478",
     "status": "completed"
    },
    "tags": []
   },
   "outputs": [
    {
     "data": {
      "image/png": "[encoded data removed]",
      "text/plain": [
       "<Figure size 432x288 with 1 Axes>"
      ]
     },
     "metadata": {
      "needs_background": "light"
     },
     "output_type": "display_data"
    }
   ],
   "source": [
    "plt.imshow(x[12].reshape(28,28))\n",
    "plt.axis(\"off\")\n",
    "plt.title(str(y[12]))\n",
    "plt.savefig(\"graph.png\")\n",
    "plt.show()"
   ]
  },
  {
   "cell_type": "markdown",
   "id": "49e1caf6",
   "metadata": {
    "papermill": {
     "duration": 0.013473,
     "end_time": "2022-08-31T16:37:44.279067",
     "exception": false,
     "start_time": "2022-08-31T16:37:44.265594",
     "status": "completed"
    },
    "tags": []
   },
   "source": [
    "# Logistic Regression <a id=\"2\"></a>\n",
    "[Go Content](#cont)\n",
    "\n",
    "Firstly, I prepare the Logistic Regression model, and after I will training with the dataset. If you want my detailed project about Logistic Regression, [click here.](https://www.kaggle.com/code/ihsncnkz/logistic-regression)"
   ]
  },
  {
   "cell_type": "code",
   "execution_count": 12,
   "id": "9e2e0885",
   "metadata": {
    "execution": {
     "iopub.execute_input": "2022-08-31T16:37:44.300434Z",
     "iopub.status.busy": "2022-08-31T16:37:44.299640Z",
     "iopub.status.idle": "2022-08-31T16:37:44.313137Z",
     "shell.execute_reply": "2022-08-31T16:37:44.311909Z"
    },
    "papermill": {
     "duration": 0.027639,
     "end_time": "2022-08-31T16:37:44.316194",
     "exception": false,
     "start_time": "2022-08-31T16:37:44.288555",
     "status": "completed"
    },
    "tags": []
   },
   "outputs": [],
   "source": [
    "# create Logistic Regression Model\n",
    "class LogisticRegressionModel(nn.Module):\n",
    "    def __init__(self, input_dim, output_dim):\n",
    "        super(LogisticRegressionModel, self).__init__()\n",
    "        # linear model\n",
    "        self.liner = nn.Linear(input_dim, output_dim)\n",
    "        \n",
    "    def forward(self, x):\n",
    "        out = self.liner(x)\n",
    "        return out\n",
    "    \n",
    "# Determine input_dim and output_dim.\n",
    "input_dim = 28*28\n",
    "outout_dim = 10\n",
    "\n",
    "# Create logistic regression model\n",
    "lrmodel = LogisticRegressionModel(input_dim, outout_dim)\n",
    "\n",
    "# Cross entropy loss\n",
    "lrerror = nn.CrossEntropyLoss()\n",
    "\n",
    "# SGD Optimizer\n",
    "learning_rate_lr = 0.01\n",
    "optimizer_lr = torch.optim.SGD(lrmodel.parameters(), lr = learning_rate_lr)"
   ]
  },
  {
   "cell_type": "markdown",
   "id": "108e2a42",
   "metadata": {
    "papermill": {
     "duration": 0.010682,
     "end_time": "2022-08-31T16:37:44.336473",
     "exception": false,
     "start_time": "2022-08-31T16:37:44.325791",
     "status": "completed"
    },
    "tags": []
   },
   "source": [
    "I train the model with the dataset."
   ]
  },
  {
   "cell_type": "code",
   "execution_count": 13,
   "id": "15c8efc2",
   "metadata": {
    "execution": {
     "iopub.execute_input": "2022-08-31T16:37:44.357838Z",
     "iopub.status.busy": "2022-08-31T16:37:44.357408Z",
     "iopub.status.idle": "2022-08-31T16:38:13.659297Z",
     "shell.execute_reply": "2022-08-31T16:38:13.657913Z"
    },
    "papermill": {
     "duration": 29.315813,
     "end_time": "2022-08-31T16:38:13.662387",
     "exception": false,
     "start_time": "2022-08-31T16:37:44.346574",
     "status": "completed"
    },
    "tags": []
   },
   "outputs": [
    {
     "name": "stdout",
     "output_type": "stream",
     "text": [
      "Iteration: 500  Loss: 0.7693545818328857  Accuracy: 83.75%\n",
      "Iteration: 1000  Loss: 0.6687319874763489  Accuracy: 85.82142639160156%\n",
      "Iteration: 1500  Loss: 0.4255567491054535  Accuracy: 87.01190185546875%\n",
      "Iteration: 2000  Loss: 0.49407482147216797  Accuracy: 87.39286041259766%\n",
      "Iteration: 2500  Loss: 0.4424237310886383  Accuracy: 88.02381134033203%\n",
      "Iteration: 3000  Loss: 0.26138782501220703  Accuracy: 88.23809814453125%\n",
      "Iteration: 3500  Loss: 0.40529099106788635  Accuracy: 88.58333587646484%\n",
      "Iteration: 4000  Loss: 0.24576015770435333  Accuracy: 88.70237731933594%\n",
      "Iteration: 4500  Loss: 0.5982665419578552  Accuracy: 89.0952377319336%\n",
      "Iteration: 5000  Loss: 0.34463024139404297  Accuracy: 89.17857360839844%\n",
      "Iteration: 5500  Loss: 0.3753644526004791  Accuracy: 89.42857360839844%\n",
      "Iteration: 6000  Loss: 0.4954383373260498  Accuracy: 89.60713958740234%\n",
      "Iteration: 6500  Loss: 0.2877064645290375  Accuracy: 89.66666412353516%\n",
      "Iteration: 7000  Loss: 0.375620573759079  Accuracy: 89.78571319580078%\n",
      "Iteration: 7500  Loss: 0.30514419078826904  Accuracy: 89.8452377319336%\n",
      "Iteration: 8000  Loss: 0.43008559942245483  Accuracy: 89.92857360839844%\n",
      "Iteration: 8500  Loss: 0.2881597876548767  Accuracy: 89.97618865966797%\n",
      "Iteration: 9000  Loss: 0.3211265206336975  Accuracy: 90.05952453613281%\n",
      "Iteration: 9500  Loss: 0.29005715250968933  Accuracy: 90.07142639160156%\n"
     ]
    }
   ],
   "source": [
    "# Training the model\n",
    "LRcount = 0\n",
    "LRloss_list = []\n",
    "LRiteration_list = []\n",
    "for epoch in range(num_epoch):\n",
    "    for i, (imageslr, labelslr) in enumerate(train_loader):\n",
    "        \n",
    "        # Define variables\n",
    "        LRtrain = Variable(imageslr.view(-1, 28*28))\n",
    "        LRlabels = Variable(labelslr)\n",
    "        \n",
    "        # Clear gradients\n",
    "        optimizer_lr.zero_grad()\n",
    "        \n",
    "        # Forward Propagation\n",
    "        outputsLR = lrmodel(LRtrain)\n",
    "        \n",
    "        # Calculate softmax and cross entropy loss\n",
    "        LRloss = lrerror(outputsLR, LRlabels)\n",
    "        \n",
    "        # Calculate gradients\n",
    "        LRloss.backward()\n",
    "        \n",
    "        # Update parameters\n",
    "        optimizer_lr.step()\n",
    "        \n",
    "        LRcount += 1\n",
    "        \n",
    "        # Prediction\n",
    "        if LRcount % 50 == 0:\n",
    "            # Calculate Accuracy\n",
    "            LRcorrect = 0\n",
    "            LRtotal = 0\n",
    "            \n",
    "            # Predict test dataset\n",
    "            for imageslr, labelslr in test_loader:\n",
    "                LRtest = Variable(imageslr.view(-1 , 28*28))\n",
    "                \n",
    "                # Forward propagation\n",
    "                outputsLR = lrmodel(LRtest)\n",
    "                \n",
    "                # Get predictions from maximum value\n",
    "                LRpredicted = torch.max(outputsLR.data, 1)[1]\n",
    "                \n",
    "                # total number of labels\n",
    "                LRtotal += len(labelslr)\n",
    "                \n",
    "                # total correct predictions\n",
    "                LRcorrect += (LRpredicted == labelslr).sum()\n",
    "                \n",
    "            LRaccuracy = 100 * LRcorrect / float(LRtotal)\n",
    "            \n",
    "            # store loss and iteration\n",
    "            LRloss_list.append(LRloss.data)\n",
    "            LRiteration_list.append(LRcount)\n",
    "        if LRcount % 500 == 0:\n",
    "            print('Iteration: {}  Loss: {}  Accuracy: {}%'.format(LRcount, LRloss.data, LRaccuracy))"
   ]
  },
  {
   "cell_type": "markdown",
   "id": "1e41d5b9",
   "metadata": {
    "papermill": {
     "duration": 0.010946,
     "end_time": "2022-08-31T16:38:13.685275",
     "exception": false,
     "start_time": "2022-08-31T16:38:13.674329",
     "status": "completed"
    },
    "tags": []
   },
   "source": [
    "I visualize the results of the model."
   ]
  },
  {
   "cell_type": "code",
   "execution_count": 14,
   "id": "b61793dd",
   "metadata": {
    "execution": {
     "iopub.execute_input": "2022-08-31T16:38:13.709778Z",
     "iopub.status.busy": "2022-08-31T16:38:13.708928Z",
     "iopub.status.idle": "2022-08-31T16:38:13.870740Z",
     "shell.execute_reply": "2022-08-31T16:38:13.869387Z"
    },
    "papermill": {
     "duration": 0.177305,
     "end_time": "2022-08-31T16:38:13.873419",
     "exception": false,
     "start_time": "2022-08-31T16:38:13.696114",
     "status": "completed"
    },
    "tags": []
   },
   "outputs": [
    {
     "data": {
      "image/png": "[encoded data removed]",
      "text/plain": [
       "<Figure size 432x288 with 1 Axes>"
      ]
     },
     "metadata": {
      "needs_background": "light"
     },
     "output_type": "display_data"
    }
   ],
   "source": [
    "# visualization\n",
    "plt.plot(LRiteration_list,LRloss_list)\n",
    "plt.xlabel(\"Number of iteration\")\n",
    "plt.ylabel(\"Loss\")\n",
    "plt.title(\"Logistic Regression: Loss vs Number of iteration\")\n",
    "plt.show()"
   ]
  },
  {
   "cell_type": "markdown",
   "id": "625c9026",
   "metadata": {
    "papermill": {
     "duration": 0.010757,
     "end_time": "2022-08-31T16:38:13.895580",
     "exception": false,
     "start_time": "2022-08-31T16:38:13.884823",
     "status": "completed"
    },
    "tags": []
   },
   "source": [
    "# Artificial Neural Network (ANN) <a id=\"3\"></a>\n",
    "[Go Content](#cont)\n",
    "\n",
    "Firstly, I prepare the Artificial Neural Network (ANN) model, and after I will train with the dataset. If you want my detailed project about Artificial Neural Network (ANN), [click here.](https://www.kaggle.com/code/ihsncnkz/cat-and-dog-prediction-with-ann)"
   ]
  },
  {
   "cell_type": "code",
   "execution_count": 15,
   "id": "d49bf7b6",
   "metadata": {
    "execution": {
     "iopub.execute_input": "2022-08-31T16:38:13.920087Z",
     "iopub.status.busy": "2022-08-31T16:38:13.919614Z",
     "iopub.status.idle": "2022-08-31T16:38:13.933294Z",
     "shell.execute_reply": "2022-08-31T16:38:13.932148Z"
    },
    "papermill": {
     "duration": 0.029503,
     "end_time": "2022-08-31T16:38:13.936469",
     "exception": false,
     "start_time": "2022-08-31T16:38:13.906966",
     "status": "completed"
    },
    "tags": []
   },
   "outputs": [],
   "source": [
    "# Create Artificial Neural Network (ANN)\n",
    "class ANNModel(nn.Module):\n",
    "    \n",
    "    def __init__(self, input_dim, hidden_dim, output_dim):\n",
    "        super(ANNModel, self).__init__()\n",
    "        \n",
    "        # linear function 1\n",
    "        self.fc1 = nn.Linear(input_dim, hidden_dim)\n",
    "        # Non-linearity1\n",
    "        self.relu1 = nn.ReLU()\n",
    "        \n",
    "        # Linear fuction 2\n",
    "        self.fc2 = nn.Linear(hidden_dim, hidden_dim)\n",
    "        # Non-linearity 2\n",
    "        self.tanh2 = nn.Tanh()\n",
    "        \n",
    "        # Linear Function 3\n",
    "        self.fc3 = nn.Linear(hidden_dim, hidden_dim)\n",
    "        # Non-linearty 3\n",
    "        self.elu3 = nn.ELU()\n",
    "        \n",
    "        # Linear Function 4 (readout)\n",
    "        self.fc4 = nn.Linear(hidden_dim, output_dim)\n",
    "        \n",
    "    def forward(self, x):\n",
    "        # Linear Function 1\n",
    "        out = self.fc1(x)\n",
    "        # Non-linearity 1\n",
    "        out = self.relu1(out)\n",
    "        \n",
    "        # Linear Function 2\n",
    "        out = self.fc2(out)\n",
    "        # Non-Linearity 2\n",
    "        out = self.tanh2(out)\n",
    "        \n",
    "        # Linear Function 3\n",
    "        out = self.fc3(out)\n",
    "        # Non-linearity 3\n",
    "        out = self.elu3(out)\n",
    "        \n",
    "        # Linear Function\n",
    "        out = self.fc4(out)\n",
    "        return out\n",
    "    \n",
    "# Determine input_dim_ann, hidden_dim_ann, output_dim_ann\n",
    "input_dim_ann = 28*28\n",
    "hidden_dim_ann = 150\n",
    "output_dim_ann = 10\n",
    "\n",
    "# Create ann\n",
    "ANNmodel = ANNModel(input_dim_ann, hidden_dim_ann, output_dim_ann)\n",
    "\n",
    "# Cross Entropy Loss\n",
    "ANNerror = nn.CrossEntropyLoss()\n",
    "\n",
    "# SGD Optimizer\n",
    "learning_rate_ann = 0.2\n",
    "optimizer_ann = torch.optim.SGD(ANNmodel.parameters(), lr = learning_rate_ann)\n",
    "        "
   ]
  },
  {
   "cell_type": "markdown",
   "id": "92f78d3c",
   "metadata": {
    "papermill": {
     "duration": 0.01112,
     "end_time": "2022-08-31T16:38:13.959218",
     "exception": false,
     "start_time": "2022-08-31T16:38:13.948098",
     "status": "completed"
    },
    "tags": []
   },
   "source": [
    "I train the model with the dataset.I train the model with the dataset."
   ]
  },
  {
   "cell_type": "code",
   "execution_count": 16,
   "id": "97ff30b3",
   "metadata": {
    "execution": {
     "iopub.execute_input": "2022-08-31T16:38:13.984411Z",
     "iopub.status.busy": "2022-08-31T16:38:13.983973Z",
     "iopub.status.idle": "2022-08-31T16:39:13.518366Z",
     "shell.execute_reply": "2022-08-31T16:39:13.517138Z"
    },
    "papermill": {
     "duration": 59.550517,
     "end_time": "2022-08-31T16:39:13.521296",
     "exception": false,
     "start_time": "2022-08-31T16:38:13.970779",
     "status": "completed"
    },
    "tags": []
   },
   "outputs": [
    {
     "name": "stdout",
     "output_type": "stream",
     "text": [
      "Iteration: 500  Loss: 0.2280791848897934  Accuracy: 94.01190185546875 %\n",
      "Iteration: 1000  Loss: 0.07199188321828842  Accuracy: 95.96428680419922 %\n",
      "Iteration: 1500  Loss: 0.03540721535682678  Accuracy: 96.47618865966797 %\n",
      "Iteration: 2000  Loss: 0.05780196189880371  Accuracy: 96.47618865966797 %\n",
      "Iteration: 2500  Loss: 0.032590121030807495  Accuracy: 96.64286041259766 %\n",
      "Iteration: 3000  Loss: 3.5428473949432373  Accuracy: 27.785715103149414 %\n",
      "Iteration: 3500  Loss: 0.14418897032737732  Accuracy: 96.78571319580078 %\n",
      "Iteration: 4000  Loss: 0.016309471800923347  Accuracy: 96.67857360839844 %\n",
      "Iteration: 4500  Loss: 0.014430670998990536  Accuracy: 97.16666412353516 %\n",
      "Iteration: 5000  Loss: 0.0036765781696885824  Accuracy: 97.0 %\n",
      "Iteration: 5500  Loss: 0.007676479872316122  Accuracy: 97.07142639160156 %\n",
      "Iteration: 6000  Loss: 0.0022567224223166704  Accuracy: 97.08333587646484 %\n",
      "Iteration: 6500  Loss: 0.0019552879966795444  Accuracy: 97.30952453613281 %\n",
      "Iteration: 7000  Loss: 0.003024861216545105  Accuracy: 97.1547622680664 %\n",
      "Iteration: 7500  Loss: 0.0013690091436728835  Accuracy: 97.20237731933594 %\n",
      "Iteration: 8000  Loss: 0.001671181875281036  Accuracy: 97.29762268066406 %\n",
      "Iteration: 8500  Loss: 0.00030696659814566374  Accuracy: 97.20237731933594 %\n",
      "Iteration: 9000  Loss: 0.0007281474536284804  Accuracy: 97.35713958740234 %\n",
      "Iteration: 9500  Loss: 0.0007114468025974929  Accuracy: 97.23809814453125 %\n"
     ]
    }
   ],
   "source": [
    "# ANN model training\n",
    "count_ann = 0\n",
    "loss_list_ann = []\n",
    "iteration_list_ann = []\n",
    "accuracy_list_ann = []\n",
    "\n",
    "for epoch in range(num_epoch):\n",
    "    for i, (images_ann, labels_ann) in enumerate(train_loader):\n",
    "        \n",
    "        train = Variable(images_ann.view(-1, 28*28))\n",
    "        labels = Variable(labels_ann)\n",
    "        \n",
    "        # Clear Gradients\n",
    "        optimizer_ann.zero_grad()\n",
    "        \n",
    "        # Forward Propagation\n",
    "        outputs = ANNmodel(train)\n",
    "        \n",
    "        # Calculate softmax and ross entropy loss\n",
    "        loss = ANNerror(outputs, labels)\n",
    "        \n",
    "        # Calculating gradients\n",
    "        loss.backward()\n",
    "        \n",
    "        # Update parameters\n",
    "        optimizer_ann.step()\n",
    "        \n",
    "        count_ann += 1\n",
    "        \n",
    "        if count_ann % 50 == 0:\n",
    "            # Calculate Accuracy\n",
    "            correct_ann = 0\n",
    "            total_ann = 0\n",
    "            \n",
    "            # predict test dataset\n",
    "            for images_ann, labels_ann in test_loader:\n",
    "                \n",
    "                test = Variable(images_ann.view(-1, 28*28))\n",
    "                \n",
    "                # Forward propagation\n",
    "                outputs = ANNmodel(test)\n",
    "                \n",
    "                # Get predictions from the maximum value\n",
    "                predicted = torch.max(outputs.data, 1)[1]\n",
    "                \n",
    "                # Total number of labels\n",
    "                total_ann += len(labels_ann)\n",
    "                \n",
    "                # Total correct predictions\n",
    "                correct_ann += (predicted == labels_ann).sum()\n",
    "                \n",
    "            accuracy_ann = 100 * correct_ann / float(total_ann)\n",
    "            \n",
    "            # store loss and iteration\n",
    "            loss_list_ann.append(loss.data)\n",
    "            iteration_list_ann.append(count_ann)\n",
    "            accuracy_list_ann.append(accuracy_ann)\n",
    "        if count_ann % 500 == 0:\n",
    "            print('Iteration: {}  Loss: {}  Accuracy: {} %'.format(count_ann, loss.data, accuracy_ann))"
   ]
  },
  {
   "cell_type": "markdown",
   "id": "17be569c",
   "metadata": {
    "papermill": {
     "duration": 0.011767,
     "end_time": "2022-08-31T16:39:13.545589",
     "exception": false,
     "start_time": "2022-08-31T16:39:13.533822",
     "status": "completed"
    },
    "tags": []
   },
   "source": [
    "I visualize the results of the model."
   ]
  },
  {
   "cell_type": "code",
   "execution_count": 17,
   "id": "967a6ca5",
   "metadata": {
    "execution": {
     "iopub.execute_input": "2022-08-31T16:39:13.572883Z",
     "iopub.status.busy": "2022-08-31T16:39:13.572258Z",
     "iopub.status.idle": "2022-08-31T16:39:13.867160Z",
     "shell.execute_reply": "2022-08-31T16:39:13.865998Z"
    },
    "papermill": {
     "duration": 0.311813,
     "end_time": "2022-08-31T16:39:13.869744",
     "exception": false,
     "start_time": "2022-08-31T16:39:13.557931",
     "status": "completed"
    },
    "tags": []
   },
   "outputs": [
    {
     "data": {
      "image/png": "[encoded data removed]",
      "text/plain": [
       "<Figure size 432x288 with 1 Axes>"
      ]
     },
     "metadata": {
      "needs_background": "light"
     },
     "output_type": "display_data"
    },
    {
     "data": {
      "image/png": "[encoded data removed]",
      "text/plain": [
       "<Figure size 432x288 with 1 Axes>"
      ]
     },
     "metadata": {
      "needs_background": "light"
     },
     "output_type": "display_data"
    }
   ],
   "source": [
    "# visualization loss \n",
    "plt.plot(iteration_list_ann,loss_list_ann)\n",
    "plt.xlabel(\"Number of iteration\")\n",
    "plt.ylabel(\"Loss\")\n",
    "plt.title(\"ANN: Loss vs Number of iteration\")\n",
    "plt.show()\n",
    "\n",
    "# visualization accuracy \n",
    "plt.plot(iteration_list_ann,accuracy_list_ann,color = \"red\")\n",
    "plt.xlabel(\"Number of iteration\")\n",
    "plt.ylabel(\"Accuracy\")\n",
    "plt.title(\"ANN: Accuracy vs Number of iteration\")\n",
    "plt.show()"
   ]
  },
  {
   "cell_type": "markdown",
   "id": "2a345f3a",
   "metadata": {
    "papermill": {
     "duration": 0.012578,
     "end_time": "2022-08-31T16:39:13.895349",
     "exception": false,
     "start_time": "2022-08-31T16:39:13.882771",
     "status": "completed"
    },
    "tags": []
   },
   "source": [
    "# Convolutional neural network (CNN) <a id=\"4\"></a>\n",
    "[Go Content](#cont) <br>\n",
    "\n",
    "Firstly, I prepare the Convolutional neural network (CNN) model, and after I will train with the dataset. If you want my detailed project about Convolutional neural network (CNN), [click here.](https://www.kaggle.com/code/ihsncnkz/my-first-convolutional-neural-network-cnn-work)"
   ]
  },
  {
   "cell_type": "code",
   "execution_count": 18,
   "id": "410c507d",
   "metadata": {
    "execution": {
     "iopub.execute_input": "2022-08-31T16:39:13.923403Z",
     "iopub.status.busy": "2022-08-31T16:39:13.922934Z",
     "iopub.status.idle": "2022-08-31T16:39:13.939042Z",
     "shell.execute_reply": "2022-08-31T16:39:13.937917Z"
    },
    "papermill": {
     "duration": 0.033263,
     "end_time": "2022-08-31T16:39:13.941574",
     "exception": false,
     "start_time": "2022-08-31T16:39:13.908311",
     "status": "completed"
    },
    "tags": []
   },
   "outputs": [],
   "source": [
    "# Import Library\n",
    "import torch\n",
    "import torch\n",
    "from torch.autograd import Variable\n",
    "\n",
    "# Create CNN Model With Pytorch\n",
    "class CNNModel(nn.Module):\n",
    "    def __init__(self):\n",
    "        super(CNNModel, self).__init__()\n",
    "        \n",
    "        # Convolution 1\n",
    "        self.cnn1 = nn.Conv2d(in_channels = 1, out_channels = 16, kernel_size = 5, stride = 1, padding = 0)\n",
    "        \n",
    "        self.relu1 = nn.ReLU()\n",
    "        \n",
    "        self.maxpool1 = nn.MaxPool2d(kernel_size = 2)\n",
    "        \n",
    "        # Convolution  2\n",
    "        self.cnn2 = nn.Conv2d(in_channels = 16, out_channels = 32, kernel_size = 5, stride = 1, padding = 0)\n",
    "        \n",
    "        self.relu2 = nn.ReLU()\n",
    "        \n",
    "        self.maxpool2 = nn.MaxPool2d(kernel_size = 2)\n",
    "        \n",
    "        # Fully connected 1\n",
    "        self.fc1 = nn.Linear(32 * 4 * 4, 10)\n",
    "        \n",
    "    def forward(self, x):\n",
    "        # Convolution 1\n",
    "        out = self.cnn1(x)\n",
    "        out = self.relu1(out)\n",
    "        \n",
    "        # Max Pool 1\n",
    "        out = self.maxpool1(out)\n",
    "        \n",
    "        # Convolution 2\n",
    "        out = self.cnn2(out)\n",
    "        out = self.relu2(out)\n",
    "        \n",
    "        # Max Pool 2\n",
    "        out = self.maxpool2(out)\n",
    "        \n",
    "        # Flatten\n",
    "        out = out.view(out.size(0), -1)\n",
    "        \n",
    "        # Linear function (readout)\n",
    "        out = self.fc1(out)\n",
    "        \n",
    "        return out\n",
    "    \n",
    "# batch_size, Epoch and iteration\n",
    "batch_size_cnn = 100\n",
    "n_iters_cnn = 2500\n",
    "num_epochs_cnn = n_iters_cnn / (len(x_train) / batch_size_cnn)\n",
    "num_epochs_cnn = int(num_epochs_cnn)\n",
    "\n",
    "# Pytorch train and test sets\n",
    "train_cnn = torch.utils.data.TensorDataset(X_Train, Y_Train)\n",
    "test_cnn = torch.utils.data.TensorDataset(X_Test, Y_Test)\n",
    "\n",
    "# data loader\n",
    "train_loader_cnn = torch.utils.data.DataLoader(train_cnn, batch_size = batch_size_cnn, shuffle = False)\n",
    "test_loader_cnn = torch.utils.data.DataLoader(test_cnn, batch_size = batch_size_cnn, shuffle = False)\n",
    "\n",
    "# Create CNN\n",
    "model = CNNModel()\n",
    "\n",
    "# Cross Entropy Loss\n",
    "error_cnn = nn.CrossEntropyLoss()\n",
    "\n",
    "# SGD Optimizer\n",
    "learning_rate_cnn = 0.1\n",
    "optimizer_cnn = torch.optim.SGD(model.parameters(), lr = learning_rate_cnn)"
   ]
  },
  {
   "cell_type": "markdown",
   "id": "c365fc7d",
   "metadata": {
    "papermill": {
     "duration": 0.012231,
     "end_time": "2022-08-31T16:39:13.966646",
     "exception": false,
     "start_time": "2022-08-31T16:39:13.954415",
     "status": "completed"
    },
    "tags": []
   },
   "source": [
    "I train the model with the dataset."
   ]
  },
  {
   "cell_type": "code",
   "execution_count": 19,
   "id": "2b55728d",
   "metadata": {
    "execution": {
     "iopub.execute_input": "2022-08-31T16:39:13.994726Z",
     "iopub.status.busy": "2022-08-31T16:39:13.994312Z",
     "iopub.status.idle": "2022-08-31T16:40:34.756629Z",
     "shell.execute_reply": "2022-08-31T16:40:34.755471Z"
    },
    "papermill": {
     "duration": 80.780052,
     "end_time": "2022-08-31T16:40:34.759479",
     "exception": false,
     "start_time": "2022-08-31T16:39:13.979427",
     "status": "completed"
    },
    "tags": []
   },
   "outputs": [
    {
     "name": "stdout",
     "output_type": "stream",
     "text": [
      "Iteration: 500  Loss: 0.10996179282665253  Accuracy: 96.66666412353516 %\n",
      "Iteration: 1000  Loss: 0.03503936156630516  Accuracy: 97.76190185546875 %\n",
      "Iteration: 1500  Loss: 0.02948560193181038  Accuracy: 97.89286041259766 %\n",
      "Iteration: 2000  Loss: 0.012916158884763718  Accuracy: 98.23809814453125 %\n"
     ]
    }
   ],
   "source": [
    "# CNN Model training\n",
    "count_cnn = 0\n",
    "loss_list_cnn = []\n",
    "iteration_list_cnn = []\n",
    "accuracy_list_cnn = []\n",
    "for epoch in range(num_epochs_cnn):\n",
    "    for i, (images_cnn, labels_cnn) in enumerate(train_loader_cnn):\n",
    "        \n",
    "        ftrain_cnn = Variable(images_cnn.view(100, 1, 28, 28))\n",
    "        flabels_cnn = Variable(labels_cnn)\n",
    "        \n",
    "        # Clear gradients\n",
    "        optimizer_cnn.zero_grad()\n",
    "        \n",
    "        # Forward Propagation\n",
    "        outputs_cnn = model(ftrain_cnn)\n",
    "        \n",
    "        # Calculate softmax and ross entropy loss\n",
    "        loss_cnn = error_cnn(outputs_cnn, labels_cnn)\n",
    "        \n",
    "        # Calculating Gradients\n",
    "        loss_cnn.backward()\n",
    "        \n",
    "        # Update parameters\n",
    "        optimizer_cnn.step()\n",
    "        \n",
    "        count_cnn += 1\n",
    "        \n",
    "        if count_cnn % 50 == 0:\n",
    "            # Calculate Accuracy\n",
    "            correct_cnn = 0\n",
    "            total_cnn = 0\n",
    "            \n",
    "            # Iterate through test dataset\n",
    "            for images_cnn, labels_cnn in test_loader_cnn:\n",
    "                \n",
    "                ftest_cnn = Variable(images_cnn.view(100, 1, 28, 28))\n",
    "                \n",
    "                # Forward Propagation\n",
    "                outputs_cnn = model(ftest_cnn)\n",
    "                \n",
    "                # Get Predictions From The Maximum Value\n",
    "                predicted_cnn = torch.max(outputs_cnn.data, 1)[1]\n",
    "                \n",
    "                # Total number of labels\n",
    "                total_cnn += len(labels_cnn)\n",
    "                \n",
    "                correct_cnn += (predicted_cnn == labels_cnn).sum()\n",
    "                \n",
    "            accuracy_cnn = 100 * correct_cnn / float(total_cnn)\n",
    "            \n",
    "            # Store loss and iteration\n",
    "            loss_list_cnn.append(loss_cnn.data)\n",
    "            iteration_list_cnn.append(count_cnn)\n",
    "            accuracy_list_cnn.append(accuracy_cnn)\n",
    "            \n",
    "        if count_cnn % 500 == 0:\n",
    "            # Print Loss\n",
    "            print('Iteration: {}  Loss: {}  Accuracy: {} %'.format(count_cnn, loss_cnn.data, accuracy_cnn))"
   ]
  },
  {
   "cell_type": "markdown",
   "id": "b9557e50",
   "metadata": {
    "papermill": {
     "duration": 0.01275,
     "end_time": "2022-08-31T16:40:34.785595",
     "exception": false,
     "start_time": "2022-08-31T16:40:34.772845",
     "status": "completed"
    },
    "tags": []
   },
   "source": [
    "I visualize the results of the model."
   ]
  },
  {
   "cell_type": "code",
   "execution_count": 20,
   "id": "8a2e4737",
   "metadata": {
    "execution": {
     "iopub.execute_input": "2022-08-31T16:40:34.814586Z",
     "iopub.status.busy": "2022-08-31T16:40:34.813325Z",
     "iopub.status.idle": "2022-08-31T16:40:35.251545Z",
     "shell.execute_reply": "2022-08-31T16:40:35.250616Z"
    },
    "papermill": {
     "duration": 0.455402,
     "end_time": "2022-08-31T16:40:35.254111",
     "exception": false,
     "start_time": "2022-08-31T16:40:34.798709",
     "status": "completed"
    },
    "tags": []
   },
   "outputs": [
    {
     "data": {
      "image/png": "[encoded data removed]",
      "text/plain": [
       "<Figure size 432x288 with 1 Axes>"
      ]
     },
     "metadata": {
      "needs_background": "light"
     },
     "output_type": "display_data"
    },
    {
     "data": {
      "image/png": "[encoded data removed]",
      "text/plain": [
       "<Figure size 432x288 with 1 Axes>"
      ]
     },
     "metadata": {
      "needs_background": "light"
     },
     "output_type": "display_data"
    }
   ],
   "source": [
    "# Visualize Loss\n",
    "plt.plot(iteration_list_cnn, loss_list_cnn)\n",
    "plt.xlabel(\"Number of iteration\")\n",
    "plt.ylabel(\"Loss\")\n",
    "plt.title(\"CNN: Loss vs Number of iteration\")\n",
    "plt.show()\n",
    "\n",
    "# Visualize accuracy\n",
    "plt.plot(iteration_list_cnn, accuracy_list_cnn, color = \"green\")\n",
    "plt.xlabel(\"Number of iteration\")\n",
    "plt.ylabel(\"Accuracy\")\n",
    "plt.title(\"CNN: Accuracy vs Number of iteration\")\n",
    "plt.show()"
   ]
  },
  {
   "cell_type": "markdown",
   "id": "cfcc620d",
   "metadata": {
    "papermill": {
     "duration": 0.013594,
     "end_time": "2022-08-31T16:40:35.281931",
     "exception": false,
     "start_time": "2022-08-31T16:40:35.268337",
     "status": "completed"
    },
    "tags": []
   },
   "source": [
    "# CONCLUSION <a id = \"5\"></a>\n",
    "****\n",
    "[Go Content](#cont) <br>\n",
    "I am learning the English language newly if I make an errata please advise me in the comment. Thank you for reading my notebook, your votes and your comments. I will be waiting for your advice."
   ]
  }
 ],
 "metadata": {
  "kernelspec": {
   "display_name": "Python 3",
   "language": "python",
   "name": "python3"
  },
  "language_info": {
   "codemirror_mode": {
    "name": "ipython",
    "version": 3
   },
   "file_extension": ".py",
   "mimetype": "text/x-python",
   "name": "python",
   "nbconvert_exporter": "python",
   "pygments_lexer": "ipython3",
   "version": "3.7.12"
  },
  "papermill": {
   "default_parameters": {},
   "duration": 190.57555,
   "end_time": "2022-08-31T16:40:36.320766",
   "environment_variables": {},
   "exception": null,
   "input_path": "__notebook__.ipynb",
   "output_path": "__notebook__.ipynb",
   "parameters": {},
   "start_time": "2022-08-31T16:37:25.745216",
   "version": "2.3.4"
  }
 },
 "nbformat": 4,
 "nbformat_minor": 5
}
