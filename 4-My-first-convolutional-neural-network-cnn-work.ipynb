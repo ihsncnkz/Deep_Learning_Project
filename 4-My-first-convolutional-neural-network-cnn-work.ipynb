{
 "cells": [
  {
   "cell_type": "markdown",
   "id": "09e923c2",
   "metadata": {
    "papermill": {
     "duration": 0.009265,
     "end_time": "2022-08-25T18:38:28.581780",
     "exception": false,
     "start_time": "2022-08-25T18:38:28.572515",
     "status": "completed"
    },
    "tags": []
   },
   "source": [
    "# Introduction\n",
    "Hello, I continue to learn from where I left off. This project is my fifteenth project in my learning way and I will continue to develop the projects from now on. In this project, Firstly I will review the dataset and I will visualize in data of the dataset. After, I will constitute the Convolutional Neural Network(CNN) model with the Keras API. I will explain what I did step by step. I've talked about the projects I've done before and I will share them in this chapter. In this learning path, I would be very happy if you would examine my notebook and help me with how to improve my notebook or what I should do in this development path. I wish you a good day and good work.\n",
    "\n",
    "[For a detailed description of the dataset, please click here](https://www.kaggle.com/competitions/digit-recognizer)\n",
    "\n",
    "My projects about Deep Learning:<br>\n",
    "- [Gender Prediction With Logistic Regression](https://www.kaggle.com/code/ihsncnkz/gender-prediction-with-logistic-regression)\n",
    "- [Cat And Dog Prediction With ANN](https://www.kaggle.com/code/ihsncnkz/cat-and-dog-prediction-with-ann)\n",
    "- [Linear Regression With Pytorch](https://www.kaggle.com/code/ihsncnkz/linear-regression-with-pytorch)\n",
    "\n",
    "My projects about Data Science and Machine Learning:\n",
    "- [GPU Search](https://www.kaggle.com/code/ihsncnkz/gpu-search)\n",
    "- [EDA And Linear Regression](https://www.kaggle.com/code/ihsncnkz/eda-and-linear-regression)\n",
    "- [Regression Models](https://www.kaggle.com/code/ihsncnkz/regression-models)\n",
    "- [Logistic Regression](https://www.kaggle.com/code/ihsncnkz/logistic-regression)\n",
    "- [Classification With K-Nearest Neighbors(KNN)](https://www.kaggle.com/code/ihsncnkz/classification-with-k-nearest-neighbors-knn)\n",
    "- [Classification With Support Vector Machine(SVM)](https://www.kaggle.com/code/ihsncnkz/classification-with-support-vector-machine-svm)\n",
    "- [Classification With Naive Bayes Classification](https://www.kaggle.com/code/ihsncnkz/classification-with-naive-bayes-classification)\n",
    "- [Decision Tree And Random Forest Classifier Models](https://www.kaggle.com/code/ihsncnkz/decision-tree-and-random-forest-classifier-models)\n",
    "- [K-Means And Hierarchical Clustering With 3D Plotly](https://www.kaggle.com/code/ihsncnkz/k-means-and-hierarchical-clustering-with-3d-plotly)\n",
    "- [Natural Language Process(NLP) With Naive Bayes](https://www.kaggle.com/code/ihsncnkz/natural-language-process-nlp-with-naive-bayes)\n",
    "- [Recommendation System With KNN](https://www.kaggle.com/code/ihsncnkz/recommendation-system-with-knn)"
   ]
  },
  {
   "cell_type": "markdown",
   "id": "19a9fff8",
   "metadata": {
    "papermill": {
     "duration": 0.008315,
     "end_time": "2022-08-25T18:38:28.598765",
     "exception": false,
     "start_time": "2022-08-25T18:38:28.590450",
     "status": "completed"
    },
    "tags": []
   },
   "source": [
    "# Content <a id = \"cont\"></a>\n",
    "- [Data Review](#1)\n",
    "- [Prepare The Dataset](#2)\n",
    "    - [Normalization](#ptd1)\n",
    "    - [Train Val Split](#ptd2)\n",
    "- [Convolutional Neural Network(CNN)](#3)\n",
    "    - [Implementing With Keras](#cnn1)\n",
    "    - [Define Optimizer](#cnn2)\n",
    "    - [Compile Model](#cnn3)\n",
    "    - [Epochs And Batch Size](#cnn4)\n",
    "    - [Data Augmentation](#cnn5)\n",
    "    - [Fit The Model](#cnn6)\n",
    "    - [Evaluate The Model](#cnn7)\n",
    "    - [Prediction The Validation And Test Datasets](#cnn8)\n",
    "        - [Prediction validation results](#pre1)\n",
    "        - [Prediciting test classes](#pre2)\n",
    "- [CONCLUSION](#4)"
   ]
  },
  {
   "cell_type": "code",
   "execution_count": 1,
   "id": "982fba8d",
   "metadata": {
    "_cell_guid": "b1076dfc-b9ad-4769-8c92-a6c4dae69d19",
    "_uuid": "8f2839f25d086af736a60e9eeb907d3b93b6e0e5",
    "execution": {
     "iopub.execute_input": "2022-08-25T18:38:28.617607Z",
     "iopub.status.busy": "2022-08-25T18:38:28.616857Z",
     "iopub.status.idle": "2022-08-25T18:38:29.656620Z",
     "shell.execute_reply": "2022-08-25T18:38:29.655597Z"
    },
    "papermill": {
     "duration": 1.052048,
     "end_time": "2022-08-25T18:38:29.659093",
     "exception": false,
     "start_time": "2022-08-25T18:38:28.607045",
     "status": "completed"
    },
    "tags": []
   },
   "outputs": [
    {
     "name": "stdout",
     "output_type": "stream",
     "text": [
      "/kaggle/input/digit-recognizer/sample_submission.csv\n",
      "/kaggle/input/digit-recognizer/train.csv\n",
      "/kaggle/input/digit-recognizer/test.csv\n"
     ]
    }
   ],
   "source": [
    "# This Python 3 environment comes with many helpful analytics libraries installed\n",
    "# It is defined by the kaggle/python Docker image: https://github.com/kaggle/docker-python\n",
    "# For example, here's several helpful packages to load\n",
    "\n",
    "import numpy as np # linear algebra\n",
    "import pandas as pd # data processing, CSV file I/O (e.g. pd.read_csv)\n",
    "import seaborn as sns\n",
    "import matplotlib.pyplot as plt\n",
    "\n",
    "# Input data files are available in the read-only \"../input/\" directory\n",
    "# For example, running this (by clicking run or pressing Shift+Enter) will list all files under the input directory\n",
    "\n",
    "import warnings\n",
    "warnings.filterwarnings(\"ignore\")\n",
    "\n",
    "import os\n",
    "for dirname, _, filenames in os.walk('/kaggle/input'):\n",
    "    for filename in filenames:\n",
    "        print(os.path.join(dirname, filename))\n",
    "\n",
    "# You can write up to 20GB to the current directory (/kaggle/working/) that gets preserved as output when you create a version using \"Save & Run All\" \n",
    "# You can also write temporary files to /kaggle/temp/, but they won't be saved outside of the current session"
   ]
  },
  {
   "cell_type": "markdown",
   "id": "dd09cab2",
   "metadata": {
    "papermill": {
     "duration": 0.008187,
     "end_time": "2022-08-25T18:38:29.675977",
     "exception": false,
     "start_time": "2022-08-25T18:38:29.667790",
     "status": "completed"
    },
    "tags": []
   },
   "source": [
    "# Data Review <a id = \"1\"></a>\n",
    "[Go Content](#cont) <br>\n",
    "In this chapter, I will review the dataset. "
   ]
  },
  {
   "cell_type": "markdown",
   "id": "66b47d49",
   "metadata": {
    "papermill": {
     "duration": 0.008148,
     "end_time": "2022-08-25T18:38:29.693304",
     "exception": false,
     "start_time": "2022-08-25T18:38:29.685156",
     "status": "completed"
    },
    "tags": []
   },
   "source": [
    "I read the dataset with the pandas library."
   ]
  },
  {
   "cell_type": "code",
   "execution_count": 2,
   "id": "da844423",
   "metadata": {
    "execution": {
     "iopub.execute_input": "2022-08-25T18:38:29.712467Z",
     "iopub.status.busy": "2022-08-25T18:38:29.711919Z",
     "iopub.status.idle": "2022-08-25T18:38:32.259731Z",
     "shell.execute_reply": "2022-08-25T18:38:32.258220Z"
    },
    "papermill": {
     "duration": 2.560964,
     "end_time": "2022-08-25T18:38:32.262654",
     "exception": false,
     "start_time": "2022-08-25T18:38:29.701690",
     "status": "completed"
    },
    "tags": []
   },
   "outputs": [
    {
     "name": "stdout",
     "output_type": "stream",
     "text": [
      "(42000, 785)\n"
     ]
    },
    {
     "data": {
      "text/html": [
       "<div>\n",
       "<style scoped>\n",
       "    .dataframe tbody tr th:only-of-type {\n",
       "        vertical-align: middle;\n",
       "    }\n",
       "\n",
       "    .dataframe tbody tr th {\n",
       "        vertical-align: top;\n",
       "    }\n",
       "\n",
       "    .dataframe thead th {\n",
       "        text-align: right;\n",
       "    }\n",
       "</style>\n",
       "<table border=\"1\" class=\"dataframe\">\n",
       "  <thead>\n",
       "    <tr style=\"text-align: right;\">\n",
       "      <th></th>\n",
       "      <th>label</th>\n",
       "      <th>pixel0</th>\n",
       "      <th>pixel1</th>\n",
       "      <th>pixel2</th>\n",
       "      <th>pixel3</th>\n",
       "      <th>pixel4</th>\n",
       "      <th>pixel5</th>\n",
       "      <th>pixel6</th>\n",
       "      <th>pixel7</th>\n",
       "      <th>pixel8</th>\n",
       "      <th>...</th>\n",
       "      <th>pixel774</th>\n",
       "      <th>pixel775</th>\n",
       "      <th>pixel776</th>\n",
       "      <th>pixel777</th>\n",
       "      <th>pixel778</th>\n",
       "      <th>pixel779</th>\n",
       "      <th>pixel780</th>\n",
       "      <th>pixel781</th>\n",
       "      <th>pixel782</th>\n",
       "      <th>pixel783</th>\n",
       "    </tr>\n",
       "  </thead>\n",
       "  <tbody>\n",
       "    <tr>\n",
       "      <th>0</th>\n",
       "      <td>1</td>\n",
       "      <td>0</td>\n",
       "      <td>0</td>\n",
       "      <td>0</td>\n",
       "      <td>0</td>\n",
       "      <td>0</td>\n",
       "      <td>0</td>\n",
       "      <td>0</td>\n",
       "      <td>0</td>\n",
       "      <td>0</td>\n",
       "      <td>...</td>\n",
       "      <td>0</td>\n",
       "      <td>0</td>\n",
       "      <td>0</td>\n",
       "      <td>0</td>\n",
       "      <td>0</td>\n",
       "      <td>0</td>\n",
       "      <td>0</td>\n",
       "      <td>0</td>\n",
       "      <td>0</td>\n",
       "      <td>0</td>\n",
       "    </tr>\n",
       "    <tr>\n",
       "      <th>1</th>\n",
       "      <td>0</td>\n",
       "      <td>0</td>\n",
       "      <td>0</td>\n",
       "      <td>0</td>\n",
       "      <td>0</td>\n",
       "      <td>0</td>\n",
       "      <td>0</td>\n",
       "      <td>0</td>\n",
       "      <td>0</td>\n",
       "      <td>0</td>\n",
       "      <td>...</td>\n",
       "      <td>0</td>\n",
       "      <td>0</td>\n",
       "      <td>0</td>\n",
       "      <td>0</td>\n",
       "      <td>0</td>\n",
       "      <td>0</td>\n",
       "      <td>0</td>\n",
       "      <td>0</td>\n",
       "      <td>0</td>\n",
       "      <td>0</td>\n",
       "    </tr>\n",
       "    <tr>\n",
       "      <th>2</th>\n",
       "      <td>1</td>\n",
       "      <td>0</td>\n",
       "      <td>0</td>\n",
       "      <td>0</td>\n",
       "      <td>0</td>\n",
       "      <td>0</td>\n",
       "      <td>0</td>\n",
       "      <td>0</td>\n",
       "      <td>0</td>\n",
       "      <td>0</td>\n",
       "      <td>...</td>\n",
       "      <td>0</td>\n",
       "      <td>0</td>\n",
       "      <td>0</td>\n",
       "      <td>0</td>\n",
       "      <td>0</td>\n",
       "      <td>0</td>\n",
       "      <td>0</td>\n",
       "      <td>0</td>\n",
       "      <td>0</td>\n",
       "      <td>0</td>\n",
       "    </tr>\n",
       "    <tr>\n",
       "      <th>3</th>\n",
       "      <td>4</td>\n",
       "      <td>0</td>\n",
       "      <td>0</td>\n",
       "      <td>0</td>\n",
       "      <td>0</td>\n",
       "      <td>0</td>\n",
       "      <td>0</td>\n",
       "      <td>0</td>\n",
       "      <td>0</td>\n",
       "      <td>0</td>\n",
       "      <td>...</td>\n",
       "      <td>0</td>\n",
       "      <td>0</td>\n",
       "      <td>0</td>\n",
       "      <td>0</td>\n",
       "      <td>0</td>\n",
       "      <td>0</td>\n",
       "      <td>0</td>\n",
       "      <td>0</td>\n",
       "      <td>0</td>\n",
       "      <td>0</td>\n",
       "    </tr>\n",
       "    <tr>\n",
       "      <th>4</th>\n",
       "      <td>0</td>\n",
       "      <td>0</td>\n",
       "      <td>0</td>\n",
       "      <td>0</td>\n",
       "      <td>0</td>\n",
       "      <td>0</td>\n",
       "      <td>0</td>\n",
       "      <td>0</td>\n",
       "      <td>0</td>\n",
       "      <td>0</td>\n",
       "      <td>...</td>\n",
       "      <td>0</td>\n",
       "      <td>0</td>\n",
       "      <td>0</td>\n",
       "      <td>0</td>\n",
       "      <td>0</td>\n",
       "      <td>0</td>\n",
       "      <td>0</td>\n",
       "      <td>0</td>\n",
       "      <td>0</td>\n",
       "      <td>0</td>\n",
       "    </tr>\n",
       "    <tr>\n",
       "      <th>...</th>\n",
       "      <td>...</td>\n",
       "      <td>...</td>\n",
       "      <td>...</td>\n",
       "      <td>...</td>\n",
       "      <td>...</td>\n",
       "      <td>...</td>\n",
       "      <td>...</td>\n",
       "      <td>...</td>\n",
       "      <td>...</td>\n",
       "      <td>...</td>\n",
       "      <td>...</td>\n",
       "      <td>...</td>\n",
       "      <td>...</td>\n",
       "      <td>...</td>\n",
       "      <td>...</td>\n",
       "      <td>...</td>\n",
       "      <td>...</td>\n",
       "      <td>...</td>\n",
       "      <td>...</td>\n",
       "      <td>...</td>\n",
       "      <td>...</td>\n",
       "    </tr>\n",
       "    <tr>\n",
       "      <th>41995</th>\n",
       "      <td>0</td>\n",
       "      <td>0</td>\n",
       "      <td>0</td>\n",
       "      <td>0</td>\n",
       "      <td>0</td>\n",
       "      <td>0</td>\n",
       "      <td>0</td>\n",
       "      <td>0</td>\n",
       "      <td>0</td>\n",
       "      <td>0</td>\n",
       "      <td>...</td>\n",
       "      <td>0</td>\n",
       "      <td>0</td>\n",
       "      <td>0</td>\n",
       "      <td>0</td>\n",
       "      <td>0</td>\n",
       "      <td>0</td>\n",
       "      <td>0</td>\n",
       "      <td>0</td>\n",
       "      <td>0</td>\n",
       "      <td>0</td>\n",
       "    </tr>\n",
       "    <tr>\n",
       "      <th>41996</th>\n",
       "      <td>1</td>\n",
       "      <td>0</td>\n",
       "      <td>0</td>\n",
       "      <td>0</td>\n",
       "      <td>0</td>\n",
       "      <td>0</td>\n",
       "      <td>0</td>\n",
       "      <td>0</td>\n",
       "      <td>0</td>\n",
       "      <td>0</td>\n",
       "      <td>...</td>\n",
       "      <td>0</td>\n",
       "      <td>0</td>\n",
       "      <td>0</td>\n",
       "      <td>0</td>\n",
       "      <td>0</td>\n",
       "      <td>0</td>\n",
       "      <td>0</td>\n",
       "      <td>0</td>\n",
       "      <td>0</td>\n",
       "      <td>0</td>\n",
       "    </tr>\n",
       "    <tr>\n",
       "      <th>41997</th>\n",
       "      <td>7</td>\n",
       "      <td>0</td>\n",
       "      <td>0</td>\n",
       "      <td>0</td>\n",
       "      <td>0</td>\n",
       "      <td>0</td>\n",
       "      <td>0</td>\n",
       "      <td>0</td>\n",
       "      <td>0</td>\n",
       "      <td>0</td>\n",
       "      <td>...</td>\n",
       "      <td>0</td>\n",
       "      <td>0</td>\n",
       "      <td>0</td>\n",
       "      <td>0</td>\n",
       "      <td>0</td>\n",
       "      <td>0</td>\n",
       "      <td>0</td>\n",
       "      <td>0</td>\n",
       "      <td>0</td>\n",
       "      <td>0</td>\n",
       "    </tr>\n",
       "    <tr>\n",
       "      <th>41998</th>\n",
       "      <td>6</td>\n",
       "      <td>0</td>\n",
       "      <td>0</td>\n",
       "      <td>0</td>\n",
       "      <td>0</td>\n",
       "      <td>0</td>\n",
       "      <td>0</td>\n",
       "      <td>0</td>\n",
       "      <td>0</td>\n",
       "      <td>0</td>\n",
       "      <td>...</td>\n",
       "      <td>0</td>\n",
       "      <td>0</td>\n",
       "      <td>0</td>\n",
       "      <td>0</td>\n",
       "      <td>0</td>\n",
       "      <td>0</td>\n",
       "      <td>0</td>\n",
       "      <td>0</td>\n",
       "      <td>0</td>\n",
       "      <td>0</td>\n",
       "    </tr>\n",
       "    <tr>\n",
       "      <th>41999</th>\n",
       "      <td>9</td>\n",
       "      <td>0</td>\n",
       "      <td>0</td>\n",
       "      <td>0</td>\n",
       "      <td>0</td>\n",
       "      <td>0</td>\n",
       "      <td>0</td>\n",
       "      <td>0</td>\n",
       "      <td>0</td>\n",
       "      <td>0</td>\n",
       "      <td>...</td>\n",
       "      <td>0</td>\n",
       "      <td>0</td>\n",
       "      <td>0</td>\n",
       "      <td>0</td>\n",
       "      <td>0</td>\n",
       "      <td>0</td>\n",
       "      <td>0</td>\n",
       "      <td>0</td>\n",
       "      <td>0</td>\n",
       "      <td>0</td>\n",
       "    </tr>\n",
       "  </tbody>\n",
       "</table>\n",
       "<p>42000 rows × 785 columns</p>\n",
       "</div>"
      ],
      "text/plain": [
       "       label  pixel0  pixel1  pixel2  pixel3  pixel4  pixel5  pixel6  pixel7  \\\n",
       "0          1       0       0       0       0       0       0       0       0   \n",
       "1          0       0       0       0       0       0       0       0       0   \n",
       "2          1       0       0       0       0       0       0       0       0   \n",
       "3          4       0       0       0       0       0       0       0       0   \n",
       "4          0       0       0       0       0       0       0       0       0   \n",
       "...      ...     ...     ...     ...     ...     ...     ...     ...     ...   \n",
       "41995      0       0       0       0       0       0       0       0       0   \n",
       "41996      1       0       0       0       0       0       0       0       0   \n",
       "41997      7       0       0       0       0       0       0       0       0   \n",
       "41998      6       0       0       0       0       0       0       0       0   \n",
       "41999      9       0       0       0       0       0       0       0       0   \n",
       "\n",
       "       pixel8  ...  pixel774  pixel775  pixel776  pixel777  pixel778  \\\n",
       "0           0  ...         0         0         0         0         0   \n",
       "1           0  ...         0         0         0         0         0   \n",
       "2           0  ...         0         0         0         0         0   \n",
       "3           0  ...         0         0         0         0         0   \n",
       "4           0  ...         0         0         0         0         0   \n",
       "...       ...  ...       ...       ...       ...       ...       ...   \n",
       "41995       0  ...         0         0         0         0         0   \n",
       "41996       0  ...         0         0         0         0         0   \n",
       "41997       0  ...         0         0         0         0         0   \n",
       "41998       0  ...         0         0         0         0         0   \n",
       "41999       0  ...         0         0         0         0         0   \n",
       "\n",
       "       pixel779  pixel780  pixel781  pixel782  pixel783  \n",
       "0             0         0         0         0         0  \n",
       "1             0         0         0         0         0  \n",
       "2             0         0         0         0         0  \n",
       "3             0         0         0         0         0  \n",
       "4             0         0         0         0         0  \n",
       "...         ...       ...       ...       ...       ...  \n",
       "41995         0         0         0         0         0  \n",
       "41996         0         0         0         0         0  \n",
       "41997         0         0         0         0         0  \n",
       "41998         0         0         0         0         0  \n",
       "41999         0         0         0         0         0  \n",
       "\n",
       "[42000 rows x 785 columns]"
      ]
     },
     "execution_count": 2,
     "metadata": {},
     "output_type": "execute_result"
    }
   ],
   "source": [
    "# read traim\n",
    "train = pd.read_csv(\"/kaggle/input/digit-recognizer/train.csv\")\n",
    "print(train.shape)\n",
    "train"
   ]
  },
  {
   "cell_type": "code",
   "execution_count": 3,
   "id": "37793d9c",
   "metadata": {
    "execution": {
     "iopub.execute_input": "2022-08-25T18:38:32.282885Z",
     "iopub.status.busy": "2022-08-25T18:38:32.282510Z",
     "iopub.status.idle": "2022-08-25T18:38:33.837078Z",
     "shell.execute_reply": "2022-08-25T18:38:33.836079Z"
    },
    "papermill": {
     "duration": 1.566896,
     "end_time": "2022-08-25T18:38:33.839143",
     "exception": false,
     "start_time": "2022-08-25T18:38:32.272247",
     "status": "completed"
    },
    "tags": []
   },
   "outputs": [
    {
     "name": "stdout",
     "output_type": "stream",
     "text": [
      "(28000, 784)\n"
     ]
    },
    {
     "data": {
      "text/html": [
       "<div>\n",
       "<style scoped>\n",
       "    .dataframe tbody tr th:only-of-type {\n",
       "        vertical-align: middle;\n",
       "    }\n",
       "\n",
       "    .dataframe tbody tr th {\n",
       "        vertical-align: top;\n",
       "    }\n",
       "\n",
       "    .dataframe thead th {\n",
       "        text-align: right;\n",
       "    }\n",
       "</style>\n",
       "<table border=\"1\" class=\"dataframe\">\n",
       "  <thead>\n",
       "    <tr style=\"text-align: right;\">\n",
       "      <th></th>\n",
       "      <th>pixel0</th>\n",
       "      <th>pixel1</th>\n",
       "      <th>pixel2</th>\n",
       "      <th>pixel3</th>\n",
       "      <th>pixel4</th>\n",
       "      <th>pixel5</th>\n",
       "      <th>pixel6</th>\n",
       "      <th>pixel7</th>\n",
       "      <th>pixel8</th>\n",
       "      <th>pixel9</th>\n",
       "      <th>...</th>\n",
       "      <th>pixel774</th>\n",
       "      <th>pixel775</th>\n",
       "      <th>pixel776</th>\n",
       "      <th>pixel777</th>\n",
       "      <th>pixel778</th>\n",
       "      <th>pixel779</th>\n",
       "      <th>pixel780</th>\n",
       "      <th>pixel781</th>\n",
       "      <th>pixel782</th>\n",
       "      <th>pixel783</th>\n",
       "    </tr>\n",
       "  </thead>\n",
       "  <tbody>\n",
       "    <tr>\n",
       "      <th>0</th>\n",
       "      <td>0</td>\n",
       "      <td>0</td>\n",
       "      <td>0</td>\n",
       "      <td>0</td>\n",
       "      <td>0</td>\n",
       "      <td>0</td>\n",
       "      <td>0</td>\n",
       "      <td>0</td>\n",
       "      <td>0</td>\n",
       "      <td>0</td>\n",
       "      <td>...</td>\n",
       "      <td>0</td>\n",
       "      <td>0</td>\n",
       "      <td>0</td>\n",
       "      <td>0</td>\n",
       "      <td>0</td>\n",
       "      <td>0</td>\n",
       "      <td>0</td>\n",
       "      <td>0</td>\n",
       "      <td>0</td>\n",
       "      <td>0</td>\n",
       "    </tr>\n",
       "    <tr>\n",
       "      <th>1</th>\n",
       "      <td>0</td>\n",
       "      <td>0</td>\n",
       "      <td>0</td>\n",
       "      <td>0</td>\n",
       "      <td>0</td>\n",
       "      <td>0</td>\n",
       "      <td>0</td>\n",
       "      <td>0</td>\n",
       "      <td>0</td>\n",
       "      <td>0</td>\n",
       "      <td>...</td>\n",
       "      <td>0</td>\n",
       "      <td>0</td>\n",
       "      <td>0</td>\n",
       "      <td>0</td>\n",
       "      <td>0</td>\n",
       "      <td>0</td>\n",
       "      <td>0</td>\n",
       "      <td>0</td>\n",
       "      <td>0</td>\n",
       "      <td>0</td>\n",
       "    </tr>\n",
       "    <tr>\n",
       "      <th>2</th>\n",
       "      <td>0</td>\n",
       "      <td>0</td>\n",
       "      <td>0</td>\n",
       "      <td>0</td>\n",
       "      <td>0</td>\n",
       "      <td>0</td>\n",
       "      <td>0</td>\n",
       "      <td>0</td>\n",
       "      <td>0</td>\n",
       "      <td>0</td>\n",
       "      <td>...</td>\n",
       "      <td>0</td>\n",
       "      <td>0</td>\n",
       "      <td>0</td>\n",
       "      <td>0</td>\n",
       "      <td>0</td>\n",
       "      <td>0</td>\n",
       "      <td>0</td>\n",
       "      <td>0</td>\n",
       "      <td>0</td>\n",
       "      <td>0</td>\n",
       "    </tr>\n",
       "    <tr>\n",
       "      <th>3</th>\n",
       "      <td>0</td>\n",
       "      <td>0</td>\n",
       "      <td>0</td>\n",
       "      <td>0</td>\n",
       "      <td>0</td>\n",
       "      <td>0</td>\n",
       "      <td>0</td>\n",
       "      <td>0</td>\n",
       "      <td>0</td>\n",
       "      <td>0</td>\n",
       "      <td>...</td>\n",
       "      <td>0</td>\n",
       "      <td>0</td>\n",
       "      <td>0</td>\n",
       "      <td>0</td>\n",
       "      <td>0</td>\n",
       "      <td>0</td>\n",
       "      <td>0</td>\n",
       "      <td>0</td>\n",
       "      <td>0</td>\n",
       "      <td>0</td>\n",
       "    </tr>\n",
       "    <tr>\n",
       "      <th>4</th>\n",
       "      <td>0</td>\n",
       "      <td>0</td>\n",
       "      <td>0</td>\n",
       "      <td>0</td>\n",
       "      <td>0</td>\n",
       "      <td>0</td>\n",
       "      <td>0</td>\n",
       "      <td>0</td>\n",
       "      <td>0</td>\n",
       "      <td>0</td>\n",
       "      <td>...</td>\n",
       "      <td>0</td>\n",
       "      <td>0</td>\n",
       "      <td>0</td>\n",
       "      <td>0</td>\n",
       "      <td>0</td>\n",
       "      <td>0</td>\n",
       "      <td>0</td>\n",
       "      <td>0</td>\n",
       "      <td>0</td>\n",
       "      <td>0</td>\n",
       "    </tr>\n",
       "    <tr>\n",
       "      <th>...</th>\n",
       "      <td>...</td>\n",
       "      <td>...</td>\n",
       "      <td>...</td>\n",
       "      <td>...</td>\n",
       "      <td>...</td>\n",
       "      <td>...</td>\n",
       "      <td>...</td>\n",
       "      <td>...</td>\n",
       "      <td>...</td>\n",
       "      <td>...</td>\n",
       "      <td>...</td>\n",
       "      <td>...</td>\n",
       "      <td>...</td>\n",
       "      <td>...</td>\n",
       "      <td>...</td>\n",
       "      <td>...</td>\n",
       "      <td>...</td>\n",
       "      <td>...</td>\n",
       "      <td>...</td>\n",
       "      <td>...</td>\n",
       "      <td>...</td>\n",
       "    </tr>\n",
       "    <tr>\n",
       "      <th>27995</th>\n",
       "      <td>0</td>\n",
       "      <td>0</td>\n",
       "      <td>0</td>\n",
       "      <td>0</td>\n",
       "      <td>0</td>\n",
       "      <td>0</td>\n",
       "      <td>0</td>\n",
       "      <td>0</td>\n",
       "      <td>0</td>\n",
       "      <td>0</td>\n",
       "      <td>...</td>\n",
       "      <td>0</td>\n",
       "      <td>0</td>\n",
       "      <td>0</td>\n",
       "      <td>0</td>\n",
       "      <td>0</td>\n",
       "      <td>0</td>\n",
       "      <td>0</td>\n",
       "      <td>0</td>\n",
       "      <td>0</td>\n",
       "      <td>0</td>\n",
       "    </tr>\n",
       "    <tr>\n",
       "      <th>27996</th>\n",
       "      <td>0</td>\n",
       "      <td>0</td>\n",
       "      <td>0</td>\n",
       "      <td>0</td>\n",
       "      <td>0</td>\n",
       "      <td>0</td>\n",
       "      <td>0</td>\n",
       "      <td>0</td>\n",
       "      <td>0</td>\n",
       "      <td>0</td>\n",
       "      <td>...</td>\n",
       "      <td>0</td>\n",
       "      <td>0</td>\n",
       "      <td>0</td>\n",
       "      <td>0</td>\n",
       "      <td>0</td>\n",
       "      <td>0</td>\n",
       "      <td>0</td>\n",
       "      <td>0</td>\n",
       "      <td>0</td>\n",
       "      <td>0</td>\n",
       "    </tr>\n",
       "    <tr>\n",
       "      <th>27997</th>\n",
       "      <td>0</td>\n",
       "      <td>0</td>\n",
       "      <td>0</td>\n",
       "      <td>0</td>\n",
       "      <td>0</td>\n",
       "      <td>0</td>\n",
       "      <td>0</td>\n",
       "      <td>0</td>\n",
       "      <td>0</td>\n",
       "      <td>0</td>\n",
       "      <td>...</td>\n",
       "      <td>0</td>\n",
       "      <td>0</td>\n",
       "      <td>0</td>\n",
       "      <td>0</td>\n",
       "      <td>0</td>\n",
       "      <td>0</td>\n",
       "      <td>0</td>\n",
       "      <td>0</td>\n",
       "      <td>0</td>\n",
       "      <td>0</td>\n",
       "    </tr>\n",
       "    <tr>\n",
       "      <th>27998</th>\n",
       "      <td>0</td>\n",
       "      <td>0</td>\n",
       "      <td>0</td>\n",
       "      <td>0</td>\n",
       "      <td>0</td>\n",
       "      <td>0</td>\n",
       "      <td>0</td>\n",
       "      <td>0</td>\n",
       "      <td>0</td>\n",
       "      <td>0</td>\n",
       "      <td>...</td>\n",
       "      <td>0</td>\n",
       "      <td>0</td>\n",
       "      <td>0</td>\n",
       "      <td>0</td>\n",
       "      <td>0</td>\n",
       "      <td>0</td>\n",
       "      <td>0</td>\n",
       "      <td>0</td>\n",
       "      <td>0</td>\n",
       "      <td>0</td>\n",
       "    </tr>\n",
       "    <tr>\n",
       "      <th>27999</th>\n",
       "      <td>0</td>\n",
       "      <td>0</td>\n",
       "      <td>0</td>\n",
       "      <td>0</td>\n",
       "      <td>0</td>\n",
       "      <td>0</td>\n",
       "      <td>0</td>\n",
       "      <td>0</td>\n",
       "      <td>0</td>\n",
       "      <td>0</td>\n",
       "      <td>...</td>\n",
       "      <td>0</td>\n",
       "      <td>0</td>\n",
       "      <td>0</td>\n",
       "      <td>0</td>\n",
       "      <td>0</td>\n",
       "      <td>0</td>\n",
       "      <td>0</td>\n",
       "      <td>0</td>\n",
       "      <td>0</td>\n",
       "      <td>0</td>\n",
       "    </tr>\n",
       "  </tbody>\n",
       "</table>\n",
       "<p>28000 rows × 784 columns</p>\n",
       "</div>"
      ],
      "text/plain": [
       "       pixel0  pixel1  pixel2  pixel3  pixel4  pixel5  pixel6  pixel7  pixel8  \\\n",
       "0           0       0       0       0       0       0       0       0       0   \n",
       "1           0       0       0       0       0       0       0       0       0   \n",
       "2           0       0       0       0       0       0       0       0       0   \n",
       "3           0       0       0       0       0       0       0       0       0   \n",
       "4           0       0       0       0       0       0       0       0       0   \n",
       "...       ...     ...     ...     ...     ...     ...     ...     ...     ...   \n",
       "27995       0       0       0       0       0       0       0       0       0   \n",
       "27996       0       0       0       0       0       0       0       0       0   \n",
       "27997       0       0       0       0       0       0       0       0       0   \n",
       "27998       0       0       0       0       0       0       0       0       0   \n",
       "27999       0       0       0       0       0       0       0       0       0   \n",
       "\n",
       "       pixel9  ...  pixel774  pixel775  pixel776  pixel777  pixel778  \\\n",
       "0           0  ...         0         0         0         0         0   \n",
       "1           0  ...         0         0         0         0         0   \n",
       "2           0  ...         0         0         0         0         0   \n",
       "3           0  ...         0         0         0         0         0   \n",
       "4           0  ...         0         0         0         0         0   \n",
       "...       ...  ...       ...       ...       ...       ...       ...   \n",
       "27995       0  ...         0         0         0         0         0   \n",
       "27996       0  ...         0         0         0         0         0   \n",
       "27997       0  ...         0         0         0         0         0   \n",
       "27998       0  ...         0         0         0         0         0   \n",
       "27999       0  ...         0         0         0         0         0   \n",
       "\n",
       "       pixel779  pixel780  pixel781  pixel782  pixel783  \n",
       "0             0         0         0         0         0  \n",
       "1             0         0         0         0         0  \n",
       "2             0         0         0         0         0  \n",
       "3             0         0         0         0         0  \n",
       "4             0         0         0         0         0  \n",
       "...         ...       ...       ...       ...       ...  \n",
       "27995         0         0         0         0         0  \n",
       "27996         0         0         0         0         0  \n",
       "27997         0         0         0         0         0  \n",
       "27998         0         0         0         0         0  \n",
       "27999         0         0         0         0         0  \n",
       "\n",
       "[28000 rows x 784 columns]"
      ]
     },
     "execution_count": 3,
     "metadata": {},
     "output_type": "execute_result"
    }
   ],
   "source": [
    "# read test\n",
    "test = pd.read_csv(\"/kaggle/input/digit-recognizer/test.csv\")\n",
    "print(test.shape)\n",
    "test"
   ]
  },
  {
   "cell_type": "markdown",
   "id": "3ac6531e",
   "metadata": {
    "papermill": {
     "duration": 0.010949,
     "end_time": "2022-08-25T18:38:33.860208",
     "exception": false,
     "start_time": "2022-08-25T18:38:33.849259",
     "status": "completed"
    },
    "tags": []
   },
   "source": [
    "I specify X_train and Y_train from the train dataset."
   ]
  },
  {
   "cell_type": "code",
   "execution_count": 4,
   "id": "97d83183",
   "metadata": {
    "execution": {
     "iopub.execute_input": "2022-08-25T18:38:33.881300Z",
     "iopub.status.busy": "2022-08-25T18:38:33.880911Z",
     "iopub.status.idle": "2022-08-25T18:38:33.936727Z",
     "shell.execute_reply": "2022-08-25T18:38:33.935669Z"
    },
    "papermill": {
     "duration": 0.069009,
     "end_time": "2022-08-25T18:38:33.939121",
     "exception": false,
     "start_time": "2022-08-25T18:38:33.870112",
     "status": "completed"
    },
    "tags": []
   },
   "outputs": [],
   "source": [
    "Y_train = train[\"label\"]\n",
    "\n",
    "X_train = train.drop(labels = [\"label\"], axis = 1)"
   ]
  },
  {
   "cell_type": "markdown",
   "id": "aeb3a911",
   "metadata": {
    "papermill": {
     "duration": 0.009303,
     "end_time": "2022-08-25T18:38:33.957927",
     "exception": false,
     "start_time": "2022-08-25T18:38:33.948624",
     "status": "completed"
    },
    "tags": []
   },
   "source": [
    "I visualize the label column of data from the train dataset."
   ]
  },
  {
   "cell_type": "code",
   "execution_count": 5,
   "id": "09151482",
   "metadata": {
    "execution": {
     "iopub.execute_input": "2022-08-25T18:38:33.978523Z",
     "iopub.status.busy": "2022-08-25T18:38:33.978165Z",
     "iopub.status.idle": "2022-08-25T18:38:34.187797Z",
     "shell.execute_reply": "2022-08-25T18:38:34.186712Z"
    },
    "papermill": {
     "duration": 0.223076,
     "end_time": "2022-08-25T18:38:34.190326",
     "exception": false,
     "start_time": "2022-08-25T18:38:33.967250",
     "status": "completed"
    },
    "tags": []
   },
   "outputs": [
    {
     "data": {
      "text/plain": [
       "1    4684\n",
       "7    4401\n",
       "3    4351\n",
       "9    4188\n",
       "2    4177\n",
       "6    4137\n",
       "0    4132\n",
       "4    4072\n",
       "8    4063\n",
       "5    3795\n",
       "Name: label, dtype: int64"
      ]
     },
     "execution_count": 5,
     "metadata": {},
     "output_type": "execute_result"
    },
    {
     "data": {
      "image/png": "[encoded data removed]",
      "text/plain": [
       "<Figure size 1080x504 with 1 Axes>"
      ]
     },
     "metadata": {
      "needs_background": "light"
     },
     "output_type": "display_data"
    }
   ],
   "source": [
    "# visualize\n",
    "plt.figure(figsize = (15,7))\n",
    "sns.countplot(Y_train, palette = \"icefire\")\n",
    "plt.title(\"Number of digit classes\")\n",
    "Y_train.value_counts()"
   ]
  },
  {
   "cell_type": "markdown",
   "id": "5df230de",
   "metadata": {
    "papermill": {
     "duration": 0.009743,
     "end_time": "2022-08-25T18:38:34.210343",
     "exception": false,
     "start_time": "2022-08-25T18:38:34.200600",
     "status": "completed"
    },
    "tags": []
   },
   "source": [
    "I visualize an image in the X_train dataset."
   ]
  },
  {
   "cell_type": "code",
   "execution_count": 6,
   "id": "ec0e6e7f",
   "metadata": {
    "execution": {
     "iopub.execute_input": "2022-08-25T18:38:34.231427Z",
     "iopub.status.busy": "2022-08-25T18:38:34.230775Z",
     "iopub.status.idle": "2022-08-25T18:38:34.296032Z",
     "shell.execute_reply": "2022-08-25T18:38:34.294714Z"
    },
    "papermill": {
     "duration": 0.078573,
     "end_time": "2022-08-25T18:38:34.298531",
     "exception": false,
     "start_time": "2022-08-25T18:38:34.219958",
     "status": "completed"
    },
    "tags": []
   },
   "outputs": [
    {
     "data": {
      "image/png": "[encoded data removed]",
      "text/plain": [
       "<Figure size 432x288 with 1 Axes>"
      ]
     },
     "metadata": {
      "needs_background": "light"
     },
     "output_type": "display_data"
    }
   ],
   "source": [
    "# plot some sample\n",
    "img = X_train.iloc[0].to_numpy()\n",
    "img = img.reshape((28,28))\n",
    "plt.imshow(img, cmap = \"gray\")\n",
    "plt.title(train.iloc[0,0])\n",
    "plt.axis(\"off\")\n",
    "plt.show()"
   ]
  },
  {
   "cell_type": "markdown",
   "id": "1a9f660a",
   "metadata": {
    "papermill": {
     "duration": 0.014455,
     "end_time": "2022-08-25T18:38:34.326335",
     "exception": false,
     "start_time": "2022-08-25T18:38:34.311880",
     "status": "completed"
    },
    "tags": []
   },
   "source": [
    "I visualize an image in the X_train dataset."
   ]
  },
  {
   "cell_type": "code",
   "execution_count": 7,
   "id": "59b46900",
   "metadata": {
    "execution": {
     "iopub.execute_input": "2022-08-25T18:38:34.357582Z",
     "iopub.status.busy": "2022-08-25T18:38:34.356738Z",
     "iopub.status.idle": "2022-08-25T18:38:34.420416Z",
     "shell.execute_reply": "2022-08-25T18:38:34.419249Z"
    },
    "papermill": {
     "duration": 0.082083,
     "end_time": "2022-08-25T18:38:34.423067",
     "exception": false,
     "start_time": "2022-08-25T18:38:34.340984",
     "status": "completed"
    },
    "tags": []
   },
   "outputs": [
    {
     "data": {
      "image/png": "[encoded data removed]",
      "text/plain": [
       "<Figure size 432x288 with 1 Axes>"
      ]
     },
     "metadata": {
      "needs_background": "light"
     },
     "output_type": "display_data"
    }
   ],
   "source": [
    "img = X_train.iloc[3].to_numpy()\n",
    "img = img.reshape((28,28))\n",
    "plt.imshow(img, cmap = \"gray\")\n",
    "plt.title(train.iloc[3,0])\n",
    "plt.axis(\"off\")\n",
    "plt.show()"
   ]
  },
  {
   "cell_type": "markdown",
   "id": "676482f0",
   "metadata": {
    "papermill": {
     "duration": 0.013306,
     "end_time": "2022-08-25T18:38:34.449942",
     "exception": false,
     "start_time": "2022-08-25T18:38:34.436636",
     "status": "completed"
    },
    "tags": []
   },
   "source": [
    "# Prepare The Dataset <a id = \"2\"></a>\n",
    "[Go Content](#cont) <br>\n",
    "In this chapter, I will prepare the dataset for the CNN model."
   ]
  },
  {
   "cell_type": "markdown",
   "id": "619bbcdf",
   "metadata": {
    "papermill": {
     "duration": 0.013027,
     "end_time": "2022-08-25T18:38:34.476325",
     "exception": false,
     "start_time": "2022-08-25T18:38:34.463298",
     "status": "completed"
    },
    "tags": []
   },
   "source": [
    "## Normalization <a id = \"ptd1\"></a>\n",
    "[Go Content](#cont) <br>\n",
    "In this chapter, I normalize the X_train and the test datasets."
   ]
  },
  {
   "cell_type": "code",
   "execution_count": 8,
   "id": "fa28fb53",
   "metadata": {
    "execution": {
     "iopub.execute_input": "2022-08-25T18:38:34.503332Z",
     "iopub.status.busy": "2022-08-25T18:38:34.502979Z",
     "iopub.status.idle": "2022-08-25T18:38:34.573145Z",
     "shell.execute_reply": "2022-08-25T18:38:34.571355Z"
    },
    "papermill": {
     "duration": 0.086506,
     "end_time": "2022-08-25T18:38:34.576025",
     "exception": false,
     "start_time": "2022-08-25T18:38:34.489519",
     "status": "completed"
    },
    "tags": []
   },
   "outputs": [
    {
     "name": "stdout",
     "output_type": "stream",
     "text": [
      "X_train shape (42000, 784)\n",
      "test shape (28000, 784)\n"
     ]
    }
   ],
   "source": [
    "# Normalization\n",
    "X_train = X_train / 255.0\n",
    "test = test / 255.0\n",
    "print(\"X_train shape\", X_train.shape)\n",
    "print(\"test shape\", test.shape)"
   ]
  },
  {
   "cell_type": "code",
   "execution_count": 9,
   "id": "c500cf22",
   "metadata": {
    "execution": {
     "iopub.execute_input": "2022-08-25T18:38:34.597635Z",
     "iopub.status.busy": "2022-08-25T18:38:34.597267Z",
     "iopub.status.idle": "2022-08-25T18:38:34.603276Z",
     "shell.execute_reply": "2022-08-25T18:38:34.602159Z"
    },
    "papermill": {
     "duration": 0.019001,
     "end_time": "2022-08-25T18:38:34.605201",
     "exception": false,
     "start_time": "2022-08-25T18:38:34.586200",
     "status": "completed"
    },
    "tags": []
   },
   "outputs": [
    {
     "name": "stdout",
     "output_type": "stream",
     "text": [
      "x_train shape:  (42000, 28, 28, 1)\n",
      "test shape:  (28000, 28, 28, 1)\n"
     ]
    }
   ],
   "source": [
    "X_train = X_train.values.reshape(-1,28,28,1)\n",
    "test = test.values.reshape(-1,28,28,1)\n",
    "print(\"x_train shape: \", X_train.shape)\n",
    "print(\"test shape: \", test.shape)"
   ]
  },
  {
   "cell_type": "markdown",
   "id": "fcc69957",
   "metadata": {
    "papermill": {
     "duration": 0.010264,
     "end_time": "2022-08-25T18:38:34.625556",
     "exception": false,
     "start_time": "2022-08-25T18:38:34.615292",
     "status": "completed"
    },
    "tags": []
   },
   "source": [
    "to_categorical : Converts a class vector (integers) to binary class matrix. <br>\n",
    "I convert the Y_train to a binary class matrix with to_categorical."
   ]
  },
  {
   "cell_type": "code",
   "execution_count": 10,
   "id": "105e2cf4",
   "metadata": {
    "execution": {
     "iopub.execute_input": "2022-08-25T18:38:34.648020Z",
     "iopub.status.busy": "2022-08-25T18:38:34.646694Z",
     "iopub.status.idle": "2022-08-25T18:38:40.755263Z",
     "shell.execute_reply": "2022-08-25T18:38:40.754225Z"
    },
    "papermill": {
     "duration": 6.122269,
     "end_time": "2022-08-25T18:38:40.757740",
     "exception": false,
     "start_time": "2022-08-25T18:38:34.635471",
     "status": "completed"
    },
    "tags": []
   },
   "outputs": [],
   "source": [
    "# label encoding\n",
    "from keras.utils.np_utils import to_categorical\n",
    "Y_train = to_categorical(Y_train, num_classes = 10)"
   ]
  },
  {
   "cell_type": "code",
   "execution_count": null,
   "id": "36cb2d81",
   "metadata": {
    "execution": {
     "iopub.execute_input": "2022-08-24T14:19:44.562492Z",
     "iopub.status.busy": "2022-08-24T14:19:44.562007Z",
     "iopub.status.idle": "2022-08-24T14:19:44.568957Z",
     "shell.execute_reply": "2022-08-24T14:19:44.568162Z",
     "shell.execute_reply.started": "2022-08-24T14:19:44.562452Z"
    },
    "papermill": {
     "duration": 0.010176,
     "end_time": "2022-08-25T18:38:40.778740",
     "exception": false,
     "start_time": "2022-08-25T18:38:40.768564",
     "status": "completed"
    },
    "tags": []
   },
   "outputs": [],
   "source": []
  },
  {
   "cell_type": "markdown",
   "id": "d81e1988",
   "metadata": {
    "papermill": {
     "duration": 0.009586,
     "end_time": "2022-08-25T18:38:40.798512",
     "exception": false,
     "start_time": "2022-08-25T18:38:40.788926",
     "status": "completed"
    },
    "tags": []
   },
   "source": [
    "## Train Val Split <a id = \"ptd2\"></a>\n",
    "[Go Conten](#cont) <br>\n",
    "I split the X_train and Y_train datasets into train and val."
   ]
  },
  {
   "cell_type": "code",
   "execution_count": 11,
   "id": "484db7f9",
   "metadata": {
    "execution": {
     "iopub.execute_input": "2022-08-25T18:38:40.821121Z",
     "iopub.status.busy": "2022-08-25T18:38:40.820432Z",
     "iopub.status.idle": "2022-08-25T18:38:41.238862Z",
     "shell.execute_reply": "2022-08-25T18:38:41.237780Z"
    },
    "papermill": {
     "duration": 0.432002,
     "end_time": "2022-08-25T18:38:41.240799",
     "exception": false,
     "start_time": "2022-08-25T18:38:40.808797",
     "status": "completed"
    },
    "tags": []
   },
   "outputs": [
    {
     "name": "stdout",
     "output_type": "stream",
     "text": [
      "x_train shape (37800, 28, 28, 1)\n",
      "x_val shape (4200, 28, 28, 1)\n",
      "y_train shape (37800, 10)\n",
      "y_val shape (4200, 10)\n"
     ]
    }
   ],
   "source": [
    "from sklearn.model_selection import train_test_split\n",
    "x_train, x_val, y_train, y_val = train_test_split(X_train, Y_train, test_size = 0.1, random_state = 2)\n",
    "print(\"x_train shape\",x_train.shape)\n",
    "print(\"x_val shape\",x_val.shape)\n",
    "print(\"y_train shape\",y_train.shape)\n",
    "print(\"y_val shape\",y_val.shape)"
   ]
  },
  {
   "cell_type": "markdown",
   "id": "a2d4e882",
   "metadata": {
    "papermill": {
     "duration": 0.00998,
     "end_time": "2022-08-25T18:38:41.261257",
     "exception": false,
     "start_time": "2022-08-25T18:38:41.251277",
     "status": "completed"
    },
    "tags": []
   },
   "source": [
    "I visualize an image in the x_train."
   ]
  },
  {
   "cell_type": "code",
   "execution_count": 12,
   "id": "48e57b25",
   "metadata": {
    "execution": {
     "iopub.execute_input": "2022-08-25T18:38:41.283017Z",
     "iopub.status.busy": "2022-08-25T18:38:41.282171Z",
     "iopub.status.idle": "2022-08-25T18:38:41.403183Z",
     "shell.execute_reply": "2022-08-25T18:38:41.402374Z"
    },
    "papermill": {
     "duration": 0.134028,
     "end_time": "2022-08-25T18:38:41.405267",
     "exception": false,
     "start_time": "2022-08-25T18:38:41.271239",
     "status": "completed"
    },
    "tags": []
   },
   "outputs": [
    {
     "data": {
      "image/png": "[encoded data removed]",
      "text/plain": [
       "<Figure size 432x288 with 1 Axes>"
      ]
     },
     "metadata": {
      "needs_background": "light"
     },
     "output_type": "display_data"
    }
   ],
   "source": [
    "plt.imshow(x_train[2][:,:,0], cmap = \"gray\")\n",
    "plt.show()"
   ]
  },
  {
   "cell_type": "markdown",
   "id": "890d5195",
   "metadata": {
    "papermill": {
     "duration": 0.0102,
     "end_time": "2022-08-25T18:38:41.429387",
     "exception": false,
     "start_time": "2022-08-25T18:38:41.419187",
     "status": "completed"
    },
    "tags": []
   },
   "source": [
    "# Convolutional Neural Network(CNN) <a id = \"3\"></a>\n",
    "[Go Content](#cont) <br>\n",
    "\n",
    "**What is The Convolutional Neural Network(CNN)?** <br>\n",
    "\n",
    "A Convolutional Neural Network (ConvNet/CNN) is a Deep Learning algorithm which can take in an input image, assign importance (learnable weights and biases) to various aspects/objects in the image and be able to differentiate one from the other. The pre-processing required in a ConvNet is much lower as compared to other classification algorithms. While in primitive methods filters are hand-engineered, with enough training, ConvNets have the ability to learn these filters/characteristics.\n",
    "\n",
    "The architecture of a ConvNet is analogous to that of the connectivity pattern of Neurons in the Human Brain and was inspired by the organization of the Visual Cortex. Individual neurons respond to stimuli only in a restricted region of the visual field known as the Receptive Field. A collection of such fields overlap to cover the entire visual area.\n",
    "\n",
    "The more information on Convolutional Neural Network(CNN) model for [click here](https://towardsdatascience.com/a-comprehensive-guide-to-convolutional-neural-networks-the-eli5-way-3bd2b1164a53)\n",
    "\n",
    "In this chapter, I will apply The CNN model to the dataset."
   ]
  },
  {
   "cell_type": "markdown",
   "id": "530c8112",
   "metadata": {
    "papermill": {
     "duration": 0.010058,
     "end_time": "2022-08-25T18:38:41.450159",
     "exception": false,
     "start_time": "2022-08-25T18:38:41.440101",
     "status": "completed"
    },
    "tags": []
   },
   "source": [
    "## Implementing With Keras <a id = \"cnn1\"></a>\n",
    "[Go Content](#cont) <br>\n",
    "\n",
    "In this chapter, I constitute the CNN model with Keras. <br>\n",
    "\n",
    "**What is the Keras?** <br>\n",
    "\n",
    "Keras is a high-level, deep learning API developed by Google for implementing neural networks. It is written in Python and is used to make the implementation of neural networks easy. It also supports multiple backend neural network computation. "
   ]
  },
  {
   "cell_type": "code",
   "execution_count": 13,
   "id": "765a4ec0",
   "metadata": {
    "execution": {
     "iopub.execute_input": "2022-08-25T18:38:41.474056Z",
     "iopub.status.busy": "2022-08-25T18:38:41.473426Z",
     "iopub.status.idle": "2022-08-25T18:38:42.062626Z",
     "shell.execute_reply": "2022-08-25T18:38:42.061656Z"
    },
    "papermill": {
     "duration": 0.604084,
     "end_time": "2022-08-25T18:38:42.064660",
     "exception": false,
     "start_time": "2022-08-25T18:38:41.460576",
     "status": "completed"
    },
    "tags": []
   },
   "outputs": [
    {
     "name": "stderr",
     "output_type": "stream",
     "text": [
      "2022-08-25 18:38:41.918797: I tensorflow/core/common_runtime/process_util.cc:146] Creating new thread pool with default inter op setting: 2. Tune using inter_op_parallelism_threads for best performance.\n"
     ]
    }
   ],
   "source": [
    "# İmport Library\n",
    "from sklearn.metrics import confusion_matrix\n",
    "import itertools\n",
    "\n",
    "from keras.utils.np_utils import to_categorical\n",
    "from keras.models import Sequential\n",
    "from keras.layers import Dense, Dropout, Flatten, Conv2D, MaxPool2D\n",
    "from tensorflow.keras.optimizers import RMSprop, Adam # from keras.optimizers import RMSprop,Adam\n",
    "from keras.preprocessing.image import ImageDataGenerator\n",
    "from keras.callbacks import ReduceLROnPlateau\n",
    "\n",
    "# Create Model\n",
    "model = Sequential()\n",
    "\n",
    "model.add(Conv2D(filters = 16, kernel_size = (3,3), padding = 'Same', activation = 'relu', input_shape = (28,28,1)))\n",
    "model.add(Conv2D(filters = 16, kernel_size = (3,3), activation = 'relu'))\n",
    "model.add(MaxPool2D(pool_size = (2,2)))\n",
    "model.add(Dropout(0.25))\n",
    "\n",
    "model.add(Conv2D(filters = 32, kernel_size = (3,3), padding = 'Same', activation = 'relu'))\n",
    "model.add(Conv2D(filters = 32, kernel_size = (3,3), activation = 'relu'))\n",
    "model.add(MaxPool2D(pool_size = (2,2), strides = (2,2)))\n",
    "model.add(Dropout(0.25))\n",
    "\n",
    "model.add(Conv2D(filters = 64, kernel_size = (3,3), padding = 'Same', activation = 'relu'))\n",
    "model.add(MaxPool2D(pool_size = (2,2)))\n",
    "model.add(Dropout(0.25))\n",
    "\n",
    "# fully connected\n",
    "model.add(Flatten())\n",
    "model.add(Dense(256, activation = 'relu'))\n",
    "model.add(Dropout(0.5))\n",
    "model.add(Dense(10, activation = 'softmax'))"
   ]
  },
  {
   "cell_type": "markdown",
   "id": "cb4e7e70",
   "metadata": {
    "papermill": {
     "duration": 0.010154,
     "end_time": "2022-08-25T18:38:42.086062",
     "exception": false,
     "start_time": "2022-08-25T18:38:42.075908",
     "status": "completed"
    },
    "tags": []
   },
   "source": [
    "## Define Optimizer <a id = \"cnn2\"></a>\n",
    "[Go Content](#cont) <br>\n",
    "\n",
    "I constitute the optimizer in this chapter. I determine variables such as learning rate. These variables determine our learning time and accuracy during training."
   ]
  },
  {
   "cell_type": "code",
   "execution_count": 14,
   "id": "82a9a762",
   "metadata": {
    "execution": {
     "iopub.execute_input": "2022-08-25T18:38:42.109139Z",
     "iopub.status.busy": "2022-08-25T18:38:42.108061Z",
     "iopub.status.idle": "2022-08-25T18:38:42.113461Z",
     "shell.execute_reply": "2022-08-25T18:38:42.112376Z"
    },
    "papermill": {
     "duration": 0.018741,
     "end_time": "2022-08-25T18:38:42.115188",
     "exception": false,
     "start_time": "2022-08-25T18:38:42.096447",
     "status": "completed"
    },
    "tags": []
   },
   "outputs": [],
   "source": [
    "optimizer = Adam(learning_rate = 0.001, beta_1 = 0.9, beta_2 = 0.999)"
   ]
  },
  {
   "cell_type": "markdown",
   "id": "da642d26",
   "metadata": {
    "papermill": {
     "duration": 0.009959,
     "end_time": "2022-08-25T18:38:42.136025",
     "exception": false,
     "start_time": "2022-08-25T18:38:42.126066",
     "status": "completed"
    },
    "tags": []
   },
   "source": [
    "## Compile Model <a id = \"cnn3\"></a>\n",
    "[Go Content](#cont) <br>\n",
    "\n",
    "I constitute the compile model. I use compile model because I calculate the loss."
   ]
  },
  {
   "cell_type": "code",
   "execution_count": 15,
   "id": "b25fae31",
   "metadata": {
    "execution": {
     "iopub.execute_input": "2022-08-25T18:38:42.158102Z",
     "iopub.status.busy": "2022-08-25T18:38:42.157492Z",
     "iopub.status.idle": "2022-08-25T18:38:42.169583Z",
     "shell.execute_reply": "2022-08-25T18:38:42.168884Z"
    },
    "papermill": {
     "duration": 0.025152,
     "end_time": "2022-08-25T18:38:42.171387",
     "exception": false,
     "start_time": "2022-08-25T18:38:42.146235",
     "status": "completed"
    },
    "tags": []
   },
   "outputs": [],
   "source": [
    "# compile the model\n",
    "model.compile(optimizer = optimizer, loss = \"categorical_crossentropy\", metrics = [\"accuracy\"])"
   ]
  },
  {
   "cell_type": "markdown",
   "id": "1822bb2d",
   "metadata": {
    "papermill": {
     "duration": 0.010026,
     "end_time": "2022-08-25T18:38:42.191999",
     "exception": false,
     "start_time": "2022-08-25T18:38:42.181973",
     "status": "completed"
    },
    "tags": []
   },
   "source": [
    "## Epochs And Batch Size <a id = \"cnn4\"></a>\n",
    "[Go Content](#cont) <br>\n",
    "\n",
    "- one epoch = one forward pass and one backward pass of all the training examples\n",
    "- batch size = the number of training examples in one forward/backward pass. The higher the batch size, the more memory space you'll need."
   ]
  },
  {
   "cell_type": "code",
   "execution_count": 16,
   "id": "4f67ca7d",
   "metadata": {
    "execution": {
     "iopub.execute_input": "2022-08-25T18:38:42.214082Z",
     "iopub.status.busy": "2022-08-25T18:38:42.213722Z",
     "iopub.status.idle": "2022-08-25T18:38:42.217861Z",
     "shell.execute_reply": "2022-08-25T18:38:42.216985Z"
    },
    "papermill": {
     "duration": 0.017712,
     "end_time": "2022-08-25T18:38:42.219925",
     "exception": false,
     "start_time": "2022-08-25T18:38:42.202213",
     "status": "completed"
    },
    "tags": []
   },
   "outputs": [],
   "source": [
    "epochs = 20 # Training step\n",
    "batch_size = 250 # "
   ]
  },
  {
   "cell_type": "markdown",
   "id": "ee2597ba",
   "metadata": {
    "papermill": {
     "duration": 0.010064,
     "end_time": "2022-08-25T18:38:42.240580",
     "exception": false,
     "start_time": "2022-08-25T18:38:42.230516",
     "status": "completed"
    },
    "tags": []
   },
   "source": [
    "## Data Augmentation <a id = \"cnn5\"></a>\n",
    "[Go Content](#cont) <br>\n",
    "\n",
    "In this chapter, I widen the x_train dataset with new data. I constitute new image data."
   ]
  },
  {
   "cell_type": "code",
   "execution_count": 17,
   "id": "ef6d2b2f",
   "metadata": {
    "execution": {
     "iopub.execute_input": "2022-08-25T18:38:42.262949Z",
     "iopub.status.busy": "2022-08-25T18:38:42.262547Z",
     "iopub.status.idle": "2022-08-25T18:38:42.320208Z",
     "shell.execute_reply": "2022-08-25T18:38:42.318959Z"
    },
    "papermill": {
     "duration": 0.071512,
     "end_time": "2022-08-25T18:38:42.322379",
     "exception": false,
     "start_time": "2022-08-25T18:38:42.250867",
     "status": "completed"
    },
    "tags": []
   },
   "outputs": [],
   "source": [
    "datagen = ImageDataGenerator(\n",
    "    featurewise_center = False,\n",
    "    samplewise_center = False,\n",
    "    featurewise_std_normalization = False,\n",
    "    samplewise_std_normalization = False,\n",
    "    zca_whitening = False,\n",
    "    rotation_range = 15,\n",
    "    zoom_range = 0.1,\n",
    "    width_shift_range = 0.1,\n",
    "    height_shift_range = 0.1,\n",
    "    horizontal_flip = False,\n",
    "    vertical_flip = False)\n",
    "\n",
    "datagen.fit(x_train)"
   ]
  },
  {
   "cell_type": "markdown",
   "id": "61cf9ce1",
   "metadata": {
    "papermill": {
     "duration": 0.011159,
     "end_time": "2022-08-25T18:38:42.344312",
     "exception": false,
     "start_time": "2022-08-25T18:38:42.333153",
     "status": "completed"
    },
    "tags": []
   },
   "source": [
    "## Fit The Model <a id = \"cnn6\"></a>\n",
    "[Go Content](#cont) <br>"
   ]
  },
  {
   "cell_type": "code",
   "execution_count": 18,
   "id": "cc95c1f7",
   "metadata": {
    "execution": {
     "iopub.execute_input": "2022-08-25T18:38:42.367132Z",
     "iopub.status.busy": "2022-08-25T18:38:42.366749Z",
     "iopub.status.idle": "2022-08-25T18:45:19.012172Z",
     "shell.execute_reply": "2022-08-25T18:45:19.011155Z"
    },
    "papermill": {
     "duration": 396.831153,
     "end_time": "2022-08-25T18:45:19.186291",
     "exception": false,
     "start_time": "2022-08-25T18:38:42.355138",
     "status": "completed"
    },
    "tags": []
   },
   "outputs": [
    {
     "name": "stderr",
     "output_type": "stream",
     "text": [
      "2022-08-25 18:38:42.536815: I tensorflow/compiler/mlir/mlir_graph_optimization_pass.cc:185] None of the MLIR Optimization Passes are enabled (registered 2)\n"
     ]
    },
    {
     "name": "stdout",
     "output_type": "stream",
     "text": [
      "Epoch 1/20\n",
      "151/151 [==============================] - 18s 113ms/step - loss: 1.1462 - accuracy: 0.6060 - val_loss: 0.1754 - val_accuracy: 0.9538\n",
      "Epoch 2/20\n",
      "151/151 [==============================] - 17s 112ms/step - loss: 0.4044 - accuracy: 0.8753 - val_loss: 0.1037 - val_accuracy: 0.9683\n",
      "Epoch 3/20\n",
      "151/151 [==============================] - 17s 115ms/step - loss: 0.2833 - accuracy: 0.9119 - val_loss: 0.0871 - val_accuracy: 0.9743\n",
      "Epoch 4/20\n",
      "151/151 [==============================] - 17s 112ms/step - loss: 0.2204 - accuracy: 0.9340 - val_loss: 0.0655 - val_accuracy: 0.9814\n",
      "Epoch 5/20\n",
      "151/151 [==============================] - 17s 113ms/step - loss: 0.1792 - accuracy: 0.9449 - val_loss: 0.0609 - val_accuracy: 0.9798\n",
      "Epoch 6/20\n",
      "151/151 [==============================] - 17s 116ms/step - loss: 0.1633 - accuracy: 0.9511 - val_loss: 0.0530 - val_accuracy: 0.9824\n",
      "Epoch 7/20\n",
      "151/151 [==============================] - 17s 112ms/step - loss: 0.1490 - accuracy: 0.9539 - val_loss: 0.0500 - val_accuracy: 0.9855\n",
      "Epoch 8/20\n",
      "151/151 [==============================] - 17s 112ms/step - loss: 0.1354 - accuracy: 0.9601 - val_loss: 0.0440 - val_accuracy: 0.9867\n",
      "Epoch 9/20\n",
      "151/151 [==============================] - 17s 115ms/step - loss: 0.1245 - accuracy: 0.9623 - val_loss: 0.0354 - val_accuracy: 0.9888\n",
      "Epoch 10/20\n",
      "151/151 [==============================] - 17s 111ms/step - loss: 0.1179 - accuracy: 0.9648 - val_loss: 0.0390 - val_accuracy: 0.9890\n",
      "Epoch 11/20\n",
      "151/151 [==============================] - 17s 111ms/step - loss: 0.1106 - accuracy: 0.9677 - val_loss: 0.0381 - val_accuracy: 0.9876\n",
      "Epoch 12/20\n",
      "151/151 [==============================] - 17s 114ms/step - loss: 0.1032 - accuracy: 0.9692 - val_loss: 0.0328 - val_accuracy: 0.9890\n",
      "Epoch 13/20\n",
      "151/151 [==============================] - 17s 110ms/step - loss: 0.1036 - accuracy: 0.9691 - val_loss: 0.0311 - val_accuracy: 0.9902\n",
      "Epoch 14/20\n",
      "151/151 [==============================] - 17s 111ms/step - loss: 0.0940 - accuracy: 0.9725 - val_loss: 0.0284 - val_accuracy: 0.9910\n",
      "Epoch 15/20\n",
      "151/151 [==============================] - 17s 115ms/step - loss: 0.0915 - accuracy: 0.9728 - val_loss: 0.0279 - val_accuracy: 0.9919\n",
      "Epoch 16/20\n",
      "151/151 [==============================] - 17s 113ms/step - loss: 0.0919 - accuracy: 0.9724 - val_loss: 0.0261 - val_accuracy: 0.9907\n",
      "Epoch 17/20\n",
      "151/151 [==============================] - 17s 112ms/step - loss: 0.0851 - accuracy: 0.9743 - val_loss: 0.0245 - val_accuracy: 0.9919\n",
      "Epoch 18/20\n",
      "151/151 [==============================] - 17s 114ms/step - loss: 0.0787 - accuracy: 0.9760 - val_loss: 0.0249 - val_accuracy: 0.9921\n",
      "Epoch 19/20\n",
      "151/151 [==============================] - 17s 112ms/step - loss: 0.0780 - accuracy: 0.9763 - val_loss: 0.0252 - val_accuracy: 0.9917\n",
      "Epoch 20/20\n",
      "151/151 [==============================] - 17s 111ms/step - loss: 0.0759 - accuracy: 0.9773 - val_loss: 0.0290 - val_accuracy: 0.9910\n"
     ]
    }
   ],
   "source": [
    "history = model.fit_generator(datagen.flow(x_train, y_train, batch_size = batch_size),\n",
    "                             epochs = epochs, validation_data = (x_val, y_val), steps_per_epoch = x_train.shape[0] // batch_size)"
   ]
  },
  {
   "cell_type": "markdown",
   "id": "c5080a0d",
   "metadata": {
    "papermill": {
     "duration": 0.181795,
     "end_time": "2022-08-25T18:45:19.544466",
     "exception": false,
     "start_time": "2022-08-25T18:45:19.362671",
     "status": "completed"
    },
    "tags": []
   },
   "source": [
    "## Evaluate The Model <a id = \"cnn7\"></a>\n",
    "[Go Content](#cont) <br>\n",
    "\n",
    "I visualize the results of training."
   ]
  },
  {
   "cell_type": "code",
   "execution_count": 19,
   "id": "75678405",
   "metadata": {
    "execution": {
     "iopub.execute_input": "2022-08-25T18:45:19.903528Z",
     "iopub.status.busy": "2022-08-25T18:45:19.902798Z",
     "iopub.status.idle": "2022-08-25T18:45:20.067396Z",
     "shell.execute_reply": "2022-08-25T18:45:20.066492Z"
    },
    "papermill": {
     "duration": 0.347417,
     "end_time": "2022-08-25T18:45:20.069456",
     "exception": false,
     "start_time": "2022-08-25T18:45:19.722039",
     "status": "completed"
    },
    "tags": []
   },
   "outputs": [
    {
     "data": {
      "image/png": "[encoded data removed]",
      "text/plain": [
       "<Figure size 432x288 with 1 Axes>"
      ]
     },
     "metadata": {
      "needs_background": "light"
     },
     "output_type": "display_data"
    }
   ],
   "source": [
    "plt.plot(history.history[\"val_loss\"], color = \"b\", label = \"Validation Loss\")\n",
    "plt.title(\"Test Loss\")\n",
    "plt.xlabel(\"Number of Epochs\")\n",
    "plt.ylabel(\"Loss\")\n",
    "plt.legend()\n",
    "plt.show()"
   ]
  },
  {
   "cell_type": "code",
   "execution_count": 20,
   "id": "c284d822",
   "metadata": {
    "execution": {
     "iopub.execute_input": "2022-08-25T18:45:20.425906Z",
     "iopub.status.busy": "2022-08-25T18:45:20.425237Z",
     "iopub.status.idle": "2022-08-25T18:45:21.662964Z",
     "shell.execute_reply": "2022-08-25T18:45:21.662028Z"
    },
    "papermill": {
     "duration": 1.418121,
     "end_time": "2022-08-25T18:45:21.665080",
     "exception": false,
     "start_time": "2022-08-25T18:45:20.246959",
     "status": "completed"
    },
    "tags": []
   },
   "outputs": [
    {
     "data": {
      "image/png": "[encoded data removed]",
      "text/plain": [
       "<Figure size 576x576 with 2 Axes>"
      ]
     },
     "metadata": {
      "needs_background": "light"
     },
     "output_type": "display_data"
    }
   ],
   "source": [
    "# confusion matrix\n",
    "# Predict the value from the validation dataset\n",
    "Y_pred = model.predict(x_val)\n",
    "# Convert Predictions classes to one hot vectors\n",
    "Y_pred_classes = np.argmax(Y_pred, axis = 1)\n",
    "# Convert Validation observation to one hot vectors\n",
    "Y_true = np.argmax(y_val, axis = 1)\n",
    "# Compute the confision matrix\n",
    "condision_mtrx = confusion_matrix(Y_true, Y_pred_classes)\n",
    "# plot the confusion matrix\n",
    "f,ax = plt.subplots(figsize=(8, 8))\n",
    "sns.heatmap(condision_mtrx, annot = True, linewidths = 0.01, cmap = \"Greens\", linecolor = \"gray\", fmt = \".2f\", ax = ax)\n",
    "plt.xlabel(\"Predicted Label\")\n",
    "plt.ylabel(\"True Label\")\n",
    "plt.title(\"Confusion Matrix\")\n",
    "plt.show()"
   ]
  },
  {
   "cell_type": "markdown",
   "id": "5f825ee5",
   "metadata": {
    "papermill": {
     "duration": 0.232791,
     "end_time": "2022-08-25T18:45:22.076892",
     "exception": false,
     "start_time": "2022-08-25T18:45:21.844101",
     "status": "completed"
    },
    "tags": []
   },
   "source": [
    "## Prediction The Validation And Test Datasets <a id = \"cnn8\"></a>\n",
    "[Go Content](#cont) <br>\n",
    "\n",
    "I predict the val and test dataset. I visualize the results."
   ]
  },
  {
   "cell_type": "markdown",
   "id": "f4b58c33",
   "metadata": {
    "papermill": {
     "duration": 0.177351,
     "end_time": "2022-08-25T18:45:22.433224",
     "exception": false,
     "start_time": "2022-08-25T18:45:22.255873",
     "status": "completed"
    },
    "tags": []
   },
   "source": [
    "###  Prediction validation results <a id = \"pre1\"></a>\n",
    "[Go Content](#cont)"
   ]
  },
  {
   "cell_type": "code",
   "execution_count": 21,
   "id": "059df6b7",
   "metadata": {
    "execution": {
     "iopub.execute_input": "2022-08-25T18:45:22.790985Z",
     "iopub.status.busy": "2022-08-25T18:45:22.790636Z",
     "iopub.status.idle": "2022-08-25T18:45:24.237210Z",
     "shell.execute_reply": "2022-08-25T18:45:24.235470Z"
    },
    "papermill": {
     "duration": 1.628172,
     "end_time": "2022-08-25T18:45:24.239420",
     "exception": false,
     "start_time": "2022-08-25T18:45:22.611248",
     "status": "completed"
    },
    "tags": []
   },
   "outputs": [
    {
     "data": {
      "image/png": "[encoded data removed]",
      "text/plain": [
       "<Figure size 864x1008 with 16 Axes>"
      ]
     },
     "metadata": {
      "needs_background": "light"
     },
     "output_type": "display_data"
    }
   ],
   "source": [
    "x_val_test =  x_val.reshape(x_val.shape[0], 28, 28)\n",
    "\n",
    "fig , axis = plt.subplots(4, 4, figsize = (12, 14))\n",
    "for i, ax in enumerate(axis.flat):\n",
    "    ax.imshow(x_val_test[i], cmap = 'binary')\n",
    "    ax.set(title = f\"Real Number is {y_val[i].argmax()}\\nPredict Number is {Y_pred[i].argmax()}\");"
   ]
  },
  {
   "cell_type": "markdown",
   "id": "e960b0d1",
   "metadata": {
    "papermill": {
     "duration": 0.177385,
     "end_time": "2022-08-25T18:45:24.599407",
     "exception": false,
     "start_time": "2022-08-25T18:45:24.422022",
     "status": "completed"
    },
    "tags": []
   },
   "source": [
    "### Prediciting test classes <a id = \"pre2\"></a>\n",
    "[Go Content](#cont)"
   ]
  },
  {
   "cell_type": "code",
   "execution_count": 22,
   "id": "97717821",
   "metadata": {
    "execution": {
     "iopub.execute_input": "2022-08-25T18:45:24.957348Z",
     "iopub.status.busy": "2022-08-25T18:45:24.956980Z",
     "iopub.status.idle": "2022-08-25T18:45:29.837347Z",
     "shell.execute_reply": "2022-08-25T18:45:29.835754Z"
    },
    "papermill": {
     "duration": 5.063213,
     "end_time": "2022-08-25T18:45:29.839977",
     "exception": false,
     "start_time": "2022-08-25T18:45:24.776764",
     "status": "completed"
    },
    "tags": []
   },
   "outputs": [
    {
     "data": {
      "image/png": "[encoded data removed]",
      "text/plain": [
       "<Figure size 432x288 with 1 Axes>"
      ]
     },
     "metadata": {
      "needs_background": "light"
     },
     "output_type": "display_data"
    },
    {
     "name": "stdout",
     "output_type": "stream",
     "text": [
      "Previsto : [2 0 9 ... 3 9 2]\n",
      "   ImageId  Label\n",
      "0        1      2\n",
      "1        2      0\n",
      "2        3      9\n",
      "3        4      0\n",
      "4        5      3\n",
      "5        6      7\n",
      "6        7      0\n",
      "7        8      3\n",
      "8        9      0\n",
      "9       10      3\n"
     ]
    }
   ],
   "source": [
    "y_pred_test = model.predict(test)\n",
    "y_pred_test = np.argmax(y_pred_test,axis=1)\n",
    "\n",
    "i = 5\n",
    "plt.imshow(test[i].reshape(28,28), cmap = plt.cm.binary)\n",
    "plt.show()\n",
    "print('Previsto : {}'.format(y_pred_test))\n",
    "\n",
    "result = pd.Series(y_pred_test, name = \"Label\")\n",
    "submission = pd.concat([pd.Series(range(1, len(y_pred_test)+1), name = \"ImageId\"), result], axis = 1)\n",
    "print(submission.head(10))\n",
    "submission.to_csv(\"mlp_mnist_v1.csv\", index = False)"
   ]
  },
  {
   "cell_type": "markdown",
   "id": "8f534ab0",
   "metadata": {
    "papermill": {
     "duration": 0.177636,
     "end_time": "2022-08-25T18:45:30.198786",
     "exception": false,
     "start_time": "2022-08-25T18:45:30.021150",
     "status": "completed"
    },
    "tags": []
   },
   "source": [
    "# CONCLUSION <a id = \"4\"></a>\n",
    "****\n",
    "[Go Content](#cont)\n",
    "\n",
    "I am learning the English language newly if I make an errata please advise me in the comment. Thank you for reading my notebook, your votes and your comments. I will be waiting for your advice."
   ]
  }
 ],
 "metadata": {
  "kernelspec": {
   "display_name": "Python 3",
   "language": "python",
   "name": "python3"
  },
  "language_info": {
   "codemirror_mode": {
    "name": "ipython",
    "version": 3
   },
   "file_extension": ".py",
   "mimetype": "text/x-python",
   "name": "python",
   "nbconvert_exporter": "python",
   "pygments_lexer": "ipython3",
   "version": "3.7.12"
  },
  "papermill": {
   "default_parameters": {},
   "duration": 432.464061,
   "end_time": "2022-08-25T18:45:33.019018",
   "environment_variables": {},
   "exception": null,
   "input_path": "__notebook__.ipynb",
   "output_path": "__notebook__.ipynb",
   "parameters": {},
   "start_time": "2022-08-25T18:38:20.554957",
   "version": "2.3.4"
  }
 },
 "nbformat": 4,
 "nbformat_minor": 5
}
