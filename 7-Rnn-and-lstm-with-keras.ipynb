{
 "cells": [
  {
   "cell_type": "markdown",
   "id": "8ef0d71a",
   "metadata": {
    "papermill": {
     "duration": 0.008485,
     "end_time": "2022-09-08T14:47:55.570317",
     "exception": false,
     "start_time": "2022-09-08T14:47:55.561832",
     "status": "completed"
    },
    "tags": []
   },
   "source": [
    "# Introduction\n",
    "Hello, I continue to learn from where I left off. I will apply Recurrent Neural Network(RNN) and LSTM models of Deep Learning to the dataset in this work. I will constitute RNN and LSTM models with Keras. After Training, I will visualize the results. I have finished my seventh project about Deep Learning with this work. I will share my previous projects in this section. I started this learning path with data science, then continued with machine learning and now I am improving myself on deep learning. In this learning path, I would be very happy if you would examine my notebook and help me with how to improve my notebook or what I should do in this development path. I wish you a good day and good work.\n",
    "\n",
    "[For a detailed description of the dataset, please click here](https://www.kaggle.com/datasets/medharawat/google-stock-price)\n",
    "\n",
    "My projects about Deep Learning:<br>\n",
    "- [Gender Prediction With Logistic Regression](https://www.kaggle.com/code/ihsncnkz/gender-prediction-with-logistic-regression)\n",
    "- [Cat And Dog Prediction With ANN](https://www.kaggle.com/code/ihsncnkz/cat-and-dog-prediction-with-ann)\n",
    "- [Linear Regression With Pytorch](https://www.kaggle.com/code/ihsncnkz/linear-regression-with-pytorch)\n",
    "- [My First Convolutional Neural Network(CNN) Work](https://www.kaggle.com/code/ihsncnkz/my-first-convolutional-neural-network-cnn-work)\n",
    "- [Predict With CNN Model](https://www.kaggle.com/code/ihsncnkz/predict-with-cnn-model)\n",
    "- [Logistic Regression, ANN And CNN With Pytorch](https://www.kaggle.com/code/ihsncnkz/logistic-regression-ann-and-cnn-with-pytorch)\n",
    "\n",
    "My projects about Data Science and Machine Learning:\n",
    "- [GPU Search](https://www.kaggle.com/code/ihsncnkz/gpu-search)\n",
    "- [EDA And Linear Regression](https://www.kaggle.com/code/ihsncnkz/eda-and-linear-regression)\n",
    "- [Regression Models](https://www.kaggle.com/code/ihsncnkz/regression-models)\n",
    "- [Logistic Regression](https://www.kaggle.com/code/ihsncnkz/logistic-regression)\n",
    "- [Classification With K-Nearest Neighbors(KNN)](https://www.kaggle.com/code/ihsncnkz/classification-with-k-nearest-neighbors-knn)\n",
    "- [Classification With Support Vector Machine(SVM)](https://www.kaggle.com/code/ihsncnkz/classification-with-support-vector-machine-svm)\n",
    "- [Classification With Naive Bayes Classification](https://www.kaggle.com/code/ihsncnkz/classification-with-naive-bayes-classification)\n",
    "- [Decision Tree And Random Forest Classifier Models](https://www.kaggle.com/code/ihsncnkz/decision-tree-and-random-forest-classifier-models)\n",
    "- [K-Means And Hierarchical Clustering With 3D Plotly](https://www.kaggle.com/code/ihsncnkz/k-means-and-hierarchical-clustering-with-3d-plotly)\n",
    "- [Natural Language Process(NLP) With Naive Bayes](https://www.kaggle.com/code/ihsncnkz/natural-language-process-nlp-with-naive-bayes)\n",
    "- [Recommendation System With KNN](https://www.kaggle.com/code/ihsncnkz/recommendation-system-with-knn)"
   ]
  },
  {
   "cell_type": "markdown",
   "id": "3226d647",
   "metadata": {
    "papermill": {
     "duration": 0.007383,
     "end_time": "2022-09-08T14:47:55.585330",
     "exception": false,
     "start_time": "2022-09-08T14:47:55.577947",
     "status": "completed"
    },
    "tags": []
   },
   "source": [
    "# Content <a id = \"cont\"></a>\n",
    "- [Data Review](#1)\n",
    "- [Data Prepare](#2)\n",
    "- [Create And Training RNN model](#3)\n",
    "    - [Predictions And Visualising RNN Model](#4)\n",
    "- [Long Short Term Memory(LSTM)](#5)\n",
    "    - [Create And Training LSTM Model](#6)\n",
    "    - [Predictions And Visualising LSTM Model](#7)\n",
    "- [CONCLUSION ](#8)"
   ]
  },
  {
   "cell_type": "code",
   "execution_count": 1,
   "id": "d66f8f18",
   "metadata": {
    "_cell_guid": "b1076dfc-b9ad-4769-8c92-a6c4dae69d19",
    "_uuid": "8f2839f25d086af736a60e9eeb907d3b93b6e0e5",
    "execution": {
     "iopub.execute_input": "2022-09-08T14:47:55.602459Z",
     "iopub.status.busy": "2022-09-08T14:47:55.601789Z",
     "iopub.status.idle": "2022-09-08T14:47:56.634153Z",
     "shell.execute_reply": "2022-09-08T14:47:56.631771Z"
    },
    "papermill": {
     "duration": 1.043718,
     "end_time": "2022-09-08T14:47:56.636636",
     "exception": false,
     "start_time": "2022-09-08T14:47:55.592918",
     "status": "completed"
    },
    "tags": []
   },
   "outputs": [
    {
     "name": "stdout",
     "output_type": "stream",
     "text": [
      "/kaggle/input/google-stock-price/Google_Stock_Price_Test.csv\n",
      "/kaggle/input/google-stock-price/Google_Stock_Price_Train.csv\n"
     ]
    }
   ],
   "source": [
    "# This Python 3 environment comes with many helpful analytics libraries installed\n",
    "# It is defined by the kaggle/python Docker image: https://github.com/kaggle/docker-python\n",
    "# For example, here's several helpful packages to load\n",
    "\n",
    "import numpy as np # linear algebra\n",
    "import pandas as pd # data processing, CSV file I/O (e.g. pd.read_csv)\n",
    "import matplotlib.pyplot as plt\n",
    "import seaborn as sns\n",
    "\n",
    "# Input data files are available in the read-only \"../input/\" directory\n",
    "# For example, running this (by clicking run or pressing Shift+Enter) will list all files under the input directory\n",
    "\n",
    "import os\n",
    "for dirname, _, filenames in os.walk('/kaggle/input'):\n",
    "    for filename in filenames:\n",
    "        print(os.path.join(dirname, filename))\n",
    "\n",
    "# You can write up to 20GB to the current directory (/kaggle/working/) that gets preserved as output when you create a version using \"Save & Run All\" \n",
    "# You can also write temporary files to /kaggle/temp/, but they won't be saved outside of the current session"
   ]
  },
  {
   "cell_type": "markdown",
   "id": "ea92cfcc",
   "metadata": {
    "papermill": {
     "duration": 0.00724,
     "end_time": "2022-09-08T14:47:56.651898",
     "exception": false,
     "start_time": "2022-09-08T14:47:56.644658",
     "status": "completed"
    },
    "tags": []
   },
   "source": [
    "# Data Review <a id = \"1\"></a>\n",
    "[Go Content](#cont)"
   ]
  },
  {
   "cell_type": "markdown",
   "id": "03133803",
   "metadata": {
    "papermill": {
     "duration": 0.007265,
     "end_time": "2022-09-08T14:47:56.667389",
     "exception": false,
     "start_time": "2022-09-08T14:47:56.660124",
     "status": "completed"
    },
    "tags": []
   },
   "source": [
    "I read the dataset with the panda library."
   ]
  },
  {
   "cell_type": "code",
   "execution_count": 2,
   "id": "25eac9b2",
   "metadata": {
    "execution": {
     "iopub.execute_input": "2022-09-08T14:47:56.684861Z",
     "iopub.status.busy": "2022-09-08T14:47:56.684243Z",
     "iopub.status.idle": "2022-09-08T14:47:56.720047Z",
     "shell.execute_reply": "2022-09-08T14:47:56.719433Z"
    },
    "papermill": {
     "duration": 0.046766,
     "end_time": "2022-09-08T14:47:56.721914",
     "exception": false,
     "start_time": "2022-09-08T14:47:56.675148",
     "status": "completed"
    },
    "tags": []
   },
   "outputs": [
    {
     "data": {
      "text/html": [
       "<div>\n",
       "<style scoped>\n",
       "    .dataframe tbody tr th:only-of-type {\n",
       "        vertical-align: middle;\n",
       "    }\n",
       "\n",
       "    .dataframe tbody tr th {\n",
       "        vertical-align: top;\n",
       "    }\n",
       "\n",
       "    .dataframe thead th {\n",
       "        text-align: right;\n",
       "    }\n",
       "</style>\n",
       "<table border=\"1\" class=\"dataframe\">\n",
       "  <thead>\n",
       "    <tr style=\"text-align: right;\">\n",
       "      <th></th>\n",
       "      <th>Date</th>\n",
       "      <th>Open</th>\n",
       "      <th>High</th>\n",
       "      <th>Low</th>\n",
       "      <th>Close</th>\n",
       "      <th>Volume</th>\n",
       "    </tr>\n",
       "  </thead>\n",
       "  <tbody>\n",
       "    <tr>\n",
       "      <th>0</th>\n",
       "      <td>1/3/2012</td>\n",
       "      <td>325.25</td>\n",
       "      <td>332.83</td>\n",
       "      <td>324.97</td>\n",
       "      <td>663.59</td>\n",
       "      <td>7,380,500</td>\n",
       "    </tr>\n",
       "    <tr>\n",
       "      <th>1</th>\n",
       "      <td>1/4/2012</td>\n",
       "      <td>331.27</td>\n",
       "      <td>333.87</td>\n",
       "      <td>329.08</td>\n",
       "      <td>666.45</td>\n",
       "      <td>5,749,400</td>\n",
       "    </tr>\n",
       "    <tr>\n",
       "      <th>2</th>\n",
       "      <td>1/5/2012</td>\n",
       "      <td>329.83</td>\n",
       "      <td>330.75</td>\n",
       "      <td>326.89</td>\n",
       "      <td>657.21</td>\n",
       "      <td>6,590,300</td>\n",
       "    </tr>\n",
       "    <tr>\n",
       "      <th>3</th>\n",
       "      <td>1/6/2012</td>\n",
       "      <td>328.34</td>\n",
       "      <td>328.77</td>\n",
       "      <td>323.68</td>\n",
       "      <td>648.24</td>\n",
       "      <td>5,405,900</td>\n",
       "    </tr>\n",
       "    <tr>\n",
       "      <th>4</th>\n",
       "      <td>1/9/2012</td>\n",
       "      <td>322.04</td>\n",
       "      <td>322.29</td>\n",
       "      <td>309.46</td>\n",
       "      <td>620.76</td>\n",
       "      <td>11,688,800</td>\n",
       "    </tr>\n",
       "  </tbody>\n",
       "</table>\n",
       "</div>"
      ],
      "text/plain": [
       "       Date    Open    High     Low   Close      Volume\n",
       "0  1/3/2012  325.25  332.83  324.97  663.59   7,380,500\n",
       "1  1/4/2012  331.27  333.87  329.08  666.45   5,749,400\n",
       "2  1/5/2012  329.83  330.75  326.89  657.21   6,590,300\n",
       "3  1/6/2012  328.34  328.77  323.68  648.24   5,405,900\n",
       "4  1/9/2012  322.04  322.29  309.46  620.76  11,688,800"
      ]
     },
     "execution_count": 2,
     "metadata": {},
     "output_type": "execute_result"
    }
   ],
   "source": [
    "data = pd.read_csv(\"/kaggle/input/google-stock-price/Google_Stock_Price_Train.csv\")\n",
    "data.head()"
   ]
  },
  {
   "cell_type": "code",
   "execution_count": 3,
   "id": "32af16e0",
   "metadata": {
    "execution": {
     "iopub.execute_input": "2022-09-08T14:47:56.740375Z",
     "iopub.status.busy": "2022-09-08T14:47:56.739414Z",
     "iopub.status.idle": "2022-09-08T14:47:56.761751Z",
     "shell.execute_reply": "2022-09-08T14:47:56.761150Z"
    },
    "papermill": {
     "duration": 0.033724,
     "end_time": "2022-09-08T14:47:56.764035",
     "exception": false,
     "start_time": "2022-09-08T14:47:56.730311",
     "status": "completed"
    },
    "tags": []
   },
   "outputs": [
    {
     "name": "stdout",
     "output_type": "stream",
     "text": [
      "<class 'pandas.core.frame.DataFrame'>\n",
      "RangeIndex: 1258 entries, 0 to 1257\n",
      "Data columns (total 6 columns):\n",
      " #   Column  Non-Null Count  Dtype  \n",
      "---  ------  --------------  -----  \n",
      " 0   Date    1258 non-null   object \n",
      " 1   Open    1258 non-null   float64\n",
      " 2   High    1258 non-null   float64\n",
      " 3   Low     1258 non-null   float64\n",
      " 4   Close   1258 non-null   object \n",
      " 5   Volume  1258 non-null   object \n",
      "dtypes: float64(3), object(3)\n",
      "memory usage: 59.1+ KB\n"
     ]
    }
   ],
   "source": [
    "# information of data\n",
    "data.info()"
   ]
  },
  {
   "cell_type": "code",
   "execution_count": 4,
   "id": "be197fe2",
   "metadata": {
    "execution": {
     "iopub.execute_input": "2022-09-08T14:47:56.783514Z",
     "iopub.status.busy": "2022-09-08T14:47:56.782490Z",
     "iopub.status.idle": "2022-09-08T14:47:56.801332Z",
     "shell.execute_reply": "2022-09-08T14:47:56.800685Z"
    },
    "papermill": {
     "duration": 0.030306,
     "end_time": "2022-09-08T14:47:56.803325",
     "exception": false,
     "start_time": "2022-09-08T14:47:56.773019",
     "status": "completed"
    },
    "tags": []
   },
   "outputs": [
    {
     "data": {
      "text/html": [
       "<div>\n",
       "<style scoped>\n",
       "    .dataframe tbody tr th:only-of-type {\n",
       "        vertical-align: middle;\n",
       "    }\n",
       "\n",
       "    .dataframe tbody tr th {\n",
       "        vertical-align: top;\n",
       "    }\n",
       "\n",
       "    .dataframe thead th {\n",
       "        text-align: right;\n",
       "    }\n",
       "</style>\n",
       "<table border=\"1\" class=\"dataframe\">\n",
       "  <thead>\n",
       "    <tr style=\"text-align: right;\">\n",
       "      <th></th>\n",
       "      <th>Open</th>\n",
       "      <th>High</th>\n",
       "      <th>Low</th>\n",
       "    </tr>\n",
       "  </thead>\n",
       "  <tbody>\n",
       "    <tr>\n",
       "      <th>count</th>\n",
       "      <td>1258.000000</td>\n",
       "      <td>1258.000000</td>\n",
       "      <td>1258.000000</td>\n",
       "    </tr>\n",
       "    <tr>\n",
       "      <th>mean</th>\n",
       "      <td>533.709833</td>\n",
       "      <td>537.880223</td>\n",
       "      <td>529.007409</td>\n",
       "    </tr>\n",
       "    <tr>\n",
       "      <th>std</th>\n",
       "      <td>151.904442</td>\n",
       "      <td>153.008811</td>\n",
       "      <td>150.552807</td>\n",
       "    </tr>\n",
       "    <tr>\n",
       "      <th>min</th>\n",
       "      <td>279.120000</td>\n",
       "      <td>281.210000</td>\n",
       "      <td>277.220000</td>\n",
       "    </tr>\n",
       "    <tr>\n",
       "      <th>25%</th>\n",
       "      <td>404.115000</td>\n",
       "      <td>406.765000</td>\n",
       "      <td>401.765000</td>\n",
       "    </tr>\n",
       "    <tr>\n",
       "      <th>50%</th>\n",
       "      <td>537.470000</td>\n",
       "      <td>540.750000</td>\n",
       "      <td>532.990000</td>\n",
       "    </tr>\n",
       "    <tr>\n",
       "      <th>75%</th>\n",
       "      <td>654.922500</td>\n",
       "      <td>662.587500</td>\n",
       "      <td>644.800000</td>\n",
       "    </tr>\n",
       "    <tr>\n",
       "      <th>max</th>\n",
       "      <td>816.680000</td>\n",
       "      <td>816.680000</td>\n",
       "      <td>805.140000</td>\n",
       "    </tr>\n",
       "  </tbody>\n",
       "</table>\n",
       "</div>"
      ],
      "text/plain": [
       "              Open         High          Low\n",
       "count  1258.000000  1258.000000  1258.000000\n",
       "mean    533.709833   537.880223   529.007409\n",
       "std     151.904442   153.008811   150.552807\n",
       "min     279.120000   281.210000   277.220000\n",
       "25%     404.115000   406.765000   401.765000\n",
       "50%     537.470000   540.750000   532.990000\n",
       "75%     654.922500   662.587500   644.800000\n",
       "max     816.680000   816.680000   805.140000"
      ]
     },
     "execution_count": 4,
     "metadata": {},
     "output_type": "execute_result"
    }
   ],
   "source": [
    "# Dataset Values(Max, min, std..)\n",
    "data.describe()"
   ]
  },
  {
   "cell_type": "code",
   "execution_count": 5,
   "id": "6f4ddba2",
   "metadata": {
    "execution": {
     "iopub.execute_input": "2022-09-08T14:47:56.821701Z",
     "iopub.status.busy": "2022-09-08T14:47:56.821177Z",
     "iopub.status.idle": "2022-09-08T14:47:56.831751Z",
     "shell.execute_reply": "2022-09-08T14:47:56.831040Z"
    },
    "papermill": {
     "duration": 0.021692,
     "end_time": "2022-09-08T14:47:56.833349",
     "exception": false,
     "start_time": "2022-09-08T14:47:56.811657",
     "status": "completed"
    },
    "tags": []
   },
   "outputs": [
    {
     "data": {
      "text/html": [
       "<div>\n",
       "<style scoped>\n",
       "    .dataframe tbody tr th:only-of-type {\n",
       "        vertical-align: middle;\n",
       "    }\n",
       "\n",
       "    .dataframe tbody tr th {\n",
       "        vertical-align: top;\n",
       "    }\n",
       "\n",
       "    .dataframe thead th {\n",
       "        text-align: right;\n",
       "    }\n",
       "</style>\n",
       "<table border=\"1\" class=\"dataframe\">\n",
       "  <thead>\n",
       "    <tr style=\"text-align: right;\">\n",
       "      <th></th>\n",
       "      <th>Open</th>\n",
       "      <th>High</th>\n",
       "      <th>Low</th>\n",
       "    </tr>\n",
       "  </thead>\n",
       "  <tbody>\n",
       "    <tr>\n",
       "      <th>Open</th>\n",
       "      <td>1.000000</td>\n",
       "      <td>0.999692</td>\n",
       "      <td>0.999498</td>\n",
       "    </tr>\n",
       "    <tr>\n",
       "      <th>High</th>\n",
       "      <td>0.999692</td>\n",
       "      <td>1.000000</td>\n",
       "      <td>0.999480</td>\n",
       "    </tr>\n",
       "    <tr>\n",
       "      <th>Low</th>\n",
       "      <td>0.999498</td>\n",
       "      <td>0.999480</td>\n",
       "      <td>1.000000</td>\n",
       "    </tr>\n",
       "  </tbody>\n",
       "</table>\n",
       "</div>"
      ],
      "text/plain": [
       "          Open      High       Low\n",
       "Open  1.000000  0.999692  0.999498\n",
       "High  0.999692  1.000000  0.999480\n",
       "Low   0.999498  0.999480  1.000000"
      ]
     },
     "execution_count": 5,
     "metadata": {},
     "output_type": "execute_result"
    }
   ],
   "source": [
    "# Data Correlation: Relationship between columns\n",
    "data.corr()"
   ]
  },
  {
   "cell_type": "code",
   "execution_count": 6,
   "id": "2f2f0add",
   "metadata": {
    "execution": {
     "iopub.execute_input": "2022-09-08T14:47:56.851693Z",
     "iopub.status.busy": "2022-09-08T14:47:56.851148Z",
     "iopub.status.idle": "2022-09-08T14:47:57.064126Z",
     "shell.execute_reply": "2022-09-08T14:47:57.063158Z"
    },
    "papermill": {
     "duration": 0.22447,
     "end_time": "2022-09-08T14:47:57.066184",
     "exception": false,
     "start_time": "2022-09-08T14:47:56.841714",
     "status": "completed"
    },
    "tags": []
   },
   "outputs": [
    {
     "data": {
      "image/png": "[encoded data removed]",
      "text/plain": [
       "<Figure size 360x360 with 2 Axes>"
      ]
     },
     "metadata": {
      "needs_background": "light"
     },
     "output_type": "display_data"
    }
   ],
   "source": [
    "# Visualization of correlation result with seaborn library heatmap.\n",
    "f, ax = plt.subplots(figsize = (5,5))\n",
    "sns.heatmap(data.corr(), annot = True, linewidths=0.5, linecolor = \"black\", fmt = \".4f\", ax = ax)\n",
    "plt.show()"
   ]
  },
  {
   "cell_type": "markdown",
   "id": "f66eda39",
   "metadata": {
    "papermill": {
     "duration": 0.009696,
     "end_time": "2022-09-08T14:47:57.087017",
     "exception": false,
     "start_time": "2022-09-08T14:47:57.077321",
     "status": "completed"
    },
    "tags": []
   },
   "source": [
    "In the above section, I look at the relationship between columns of type float64. I tried to change the Close and Volume columns but I got an error because there were unchanging data in these columns."
   ]
  },
  {
   "cell_type": "code",
   "execution_count": 7,
   "id": "7fb4861b",
   "metadata": {
    "execution": {
     "iopub.execute_input": "2022-09-08T14:47:57.106966Z",
     "iopub.status.busy": "2022-09-08T14:47:57.106453Z",
     "iopub.status.idle": "2022-09-08T14:47:57.112279Z",
     "shell.execute_reply": "2022-09-08T14:47:57.111648Z"
    },
    "papermill": {
     "duration": 0.01872,
     "end_time": "2022-09-08T14:47:57.114236",
     "exception": false,
     "start_time": "2022-09-08T14:47:57.095516",
     "status": "completed"
    },
    "tags": []
   },
   "outputs": [
    {
     "data": {
      "text/plain": [
       "Index(['Date', 'Open', 'High', 'Low', 'Close', 'Volume'], dtype='object')"
      ]
     },
     "execution_count": 7,
     "metadata": {},
     "output_type": "execute_result"
    }
   ],
   "source": [
    "# Dataset columns names\n",
    "data.columns"
   ]
  },
  {
   "cell_type": "markdown",
   "id": "a9d27482",
   "metadata": {
    "papermill": {
     "duration": 0.008387,
     "end_time": "2022-09-08T14:47:57.131570",
     "exception": false,
     "start_time": "2022-09-08T14:47:57.123183",
     "status": "completed"
    },
    "tags": []
   },
   "source": [
    "# Data Prepare <a id = \"2\"></a>\n",
    "[Go Content](#cont)"
   ]
  },
  {
   "cell_type": "markdown",
   "id": "849b44cf",
   "metadata": {
    "papermill": {
     "duration": 0.008769,
     "end_time": "2022-09-08T14:47:57.149150",
     "exception": false,
     "start_time": "2022-09-08T14:47:57.140381",
     "status": "completed"
    },
    "tags": []
   },
   "source": [
    "I separate the data from which I will apply the RNN model from the dataset."
   ]
  },
  {
   "cell_type": "code",
   "execution_count": 8,
   "id": "04dfba82",
   "metadata": {
    "execution": {
     "iopub.execute_input": "2022-09-08T14:47:57.169524Z",
     "iopub.status.busy": "2022-09-08T14:47:57.168936Z",
     "iopub.status.idle": "2022-09-08T14:47:57.176343Z",
     "shell.execute_reply": "2022-09-08T14:47:57.175243Z"
    },
    "papermill": {
     "duration": 0.02069,
     "end_time": "2022-09-08T14:47:57.178562",
     "exception": false,
     "start_time": "2022-09-08T14:47:57.157872",
     "status": "completed"
    },
    "tags": []
   },
   "outputs": [
    {
     "data": {
      "text/plain": [
       "array([[325.25],\n",
       "       [331.27],\n",
       "       [329.83],\n",
       "       ...,\n",
       "       [793.7 ],\n",
       "       [783.33],\n",
       "       [782.75]])"
      ]
     },
     "execution_count": 8,
     "metadata": {},
     "output_type": "execute_result"
    }
   ],
   "source": [
    "data_set = data.loc[:, [\"Open\"]].values\n",
    "data_set"
   ]
  },
  {
   "cell_type": "markdown",
   "id": "33edf818",
   "metadata": {
    "papermill": {
     "duration": 0.01075,
     "end_time": "2022-09-08T14:47:57.199858",
     "exception": false,
     "start_time": "2022-09-08T14:47:57.189108",
     "status": "completed"
    },
    "tags": []
   },
   "source": [
    "I constitute train and test from the data_set."
   ]
  },
  {
   "cell_type": "code",
   "execution_count": 9,
   "id": "26fd708f",
   "metadata": {
    "execution": {
     "iopub.execute_input": "2022-09-08T14:47:57.222843Z",
     "iopub.status.busy": "2022-09-08T14:47:57.222365Z",
     "iopub.status.idle": "2022-09-08T14:47:57.229912Z",
     "shell.execute_reply": "2022-09-08T14:47:57.228939Z"
    },
    "papermill": {
     "duration": 0.020146,
     "end_time": "2022-09-08T14:47:57.231914",
     "exception": false,
     "start_time": "2022-09-08T14:47:57.211768",
     "status": "completed"
    },
    "tags": []
   },
   "outputs": [
    {
     "data": {
      "text/plain": [
       "(1208, 1)"
      ]
     },
     "execution_count": 9,
     "metadata": {},
     "output_type": "execute_result"
    }
   ],
   "source": [
    "train = data_set[:len(data_set) - 50]\n",
    "test = data_set[len(train):]\n",
    "\n",
    "train.reshape(train.shape[0],1)\n",
    "train.shape"
   ]
  },
  {
   "cell_type": "markdown",
   "id": "b86a9cea",
   "metadata": {
    "papermill": {
     "duration": 0.008906,
     "end_time": "2022-09-08T14:47:57.252020",
     "exception": false,
     "start_time": "2022-09-08T14:47:57.243114",
     "status": "completed"
    },
    "tags": []
   },
   "source": [
    "- I normalize the train dataset.(between zero to one)\n",
    "- I use the MinMaxScaler function of Sklearn Library."
   ]
  },
  {
   "cell_type": "code",
   "execution_count": 10,
   "id": "4e9d2ee2",
   "metadata": {
    "execution": {
     "iopub.execute_input": "2022-09-08T14:47:57.271593Z",
     "iopub.status.busy": "2022-09-08T14:47:57.271307Z",
     "iopub.status.idle": "2022-09-08T14:47:57.428879Z",
     "shell.execute_reply": "2022-09-08T14:47:57.428249Z"
    },
    "papermill": {
     "duration": 0.169658,
     "end_time": "2022-09-08T14:47:57.430793",
     "exception": false,
     "start_time": "2022-09-08T14:47:57.261135",
     "status": "completed"
    },
    "tags": []
   },
   "outputs": [
    {
     "data": {
      "text/plain": [
       "array([[0.08886192],\n",
       "       [0.10045847],\n",
       "       [0.09768454],\n",
       "       ...,\n",
       "       [0.96447835],\n",
       "       [0.97998536],\n",
       "       [1.        ]])"
      ]
     },
     "execution_count": 10,
     "metadata": {},
     "output_type": "execute_result"
    }
   ],
   "source": [
    "# Normalization wiht MinmaxScaler\n",
    "from sklearn.preprocessing import MinMaxScaler\n",
    "scaler = MinMaxScaler(feature_range = (0,1)) # değerleri 0 ile 1 arasında sayılara indirger\n",
    "train_scaler = scaler.fit_transform(train)\n",
    "train_scaler"
   ]
  },
  {
   "cell_type": "markdown",
   "id": "6f6e1541",
   "metadata": {
    "papermill": {
     "duration": 0.008782,
     "end_time": "2022-09-08T14:47:57.449350",
     "exception": false,
     "start_time": "2022-09-08T14:47:57.440568",
     "status": "completed"
    },
    "tags": []
   },
   "source": [
    "I visualize the train_scaler."
   ]
  },
  {
   "cell_type": "code",
   "execution_count": 11,
   "id": "cadc8e8c",
   "metadata": {
    "execution": {
     "iopub.execute_input": "2022-09-08T14:47:57.468576Z",
     "iopub.status.busy": "2022-09-08T14:47:57.468063Z",
     "iopub.status.idle": "2022-09-08T14:47:57.587762Z",
     "shell.execute_reply": "2022-09-08T14:47:57.586658Z"
    },
    "papermill": {
     "duration": 0.131279,
     "end_time": "2022-09-08T14:47:57.589528",
     "exception": false,
     "start_time": "2022-09-08T14:47:57.458249",
     "status": "completed"
    },
    "tags": []
   },
   "outputs": [
    {
     "data": {
      "image/png": "[encoded data removed]",
      "text/plain": [
       "<Figure size 432x288 with 1 Axes>"
      ]
     },
     "metadata": {
      "needs_background": "light"
     },
     "output_type": "display_data"
    }
   ],
   "source": [
    "plt.plot(train_scaler)\n",
    "plt.show()"
   ]
  },
  {
   "cell_type": "markdown",
   "id": "f4740c9d",
   "metadata": {
    "papermill": {
     "duration": 0.009134,
     "end_time": "2022-09-08T14:47:57.608100",
     "exception": false,
     "start_time": "2022-09-08T14:47:57.598966",
     "status": "completed"
    },
    "tags": []
   },
   "source": [
    "I create a data structure with 50 timesteps and 1 output."
   ]
  },
  {
   "cell_type": "code",
   "execution_count": 12,
   "id": "e7c147b1",
   "metadata": {
    "execution": {
     "iopub.execute_input": "2022-09-08T14:47:57.628272Z",
     "iopub.status.busy": "2022-09-08T14:47:57.627919Z",
     "iopub.status.idle": "2022-09-08T14:47:57.636162Z",
     "shell.execute_reply": "2022-09-08T14:47:57.635078Z"
    },
    "papermill": {
     "duration": 0.020581,
     "end_time": "2022-09-08T14:47:57.638056",
     "exception": false,
     "start_time": "2022-09-08T14:47:57.617475",
     "status": "completed"
    },
    "tags": []
   },
   "outputs": [],
   "source": [
    "X_train = []\n",
    "Y_train = []\n",
    "timesteps = 50\n",
    "\n",
    "for i in range(timesteps, len(train_scaler)):\n",
    "    X_train.append(train_scaler[i - timesteps:i, 0])\n",
    "    Y_train.append(train_scaler[i,0])\n",
    "    \n",
    "X_train, Y_train = np.array(X_train), np.array(Y_train)\n",
    "\n",
    "# reshape\n",
    "X_train = np.reshape(X_train, (X_train.shape[0], X_train.shape[1], 1))"
   ]
  },
  {
   "cell_type": "code",
   "execution_count": 13,
   "id": "81e6f391",
   "metadata": {
    "execution": {
     "iopub.execute_input": "2022-09-08T14:47:57.659094Z",
     "iopub.status.busy": "2022-09-08T14:47:57.658603Z",
     "iopub.status.idle": "2022-09-08T14:47:57.664038Z",
     "shell.execute_reply": "2022-09-08T14:47:57.662559Z"
    },
    "papermill": {
     "duration": 0.018438,
     "end_time": "2022-09-08T14:47:57.665942",
     "exception": false,
     "start_time": "2022-09-08T14:47:57.647504",
     "status": "completed"
    },
    "tags": []
   },
   "outputs": [
    {
     "data": {
      "text/plain": [
       "(1158, 50, 1)"
      ]
     },
     "execution_count": 13,
     "metadata": {},
     "output_type": "execute_result"
    }
   ],
   "source": [
    "X_train.shape"
   ]
  },
  {
   "cell_type": "code",
   "execution_count": 14,
   "id": "e6e24052",
   "metadata": {
    "execution": {
     "iopub.execute_input": "2022-09-08T14:47:57.686173Z",
     "iopub.status.busy": "2022-09-08T14:47:57.685836Z",
     "iopub.status.idle": "2022-09-08T14:47:57.692496Z",
     "shell.execute_reply": "2022-09-08T14:47:57.691485Z"
    },
    "papermill": {
     "duration": 0.018925,
     "end_time": "2022-09-08T14:47:57.694393",
     "exception": false,
     "start_time": "2022-09-08T14:47:57.675468",
     "status": "completed"
    },
    "tags": []
   },
   "outputs": [
    {
     "data": {
      "text/plain": [
       "array([[[0.08886192],\n",
       "        [0.10045847],\n",
       "        [0.09768454],\n",
       "        ...,\n",
       "        [0.03806442],\n",
       "        [0.04646325],\n",
       "        [0.05245415]],\n",
       "\n",
       "       [[0.10045847],\n",
       "        [0.09768454],\n",
       "        [0.0948143 ],\n",
       "        ...,\n",
       "        [0.04646325],\n",
       "        [0.05245415],\n",
       "        [0.05399522]],\n",
       "\n",
       "       [[0.09768454],\n",
       "        [0.0948143 ],\n",
       "        [0.08267838],\n",
       "        ...,\n",
       "        [0.05245415],\n",
       "        [0.05399522],\n",
       "        [0.05811758]],\n",
       "\n",
       "       ...,\n",
       "\n",
       "       [[0.9528818 ],\n",
       "        [0.96871629],\n",
       "        [0.96698259],\n",
       "        ...,\n",
       "        [0.97210664],\n",
       "        [0.96721375],\n",
       "        [0.96804207]],\n",
       "\n",
       "       [[0.96871629],\n",
       "        [0.96698259],\n",
       "        [0.97208738],\n",
       "        ...,\n",
       "        [0.96721375],\n",
       "        [0.96804207],\n",
       "        [0.96447835]],\n",
       "\n",
       "       [[0.96698259],\n",
       "        [0.97208738],\n",
       "        [0.9744953 ],\n",
       "        ...,\n",
       "        [0.96804207],\n",
       "        [0.96447835],\n",
       "        [0.97998536]]])"
      ]
     },
     "execution_count": 14,
     "metadata": {},
     "output_type": "execute_result"
    }
   ],
   "source": [
    "X_train"
   ]
  },
  {
   "cell_type": "code",
   "execution_count": 15,
   "id": "e93a9d6a",
   "metadata": {
    "execution": {
     "iopub.execute_input": "2022-09-08T14:47:57.715817Z",
     "iopub.status.busy": "2022-09-08T14:47:57.715325Z",
     "iopub.status.idle": "2022-09-08T14:47:57.722813Z",
     "shell.execute_reply": "2022-09-08T14:47:57.721691Z"
    },
    "papermill": {
     "duration": 0.020761,
     "end_time": "2022-09-08T14:47:57.725055",
     "exception": false,
     "start_time": "2022-09-08T14:47:57.704294",
     "status": "completed"
    },
    "tags": []
   },
   "outputs": [
    {
     "data": {
      "text/plain": [
       "array([0.05399522, 0.05811758, 0.06025582, ..., 0.96447835, 0.97998536,\n",
       "       1.        ])"
      ]
     },
     "execution_count": 15,
     "metadata": {},
     "output_type": "execute_result"
    }
   ],
   "source": [
    "Y_train"
   ]
  },
  {
   "cell_type": "markdown",
   "id": "5eb552c0",
   "metadata": {
    "papermill": {
     "duration": 0.009425,
     "end_time": "2022-09-08T14:47:57.744365",
     "exception": false,
     "start_time": "2022-09-08T14:47:57.734940",
     "status": "completed"
    },
    "tags": []
   },
   "source": [
    "# Create And Training RNN model <a id = \"3\"></a>\n",
    "[Go Content](#cont)\n",
    "\n",
    "**What is The Recurrent Neural Network(RNN)?** <br>\n",
    "A recurrent neural network (RNN) is a special type of an artificial neural network adapted to work for time series data or data that involves sequences. Ordinary feed forward neural networks are only meant for data points, which are independent of each other. However, if we have data in a sequence such that one data point depends upon the previous data point, we need to modify the neural network to incorporate the dependencies between these data points. RNNs have the concept of ‘memory’ that helps them store the states or information of previous inputs to generate the next output of the sequence.\n",
    "\n",
    "If you want more information about RNN, [click here.](https://machinelearningmastery.com/an-introduction-to-recurrent-neural-networks-and-the-math-that-powers-them/)"
   ]
  },
  {
   "cell_type": "code",
   "execution_count": 16,
   "id": "45c41adf",
   "metadata": {
    "execution": {
     "iopub.execute_input": "2022-09-08T14:47:57.766395Z",
     "iopub.status.busy": "2022-09-08T14:47:57.765229Z",
     "iopub.status.idle": "2022-09-08T14:55:28.991405Z",
     "shell.execute_reply": "2022-09-08T14:55:28.990324Z"
    },
    "papermill": {
     "duration": 451.239085,
     "end_time": "2022-09-08T14:55:28.993181",
     "exception": false,
     "start_time": "2022-09-08T14:47:57.754096",
     "status": "completed"
    },
    "tags": []
   },
   "outputs": [
    {
     "name": "stderr",
     "output_type": "stream",
     "text": [
      "2022-09-08 14:48:03.725768: I tensorflow/core/common_runtime/process_util.cc:146] Creating new thread pool with default inter op setting: 2. Tune using inter_op_parallelism_threads for best performance.\n",
      "2022-09-08 14:48:04.073081: I tensorflow/compiler/mlir/mlir_graph_optimization_pass.cc:185] None of the MLIR Optimization Passes are enabled (registered 2)\n"
     ]
    },
    {
     "name": "stdout",
     "output_type": "stream",
     "text": [
      "Epoch 1/100\n",
      "37/37 [==============================] - 7s 120ms/step - loss: 0.3160\n",
      "Epoch 2/100\n",
      "37/37 [==============================] - 5s 131ms/step - loss: 0.1845\n",
      "Epoch 3/100\n",
      "37/37 [==============================] - 4s 117ms/step - loss: 0.1448\n",
      "Epoch 4/100\n",
      "37/37 [==============================] - 5s 122ms/step - loss: 0.1031\n",
      "Epoch 5/100\n",
      "37/37 [==============================] - 4s 120ms/step - loss: 0.0755\n",
      "Epoch 6/100\n",
      "37/37 [==============================] - 4s 120ms/step - loss: 0.0699\n",
      "Epoch 7/100\n",
      "37/37 [==============================] - 4s 116ms/step - loss: 0.0645\n",
      "Epoch 8/100\n",
      "37/37 [==============================] - 4s 117ms/step - loss: 0.0483\n",
      "Epoch 9/100\n",
      "37/37 [==============================] - 5s 136ms/step - loss: 0.0402\n",
      "Epoch 10/100\n",
      "37/37 [==============================] - 4s 117ms/step - loss: 0.0386\n",
      "Epoch 11/100\n",
      "37/37 [==============================] - 4s 113ms/step - loss: 0.0328\n",
      "Epoch 12/100\n",
      "37/37 [==============================] - 4s 116ms/step - loss: 0.0284\n",
      "Epoch 13/100\n",
      "37/37 [==============================] - 4s 119ms/step - loss: 0.0259\n",
      "Epoch 14/100\n",
      "37/37 [==============================] - 4s 117ms/step - loss: 0.0233\n",
      "Epoch 15/100\n",
      "37/37 [==============================] - 4s 114ms/step - loss: 0.0197\n",
      "Epoch 16/100\n",
      "37/37 [==============================] - 5s 135ms/step - loss: 0.0194\n",
      "Epoch 17/100\n",
      "37/37 [==============================] - 4s 119ms/step - loss: 0.0163\n",
      "Epoch 18/100\n",
      "37/37 [==============================] - 4s 114ms/step - loss: 0.0171\n",
      "Epoch 19/100\n",
      "37/37 [==============================] - 4s 114ms/step - loss: 0.0147\n",
      "Epoch 20/100\n",
      "37/37 [==============================] - 4s 114ms/step - loss: 0.0133\n",
      "Epoch 21/100\n",
      "37/37 [==============================] - 4s 117ms/step - loss: 0.0128\n",
      "Epoch 22/100\n",
      "37/37 [==============================] - 4s 116ms/step - loss: 0.0123\n",
      "Epoch 23/100\n",
      "37/37 [==============================] - 5s 133ms/step - loss: 0.0108\n",
      "Epoch 24/100\n",
      "37/37 [==============================] - 4s 121ms/step - loss: 0.0102\n",
      "Epoch 25/100\n",
      "37/37 [==============================] - 4s 117ms/step - loss: 0.0100\n",
      "Epoch 26/100\n",
      "37/37 [==============================] - 4s 119ms/step - loss: 0.0101\n",
      "Epoch 27/100\n",
      "37/37 [==============================] - 4s 118ms/step - loss: 0.0085\n",
      "Epoch 28/100\n",
      "37/37 [==============================] - 4s 115ms/step - loss: 0.0083\n",
      "Epoch 29/100\n",
      "37/37 [==============================] - 4s 116ms/step - loss: 0.0074\n",
      "Epoch 30/100\n",
      "37/37 [==============================] - 5s 131ms/step - loss: 0.0072\n",
      "Epoch 31/100\n",
      "37/37 [==============================] - 4s 120ms/step - loss: 0.0069\n",
      "Epoch 32/100\n",
      "37/37 [==============================] - 4s 118ms/step - loss: 0.0072\n",
      "Epoch 33/100\n",
      "37/37 [==============================] - 4s 113ms/step - loss: 0.0063\n",
      "Epoch 34/100\n",
      "37/37 [==============================] - 4s 117ms/step - loss: 0.0063\n",
      "Epoch 35/100\n",
      "37/37 [==============================] - 4s 111ms/step - loss: 0.0060\n",
      "Epoch 36/100\n",
      "37/37 [==============================] - 4s 118ms/step - loss: 0.0071\n",
      "Epoch 37/100\n",
      "37/37 [==============================] - 5s 131ms/step - loss: 0.0055\n",
      "Epoch 38/100\n",
      "37/37 [==============================] - 4s 120ms/step - loss: 0.0051\n",
      "Epoch 39/100\n",
      "37/37 [==============================] - 4s 116ms/step - loss: 0.0051\n",
      "Epoch 40/100\n",
      "37/37 [==============================] - 4s 117ms/step - loss: 0.0052\n",
      "Epoch 41/100\n",
      "37/37 [==============================] - 4s 117ms/step - loss: 0.0047\n",
      "Epoch 42/100\n",
      "37/37 [==============================] - 4s 116ms/step - loss: 0.0048\n",
      "Epoch 43/100\n",
      "37/37 [==============================] - 4s 116ms/step - loss: 0.0045\n",
      "Epoch 44/100\n",
      "37/37 [==============================] - 5s 133ms/step - loss: 0.0047\n",
      "Epoch 45/100\n",
      "37/37 [==============================] - 4s 118ms/step - loss: 0.0043\n",
      "Epoch 46/100\n",
      "37/37 [==============================] - 4s 119ms/step - loss: 0.0045\n",
      "Epoch 47/100\n",
      "37/37 [==============================] - 4s 117ms/step - loss: 0.0039\n",
      "Epoch 48/100\n",
      "37/37 [==============================] - 4s 117ms/step - loss: 0.0045\n",
      "Epoch 49/100\n",
      "37/37 [==============================] - 4s 116ms/step - loss: 0.0038\n",
      "Epoch 50/100\n",
      "37/37 [==============================] - 4s 116ms/step - loss: 0.0037\n",
      "Epoch 51/100\n",
      "37/37 [==============================] - 5s 131ms/step - loss: 0.0037\n",
      "Epoch 52/100\n",
      "37/37 [==============================] - 4s 117ms/step - loss: 0.0034\n",
      "Epoch 53/100\n",
      "37/37 [==============================] - 4s 121ms/step - loss: 0.0034\n",
      "Epoch 54/100\n",
      "37/37 [==============================] - 4s 116ms/step - loss: 0.0033\n",
      "Epoch 55/100\n",
      "37/37 [==============================] - 4s 114ms/step - loss: 0.0032\n",
      "Epoch 56/100\n",
      "37/37 [==============================] - 4s 117ms/step - loss: 0.0037\n",
      "Epoch 57/100\n",
      "37/37 [==============================] - 4s 115ms/step - loss: 0.0032\n",
      "Epoch 58/100\n",
      "37/37 [==============================] - 5s 135ms/step - loss: 0.0028\n",
      "Epoch 59/100\n",
      "37/37 [==============================] - 4s 121ms/step - loss: 0.0031\n",
      "Epoch 60/100\n",
      "37/37 [==============================] - 4s 115ms/step - loss: 0.0029\n",
      "Epoch 61/100\n",
      "37/37 [==============================] - 4s 116ms/step - loss: 0.0031\n",
      "Epoch 62/100\n",
      "37/37 [==============================] - 4s 114ms/step - loss: 0.0031\n",
      "Epoch 63/100\n",
      "37/37 [==============================] - 4s 118ms/step - loss: 0.0030\n",
      "Epoch 64/100\n",
      "37/37 [==============================] - 4s 115ms/step - loss: 0.0028\n",
      "Epoch 65/100\n",
      "37/37 [==============================] - 5s 131ms/step - loss: 0.0026\n",
      "Epoch 66/100\n",
      "37/37 [==============================] - 4s 121ms/step - loss: 0.0025\n",
      "Epoch 67/100\n",
      "37/37 [==============================] - 4s 121ms/step - loss: 0.0027\n",
      "Epoch 68/100\n",
      "37/37 [==============================] - 4s 118ms/step - loss: 0.0028\n",
      "Epoch 69/100\n",
      "37/37 [==============================] - 4s 115ms/step - loss: 0.0025\n",
      "Epoch 70/100\n",
      "37/37 [==============================] - 4s 114ms/step - loss: 0.0027\n",
      "Epoch 71/100\n",
      "37/37 [==============================] - 4s 115ms/step - loss: 0.0027\n",
      "Epoch 72/100\n",
      "37/37 [==============================] - 5s 129ms/step - loss: 0.0024\n",
      "Epoch 73/100\n",
      "37/37 [==============================] - 4s 116ms/step - loss: 0.0028\n",
      "Epoch 74/100\n",
      "37/37 [==============================] - 4s 117ms/step - loss: 0.0023\n",
      "Epoch 75/100\n",
      "37/37 [==============================] - 4s 116ms/step - loss: 0.0024\n",
      "Epoch 76/100\n",
      "37/37 [==============================] - 4s 119ms/step - loss: 0.0024\n",
      "Epoch 77/100\n",
      "37/37 [==============================] - 4s 121ms/step - loss: 0.0022\n",
      "Epoch 78/100\n",
      "37/37 [==============================] - 4s 119ms/step - loss: 0.0029\n",
      "Epoch 79/100\n",
      "37/37 [==============================] - 5s 133ms/step - loss: 0.0022\n",
      "Epoch 80/100\n",
      "37/37 [==============================] - 4s 121ms/step - loss: 0.0025\n",
      "Epoch 81/100\n",
      "37/37 [==============================] - 5s 122ms/step - loss: 0.0023\n",
      "Epoch 82/100\n",
      "37/37 [==============================] - 4s 115ms/step - loss: 0.0024\n",
      "Epoch 83/100\n",
      "37/37 [==============================] - 4s 118ms/step - loss: 0.0020\n",
      "Epoch 84/100\n",
      "37/37 [==============================] - 4s 116ms/step - loss: 0.0024\n",
      "Epoch 85/100\n",
      "37/37 [==============================] - 4s 112ms/step - loss: 0.0021\n",
      "Epoch 86/100\n",
      "37/37 [==============================] - 5s 132ms/step - loss: 0.0023\n",
      "Epoch 87/100\n",
      "37/37 [==============================] - 4s 117ms/step - loss: 0.0022\n",
      "Epoch 88/100\n",
      "37/37 [==============================] - 4s 116ms/step - loss: 0.0022\n",
      "Epoch 89/100\n",
      "37/37 [==============================] - 4s 114ms/step - loss: 0.0019\n",
      "Epoch 90/100\n",
      "37/37 [==============================] - 4s 115ms/step - loss: 0.0020\n",
      "Epoch 91/100\n",
      "37/37 [==============================] - 4s 118ms/step - loss: 0.0019\n",
      "Epoch 92/100\n",
      "37/37 [==============================] - 4s 115ms/step - loss: 0.0020\n",
      "Epoch 93/100\n",
      "37/37 [==============================] - 5s 133ms/step - loss: 0.0020\n",
      "Epoch 94/100\n",
      "37/37 [==============================] - 5s 122ms/step - loss: 0.0019\n",
      "Epoch 95/100\n",
      "37/37 [==============================] - 4s 116ms/step - loss: 0.0019\n",
      "Epoch 96/100\n",
      "37/37 [==============================] - 4s 116ms/step - loss: 0.0019\n",
      "Epoch 97/100\n",
      "37/37 [==============================] - 4s 116ms/step - loss: 0.0020\n",
      "Epoch 98/100\n",
      "37/37 [==============================] - 4s 116ms/step - loss: 0.0020\n",
      "Epoch 99/100\n",
      "37/37 [==============================] - 4s 115ms/step - loss: 0.0018\n",
      "Epoch 100/100\n",
      "37/37 [==============================] - 5s 129ms/step - loss: 0.0018\n"
     ]
    },
    {
     "data": {
      "text/plain": [
       "<keras.callbacks.History at 0x7fd08a878550>"
      ]
     },
     "execution_count": 16,
     "metadata": {},
     "output_type": "execute_result"
    }
   ],
   "source": [
    "# Import Library \n",
    "from keras.models import Sequential\n",
    "from keras.layers import Dense, SimpleRNN, Dropout\n",
    "\n",
    "# Initialising the RNN\n",
    "regressor = Sequential()\n",
    "\n",
    "# Add the first RNN layer and some Dropout regularisation\n",
    "regressor.add(SimpleRNN(units = 50, activation = \"tanh\", return_sequences = True, input_shape = (X_train.shape[1], 1)))\n",
    "regressor.add(Dropout(0.2))\n",
    "\n",
    "# Second RNN layer and some Dropout regularisation\n",
    "regressor.add(SimpleRNN(units = 50, activation = \"tanh\", return_sequences = True))\n",
    "regressor.add(Dropout(0.2))\n",
    "\n",
    "# Third RNN layer and some Dropout regularisation\n",
    "regressor.add(SimpleRNN(units = 50, activation = \"tanh\", return_sequences = True))\n",
    "regressor.add(Dropout(0.2))\n",
    "\n",
    "# Fourth RNN layer and some Dropout regularisation\n",
    "regressor.add(SimpleRNN(units = 50))\n",
    "regressor.add(Dropout(0.2))\n",
    "\n",
    "# Add the output layer\n",
    "regressor.add(Dense(units = 1))\n",
    "\n",
    "# Compiling the RNN\n",
    "regressor.compile(optimizer = \"adam\", loss = \"mean_squared_error\")\n",
    "\n",
    "# Fitting the RNN to the training set\n",
    "regressor.fit(X_train, Y_train, epochs = 100, batch_size = 32)"
   ]
  },
  {
   "cell_type": "markdown",
   "id": "182b899e",
   "metadata": {
    "papermill": {
     "duration": 0.202051,
     "end_time": "2022-09-08T14:55:29.397438",
     "exception": false,
     "start_time": "2022-09-08T14:55:29.195387",
     "status": "completed"
    },
    "tags": []
   },
   "source": [
    "## Predictions And Visualising RNN Model <a id = \"4\"></a>\n",
    "[Go Content](#cont)\n",
    "\n",
    "In this chapter, I will check result about RNN model."
   ]
  },
  {
   "cell_type": "markdown",
   "id": "a3ee3bdc",
   "metadata": {
    "papermill": {
     "duration": 0.203275,
     "end_time": "2022-09-08T14:55:29.801603",
     "exception": false,
     "start_time": "2022-09-08T14:55:29.598328",
     "status": "completed"
    },
    "tags": []
   },
   "source": [
    "I prepare the test dataset."
   ]
  },
  {
   "cell_type": "code",
   "execution_count": 17,
   "id": "05cb8ab5",
   "metadata": {
    "execution": {
     "iopub.execute_input": "2022-09-08T14:55:30.284097Z",
     "iopub.status.busy": "2022-09-08T14:55:30.282811Z",
     "iopub.status.idle": "2022-09-08T14:55:30.288596Z",
     "shell.execute_reply": "2022-09-08T14:55:30.287308Z"
    },
    "papermill": {
     "duration": 0.283901,
     "end_time": "2022-09-08T14:55:30.290538",
     "exception": false,
     "start_time": "2022-09-08T14:55:30.006637",
     "status": "completed"
    },
    "tags": []
   },
   "outputs": [],
   "source": [
    "inputs = data_set[len(data_set) - len(test) - timesteps:]\n",
    "inputs = scaler.transform(inputs)"
   ]
  },
  {
   "cell_type": "code",
   "execution_count": 18,
   "id": "e804db45",
   "metadata": {
    "execution": {
     "iopub.execute_input": "2022-09-08T14:55:30.677320Z",
     "iopub.status.busy": "2022-09-08T14:55:30.676568Z",
     "iopub.status.idle": "2022-09-08T14:55:31.234012Z",
     "shell.execute_reply": "2022-09-08T14:55:31.232715Z"
    },
    "papermill": {
     "duration": 0.748737,
     "end_time": "2022-09-08T14:55:31.236668",
     "exception": false,
     "start_time": "2022-09-08T14:55:30.487931",
     "status": "completed"
    },
    "tags": []
   },
   "outputs": [],
   "source": [
    "X_test = []\n",
    "for i in range(timesteps, inputs.shape[0]):\n",
    "    X_test.append(inputs[i - timesteps:i, 0])\n",
    "    \n",
    "X_test_rnn = np.array(X_test)\n",
    "X_test_rnn = np.reshape(X_test_rnn, (X_test_rnn.shape[0], X_test_rnn.shape[1], 1))\n",
    "predicted_stock_price = regressor.predict(X_test_rnn)\n",
    "predicted_stock_price = scaler.inverse_transform(predicted_stock_price)"
   ]
  },
  {
   "cell_type": "markdown",
   "id": "57b66ae8",
   "metadata": {
    "papermill": {
     "duration": 0.201011,
     "end_time": "2022-09-08T14:55:31.639534",
     "exception": false,
     "start_time": "2022-09-08T14:55:31.438523",
     "status": "completed"
    },
    "tags": []
   },
   "source": [
    "I visualize the training result of the test dataset."
   ]
  },
  {
   "cell_type": "code",
   "execution_count": 19,
   "id": "4e4ac081",
   "metadata": {
    "execution": {
     "iopub.execute_input": "2022-09-08T14:55:32.046133Z",
     "iopub.status.busy": "2022-09-08T14:55:32.045831Z",
     "iopub.status.idle": "2022-09-08T14:55:32.210265Z",
     "shell.execute_reply": "2022-09-08T14:55:32.209253Z"
    },
    "papermill": {
     "duration": 0.36938,
     "end_time": "2022-09-08T14:55:32.212064",
     "exception": false,
     "start_time": "2022-09-08T14:55:31.842684",
     "status": "completed"
    },
    "tags": []
   },
   "outputs": [
    {
     "data": {
      "image/png": "[encoded data removed]",
      "text/plain": [
       "<Figure size 432x288 with 1 Axes>"
      ]
     },
     "metadata": {
      "needs_background": "light"
     },
     "output_type": "display_data"
    }
   ],
   "source": [
    "# visualising the results\n",
    "plt.plot(test, color = \"red\", label = \"Real Google Stock Price\")\n",
    "plt.plot(predicted_stock_price, color = \"blue\", label = \"Predicted Google Stock Price\")\n",
    "plt.title(\"Google Stock Price Prediction\")\n",
    "plt.xlabel(\"Time\")\n",
    "plt.ylabel(\"Google Stock Price\")\n",
    "plt.legend()\n",
    "plt.show()"
   ]
  },
  {
   "cell_type": "markdown",
   "id": "ab55a8e9",
   "metadata": {
    "papermill": {
     "duration": 0.248151,
     "end_time": "2022-09-08T14:55:32.663711",
     "exception": false,
     "start_time": "2022-09-08T14:55:32.415560",
     "status": "completed"
    },
    "tags": []
   },
   "source": [
    "# Long Short Term Memory(LSTM) <a id = \"5\"></a>\n",
    "[Go Content](#cont)\n",
    "\n",
    "**What is The Long Shrt Term Memory(LSTM)?**<br>\n",
    "Long Short Term Memory is a kind of recurrent neural network. In RNN output from the last step is fed as input in the current step. LSTM was designed by Hochreiter & Schmidhuber. It tackled the problem of long-term dependencies of RNN in which the RNN cannot predict the word stored in the long-term memory but can give more accurate predictions from the recent information. As the gap length increases RNN does not give an efficient performance. LSTM can by default retain the information for a long period of time. It is used for processing, predicting, and classifying on the basis of time-series data.\n",
    "\n",
    "If you want more information about RNN, [click here.](https://www.geeksforgeeks.org/deep-learning-introduction-to-long-short-term-memory/)"
   ]
  },
  {
   "cell_type": "markdown",
   "id": "44444c92",
   "metadata": {
    "papermill": {
     "duration": 0.193197,
     "end_time": "2022-09-08T14:55:33.058660",
     "exception": false,
     "start_time": "2022-09-08T14:55:32.865463",
     "status": "completed"
    },
    "tags": []
   },
   "source": [
    "## Create And Training LSTM Model <a id = \"6\"></a>\n",
    "[Go Content](#cont)\n",
    "\n",
    "I will prepare the dataset and I will do to train with the LSTM model."
   ]
  },
  {
   "cell_type": "markdown",
   "id": "cc3e744f",
   "metadata": {
    "papermill": {
     "duration": 0.206283,
     "end_time": "2022-09-08T14:55:33.469445",
     "exception": false,
     "start_time": "2022-09-08T14:55:33.263162",
     "status": "completed"
    },
    "tags": []
   },
   "source": [
    "I prepare trainX dataset for LSTM model. I just change its shape."
   ]
  },
  {
   "cell_type": "code",
   "execution_count": 20,
   "id": "95c40635",
   "metadata": {
    "execution": {
     "iopub.execute_input": "2022-09-08T14:55:33.879434Z",
     "iopub.status.busy": "2022-09-08T14:55:33.878849Z",
     "iopub.status.idle": "2022-09-08T14:55:33.883626Z",
     "shell.execute_reply": "2022-09-08T14:55:33.882618Z"
    },
    "papermill": {
     "duration": 0.212925,
     "end_time": "2022-09-08T14:55:33.885731",
     "exception": false,
     "start_time": "2022-09-08T14:55:33.672806",
     "status": "completed"
    },
    "tags": []
   },
   "outputs": [],
   "source": [
    "trainX = np.reshape(X_train, (X_train.shape[0], 1, X_train.shape[1]))"
   ]
  },
  {
   "cell_type": "code",
   "execution_count": 21,
   "id": "4040b3b8",
   "metadata": {
    "execution": {
     "iopub.execute_input": "2022-09-08T14:55:34.340955Z",
     "iopub.status.busy": "2022-09-08T14:55:34.340267Z",
     "iopub.status.idle": "2022-09-08T14:55:34.395779Z",
     "shell.execute_reply": "2022-09-08T14:55:34.394746Z"
    },
    "papermill": {
     "duration": 0.26043,
     "end_time": "2022-09-08T14:55:34.398006",
     "exception": false,
     "start_time": "2022-09-08T14:55:34.137576",
     "status": "completed"
    },
    "tags": []
   },
   "outputs": [],
   "source": [
    "# Import Library For LSTM Model\n",
    "import math\n",
    "from keras.models import Sequential\n",
    "from keras.layers import Dense, LSTM\n",
    "from sklearn.preprocessing import MinMaxScaler\n",
    "from sklearn.metrics import mean_squared_error"
   ]
  },
  {
   "cell_type": "markdown",
   "id": "26d5348e",
   "metadata": {
    "papermill": {
     "duration": 0.201559,
     "end_time": "2022-09-08T14:55:34.803440",
     "exception": false,
     "start_time": "2022-09-08T14:55:34.601881",
     "status": "completed"
    },
    "tags": []
   },
   "source": [
    "I create the LSTM model and I start the training."
   ]
  },
  {
   "cell_type": "code",
   "execution_count": 22,
   "id": "606685ac",
   "metadata": {
    "execution": {
     "iopub.execute_input": "2022-09-08T14:55:35.206933Z",
     "iopub.status.busy": "2022-09-08T14:55:35.206457Z",
     "iopub.status.idle": "2022-09-08T14:57:12.620382Z",
     "shell.execute_reply": "2022-09-08T14:57:12.619631Z"
    },
    "papermill": {
     "duration": 97.61859,
     "end_time": "2022-09-08T14:57:12.621971",
     "exception": false,
     "start_time": "2022-09-08T14:55:35.003381",
     "status": "completed"
    },
    "tags": []
   },
   "outputs": [
    {
     "name": "stdout",
     "output_type": "stream",
     "text": [
      "Epoch 1/50\n",
      "1158/1158 [==============================] - 3s 2ms/step - loss: 0.0090\n",
      "Epoch 2/50\n",
      "1158/1158 [==============================] - 2s 2ms/step - loss: 0.0019\n",
      "Epoch 3/50\n",
      "1158/1158 [==============================] - 2s 2ms/step - loss: 0.0013\n",
      "Epoch 4/50\n",
      "1158/1158 [==============================] - 2s 2ms/step - loss: 0.0012\n",
      "Epoch 5/50\n",
      "1158/1158 [==============================] - 2s 2ms/step - loss: 0.0012\n",
      "Epoch 6/50\n",
      "1158/1158 [==============================] - 2s 2ms/step - loss: 0.0011\n",
      "Epoch 7/50\n",
      "1158/1158 [==============================] - 2s 2ms/step - loss: 9.6333e-04\n",
      "Epoch 8/50\n",
      "1158/1158 [==============================] - 2s 2ms/step - loss: 8.7543e-04\n",
      "Epoch 9/50\n",
      "1158/1158 [==============================] - 2s 2ms/step - loss: 9.1002e-04\n",
      "Epoch 10/50\n",
      "1158/1158 [==============================] - 2s 2ms/step - loss: 8.0047e-04\n",
      "Epoch 11/50\n",
      "1158/1158 [==============================] - 2s 2ms/step - loss: 8.8017e-04\n",
      "Epoch 12/50\n",
      "1158/1158 [==============================] - 2s 2ms/step - loss: 8.6952e-04\n",
      "Epoch 13/50\n",
      "1158/1158 [==============================] - 2s 2ms/step - loss: 6.7882e-04\n",
      "Epoch 14/50\n",
      "1158/1158 [==============================] - 2s 2ms/step - loss: 7.3360e-04\n",
      "Epoch 15/50\n",
      "1158/1158 [==============================] - 2s 2ms/step - loss: 7.4246e-04\n",
      "Epoch 16/50\n",
      "1158/1158 [==============================] - 2s 2ms/step - loss: 7.3107e-04\n",
      "Epoch 17/50\n",
      "1158/1158 [==============================] - 2s 2ms/step - loss: 7.6291e-04\n",
      "Epoch 18/50\n",
      "1158/1158 [==============================] - 2s 2ms/step - loss: 7.4422e-04\n",
      "Epoch 19/50\n",
      "1158/1158 [==============================] - 2s 2ms/step - loss: 6.4169e-04\n",
      "Epoch 20/50\n",
      "1158/1158 [==============================] - 2s 2ms/step - loss: 6.5290e-04\n",
      "Epoch 21/50\n",
      "1158/1158 [==============================] - 2s 2ms/step - loss: 6.8708e-04\n",
      "Epoch 22/50\n",
      "1158/1158 [==============================] - 2s 2ms/step - loss: 6.5918e-04\n",
      "Epoch 23/50\n",
      "1158/1158 [==============================] - 2s 2ms/step - loss: 6.2162e-04\n",
      "Epoch 24/50\n",
      "1158/1158 [==============================] - 2s 2ms/step - loss: 6.4301e-04\n",
      "Epoch 25/50\n",
      "1158/1158 [==============================] - 2s 2ms/step - loss: 7.0809e-04\n",
      "Epoch 26/50\n",
      "1158/1158 [==============================] - 2s 2ms/step - loss: 5.5992e-04\n",
      "Epoch 27/50\n",
      "1158/1158 [==============================] - 2s 2ms/step - loss: 5.8677e-04\n",
      "Epoch 28/50\n",
      "1158/1158 [==============================] - 2s 2ms/step - loss: 5.6620e-04\n",
      "Epoch 29/50\n",
      "1158/1158 [==============================] - 2s 2ms/step - loss: 6.4009e-04\n",
      "Epoch 30/50\n",
      "1158/1158 [==============================] - 2s 2ms/step - loss: 6.0277e-04\n",
      "Epoch 31/50\n",
      "1158/1158 [==============================] - 2s 2ms/step - loss: 6.2402e-04\n",
      "Epoch 32/50\n",
      "1158/1158 [==============================] - 2s 2ms/step - loss: 5.6086e-04\n",
      "Epoch 33/50\n",
      "1158/1158 [==============================] - 2s 2ms/step - loss: 5.8974e-04\n",
      "Epoch 34/50\n",
      "1158/1158 [==============================] - 2s 2ms/step - loss: 6.3941e-04\n",
      "Epoch 35/50\n",
      "1158/1158 [==============================] - 2s 2ms/step - loss: 5.6898e-04\n",
      "Epoch 36/50\n",
      "1158/1158 [==============================] - 2s 2ms/step - loss: 6.2504e-04\n",
      "Epoch 37/50\n",
      "1158/1158 [==============================] - 2s 2ms/step - loss: 6.1400e-04\n",
      "Epoch 38/50\n",
      "1158/1158 [==============================] - 2s 2ms/step - loss: 5.8063e-04\n",
      "Epoch 39/50\n",
      "1158/1158 [==============================] - 2s 2ms/step - loss: 5.7735e-04\n",
      "Epoch 40/50\n",
      "1158/1158 [==============================] - 2s 2ms/step - loss: 5.2541e-04\n",
      "Epoch 41/50\n",
      "1158/1158 [==============================] - 2s 2ms/step - loss: 5.4862e-04\n",
      "Epoch 42/50\n",
      "1158/1158 [==============================] - 2s 2ms/step - loss: 5.1177e-04\n",
      "Epoch 43/50\n",
      "1158/1158 [==============================] - 2s 2ms/step - loss: 5.7882e-04\n",
      "Epoch 44/50\n",
      "1158/1158 [==============================] - 2s 2ms/step - loss: 5.4800e-04\n",
      "Epoch 45/50\n",
      "1158/1158 [==============================] - 2s 2ms/step - loss: 5.4205e-04\n",
      "Epoch 46/50\n",
      "1158/1158 [==============================] - 2s 2ms/step - loss: 5.3768e-04\n",
      "Epoch 47/50\n",
      "1158/1158 [==============================] - 2s 2ms/step - loss: 5.5688e-04\n",
      "Epoch 48/50\n",
      "1158/1158 [==============================] - 2s 2ms/step - loss: 5.5688e-04\n",
      "Epoch 49/50\n",
      "1158/1158 [==============================] - 2s 2ms/step - loss: 5.0641e-04\n",
      "Epoch 50/50\n",
      "1158/1158 [==============================] - 2s 2ms/step - loss: 4.9783e-04\n"
     ]
    },
    {
     "data": {
      "text/plain": [
       "<keras.callbacks.History at 0x7fd081b9fc10>"
      ]
     },
     "execution_count": 22,
     "metadata": {},
     "output_type": "execute_result"
    }
   ],
   "source": [
    "model = Sequential()\n",
    "model.add(LSTM(10, input_shape = (1, timesteps)))\n",
    "model.add(Dense(1))\n",
    "model.compile(loss = \"mean_squared_error\", optimizer = \"adam\")\n",
    "model.fit(trainX, Y_train, epochs = 50, batch_size = 1)"
   ]
  },
  {
   "cell_type": "markdown",
   "id": "83553b18",
   "metadata": {
    "papermill": {
     "duration": 0.305485,
     "end_time": "2022-09-08T14:57:13.232372",
     "exception": false,
     "start_time": "2022-09-08T14:57:12.926887",
     "status": "completed"
    },
    "tags": []
   },
   "source": [
    "## Predictions And Visualising LSTM Model <a id = \"7\"></a>\n",
    "[Go Content](#cont)\n",
    "\n",
    "In this chapter, I will check result about LSTM model."
   ]
  },
  {
   "cell_type": "code",
   "execution_count": 23,
   "id": "0a5e72d4",
   "metadata": {
    "execution": {
     "iopub.execute_input": "2022-09-08T14:57:13.890227Z",
     "iopub.status.busy": "2022-09-08T14:57:13.889870Z",
     "iopub.status.idle": "2022-09-08T14:57:14.237598Z",
     "shell.execute_reply": "2022-09-08T14:57:14.236396Z"
    },
    "papermill": {
     "duration": 0.703389,
     "end_time": "2022-09-08T14:57:14.239983",
     "exception": false,
     "start_time": "2022-09-08T14:57:13.536594",
     "status": "completed"
    },
    "tags": []
   },
   "outputs": [],
   "source": [
    "# Prepare test dataset\n",
    "testX = np.array(X_test)\n",
    "testX = testX.reshape(testX.shape[0], 1, testX.shape[1])\n",
    "\n",
    "# Predict with testX\n",
    "predict_lstm = model.predict(testX)\n",
    "predict_lstm = scaler.inverse_transform(predict_lstm)"
   ]
  },
  {
   "cell_type": "markdown",
   "id": "2f3efcf3",
   "metadata": {
    "papermill": {
     "duration": 0.302704,
     "end_time": "2022-09-08T14:57:14.848332",
     "exception": false,
     "start_time": "2022-09-08T14:57:14.545628",
     "status": "completed"
    },
    "tags": []
   },
   "source": [
    "I visualize the training result of the test dataset."
   ]
  },
  {
   "cell_type": "code",
   "execution_count": 24,
   "id": "97c123ff",
   "metadata": {
    "execution": {
     "iopub.execute_input": "2022-09-08T14:57:15.505891Z",
     "iopub.status.busy": "2022-09-08T14:57:15.505354Z",
     "iopub.status.idle": "2022-09-08T14:57:15.664587Z",
     "shell.execute_reply": "2022-09-08T14:57:15.663244Z"
    },
    "papermill": {
     "duration": 0.513471,
     "end_time": "2022-09-08T14:57:15.666719",
     "exception": false,
     "start_time": "2022-09-08T14:57:15.153248",
     "status": "completed"
    },
    "tags": []
   },
   "outputs": [
    {
     "data": {
      "image/png": "[encoded data removed]",
      "text/plain": [
       "<Figure size 432x288 with 1 Axes>"
      ]
     },
     "metadata": {
      "needs_background": "light"
     },
     "output_type": "display_data"
    }
   ],
   "source": [
    "# visualising the results\n",
    "plt.plot(test, color = \"red\", label = \"Real Google Stock Price\")\n",
    "plt.plot(predict_lstm, color = \"blue\", label = \"Predicted Google Stock Price\")\n",
    "plt.title(\"Google Stock Price Prediction\")\n",
    "plt.xlabel(\"Time\")\n",
    "plt.ylabel(\"Google Stock Price\")\n",
    "plt.legend()\n",
    "plt.show()"
   ]
  },
  {
   "cell_type": "markdown",
   "id": "1370d3c3",
   "metadata": {
    "papermill": {
     "duration": 0.300113,
     "end_time": "2022-09-08T14:57:16.269752",
     "exception": false,
     "start_time": "2022-09-08T14:57:15.969639",
     "status": "completed"
    },
    "tags": []
   },
   "source": [
    "# CONCLUSION <a id = \"8\"></a>\n",
    "****\n",
    "[Go Content](#cont) <br>\n",
    "I am learning the English language newly if I make an errata please advise me in the comment. Thank you for reading my notebook, your votes and your comments. I will be waiting for your advice."
   ]
  }
 ],
 "metadata": {
  "kernelspec": {
   "display_name": "Python 3",
   "language": "python",
   "name": "python3"
  },
  "language_info": {
   "codemirror_mode": {
    "name": "ipython",
    "version": 3
   },
   "file_extension": ".py",
   "mimetype": "text/x-python",
   "name": "python",
   "nbconvert_exporter": "python",
   "pygments_lexer": "ipython3",
   "version": "3.7.12"
  },
  "papermill": {
   "default_parameters": {},
   "duration": 571.368981,
   "end_time": "2022-09-08T14:57:19.481461",
   "environment_variables": {},
   "exception": null,
   "input_path": "__notebook__.ipynb",
   "output_path": "__notebook__.ipynb",
   "parameters": {},
   "start_time": "2022-09-08T14:47:48.112480",
   "version": "2.3.4"
  }
 },
 "nbformat": 4,
 "nbformat_minor": 5
}
