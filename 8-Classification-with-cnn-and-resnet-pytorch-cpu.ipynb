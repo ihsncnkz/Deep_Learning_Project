{
 "cells": [
  {
   "cell_type": "markdown",
   "id": "284e2b6d",
   "metadata": {
    "papermill": {
     "duration": 0.01566,
     "end_time": "2022-09-12T16:12:55.226719",
     "exception": false,
     "start_time": "2022-09-12T16:12:55.211059",
     "status": "completed"
    },
    "tags": []
   },
   "source": [
    "# Introduction\n",
    "\n",
    "Hello, I continue to learn from where I left off. I share with you my projects in this learning path. Before I talk about this subject, I would like to give you information about this notebook that I will prepare.\n",
    "\n",
    "My purpose of prepare this notebook is because I want to improve myself about the Pytorch and the ResNet. In this notebook, I will use two models of Deep Learning. These are the Residual neural network(ResNet) and Convolutional Neural Network(CNN). I will constitute these models with Pytorch. Firstly, I will prepare the dataset for the models. After I will visualize two images from the dataset I have prepared. After preparing the dataset, I will prepare the models with PyTorch. After I will start training with prepared models. Finally, I will visualize the results of the models. The general operation of this notebook will be like this. At the same time, We will look the difference between the results of the ResNet and CNN models.\n",
    "\n",
    "As I mentioned earlier, I am currently on a learning path. I started this learning path with data science and then continued with machine learning and now I am learning deep learning topics. I made real a lot of projects on this learning path and I will share them in this chapter. In this learning path, I would be very happy if you would examine my notebook and help me with how to improve my notebook or what I should do in this development path. I wish you a good day and good work.\n",
    "\n",
    "**Information about The Dataset:**\n",
    "- The classification Database is divided in a Train and a Test subset.\n",
    "- The Train set contains 10208 positives and 43390 negatives, while the Test set contains 5944 positives and 22050 negatives. \n",
    "- The negative samples were randomly selected from images not containing pedestrians.\n",
    "- The images in the data set consist of 64x32 pixels.\n",
    "\n",
    "![Sample Image About Dataset](https://www.researchgate.net/publication/287805480/figure/fig3/AS:668583856201745@1536414221921/Examples-from-the-Classification-Dataset-a-examples-of-pedestrians-and-b-examples.png)\n",
    "\n",
    "- (a) Pictures with pedestrians in them.\n",
    "- (b) Random pictures with no pedestrians.\n",
    "\n",
    "My projects about Deep Learning:<br>\n",
    "- [Gender Prediction With Logistic Regression](https://www.kaggle.com/code/ihsncnkz/gender-prediction-with-logistic-regression)\n",
    "- [Cat And Dog Prediction With ANN](https://www.kaggle.com/code/ihsncnkz/cat-and-dog-prediction-with-ann)\n",
    "- [Linear Regression With Pytorch](https://www.kaggle.com/code/ihsncnkz/linear-regression-with-pytorch)\n",
    "- [My First Convolutional Neural Network(CNN) Work](https://www.kaggle.com/code/ihsncnkz/my-first-convolutional-neural-network-cnn-work)\n",
    "- [Predict With CNN Model](https://www.kaggle.com/code/ihsncnkz/predict-with-cnn-model)\n",
    "- [Logistic Regression, ANN And CNN With Pytorch](https://www.kaggle.com/code/ihsncnkz/logistic-regression-ann-and-cnn-with-pytorch)\n",
    "- [RNN And LSTM With Keras](https://www.kaggle.com/code/ihsncnkz/rnn-and-lstm-with-keras)\n",
    "\n",
    "My projects about Data Science and Machine Learning:\n",
    "- [GPU Search](https://www.kaggle.com/code/ihsncnkz/gpu-search)\n",
    "- [EDA And Linear Regression](https://www.kaggle.com/code/ihsncnkz/eda-and-linear-regression)\n",
    "- [Regression Models](https://www.kaggle.com/code/ihsncnkz/regression-models)\n",
    "- [Logistic Regression](https://www.kaggle.com/code/ihsncnkz/logistic-regression)\n",
    "- [Classification With K-Nearest Neighbors(KNN)](https://www.kaggle.com/code/ihsncnkz/classification-with-k-nearest-neighbors-knn)\n",
    "- [Classification With Support Vector Machine(SVM)](https://www.kaggle.com/code/ihsncnkz/classification-with-support-vector-machine-svm)\n",
    "- [Classification With Naive Bayes Classification](https://www.kaggle.com/code/ihsncnkz/classification-with-naive-bayes-classification)\n",
    "- [Decision Tree And Random Forest Classifier Models](https://www.kaggle.com/code/ihsncnkz/decision-tree-and-random-forest-classifier-models)\n",
    "- [K-Means And Hierarchical Clustering With 3D Plotly](https://www.kaggle.com/code/ihsncnkz/k-means-and-hierarchical-clustering-with-3d-plotly)\n",
    "- [Natural Language Process(NLP) With Naive Bayes](https://www.kaggle.com/code/ihsncnkz/natural-language-process-nlp-with-naive-bayes)\n",
    "- [Recommendation System With KNN](https://www.kaggle.com/code/ihsncnkz/recommendation-system-with-knn)"
   ]
  },
  {
   "cell_type": "markdown",
   "id": "6dc90f68",
   "metadata": {
    "papermill": {
     "duration": 0.013763,
     "end_time": "2022-09-12T16:12:55.255218",
     "exception": false,
     "start_time": "2022-09-12T16:12:55.241455",
     "status": "completed"
    },
    "tags": []
   },
   "source": [
    "# Content <a id = \"cont\"></a>\n",
    "- [Convolutional Neural Network(CNN)](#1)\n",
    "    - [Load And Prepare Dataset](#a)\n",
    "        - [Load Train Negative](#a1)\n",
    "        - [Load Train Positive](#a2)\n",
    "        - [Concat Train](#a3)\n",
    "        - [Load Test Negative](#a4)\n",
    "        - [Load Test Positive](#a5)\n",
    "        - [Concat Test](#a6)\n",
    "        - [Create Tensor](#a7)\n",
    "    - [Visualizetion](#b)\n",
    "    - [Create Model ](#c)\n",
    "    - [Traning Model](#d)\n",
    "    - [Visualize The Results](#e)\n",
    "    \n",
    "    \n",
    "- [Residual neural network(ResNet)](#2)\n",
    "    - [Load and Prepare Dataset](#1a)\n",
    "        - [Load Train Negative](#1a1)\n",
    "        - [Load Train Positive](#1a2)\n",
    "        - [Concat Train](#1a3)\n",
    "        - [Load Test Negative](#1a4)\n",
    "        - [Load Test Positive](#1a5)\n",
    "        - [Concat Test](#1a6)\n",
    "        - [Create Tensor](#1a7)\n",
    "    - [Visualization](#2a)\n",
    "    - [Create Model](#3a)\n",
    "    - [Training Model](#4a)\n",
    "    - [Visualize The Result](#5a)\n",
    "    \n",
    "    \n",
    "- [CONCLUSION](#3)"
   ]
  },
  {
   "cell_type": "code",
   "execution_count": 1,
   "id": "389cba99",
   "metadata": {
    "_cell_guid": "b1076dfc-b9ad-4769-8c92-a6c4dae69d19",
    "_uuid": "8f2839f25d086af736a60e9eeb907d3b93b6e0e5",
    "execution": {
     "iopub.execute_input": "2022-09-12T16:12:55.288388Z",
     "iopub.status.busy": "2022-09-12T16:12:55.287759Z",
     "iopub.status.idle": "2022-09-12T16:12:57.947193Z",
     "shell.execute_reply": "2022-09-12T16:12:57.946103Z"
    },
    "papermill": {
     "duration": 2.678895,
     "end_time": "2022-09-12T16:12:57.950196",
     "exception": false,
     "start_time": "2022-09-12T16:12:55.271301",
     "status": "completed"
    },
    "tags": []
   },
   "outputs": [],
   "source": [
    "# İmport Library\n",
    "import numpy as np # linear algebra\n",
    "import pandas as pd # data processing, CSV file I/O (e.g. pd.read_csv)\n",
    "import matplotlib.pyplot as plt\n",
    "import seaborn as sns\n",
    "import os\n",
    "import torch\n",
    "import torch.nn as nn\n",
    "import torch.nn.functional as F\n",
    "import torch.utils.data\n",
    "import torch.optim as optim\n",
    "from PIL import Image\n",
    "import time"
   ]
  },
  {
   "cell_type": "markdown",
   "id": "83ea404e",
   "metadata": {
    "papermill": {
     "duration": 0.014004,
     "end_time": "2022-09-12T16:12:57.980243",
     "exception": false,
     "start_time": "2022-09-12T16:12:57.966239",
     "status": "completed"
    },
    "tags": []
   },
   "source": [
    "**Device confic Ekstra**<br>\n",
    "If you want to use GPU, You apply the codes below."
   ]
  },
  {
   "cell_type": "code",
   "execution_count": 2,
   "id": "112846b1",
   "metadata": {
    "execution": {
     "iopub.execute_input": "2022-09-12T16:12:58.011606Z",
     "iopub.status.busy": "2022-09-12T16:12:58.010676Z",
     "iopub.status.idle": "2022-09-12T16:12:58.016205Z",
     "shell.execute_reply": "2022-09-12T16:12:58.015477Z"
    },
    "papermill": {
     "duration": 0.023966,
     "end_time": "2022-09-12T16:12:58.018616",
     "exception": false,
     "start_time": "2022-09-12T16:12:57.994650",
     "status": "completed"
    },
    "tags": []
   },
   "outputs": [
    {
     "name": "stdout",
     "output_type": "stream",
     "text": [
      "Device: cpu\n"
     ]
    }
   ],
   "source": [
    "device = torch.device(\"cuda:0\" if torch.cuda.is_available() else \"cpu\")\n",
    "print(\"Device:\", device)"
   ]
  },
  {
   "cell_type": "markdown",
   "id": "bd2578d2",
   "metadata": {
    "papermill": {
     "duration": 0.013976,
     "end_time": "2022-09-12T16:12:58.047816",
     "exception": false,
     "start_time": "2022-09-12T16:12:58.033840",
     "status": "completed"
    },
    "tags": []
   },
   "source": [
    "# Convolutional Neural Network(CNN) <a id = \"1\"></a>\n",
    "\n",
    "**What is The Convolutional Neural Network(CNN)?**\n",
    "\n",
    "A Convolutional Neural Network (ConvNet/CNN) is a Deep Learning algorithm which can take in an input image, assign importance (learnable weights and biases) to various aspects/objects in the image and be able to differentiate one from the other. The pre-processing required in a ConvNet is much lower as compared to other classification algorithms. While in primitive methods filters are hand-engineered, with enough training, ConvNets have the ability to learn these filters/characteristics.\n",
    "\n",
    "The architecture of a ConvNet is analogous to that of the connectivity pattern of Neurons in the Human Brain and was inspired by the organization of the Visual Cortex. Individual neurons respond to stimuli only in a restricted region of the visual field known as the Receptive Field. A collection of such fields overlap to cover the entire visual area.\n",
    "\n",
    "The more information on Convolutional Neural Network(CNN) model for [click here](https://towardsdatascience.com/a-comprehensive-guide-to-convolutional-neural-networks-the-eli5-way-3bd2b1164a53)\n",
    "\n",
    "In this chapter, I will apply The CNN model to the dataset."
   ]
  },
  {
   "cell_type": "markdown",
   "id": "d31ef94a",
   "metadata": {
    "papermill": {
     "duration": 0.014608,
     "end_time": "2022-09-12T16:12:58.076751",
     "exception": false,
     "start_time": "2022-09-12T16:12:58.062143",
     "status": "completed"
    },
    "tags": []
   },
   "source": [
    "## Load And Prepare Dataset <a id = \"a\"></a>\n",
    "[Go Content](#cont)\n",
    "\n",
    "In this chapter, I will prepare the dataset for CNN model.<br>\n",
    "\n",
    "**Roadmap of this chapter:**\n",
    "- Firstly, I will constitute the data load function.\n",
    "    - I will separate the images to array and I will put the arrays I created into the ArrayList.\n",
    "- Secondly, I will constitute train and test datasets.\n"
   ]
  },
  {
   "cell_type": "code",
   "execution_count": 3,
   "id": "34111122",
   "metadata": {
    "execution": {
     "iopub.execute_input": "2022-09-12T16:12:58.107929Z",
     "iopub.status.busy": "2022-09-12T16:12:58.106736Z",
     "iopub.status.idle": "2022-09-12T16:12:58.114967Z",
     "shell.execute_reply": "2022-09-12T16:12:58.113722Z"
    },
    "papermill": {
     "duration": 0.026524,
     "end_time": "2022-09-12T16:12:58.117643",
     "exception": false,
     "start_time": "2022-09-12T16:12:58.091119",
     "status": "completed"
    },
    "tags": []
   },
   "outputs": [],
   "source": [
    "# Data Load Function\n",
    "def read_images(path, numberofImage):\n",
    "    array = np.zeros([numberofImage, 64*32])\n",
    "    i = 0\n",
    "    for img in os.listdir(path):\n",
    "        img_path = path + \"/\" + img\n",
    "        img = Image.open(img_path, mode = \"r\")\n",
    "        data = np.asarray(img, dtype = \"uint8\")\n",
    "        data = data.flatten()\n",
    "        array[i,:] = data\n",
    "        i += 1\n",
    "    return array"
   ]
  },
  {
   "cell_type": "markdown",
   "id": "5ee6f38d",
   "metadata": {
    "papermill": {
     "duration": 0.014021,
     "end_time": "2022-09-12T16:12:58.146100",
     "exception": false,
     "start_time": "2022-09-12T16:12:58.132079",
     "status": "completed"
    },
    "tags": []
   },
   "source": [
    "### Load Train Negative <a id = \"a1\"></a>\n",
    "[Go Content](#cont)\n",
    "\n",
    "In this section, I will upload the negative images from the train folder."
   ]
  },
  {
   "cell_type": "code",
   "execution_count": 4,
   "id": "e2dbfbf0",
   "metadata": {
    "execution": {
     "iopub.execute_input": "2022-09-12T16:12:58.176861Z",
     "iopub.status.busy": "2022-09-12T16:12:58.176413Z",
     "iopub.status.idle": "2022-09-12T16:19:49.344322Z",
     "shell.execute_reply": "2022-09-12T16:19:49.343089Z"
    },
    "papermill": {
     "duration": 411.186714,
     "end_time": "2022-09-12T16:19:49.347108",
     "exception": false,
     "start_time": "2022-09-12T16:12:58.160394",
     "status": "completed"
    },
    "tags": []
   },
   "outputs": [],
   "source": [
    "Train_neg_path = r\"../input/lsifir/LSIFIR/Classification/Train/neg\"\n",
    "num_Train_neg_img = 43390\n",
    "Train_neg_array = read_images(Train_neg_path, num_Train_neg_img)"
   ]
  },
  {
   "cell_type": "code",
   "execution_count": 5,
   "id": "58be3e3f",
   "metadata": {
    "execution": {
     "iopub.execute_input": "2022-09-12T16:19:49.378849Z",
     "iopub.status.busy": "2022-09-12T16:19:49.378415Z",
     "iopub.status.idle": "2022-09-12T16:19:49.385963Z",
     "shell.execute_reply": "2022-09-12T16:19:49.384680Z"
    },
    "papermill": {
     "duration": 0.027868,
     "end_time": "2022-09-12T16:19:49.389986",
     "exception": false,
     "start_time": "2022-09-12T16:19:49.362118",
     "status": "completed"
    },
    "tags": []
   },
   "outputs": [
    {
     "name": "stdout",
     "output_type": "stream",
     "text": [
      "Size of x_Train_neg_Tensor:  torch.Size([43390, 2048])\n",
      "Size of y_Train_neg_Tensor:  torch.Size([43390])\n"
     ]
    }
   ],
   "source": [
    "x_Train_neg_Tensor = torch.from_numpy(Train_neg_array)\n",
    "print(\"Size of x_Train_neg_Tensor: \", x_Train_neg_Tensor.size())\n",
    "\n",
    "# I specify negative images as zero.\n",
    "y_Train_neg_Tensor = torch.zeros(num_Train_neg_img, dtype = torch.long)\n",
    "print(\"Size of y_Train_neg_Tensor: \", y_Train_neg_Tensor.size())"
   ]
  },
  {
   "cell_type": "markdown",
   "id": "6bfbd8ab",
   "metadata": {
    "papermill": {
     "duration": 0.013869,
     "end_time": "2022-09-12T16:19:49.419634",
     "exception": false,
     "start_time": "2022-09-12T16:19:49.405765",
     "status": "completed"
    },
    "tags": []
   },
   "source": [
    "### Load Train Positive <a id = \"a2\"></a>\n",
    "[Go Content](#cont)\n",
    "\n",
    "In this section, I will upload the positive images from the train folder."
   ]
  },
  {
   "cell_type": "code",
   "execution_count": 6,
   "id": "342f083b",
   "metadata": {
    "execution": {
     "iopub.execute_input": "2022-09-12T16:19:49.450641Z",
     "iopub.status.busy": "2022-09-12T16:19:49.450194Z",
     "iopub.status.idle": "2022-09-12T16:21:18.333146Z",
     "shell.execute_reply": "2022-09-12T16:21:18.331712Z"
    },
    "papermill": {
     "duration": 88.901564,
     "end_time": "2022-09-12T16:21:18.336017",
     "exception": false,
     "start_time": "2022-09-12T16:19:49.434453",
     "status": "completed"
    },
    "tags": []
   },
   "outputs": [],
   "source": [
    "Train_pos_path = r\"../input/lsifir/LSIFIR/Classification/Train/pos\"\n",
    "num_Train_pos_img = 10208\n",
    "Train_pos_array = read_images(Train_pos_path, num_Train_pos_img)"
   ]
  },
  {
   "cell_type": "code",
   "execution_count": 7,
   "id": "ce0cf371",
   "metadata": {
    "execution": {
     "iopub.execute_input": "2022-09-12T16:21:18.367682Z",
     "iopub.status.busy": "2022-09-12T16:21:18.366730Z",
     "iopub.status.idle": "2022-09-12T16:21:18.374309Z",
     "shell.execute_reply": "2022-09-12T16:21:18.373220Z"
    },
    "papermill": {
     "duration": 0.026443,
     "end_time": "2022-09-12T16:21:18.377220",
     "exception": false,
     "start_time": "2022-09-12T16:21:18.350777",
     "status": "completed"
    },
    "tags": []
   },
   "outputs": [
    {
     "name": "stdout",
     "output_type": "stream",
     "text": [
      "Size of x_Train_pos_Tensor:  torch.Size([10208, 2048])\n",
      "Size of y_Train_pos_Tensor:  torch.Size([10208])\n"
     ]
    }
   ],
   "source": [
    "x_Train_pos_Tensor = torch.from_numpy(Train_pos_array)\n",
    "print(\"Size of x_Train_pos_Tensor: \", x_Train_pos_Tensor.size())\n",
    "\n",
    "# I specify positive images as one.\n",
    "y_Train_pos_Tensor = torch.ones(num_Train_pos_img, dtype = torch.long)\n",
    "print(\"Size of y_Train_pos_Tensor: \", y_Train_pos_Tensor.size())"
   ]
  },
  {
   "cell_type": "markdown",
   "id": "cc338a5d",
   "metadata": {
    "papermill": {
     "duration": 0.014093,
     "end_time": "2022-09-12T16:21:18.406910",
     "exception": false,
     "start_time": "2022-09-12T16:21:18.392817",
     "status": "completed"
    },
    "tags": []
   },
   "source": [
    "### Concat Train <a id= \"a3\"></a>\n",
    "[Go Content](#cont)\n",
    "\n",
    "I constitute the x_train and y_train from loaded images."
   ]
  },
  {
   "cell_type": "code",
   "execution_count": 8,
   "id": "664a816b",
   "metadata": {
    "execution": {
     "iopub.execute_input": "2022-09-12T16:21:18.437489Z",
     "iopub.status.busy": "2022-09-12T16:21:18.437048Z",
     "iopub.status.idle": "2022-09-12T16:21:18.803151Z",
     "shell.execute_reply": "2022-09-12T16:21:18.801537Z"
    },
    "papermill": {
     "duration": 0.385467,
     "end_time": "2022-09-12T16:21:18.806755",
     "exception": false,
     "start_time": "2022-09-12T16:21:18.421288",
     "status": "completed"
    },
    "tags": []
   },
   "outputs": [
    {
     "name": "stdout",
     "output_type": "stream",
     "text": [
      "Size of X_train:  torch.Size([53598, 2048])\n",
      "Size of Y_train:  torch.Size([53598])\n"
     ]
    }
   ],
   "source": [
    "X_train = torch.cat((x_Train_neg_Tensor, x_Train_pos_Tensor),0)\n",
    "Y_train = torch.cat((y_Train_neg_Tensor, y_Train_pos_Tensor),0)\n",
    "\n",
    "print(\"Size of X_train: \",X_train.size())\n",
    "print(\"Size of Y_train: \",Y_train.size()) "
   ]
  },
  {
   "cell_type": "markdown",
   "id": "38e1bdcf",
   "metadata": {
    "papermill": {
     "duration": 0.014585,
     "end_time": "2022-09-12T16:21:18.836575",
     "exception": false,
     "start_time": "2022-09-12T16:21:18.821990",
     "status": "completed"
    },
    "tags": []
   },
   "source": [
    "### Load Test Negative <a id = \"a4\"></a>\n",
    "[Go Content](#cont)\n",
    "\n",
    "In this section, I will upload the negative images from the test folder."
   ]
  },
  {
   "cell_type": "code",
   "execution_count": 9,
   "id": "d31c8eba",
   "metadata": {
    "execution": {
     "iopub.execute_input": "2022-09-12T16:21:18.868814Z",
     "iopub.status.busy": "2022-09-12T16:21:18.868007Z",
     "iopub.status.idle": "2022-09-12T16:24:42.928621Z",
     "shell.execute_reply": "2022-09-12T16:24:42.927019Z"
    },
    "papermill": {
     "duration": 204.080633,
     "end_time": "2022-09-12T16:24:42.932025",
     "exception": false,
     "start_time": "2022-09-12T16:21:18.851392",
     "status": "completed"
    },
    "tags": []
   },
   "outputs": [],
   "source": [
    "Test_neg_path = r\"../input/lsifir/LSIFIR/Classification/Test/neg\"\n",
    "num_Test_neg_img = 22050\n",
    "Test_neg_array = read_images(Test_neg_path, num_Test_neg_img)"
   ]
  },
  {
   "cell_type": "code",
   "execution_count": 10,
   "id": "54a50fa5",
   "metadata": {
    "execution": {
     "iopub.execute_input": "2022-09-12T16:24:42.964677Z",
     "iopub.status.busy": "2022-09-12T16:24:42.963915Z",
     "iopub.status.idle": "2022-09-12T16:24:42.972402Z",
     "shell.execute_reply": "2022-09-12T16:24:42.970380Z"
    },
    "papermill": {
     "duration": 0.027998,
     "end_time": "2022-09-12T16:24:42.975488",
     "exception": false,
     "start_time": "2022-09-12T16:24:42.947490",
     "status": "completed"
    },
    "tags": []
   },
   "outputs": [
    {
     "name": "stdout",
     "output_type": "stream",
     "text": [
      "Size of x_Train_neg_Tensor:  torch.Size([20855, 2048])\n",
      "Size of y_Train_neg_Tensor:  torch.Size([20855])\n"
     ]
    }
   ],
   "source": [
    "x_Test_neg_Tensor = torch.from_numpy(Test_neg_array[:20855,:])\n",
    "print(\"Size of x_Train_neg_Tensor: \", x_Test_neg_Tensor.size())\n",
    "\n",
    "# I specify negative images as zero.\n",
    "y_Test_neg_Tensor = torch.zeros(20855, dtype = torch.long)\n",
    "print(\"Size of y_Train_neg_Tensor: \", y_Test_neg_Tensor.size())"
   ]
  },
  {
   "cell_type": "markdown",
   "id": "19f57154",
   "metadata": {
    "papermill": {
     "duration": 0.014469,
     "end_time": "2022-09-12T16:24:43.005036",
     "exception": false,
     "start_time": "2022-09-12T16:24:42.990567",
     "status": "completed"
    },
    "tags": []
   },
   "source": [
    "### Load Test Positive <a id=\"a5\"></a>\n",
    "[Go Content](#cont)\n",
    "\n",
    "In this section, I will upload the positive images from the test folder."
   ]
  },
  {
   "cell_type": "code",
   "execution_count": 11,
   "id": "edb63443",
   "metadata": {
    "execution": {
     "iopub.execute_input": "2022-09-12T16:24:43.037920Z",
     "iopub.status.busy": "2022-09-12T16:24:43.037165Z",
     "iopub.status.idle": "2022-09-12T16:25:35.671464Z",
     "shell.execute_reply": "2022-09-12T16:25:35.669797Z"
    },
    "papermill": {
     "duration": 52.654441,
     "end_time": "2022-09-12T16:25:35.674711",
     "exception": false,
     "start_time": "2022-09-12T16:24:43.020270",
     "status": "completed"
    },
    "tags": []
   },
   "outputs": [],
   "source": [
    "Test_pos_path = r\"../input/lsifir/LSIFIR/Classification/Test/pos\"\n",
    "num_Test_pos_img = 5944\n",
    "Test_pos_array = read_images(Test_pos_path, num_Test_pos_img)"
   ]
  },
  {
   "cell_type": "code",
   "execution_count": 12,
   "id": "eed32efd",
   "metadata": {
    "execution": {
     "iopub.execute_input": "2022-09-12T16:25:35.707694Z",
     "iopub.status.busy": "2022-09-12T16:25:35.706993Z",
     "iopub.status.idle": "2022-09-12T16:25:35.715481Z",
     "shell.execute_reply": "2022-09-12T16:25:35.713443Z"
    },
    "papermill": {
     "duration": 0.028208,
     "end_time": "2022-09-12T16:25:35.718357",
     "exception": false,
     "start_time": "2022-09-12T16:25:35.690149",
     "status": "completed"
    },
    "tags": []
   },
   "outputs": [
    {
     "name": "stdout",
     "output_type": "stream",
     "text": [
      "Size of x_Train_neg_Tensor:  torch.Size([5944, 2048])\n",
      "Size of y_Train_neg_Tensor:  torch.Size([5944])\n"
     ]
    }
   ],
   "source": [
    "x_Test_pos_Tensor = torch.from_numpy(Test_pos_array)\n",
    "print(\"Size of x_Train_neg_Tensor: \", x_Test_pos_Tensor.size())\n",
    "\n",
    "# I specify positive images as one.\n",
    "y_Test_pos_Tensor = torch.ones(num_Test_pos_img, dtype = torch.long)\n",
    "print(\"Size of y_Train_neg_Tensor: \", y_Test_pos_Tensor.size())"
   ]
  },
  {
   "cell_type": "markdown",
   "id": "8b71cc75",
   "metadata": {
    "papermill": {
     "duration": 0.014955,
     "end_time": "2022-09-12T16:25:35.748819",
     "exception": false,
     "start_time": "2022-09-12T16:25:35.733864",
     "status": "completed"
    },
    "tags": []
   },
   "source": [
    "### Concat Test <a id = \"a6\"></a>\n",
    "[Go Content](#cont)\n",
    "\n",
    "I constitute the x_test and y_test from loaded images."
   ]
  },
  {
   "cell_type": "code",
   "execution_count": 13,
   "id": "90f4dcb7",
   "metadata": {
    "execution": {
     "iopub.execute_input": "2022-09-12T16:25:35.780308Z",
     "iopub.status.busy": "2022-09-12T16:25:35.779887Z",
     "iopub.status.idle": "2022-09-12T16:25:35.962837Z",
     "shell.execute_reply": "2022-09-12T16:25:35.961301Z"
    },
    "papermill": {
     "duration": 0.202593,
     "end_time": "2022-09-12T16:25:35.966561",
     "exception": false,
     "start_time": "2022-09-12T16:25:35.763968",
     "status": "completed"
    },
    "tags": []
   },
   "outputs": [
    {
     "name": "stdout",
     "output_type": "stream",
     "text": [
      "Size of X_train:  torch.Size([26799, 2048])\n",
      "Size of Y_train:  torch.Size([26799])\n"
     ]
    }
   ],
   "source": [
    "X_test = torch.cat((x_Test_neg_Tensor, x_Test_pos_Tensor),0)\n",
    "Y_test = torch.cat((y_Test_neg_Tensor, y_Test_pos_Tensor),0)\n",
    "\n",
    "print(\"Size of X_train: \",X_test.size())\n",
    "print(\"Size of Y_train: \",Y_test.size()) "
   ]
  },
  {
   "cell_type": "markdown",
   "id": "31265032",
   "metadata": {
    "papermill": {
     "duration": 0.014442,
     "end_time": "2022-09-12T16:25:35.997694",
     "exception": false,
     "start_time": "2022-09-12T16:25:35.983252",
     "status": "completed"
    },
    "tags": []
   },
   "source": [
    "### Create Tensor <a id = \"a7\"></a>\n",
    "[Go Content](#cont)\n",
    "\n",
    "Since I will be building my models with PyTorch, I convert train and test datasets to tensor format, which is the same as array format in PyTorch."
   ]
  },
  {
   "cell_type": "code",
   "execution_count": 14,
   "id": "35ca2a79",
   "metadata": {
    "execution": {
     "iopub.execute_input": "2022-09-12T16:25:36.030310Z",
     "iopub.status.busy": "2022-09-12T16:25:36.029236Z",
     "iopub.status.idle": "2022-09-12T16:25:36.036813Z",
     "shell.execute_reply": "2022-09-12T16:25:36.035517Z"
    },
    "papermill": {
     "duration": 0.026352,
     "end_time": "2022-09-12T16:25:36.039163",
     "exception": false,
     "start_time": "2022-09-12T16:25:36.012811",
     "status": "completed"
    },
    "tags": []
   },
   "outputs": [],
   "source": [
    "batch_size = 8933\n",
    "\n",
    "train = torch.utils.data.TensorDataset(X_train, Y_train)\n",
    "trainloader = torch.utils.data.DataLoader(train, batch_size = batch_size, shuffle = True)\n",
    "\n",
    "test = torch.utils.data.TensorDataset(X_test, Y_test)\n",
    "testloader = torch.utils.data.DataLoader(test, batch_size = batch_size, shuffle = False)"
   ]
  },
  {
   "cell_type": "markdown",
   "id": "35b7aeb2",
   "metadata": {
    "papermill": {
     "duration": 0.01456,
     "end_time": "2022-09-12T16:25:36.068708",
     "exception": false,
     "start_time": "2022-09-12T16:25:36.054148",
     "status": "completed"
    },
    "tags": []
   },
   "source": [
    "## Visualizetion <a id = \"b\"></a>\n",
    "[Go Content](#cont)\n",
    "\n",
    "I will visualize two images from constituted x_test and x_train."
   ]
  },
  {
   "cell_type": "code",
   "execution_count": 15,
   "id": "58ba0359",
   "metadata": {
    "execution": {
     "iopub.execute_input": "2022-09-12T16:25:36.101155Z",
     "iopub.status.busy": "2022-09-12T16:25:36.099836Z",
     "iopub.status.idle": "2022-09-12T16:25:36.211617Z",
     "shell.execute_reply": "2022-09-12T16:25:36.210042Z"
    },
    "papermill": {
     "duration": 0.132279,
     "end_time": "2022-09-12T16:25:36.215865",
     "exception": false,
     "start_time": "2022-09-12T16:25:36.083586",
     "status": "completed"
    },
    "tags": []
   },
   "outputs": [
    {
     "data": {
      "text/plain": [
       "(-0.5, 31.5, 63.5, -0.5)"
      ]
     },
     "execution_count": 15,
     "metadata": {},
     "output_type": "execute_result"
    },
    {
     "data": {
      "image/png": "[encoded data removed]",
      "text/plain": [
       "<Figure size 432x288 with 1 Axes>"
      ]
     },
     "metadata": {
      "needs_background": "light"
     },
     "output_type": "display_data"
    }
   ],
   "source": [
    "# Image 1 from x_train\n",
    "plt.imshow(X_train[45001,:].reshape(64,32),cmap = \"gray\")\n",
    "plt.axis(\"off\")"
   ]
  },
  {
   "cell_type": "code",
   "execution_count": 16,
   "id": "8cd782ae",
   "metadata": {
    "execution": {
     "iopub.execute_input": "2022-09-12T16:25:36.280494Z",
     "iopub.status.busy": "2022-09-12T16:25:36.279728Z",
     "iopub.status.idle": "2022-09-12T16:25:36.369003Z",
     "shell.execute_reply": "2022-09-12T16:25:36.367390Z"
    },
    "papermill": {
     "duration": 0.118058,
     "end_time": "2022-09-12T16:25:36.373360",
     "exception": false,
     "start_time": "2022-09-12T16:25:36.255302",
     "status": "completed"
    },
    "tags": []
   },
   "outputs": [
    {
     "data": {
      "text/plain": [
       "(-0.5, 31.5, 63.5, -0.5)"
      ]
     },
     "execution_count": 16,
     "metadata": {},
     "output_type": "execute_result"
    },
    {
     "data": {
      "image/png": "[encoded data removed]",
      "text/plain": [
       "<Figure size 432x288 with 1 Axes>"
      ]
     },
     "metadata": {
      "needs_background": "light"
     },
     "output_type": "display_data"
    }
   ],
   "source": [
    "# Image 2 from x_test\n",
    "plt.imshow(X_test[25000,:].reshape(64,32),cmap = \"gray\")\n",
    "plt.axis(\"off\")"
   ]
  },
  {
   "cell_type": "markdown",
   "id": "43baf275",
   "metadata": {
    "papermill": {
     "duration": 0.025236,
     "end_time": "2022-09-12T16:25:36.439121",
     "exception": false,
     "start_time": "2022-09-12T16:25:36.413885",
     "status": "completed"
    },
    "tags": []
   },
   "source": [
    "## Create Model <a id = \"c\"></a>\n",
    "[Go Content](#cont)\n",
    "\n",
    "I will constitute the Convolutional Neural Network(CNN) model. Firstly I will specşfy hyperparameters and after create the class of the CNN model. "
   ]
  },
  {
   "cell_type": "code",
   "execution_count": 17,
   "id": "a119c68d",
   "metadata": {
    "execution": {
     "iopub.execute_input": "2022-09-12T16:25:36.472724Z",
     "iopub.status.busy": "2022-09-12T16:25:36.471967Z",
     "iopub.status.idle": "2022-09-12T16:25:36.493216Z",
     "shell.execute_reply": "2022-09-12T16:25:36.492391Z"
    },
    "papermill": {
     "duration": 0.040621,
     "end_time": "2022-09-12T16:25:36.495646",
     "exception": false,
     "start_time": "2022-09-12T16:25:36.455025",
     "status": "completed"
    },
    "tags": []
   },
   "outputs": [],
   "source": [
    "# Hyper Parameter\n",
    "numberofepochs = 10\n",
    "numberofclass = 2\n",
    "learning_rate = 0.00001\n",
    "\n",
    "# Create Class\n",
    "class CNNmodel(nn.Module):\n",
    "    def __init__(self):\n",
    "        super(CNNmodel,self).__init__()\n",
    "        \n",
    "        self.conv1 = nn.Conv2d(1,10,5)\n",
    "        self.pool = nn.MaxPool2d(2,2)\n",
    "        self.conv2 = nn.Conv2d(10,16,5)\n",
    "        \n",
    "        self.fc1 = nn.Linear(16*13*5,520)\n",
    "        self.fc2 = nn.Linear(520,130)\n",
    "        self.fc3 = nn.Linear(130,numberofclass)\n",
    "        \n",
    "    def forward(self, out):\n",
    "        out = self.pool(F.relu((self.conv1(out))))\n",
    "        out = self.pool(F.relu(self.conv2(out)))\n",
    "        \n",
    "        out = out.view(-1,16*13*5)\n",
    "        out = F.relu(self.fc1(out))\n",
    "        out = F.relu(self.fc2(out))\n",
    "        out = self.fc3(out)\n",
    "        \n",
    "        return out\n",
    "    \n",
    "CNNmodel = CNNmodel()\n",
    "# If you want to use GPU, You use the code below\n",
    "# CNNmodel = CNNmodel().to(device) \n",
    "\n",
    "# Loss And Optimizer\n",
    "cnn_criterion = nn.CrossEntropyLoss() # For calculate loss\n",
    "\n",
    "cnn_optimizer = optim.SGD(CNNmodel.parameters(), lr = learning_rate, momentum = 0.8) # For optimize weight and bias"
   ]
  },
  {
   "cell_type": "markdown",
   "id": "09e8f03e",
   "metadata": {
    "papermill": {
     "duration": 0.015149,
     "end_time": "2022-09-12T16:25:36.526356",
     "exception": false,
     "start_time": "2022-09-12T16:25:36.511207",
     "status": "completed"
    },
    "tags": []
   },
   "source": [
    "## Traning Model <a id = \"d\"></a>\n",
    "[Go Content](#cont)\n",
    "\n",
    "I will train with the prepared model."
   ]
  },
  {
   "cell_type": "code",
   "execution_count": 18,
   "id": "e23e4ecf",
   "metadata": {
    "execution": {
     "iopub.execute_input": "2022-09-12T16:25:36.559579Z",
     "iopub.status.busy": "2022-09-12T16:25:36.558858Z",
     "iopub.status.idle": "2022-09-12T16:37:00.373448Z",
     "shell.execute_reply": "2022-09-12T16:37:00.372211Z"
    },
    "papermill": {
     "duration": 683.850369,
     "end_time": "2022-09-12T16:37:00.392268",
     "exception": false,
     "start_time": "2022-09-12T16:25:36.541899",
     "status": "completed"
    },
    "tags": []
   },
   "outputs": [
    {
     "name": "stdout",
     "output_type": "stream",
     "text": [
      "Epoch: 0 | Accuracy Train: 77.127877905892 | Accuracy Test: 73.86842792641517 | Loss: 1.0106494426727295 \n",
      "Epoch: 1 | Accuracy Train: 59.28952572857196 | Accuracy Test: 56.658830553378856 | Loss: 0.7930487990379333 \n",
      "Epoch: 2 | Accuracy Train: 75.44311354901302 | Accuracy Test: 70.60711220567931 | Loss: 0.6532878875732422 \n",
      "Epoch: 3 | Accuracy Train: 75.89648867495056 | Accuracy Test: 70.39814918467107 | Loss: 0.6174482107162476 \n",
      "Epoch: 4 | Accuracy Train: 76.34053509459308 | Accuracy Test: 70.02126945035262 | Loss: 0.5774193406105042 \n",
      "Epoch: 5 | Accuracy Train: 77.958132766148 | Accuracy Test: 71.87208477928282 | Loss: 0.5357677936553955 \n",
      "Epoch: 6 | Accuracy Train: 78.76786447255495 | Accuracy Test: 72.39449233180342 | Loss: 0.5174245834350586 \n",
      "Epoch: 7 | Accuracy Train: 79.48430911601179 | Accuracy Test: 72.99152953468413 | Loss: 0.48215869069099426 \n",
      "Epoch: 8 | Accuracy Train: 80.23247136087167 | Accuracy Test: 73.730363073249 | Loss: 0.46834293007850647 \n",
      "Epoch: 9 | Accuracy Train: 80.85562894137841 | Accuracy Test: 74.31247434605768 | Loss: 0.44337937235832214 \n",
      "Training is Done\n",
      "Process Time:  11.39663165807724\n"
     ]
    }
   ],
   "source": [
    "# time of start\n",
    "start = time.time()\n",
    "cnn_train_acc = []\n",
    "cnn_test_acc = []\n",
    "cnn_loss_list = []\n",
    "\n",
    "use_gpu = False # If you want to use GPU, Change True\n",
    "\n",
    "# Training\n",
    "\n",
    "for epoch in range(numberofepochs):\n",
    "    for i, data in enumerate(trainloader, 0):\n",
    "        \n",
    "        inputs, labels = data\n",
    "        inputs = inputs.view(batch_size, 1, 64, 32)\n",
    "        inputs = inputs.float()\n",
    "        \n",
    "        # use gpu\n",
    "        if use_gpu:\n",
    "            if torch.cuda.is_available():\n",
    "                inputs, labels = inputs.to(device), labels.to(device)\n",
    "                \n",
    "        # zero gradient\n",
    "        cnn_optimizer.zero_grad()\n",
    "        \n",
    "        # forward\n",
    "        cnn_outputs = CNNmodel(inputs)\n",
    "        \n",
    "        # loss\n",
    "        cnn_loss = cnn_criterion(cnn_outputs, labels)\n",
    "        \n",
    "        # backward\n",
    "        cnn_loss.backward()\n",
    "        \n",
    "        # update weights\n",
    "        cnn_optimizer.step()\n",
    "        \n",
    "    # Test\n",
    "    #print(\"Number Of Epoch: \",epoch)\n",
    "    cnn_test_correct = 0\n",
    "    cnn_test_total = 0\n",
    "    with torch.no_grad():\n",
    "        for data in testloader:\n",
    "            images, labels = data\n",
    "            \n",
    "            images = images.view(batch_size, 1, 64, 32)\n",
    "            images = images.float()\n",
    "            \n",
    "            # use gpu\n",
    "            if use_gpu:\n",
    "                if torch.cuda.is_available():\n",
    "                    images, labels = images.to(device), labels.to(device)\n",
    "            \n",
    "            outputs = CNNmodel(images)\n",
    "            _, predicted = torch.max(outputs.data, 1)\n",
    "            \n",
    "            cnn_test_total += labels.size(0)\n",
    "            cnn_test_correct += (predicted == labels).sum().item()\n",
    "    test_acc = 100* cnn_test_correct / cnn_test_total\n",
    "    #print(\"Accuracy Test: \",test_acc)\n",
    "    cnn_test_acc.append(test_acc)\n",
    "    \n",
    "    # Train\n",
    "    cnn_train_correct = 0\n",
    "    cnn_train_total = 0\n",
    "    with torch.no_grad():\n",
    "        for data in trainloader:\n",
    "            images, labels = data\n",
    "            \n",
    "            images = images.view(batch_size, 1, 64, 32)\n",
    "            images = images.float()\n",
    "            \n",
    "            # use gpu\n",
    "            if use_gpu:\n",
    "                if torch.cuda.is_available():\n",
    "                    images, labels = images.to(device), labels.to(device)\n",
    "            \n",
    "            outputs = CNNmodel(images)\n",
    "            _, predicted = torch.max(outputs.data, 1)\n",
    "            \n",
    "            cnn_train_total += labels.size(0)\n",
    "            cnn_train_correct += (predicted == labels).sum().item()\n",
    "    train_acc = 100* cnn_train_correct / cnn_train_total\n",
    "    #print(\"Accuracy Train: \",train_acc)\n",
    "    cnn_train_acc.append(train_acc)\n",
    "    \n",
    "    cnn_loss_list.append(cnn_loss.item())\n",
    "    #print(\"loss: \",cnn_loss.item())\n",
    "    \n",
    "    print(\"Epoch: {} | Accuracy Train: {} | Accuracy Test: {} | Loss: {} \".format(epoch, train_acc, test_acc, cnn_loss.item()))\n",
    "\n",
    "print(\"Training is Done\")\n",
    "\n",
    "# time of end\n",
    "end = time.time()\n",
    "process_time = (end - start)/60\n",
    "print(\"Process Time: \",process_time)"
   ]
  },
  {
   "cell_type": "markdown",
   "id": "ddca6f05",
   "metadata": {
    "papermill": {
     "duration": 0.01601,
     "end_time": "2022-09-12T16:37:00.424741",
     "exception": false,
     "start_time": "2022-09-12T16:37:00.408731",
     "status": "completed"
    },
    "tags": []
   },
   "source": [
    "## Visualize The Results <a id = \"e\"></a>\n",
    "[Go Content](#cont)\n",
    "\n",
    "In this chapter, I will visualize the results of the CNN model."
   ]
  },
  {
   "cell_type": "code",
   "execution_count": 19,
   "id": "a9580942",
   "metadata": {
    "execution": {
     "iopub.execute_input": "2022-09-12T16:37:00.460318Z",
     "iopub.status.busy": "2022-09-12T16:37:00.458987Z",
     "iopub.status.idle": "2022-09-12T16:37:00.679084Z",
     "shell.execute_reply": "2022-09-12T16:37:00.677906Z"
    },
    "papermill": {
     "duration": 0.240527,
     "end_time": "2022-09-12T16:37:00.681731",
     "exception": false,
     "start_time": "2022-09-12T16:37:00.441204",
     "status": "completed"
    },
    "tags": []
   },
   "outputs": [
    {
     "data": {
      "image/png": "[encoded data removed]",
      "text/plain": [
       "<Figure size 432x288 with 1 Axes>"
      ]
     },
     "metadata": {
      "needs_background": "light"
     },
     "output_type": "display_data"
    }
   ],
   "source": [
    "# Train and Test accuracy graphic\n",
    "epochs = []\n",
    "for i in range(numberofepochs):\n",
    "    epochs.append(i)\n",
    "\n",
    "plt.plot(epochs, cnn_train_acc, label=\"Train\")\n",
    "plt.plot(epochs, cnn_test_acc, label=\"Test\")\n",
    "plt.title(\"Train-Test Accuracy\")\n",
    "plt.xlabel(\"Number of Epochs\")\n",
    "plt.xlabel(\"Accuracy\")\n",
    "plt.legend()\n",
    "plt.show()"
   ]
  },
  {
   "cell_type": "code",
   "execution_count": 20,
   "id": "71fef290",
   "metadata": {
    "execution": {
     "iopub.execute_input": "2022-09-12T16:37:00.718728Z",
     "iopub.status.busy": "2022-09-12T16:37:00.718005Z",
     "iopub.status.idle": "2022-09-12T16:37:00.903626Z",
     "shell.execute_reply": "2022-09-12T16:37:00.902657Z"
    },
    "papermill": {
     "duration": 0.207492,
     "end_time": "2022-09-12T16:37:00.906114",
     "exception": false,
     "start_time": "2022-09-12T16:37:00.698622",
     "status": "completed"
    },
    "tags": []
   },
   "outputs": [
    {
     "data": {
      "image/png": "[encoded data removed]",
      "text/plain": [
       "<Figure size 432x288 with 1 Axes>"
      ]
     },
     "metadata": {
      "needs_background": "light"
     },
     "output_type": "display_data"
    }
   ],
   "source": [
    "# Loss of cnn model graphic\n",
    "plt.plot(cnn_loss_list)\n",
    "plt.title(\"Loss of CNN Model\")\n",
    "plt.xlabel(\"Index of loss_list\")\n",
    "plt.ylabel(\"Loss\")\n",
    "plt.show()"
   ]
  },
  {
   "cell_type": "markdown",
   "id": "92ecc9c7",
   "metadata": {
    "papermill": {
     "duration": 0.01681,
     "end_time": "2022-09-12T16:37:00.939912",
     "exception": false,
     "start_time": "2022-09-12T16:37:00.923102",
     "status": "completed"
    },
    "tags": []
   },
   "source": [
    "# Residual neural network(ResNet) <a id = \"2\"></a>\n",
    "[Go Content](#cont)\n",
    "\n",
    "**What is the Residual neural network(ResNet)?**\n",
    "\n",
    "ResNet provides an innovative solution to the vanishing gradient problem, known as “skip connections”. ResNet stacks multiple identity mappings (convolutional layers that do nothing at first), skips those layers, and reuses the activations of the previous layer. Skipping speeds up initial training by compressing the network into fewer layers. \n",
    "\n",
    "Then, when the network is retrained, all layers are expanded and the remaining parts of the network—known as the residual parts—are allowed to explore more of the feature space of the input image.\n",
    "\n",
    "If you want the more information about ResNet [click here](https://datagen.tech/guides/computer-vision/resnet/)"
   ]
  },
  {
   "cell_type": "markdown",
   "id": "1600e53b",
   "metadata": {
    "papermill": {
     "duration": 0.016555,
     "end_time": "2022-09-12T16:37:00.974068",
     "exception": false,
     "start_time": "2022-09-12T16:37:00.957513",
     "status": "completed"
    },
    "tags": []
   },
   "source": [
    "## Load and Prepare Dataset <a id = \"1a\"></a>\n",
    "[Go Content](#cont)\n",
    "\n",
    "In this chapter, I will prepare the dataset for ResNet model.<br>\n",
    "\n",
    "**Roadmap of this chapter:**\n",
    "- Firstly, I will constitute the data load function.\n",
    "    - I will separate the images to array and I will put the arrays I created into the ArrayList.\n",
    "- Secondly, I will constitute train and test datasets."
   ]
  },
  {
   "cell_type": "markdown",
   "id": "f7caca6a",
   "metadata": {
    "papermill": {
     "duration": 0.017292,
     "end_time": "2022-09-12T16:37:01.008071",
     "exception": false,
     "start_time": "2022-09-12T16:37:00.990779",
     "status": "completed"
    },
    "tags": []
   },
   "source": [
    "### Load Train Negative <a id = \"1a1\"></a>\n",
    "[Go Content](#cont)\n",
    "\n",
    "In this section, I will upload the negative images from the train folder."
   ]
  },
  {
   "cell_type": "code",
   "execution_count": 21,
   "id": "0e154d63",
   "metadata": {
    "execution": {
     "iopub.execute_input": "2022-09-12T16:37:01.044150Z",
     "iopub.status.busy": "2022-09-12T16:37:01.043387Z",
     "iopub.status.idle": "2022-09-12T16:37:36.654751Z",
     "shell.execute_reply": "2022-09-12T16:37:36.653742Z"
    },
    "papermill": {
     "duration": 35.63245,
     "end_time": "2022-09-12T16:37:36.657574",
     "exception": false,
     "start_time": "2022-09-12T16:37:01.025124",
     "status": "completed"
    },
    "tags": []
   },
   "outputs": [],
   "source": [
    "res_Train_neg_path = r\"../input/lsifir/LSIFIR/Classification/Train/neg\"\n",
    "res_num_Train_neg_img = 43390\n",
    "res_Train_neg_array = read_images(res_Train_neg_path, res_num_Train_neg_img)"
   ]
  },
  {
   "cell_type": "code",
   "execution_count": 22,
   "id": "24e00ee6",
   "metadata": {
    "execution": {
     "iopub.execute_input": "2022-09-12T16:37:36.694536Z",
     "iopub.status.busy": "2022-09-12T16:37:36.694083Z",
     "iopub.status.idle": "2022-09-12T16:37:36.701609Z",
     "shell.execute_reply": "2022-09-12T16:37:36.700341Z"
    },
    "papermill": {
     "duration": 0.02924,
     "end_time": "2022-09-12T16:37:36.704294",
     "exception": false,
     "start_time": "2022-09-12T16:37:36.675054",
     "status": "completed"
    },
    "tags": []
   },
   "outputs": [
    {
     "name": "stdout",
     "output_type": "stream",
     "text": [
      "Size of x_Train_neg_Tensor:  torch.Size([42000, 2048])\n",
      "Size of y_Train_neg_Tensor:  torch.Size([42000])\n"
     ]
    }
   ],
   "source": [
    "x_res_Train_neg_Tensor = torch.from_numpy(res_Train_neg_array[:42000,:])\n",
    "print(\"Size of x_Train_neg_Tensor: \", x_res_Train_neg_Tensor.size())\n",
    "\n",
    "# I specify negative images as zero.\n",
    "y_res_Train_neg_Tensor = torch.zeros(42000, dtype = torch.long)\n",
    "print(\"Size of y_Train_neg_Tensor: \", y_res_Train_neg_Tensor.size())"
   ]
  },
  {
   "cell_type": "markdown",
   "id": "07d517d8",
   "metadata": {
    "papermill": {
     "duration": 0.016654,
     "end_time": "2022-09-12T16:37:36.738295",
     "exception": false,
     "start_time": "2022-09-12T16:37:36.721641",
     "status": "completed"
    },
    "tags": []
   },
   "source": [
    "### Load Train Positive <a id = \"1a2\"></a>\n",
    "[Go Content](#cont)\n",
    "\n",
    "In this section, I will upload the positive images from the train folder."
   ]
  },
  {
   "cell_type": "code",
   "execution_count": 23,
   "id": "29dfbe1b",
   "metadata": {
    "execution": {
     "iopub.execute_input": "2022-09-12T16:37:36.775249Z",
     "iopub.status.busy": "2022-09-12T16:37:36.774443Z",
     "iopub.status.idle": "2022-09-12T16:37:45.383622Z",
     "shell.execute_reply": "2022-09-12T16:37:45.382233Z"
    },
    "papermill": {
     "duration": 8.630899,
     "end_time": "2022-09-12T16:37:45.386750",
     "exception": false,
     "start_time": "2022-09-12T16:37:36.755851",
     "status": "completed"
    },
    "tags": []
   },
   "outputs": [],
   "source": [
    "res_Train_pos_path = r\"../input/lsifir/LSIFIR/Classification/Train/pos\"\n",
    "res_num_Train_pos_img = 10208\n",
    "res_Train_pos_array = read_images(res_Train_pos_path, res_num_Train_pos_img)"
   ]
  },
  {
   "cell_type": "code",
   "execution_count": 24,
   "id": "1463c642",
   "metadata": {
    "execution": {
     "iopub.execute_input": "2022-09-12T16:37:45.423612Z",
     "iopub.status.busy": "2022-09-12T16:37:45.422383Z",
     "iopub.status.idle": "2022-09-12T16:37:45.431463Z",
     "shell.execute_reply": "2022-09-12T16:37:45.430118Z"
    },
    "papermill": {
     "duration": 0.029935,
     "end_time": "2022-09-12T16:37:45.434180",
     "exception": false,
     "start_time": "2022-09-12T16:37:45.404245",
     "status": "completed"
    },
    "tags": []
   },
   "outputs": [
    {
     "name": "stdout",
     "output_type": "stream",
     "text": [
      "Size of x_Train_pos_Tensor:  torch.Size([10000, 2048])\n",
      "Size of y_Train_pos_Tensor:  torch.Size([10000])\n"
     ]
    }
   ],
   "source": [
    "x_res_Train_pos_Tensor = torch.from_numpy(res_Train_pos_array[:10000,:])\n",
    "print(\"Size of x_Train_pos_Tensor: \", x_res_Train_pos_Tensor.size())\n",
    "\n",
    "# I specify negative images as one.\n",
    "y_res_Train_pos_Tensor = torch.ones(10000, dtype = torch.long)\n",
    "print(\"Size of y_Train_pos_Tensor: \", y_res_Train_pos_Tensor.size())"
   ]
  },
  {
   "cell_type": "markdown",
   "id": "0ecd0a7a",
   "metadata": {
    "papermill": {
     "duration": 0.016527,
     "end_time": "2022-09-12T16:37:45.468174",
     "exception": false,
     "start_time": "2022-09-12T16:37:45.451647",
     "status": "completed"
    },
    "tags": []
   },
   "source": [
    "### Concat Train <a id = \"1a3\"></a>\n",
    "[Go Content](#cont)\n",
    "\n",
    "I constitute the x_train and y_train from loaded images."
   ]
  },
  {
   "cell_type": "code",
   "execution_count": 25,
   "id": "5d3da839",
   "metadata": {
    "execution": {
     "iopub.execute_input": "2022-09-12T16:37:45.503619Z",
     "iopub.status.busy": "2022-09-12T16:37:45.503176Z",
     "iopub.status.idle": "2022-09-12T16:37:45.831736Z",
     "shell.execute_reply": "2022-09-12T16:37:45.830344Z"
    },
    "papermill": {
     "duration": 0.349854,
     "end_time": "2022-09-12T16:37:45.834738",
     "exception": false,
     "start_time": "2022-09-12T16:37:45.484884",
     "status": "completed"
    },
    "tags": []
   },
   "outputs": [
    {
     "name": "stdout",
     "output_type": "stream",
     "text": [
      "Size of X_train:  torch.Size([52000, 2048])\n",
      "Size of Y_train:  torch.Size([52000])\n"
     ]
    }
   ],
   "source": [
    "X_res_train = torch.cat((x_res_Train_neg_Tensor, x_res_Train_pos_Tensor),0)\n",
    "Y_res_train = torch.cat((y_res_Train_neg_Tensor, y_res_Train_pos_Tensor),0)\n",
    "\n",
    "print(\"Size of X_train: \",X_res_train.size())\n",
    "print(\"Size of Y_train: \",Y_res_train.size()) "
   ]
  },
  {
   "cell_type": "markdown",
   "id": "77b2d667",
   "metadata": {
    "papermill": {
     "duration": 0.017104,
     "end_time": "2022-09-12T16:37:45.870930",
     "exception": false,
     "start_time": "2022-09-12T16:37:45.853826",
     "status": "completed"
    },
    "tags": []
   },
   "source": [
    "### Load Test Negative <a id = \"1a4\"></a>\n",
    "[Go Content](#cont)\n",
    "\n",
    "In this section, I will upload the negative images from the test folder."
   ]
  },
  {
   "cell_type": "code",
   "execution_count": 26,
   "id": "3b162d28",
   "metadata": {
    "execution": {
     "iopub.execute_input": "2022-09-12T16:37:45.909042Z",
     "iopub.status.busy": "2022-09-12T16:37:45.907746Z",
     "iopub.status.idle": "2022-09-12T16:38:05.517981Z",
     "shell.execute_reply": "2022-09-12T16:38:05.516886Z"
    },
    "papermill": {
     "duration": 19.632427,
     "end_time": "2022-09-12T16:38:05.520573",
     "exception": false,
     "start_time": "2022-09-12T16:37:45.888146",
     "status": "completed"
    },
    "tags": []
   },
   "outputs": [],
   "source": [
    "res_Test_neg_path = r\"../input/lsifir/LSIFIR/Classification/Test/neg\"\n",
    "res_num_Test_neg_img = 22050\n",
    "res_Test_neg_array = read_images(res_Test_neg_path, res_num_Test_neg_img)"
   ]
  },
  {
   "cell_type": "code",
   "execution_count": 27,
   "id": "cf55698d",
   "metadata": {
    "execution": {
     "iopub.execute_input": "2022-09-12T16:38:05.557149Z",
     "iopub.status.busy": "2022-09-12T16:38:05.556405Z",
     "iopub.status.idle": "2022-09-12T16:38:05.563336Z",
     "shell.execute_reply": "2022-09-12T16:38:05.562116Z"
    },
    "papermill": {
     "duration": 0.02785,
     "end_time": "2022-09-12T16:38:05.565780",
     "exception": false,
     "start_time": "2022-09-12T16:38:05.537930",
     "status": "completed"
    },
    "tags": []
   },
   "outputs": [
    {
     "name": "stdout",
     "output_type": "stream",
     "text": [
      "Size of x_Train_neg_Tensor:  torch.Size([18056, 2048])\n",
      "Size of y_Train_neg_Tensor:  torch.Size([18056])\n"
     ]
    }
   ],
   "source": [
    "x_res_Test_neg_Tensor = torch.from_numpy(res_Test_neg_array[:18056,:])\n",
    "print(\"Size of x_Train_neg_Tensor: \", x_res_Test_neg_Tensor.size())\n",
    "\n",
    "# I specify negative images as zero.\n",
    "y_res_Test_neg_Tensor = torch.zeros(18056, dtype = torch.long)\n",
    "print(\"Size of y_Train_neg_Tensor: \", y_res_Test_neg_Tensor.size())"
   ]
  },
  {
   "cell_type": "markdown",
   "id": "66fcf198",
   "metadata": {
    "papermill": {
     "duration": 0.016834,
     "end_time": "2022-09-12T16:38:05.600004",
     "exception": false,
     "start_time": "2022-09-12T16:38:05.583170",
     "status": "completed"
    },
    "tags": []
   },
   "source": [
    "### Load Test Positive <a id = \"1a5\"></a>\n",
    "[Go Content](#cont)\n",
    "\n",
    "In this section, I will upload the positive images from the test folder."
   ]
  },
  {
   "cell_type": "code",
   "execution_count": 28,
   "id": "997973f3",
   "metadata": {
    "execution": {
     "iopub.execute_input": "2022-09-12T16:38:05.636836Z",
     "iopub.status.busy": "2022-09-12T16:38:05.635749Z",
     "iopub.status.idle": "2022-09-12T16:38:10.714766Z",
     "shell.execute_reply": "2022-09-12T16:38:10.713304Z"
    },
    "papermill": {
     "duration": 5.100437,
     "end_time": "2022-09-12T16:38:10.717720",
     "exception": false,
     "start_time": "2022-09-12T16:38:05.617283",
     "status": "completed"
    },
    "tags": []
   },
   "outputs": [],
   "source": [
    "res_Test_pos_path = r\"../input/lsifir/LSIFIR/Classification/Test/pos\"\n",
    "res_num_Test_pos_img = 5944\n",
    "res_Test_pos_array = read_images(res_Test_pos_path, res_num_Test_pos_img)"
   ]
  },
  {
   "cell_type": "code",
   "execution_count": 29,
   "id": "40979aad",
   "metadata": {
    "execution": {
     "iopub.execute_input": "2022-09-12T16:38:10.757163Z",
     "iopub.status.busy": "2022-09-12T16:38:10.756157Z",
     "iopub.status.idle": "2022-09-12T16:38:10.763408Z",
     "shell.execute_reply": "2022-09-12T16:38:10.761844Z"
    },
    "papermill": {
     "duration": 0.029478,
     "end_time": "2022-09-12T16:38:10.766337",
     "exception": false,
     "start_time": "2022-09-12T16:38:10.736859",
     "status": "completed"
    },
    "tags": []
   },
   "outputs": [
    {
     "name": "stdout",
     "output_type": "stream",
     "text": [
      "Size of x_Train_neg_Tensor:  torch.Size([5944, 2048])\n",
      "Size of y_Train_neg_Tensor:  torch.Size([5944])\n"
     ]
    }
   ],
   "source": [
    "x_res_Test_pos_Tensor = torch.from_numpy(res_Test_pos_array)\n",
    "print(\"Size of x_Train_neg_Tensor: \", x_res_Test_pos_Tensor.size())\n",
    "\n",
    "# I specify negative images as one.\n",
    "y_res_Test_pos_Tensor = torch.ones(res_num_Test_pos_img, dtype = torch.long)\n",
    "print(\"Size of y_Train_neg_Tensor: \", y_res_Test_pos_Tensor.size())"
   ]
  },
  {
   "cell_type": "markdown",
   "id": "16367e30",
   "metadata": {
    "papermill": {
     "duration": 0.016801,
     "end_time": "2022-09-12T16:38:10.800487",
     "exception": false,
     "start_time": "2022-09-12T16:38:10.783686",
     "status": "completed"
    },
    "tags": []
   },
   "source": [
    "### Concat Test <a id = \"1a6\"></a>\n",
    "[Go Content](#cont)\n",
    "\n",
    "I constitute the x_test and y_test from loaded images."
   ]
  },
  {
   "cell_type": "code",
   "execution_count": 30,
   "id": "4cd59b41",
   "metadata": {
    "execution": {
     "iopub.execute_input": "2022-09-12T16:38:10.836515Z",
     "iopub.status.busy": "2022-09-12T16:38:10.836099Z",
     "iopub.status.idle": "2022-09-12T16:38:11.053909Z",
     "shell.execute_reply": "2022-09-12T16:38:11.052563Z"
    },
    "papermill": {
     "duration": 0.239305,
     "end_time": "2022-09-12T16:38:11.056960",
     "exception": false,
     "start_time": "2022-09-12T16:38:10.817655",
     "status": "completed"
    },
    "tags": []
   },
   "outputs": [
    {
     "name": "stdout",
     "output_type": "stream",
     "text": [
      "Size of X_train:  torch.Size([24000, 2048])\n",
      "Size of Y_train:  torch.Size([24000])\n"
     ]
    }
   ],
   "source": [
    "X_res_test = torch.cat((x_res_Test_neg_Tensor, x_res_Test_pos_Tensor),0)\n",
    "Y_res_test = torch.cat((y_res_Test_neg_Tensor, y_res_Test_pos_Tensor),0)\n",
    "\n",
    "print(\"Size of X_train: \",X_res_test.size())\n",
    "print(\"Size of Y_train: \",Y_res_test.size()) "
   ]
  },
  {
   "cell_type": "markdown",
   "id": "8f38a018",
   "metadata": {
    "papermill": {
     "duration": 0.016988,
     "end_time": "2022-09-12T16:38:11.091168",
     "exception": false,
     "start_time": "2022-09-12T16:38:11.074180",
     "status": "completed"
    },
    "tags": []
   },
   "source": [
    "### Create Tensor<a id = \"1a7\"></a>\n",
    "[Go Content](#cont)\n",
    "\n",
    "Since I will be building my models with PyTorch, I convert train and test datasets to tensor format, which is the same as array format in PyTorch."
   ]
  },
  {
   "cell_type": "code",
   "execution_count": 31,
   "id": "a8cd3f79",
   "metadata": {
    "execution": {
     "iopub.execute_input": "2022-09-12T16:38:11.128126Z",
     "iopub.status.busy": "2022-09-12T16:38:11.127472Z",
     "iopub.status.idle": "2022-09-12T16:38:11.134066Z",
     "shell.execute_reply": "2022-09-12T16:38:11.133236Z"
    },
    "papermill": {
     "duration": 0.028026,
     "end_time": "2022-09-12T16:38:11.136336",
     "exception": false,
     "start_time": "2022-09-12T16:38:11.108310",
     "status": "completed"
    },
    "tags": []
   },
   "outputs": [],
   "source": [
    "res_batch_size = 2000\n",
    "\n",
    "# Last prepare data\n",
    "res_train = torch.utils.data.TensorDataset(X_res_train, Y_res_train)\n",
    "res_trainloader = torch.utils.data.DataLoader(res_train, batch_size = res_batch_size, shuffle = True)\n",
    "\n",
    "res_test = torch.utils.data.TensorDataset(X_res_test, Y_res_test)\n",
    "res_testloader = torch.utils.data.DataLoader(res_test, batch_size = res_batch_size, shuffle = False)"
   ]
  },
  {
   "cell_type": "markdown",
   "id": "01ade058",
   "metadata": {
    "papermill": {
     "duration": 0.016939,
     "end_time": "2022-09-12T16:38:11.170651",
     "exception": false,
     "start_time": "2022-09-12T16:38:11.153712",
     "status": "completed"
    },
    "tags": []
   },
   "source": [
    "## Visualization <a id = \"2a\"></a>\n",
    "[Go Content](#cont)\n",
    "\n",
    "In this chapter, I will visualize two images from constituted x_test and x_train."
   ]
  },
  {
   "cell_type": "code",
   "execution_count": 32,
   "id": "c67bc1eb",
   "metadata": {
    "execution": {
     "iopub.execute_input": "2022-09-12T16:38:11.207143Z",
     "iopub.status.busy": "2022-09-12T16:38:11.206482Z",
     "iopub.status.idle": "2022-09-12T16:38:11.297485Z",
     "shell.execute_reply": "2022-09-12T16:38:11.295886Z"
    },
    "papermill": {
     "duration": 0.113832,
     "end_time": "2022-09-12T16:38:11.301665",
     "exception": false,
     "start_time": "2022-09-12T16:38:11.187833",
     "status": "completed"
    },
    "tags": []
   },
   "outputs": [
    {
     "data": {
      "text/plain": [
       "(-0.5, 31.5, 63.5, -0.5)"
      ]
     },
     "execution_count": 32,
     "metadata": {},
     "output_type": "execute_result"
    },
    {
     "data": {
      "image/png": "[encoded data removed]",
      "text/plain": [
       "<Figure size 432x288 with 1 Axes>"
      ]
     },
     "metadata": {
      "needs_background": "light"
     },
     "output_type": "display_data"
    }
   ],
   "source": [
    "# Image from x_res_train\n",
    "plt.imshow(X_res_train[45001,:].reshape(64,32),cmap = \"gray\")\n",
    "plt.axis(\"off\")"
   ]
  },
  {
   "cell_type": "code",
   "execution_count": 33,
   "id": "e6116269",
   "metadata": {
    "execution": {
     "iopub.execute_input": "2022-09-12T16:38:11.373663Z",
     "iopub.status.busy": "2022-09-12T16:38:11.372326Z",
     "iopub.status.idle": "2022-09-12T16:38:11.463965Z",
     "shell.execute_reply": "2022-09-12T16:38:11.462266Z"
    },
    "papermill": {
     "duration": 0.121183,
     "end_time": "2022-09-12T16:38:11.468137",
     "exception": false,
     "start_time": "2022-09-12T16:38:11.346954",
     "status": "completed"
    },
    "tags": []
   },
   "outputs": [
    {
     "data": {
      "text/plain": [
       "(-0.5, 31.5, 63.5, -0.5)"
      ]
     },
     "execution_count": 33,
     "metadata": {},
     "output_type": "execute_result"
    },
    {
     "data": {
      "image/png": "[encoded data removed]",
      "text/plain": [
       "<Figure size 432x288 with 1 Axes>"
      ]
     },
     "metadata": {
      "needs_background": "light"
     },
     "output_type": "display_data"
    }
   ],
   "source": [
    "# Image from X_res_test\n",
    "plt.imshow(X_res_test[20000,:].reshape(64,32),cmap = \"gray\")\n",
    "plt.axis(\"off\")"
   ]
  },
  {
   "cell_type": "markdown",
   "id": "5c22ee99",
   "metadata": {
    "papermill": {
     "duration": 0.022356,
     "end_time": "2022-09-12T16:38:11.536484",
     "exception": false,
     "start_time": "2022-09-12T16:38:11.514128",
     "status": "completed"
    },
    "tags": []
   },
   "source": [
    "## Create Model <a id = \"3a\"></a>\n",
    "[Go Content](#cont)\n",
    "\n",
    "In this chapter, I will create the ResNet model."
   ]
  },
  {
   "cell_type": "code",
   "execution_count": 34,
   "id": "400ed50d",
   "metadata": {
    "execution": {
     "iopub.execute_input": "2022-09-12T16:38:11.574668Z",
     "iopub.status.busy": "2022-09-12T16:38:11.574208Z",
     "iopub.status.idle": "2022-09-12T16:38:11.580361Z",
     "shell.execute_reply": "2022-09-12T16:38:11.579481Z"
    },
    "papermill": {
     "duration": 0.027809,
     "end_time": "2022-09-12T16:38:11.582453",
     "exception": false,
     "start_time": "2022-09-12T16:38:11.554644",
     "status": "completed"
    },
    "tags": []
   },
   "outputs": [],
   "source": [
    "# Hyper Parameters\n",
    "res_numberofepochs = 10\n",
    "res_numberofclasses = 2\n",
    "res_learning_rate = 0.0001\n",
    "\n",
    "def conv3x3(in_planes, out_planes, stride = 1):\n",
    "    return nn.Conv2d(in_planes, out_planes, kernel_size = 3, stride = stride, padding = 1, bias = False)\n",
    "\n",
    "def conv1x1(in_planes, out_planes, stride = 1):\n",
    "    return nn.Conv2d(in_planes, out_planes, kernel_size = 1, stride = stride, bias = False)"
   ]
  },
  {
   "cell_type": "markdown",
   "id": "0cb5c0d0",
   "metadata": {
    "papermill": {
     "duration": 0.017556,
     "end_time": "2022-09-12T16:38:11.618073",
     "exception": false,
     "start_time": "2022-09-12T16:38:11.600517",
     "status": "completed"
    },
    "tags": []
   },
   "source": [
    "In the below code, I will create the basic block of ResNet.\n",
    "\n",
    "A basic ResNet block is composed by two layers of 3x3 conv/batchnorm/relu. In the picture, the lines represent the residual operation. The dotted line means that the shortcut was applied to match the input and the output dimension.\n",
    "\n",
    "![Basic Block](https://miro.medium.com/max/235/1*E6ptpDYIVmdlJO6hC-KzCQ.png)\n",
    "\n",
    "If you want more information about this topic(basic block and other topics of Resnet) [click here](https://medium.com/towards-data-science/residual-network-implementing-resnet-a7da63c7b278)\n",
    "\n",
    "In the code above, I created the neural networks that I will use in the basic block."
   ]
  },
  {
   "cell_type": "code",
   "execution_count": 35,
   "id": "26f3ca8f",
   "metadata": {
    "execution": {
     "iopub.execute_input": "2022-09-12T16:38:11.656325Z",
     "iopub.status.busy": "2022-09-12T16:38:11.655590Z",
     "iopub.status.idle": "2022-09-12T16:38:11.664830Z",
     "shell.execute_reply": "2022-09-12T16:38:11.663703Z"
    },
    "papermill": {
     "duration": 0.031324,
     "end_time": "2022-09-12T16:38:11.667242",
     "exception": false,
     "start_time": "2022-09-12T16:38:11.635918",
     "status": "completed"
    },
    "tags": []
   },
   "outputs": [],
   "source": [
    "# Create Class\n",
    "class ResNetBasicBlock(nn.Module):\n",
    "    \n",
    "    expansion = 1\n",
    "    \n",
    "    def __init__(self, inplanes, planes, stride = 1, downsample = None):\n",
    "        super(ResNetBasicBlock,self).__init__()\n",
    "        self.conv1 = conv3x3(inplanes, planes, stride)\n",
    "        self.bn1 = nn.BatchNorm2d(planes)\n",
    "        self.relu = nn.ReLU(inplace = True)\n",
    "        self.drop = nn.Dropout(0.9)\n",
    "        self.conv2 = conv3x3(planes, planes)\n",
    "        self.bn2 = nn.BatchNorm2d(planes)\n",
    "        self.downsample = downsample\n",
    "        self.stride = stride\n",
    "        \n",
    "    def forward(self, x):\n",
    "        identity = x\n",
    "        \n",
    "        out = self.conv1(x)\n",
    "        out = self.bn1(out)\n",
    "        out = self.relu(out)\n",
    "        out = self.drop(out)\n",
    "        out = self.conv2(out)\n",
    "        out = self.bn2(out)\n",
    "        out = self.drop(out)\n",
    "        \n",
    "        if self.downsample is not None:\n",
    "            identity = self.downsample(x)\n",
    "        out = out + identity\n",
    "        out = self.relu(out)\n",
    "        return out"
   ]
  },
  {
   "cell_type": "markdown",
   "id": "9f14a09a",
   "metadata": {
    "papermill": {
     "duration": 0.018495,
     "end_time": "2022-09-12T16:38:11.704233",
     "exception": false,
     "start_time": "2022-09-12T16:38:11.685738",
     "status": "completed"
    },
    "tags": []
   },
   "source": [
    "In the below code, I will create the general ResNet Model."
   ]
  },
  {
   "cell_type": "code",
   "execution_count": 36,
   "id": "a407a063",
   "metadata": {
    "execution": {
     "iopub.execute_input": "2022-09-12T16:38:11.743024Z",
     "iopub.status.busy": "2022-09-12T16:38:11.742565Z",
     "iopub.status.idle": "2022-09-12T16:38:11.809243Z",
     "shell.execute_reply": "2022-09-12T16:38:11.808032Z"
    },
    "papermill": {
     "duration": 0.088984,
     "end_time": "2022-09-12T16:38:11.812100",
     "exception": false,
     "start_time": "2022-09-12T16:38:11.723116",
     "status": "completed"
    },
    "tags": []
   },
   "outputs": [],
   "source": [
    "class ResNet(nn.Module):\n",
    "    \n",
    "    def __init__(self, block, layers, num_classes = res_numberofclasses):\n",
    "        super(ResNet, self).__init__()\n",
    "        self.inplanes = 64\n",
    "        self.conv1 = nn.Conv2d(1, 64, kernel_size = 7, stride = 2, padding = 3, bias = False)\n",
    "        self.bn1 = nn.BatchNorm2d(64)\n",
    "        self.relu = nn.ReLU(inplace = True)\n",
    "        self.maxpool = nn.MaxPool2d(kernel_size = 3, stride = 2, padding = 1)\n",
    "        self.layer1 = self._make_layer(block, 64, layers[0], stride = 1)\n",
    "        self.layer2 = self._make_layer(block, 128, layers[1], stride = 2)\n",
    "        self.layer3 = self._make_layer(block, 256, layers[2], stride = 2)\n",
    "        \n",
    "        self.avgpool = nn.AdaptiveAvgPool2d((1,1))\n",
    "        self.fc = nn.Linear(256*block.expansion, res_numberofclasses)\n",
    "        \n",
    "        for m in self.modules():\n",
    "            if isinstance(m, nn.Conv2d):\n",
    "                nn.init.kaiming_normal_(m.weight, mode = \"fan_out\", nonlinearity = \"relu\")\n",
    "            elif isinstance(m, nn.BatchNorm2d):\n",
    "                nn.init.constant_(m.weight, 1)\n",
    "                nn.init.constant_(m.bias, 0)\n",
    "                \n",
    "    \n",
    "    def _make_layer(self, block, planes, blocks, stride = 1):\n",
    "        downsample = None\n",
    "        \n",
    "        if stride != 1 or self.inplanes != planes*block.expansion:\n",
    "            downsample = nn.Sequential(conv1x1(self.inplanes, planes * block.expansion, stride),\n",
    "                                      nn.BatchNorm2d(planes*block.expansion))\n",
    "            \n",
    "        layers = []\n",
    "        layers.append(block(self.inplanes, planes, stride, downsample))\n",
    "        self.inplanes = planes*block.expansion\n",
    "        for _ in range(1,blocks):\n",
    "            layers.append(block(self.inplanes, planes))\n",
    "            \n",
    "        return nn.Sequential(*layers)\n",
    "    \n",
    "    def forward(self, x):\n",
    "        x = self.conv1(x)\n",
    "        x = self.bn1(x)\n",
    "        x = self.relu(x)\n",
    "        x = self.maxpool(x)\n",
    "        x = self.layer1(x)\n",
    "        x = self.layer2(x)\n",
    "        x = self.layer3(x)\n",
    "        x = self.avgpool(x)\n",
    "        x = x.view(x.size(0), -1)\n",
    "        x = self.fc(x)\n",
    "        \n",
    "        return x\n",
    "    \n",
    "res_model = ResNet(ResNetBasicBlock, [2,2,2])\n",
    "\n",
    "# For GPU\n",
    "# res_model = ResNet(ResNetBasicBlock, [2,2,2]).to(device)\n",
    "\n",
    "res_criterion = nn.CrossEntropyLoss()\n",
    "\n",
    "res_optimizer = torch.optim.Adam(res_model.parameters(), lr = res_learning_rate)"
   ]
  },
  {
   "cell_type": "markdown",
   "id": "d91f048c",
   "metadata": {
    "papermill": {
     "duration": 0.018035,
     "end_time": "2022-09-12T16:38:11.848683",
     "exception": false,
     "start_time": "2022-09-12T16:38:11.830648",
     "status": "completed"
    },
    "tags": []
   },
   "source": [
    "## Training Model <a id= \"4a\"></a>\n",
    "[Go Content](#cont)\n",
    "\n",
    "In this chapter, I will train with the prepared ResNet Model."
   ]
  },
  {
   "cell_type": "code",
   "execution_count": 37,
   "id": "f9142d20",
   "metadata": {
    "execution": {
     "iopub.execute_input": "2022-09-12T16:38:11.887124Z",
     "iopub.status.busy": "2022-09-12T16:38:11.886704Z",
     "iopub.status.idle": "2022-09-12T17:47:42.438309Z",
     "shell.execute_reply": "2022-09-12T17:47:42.437056Z"
    },
    "papermill": {
     "duration": 4170.596882,
     "end_time": "2022-09-12T17:47:42.463233",
     "exception": false,
     "start_time": "2022-09-12T16:38:11.866351",
     "status": "completed"
    },
    "tags": []
   },
   "outputs": [
    {
     "name": "stdout",
     "output_type": "stream",
     "text": [
      "Epoch: 0 | Accuracy Train: 69.12307692307692 | Accuracy Test: 65.04583333333333 | Loss: 0.6256431937217712 \n",
      "Epoch: 1 | Accuracy Train: 78.00961538461539 | Accuracy Test: 73.22916666666667 | Loss: 0.5408258438110352 \n",
      "Epoch: 2 | Accuracy Train: 79.23846153846154 | Accuracy Test: 73.85833333333333 | Loss: 0.5148367881774902 \n",
      "Epoch: 3 | Accuracy Train: 79.54230769230769 | Accuracy Test: 74.26666666666667 | Loss: 0.5131917595863342 \n",
      "Epoch: 4 | Accuracy Train: 80.08269230769231 | Accuracy Test: 73.67916666666666 | Loss: 0.45688408613204956 \n",
      "Epoch: 5 | Accuracy Train: 80.05961538461538 | Accuracy Test: 69.8625 | Loss: 0.38981539011001587 \n",
      "Epoch: 6 | Accuracy Train: 80.94038461538462 | Accuracy Test: 69.075 | Loss: 0.35155728459358215 \n",
      "Epoch: 7 | Accuracy Train: 83.30961538461538 | Accuracy Test: 69.07083333333334 | Loss: 0.3407168984413147 \n",
      "Epoch: 8 | Accuracy Train: 84.31346153846154 | Accuracy Test: 68.425 | Loss: 0.32696834206581116 \n",
      "Epoch: 9 | Accuracy Train: 85.70961538461539 | Accuracy Test: 67.87083333333334 | Loss: 0.29843416810035706 \n",
      "Training is Done\n",
      "Process Time:  69.50889869530995\n"
     ]
    }
   ],
   "source": [
    "res_start = time.time() # start of time\n",
    "res_train_acc = []\n",
    "res_test_acc = []\n",
    "res_loss_list = []\n",
    "\n",
    "use_gpu = False # If you want to use GPU, Change True\n",
    "\n",
    "res_total_step = len(res_trainloader)\n",
    "\n",
    "for epoch in range(res_numberofepochs):\n",
    "    for i, (images, labels) in enumerate(res_trainloader):\n",
    "        \n",
    "        images = images.view(res_batch_size, 1, 64, 32)\n",
    "        images = images.float()\n",
    "        \n",
    "        # GPU\n",
    "        if use_gpu:\n",
    "            if torch.cuda.is_available():\n",
    "                images, labels = images.to(device), labels.to(device)\n",
    "                \n",
    "        outputs = res_model(images)\n",
    "        \n",
    "        loss = res_criterion(outputs, labels)\n",
    "        \n",
    "        # backward and optimization\n",
    "        res_optimizer.zero_grad()\n",
    "        loss.backward()\n",
    "        res_optimizer.step()\n",
    "        \"\"\"\n",
    "        if i % 2 == 0:\n",
    "            print(\"epoch: {} {}\\{}\".format(epoch, i, res_total_step))\n",
    "        \"\"\" \n",
    "    # train\n",
    "    res_train_correct = 0\n",
    "    res_train_total = 0\n",
    "    with torch.no_grad():\n",
    "        for data in res_trainloader:\n",
    "            images, labels = data\n",
    "            images = images.view(res_batch_size, 1, 64, 32)\n",
    "            images = images.float()\n",
    "            \n",
    "            # GPU\n",
    "            if use_gpu:\n",
    "                if torch.cuda.is_available():\n",
    "                    images, labels = images.to(device), labels.to(device)\n",
    "                    \n",
    "            outputs = res_model(images)\n",
    "            _, predicted = torch.max(outputs.data, 1)\n",
    "            res_train_total += labels.size(0)\n",
    "            res_train_correct += (predicted == labels).sum().item()\n",
    "            \n",
    "    Accuracy_Train = 100* res_train_correct/res_train_total\n",
    "    #print(\"Accuracy Train: \"(Accuracy_Train)\n",
    "    res_train_acc.append(Accuracy_Train)\n",
    "    \n",
    "    # test\n",
    "    res_test_correct = 0\n",
    "    res_test_total = 0\n",
    "    with torch.no_grad():\n",
    "        for data in res_testloader:\n",
    "            images, labels = data\n",
    "            images = images.view(res_batch_size, 1, 64, 32)\n",
    "            images = images.float()\n",
    "            \n",
    "            # GPU\n",
    "            if use_gpu:\n",
    "                if torch.cuda.is_available():\n",
    "                    images, labels = images.to(device), labels.to(device)\n",
    "                    \n",
    "            outputs = res_model(images)\n",
    "            _, predicted = torch.max(outputs.data, 1)\n",
    "            res_test_total += labels.size(0)\n",
    "            res_test_correct += (predicted == labels).sum().item()\n",
    "          \n",
    "    Accuracy_Test = 100* res_test_correct/res_test_total\n",
    "    #print(\"Accuracy Test: \"(Accuracy_Test)\n",
    "    res_test_acc.append(Accuracy_Test)\n",
    "    \n",
    "    res_loss_list.append(loss.item())\n",
    "          \n",
    "    print(\"Epoch: {} | Accuracy Train: {} | Accuracy Test: {} | Loss: {} \".format(epoch, Accuracy_Train, Accuracy_Test, loss.item()))\n",
    "    \n",
    "print(\"Training is Done\")\n",
    "\n",
    "# time of end\n",
    "res_end = time.time()\n",
    "res_process_time = (res_end - res_start)/60\n",
    "print(\"Process Time: \",res_process_time)"
   ]
  },
  {
   "cell_type": "markdown",
   "id": "e9581377",
   "metadata": {
    "papermill": {
     "duration": 0.018206,
     "end_time": "2022-09-12T17:47:42.501021",
     "exception": false,
     "start_time": "2022-09-12T17:47:42.482815",
     "status": "completed"
    },
    "tags": []
   },
   "source": [
    "## Visualize The Result <a id = \"5a\"></a>\n",
    "[Go Content](#cont)\n",
    "\n",
    "In this chapter, I will visualize the results of ResNet Model."
   ]
  },
  {
   "cell_type": "code",
   "execution_count": 38,
   "id": "850cb885",
   "metadata": {
    "execution": {
     "iopub.execute_input": "2022-09-12T17:47:42.540756Z",
     "iopub.status.busy": "2022-09-12T17:47:42.539600Z",
     "iopub.status.idle": "2022-09-12T17:47:42.746840Z",
     "shell.execute_reply": "2022-09-12T17:47:42.745292Z"
    },
    "papermill": {
     "duration": 0.230018,
     "end_time": "2022-09-12T17:47:42.749526",
     "exception": false,
     "start_time": "2022-09-12T17:47:42.519508",
     "status": "completed"
    },
    "tags": []
   },
   "outputs": [
    {
     "data": {
      "image/png": "[encoded data removed]",
      "text/plain": [
       "<Figure size 432x288 with 1 Axes>"
      ]
     },
     "metadata": {
      "needs_background": "light"
     },
     "output_type": "display_data"
    }
   ],
   "source": [
    "# Train and Test accuracy graphic\n",
    "res_epochs = []\n",
    "for i in range(res_numberofepochs):\n",
    "    res_epochs.append(i)\n",
    "\n",
    "plt.plot(res_epochs, res_train_acc, label=\"Train\")\n",
    "plt.plot(res_epochs, res_test_acc, label=\"Test\")\n",
    "plt.title(\"Train-Test Accuracy\")\n",
    "plt.xlabel(\"Number of Epochs\")\n",
    "plt.xlabel(\"Accuracy\")\n",
    "plt.legend()\n",
    "plt.show()\n"
   ]
  },
  {
   "cell_type": "code",
   "execution_count": 39,
   "id": "6cd0f030",
   "metadata": {
    "execution": {
     "iopub.execute_input": "2022-09-12T17:47:42.790958Z",
     "iopub.status.busy": "2022-09-12T17:47:42.790293Z",
     "iopub.status.idle": "2022-09-12T17:47:43.003385Z",
     "shell.execute_reply": "2022-09-12T17:47:43.002370Z"
    },
    "papermill": {
     "duration": 0.237076,
     "end_time": "2022-09-12T17:47:43.006613",
     "exception": false,
     "start_time": "2022-09-12T17:47:42.769537",
     "status": "completed"
    },
    "tags": []
   },
   "outputs": [
    {
     "data": {
      "image/png": "[encoded data removed]",
      "text/plain": [
       "<Figure size 432x288 with 1 Axes>"
      ]
     },
     "metadata": {
      "needs_background": "light"
     },
     "output_type": "display_data"
    }
   ],
   "source": [
    "# Loss of cnn model graphic\n",
    "plt.plot(res_loss_list)\n",
    "plt.title(\"Loss of ResNet Model\")\n",
    "plt.xlabel(\"Index of loss_list\")\n",
    "plt.ylabel(\"Loss\")\n",
    "plt.show()"
   ]
  },
  {
   "cell_type": "markdown",
   "id": "b65526f2",
   "metadata": {
    "papermill": {
     "duration": 0.021025,
     "end_time": "2022-09-12T17:47:43.058032",
     "exception": false,
     "start_time": "2022-09-12T17:47:43.037007",
     "status": "completed"
    },
    "tags": []
   },
   "source": [
    "# CONCLUSION <a id = \"3\"></a>\n",
    "---\n",
    "[Go Content](#cont)\n",
    "\n",
    "I am learning the English language newly if I make an errata please advise me in the comment. Thank you for reading my notebook, your votes and your comments. I will be waiting for your advice.\n",
    "\n",
    "In this notebook, I made to train with ten-step because I used CPU. Training with CPU takes too long but I will make a project with GPU."
   ]
  }
 ],
 "metadata": {
  "kernelspec": {
   "display_name": "Python 3",
   "language": "python",
   "name": "python3"
  },
  "language_info": {
   "codemirror_mode": {
    "name": "ipython",
    "version": 3
   },
   "file_extension": ".py",
   "mimetype": "text/x-python",
   "name": "python",
   "nbconvert_exporter": "python",
   "pygments_lexer": "ipython3",
   "version": "3.7.12"
  },
  "papermill": {
   "default_parameters": {},
   "duration": 5699.393471,
   "end_time": "2022-09-12T17:47:44.613756",
   "environment_variables": {},
   "exception": null,
   "input_path": "__notebook__.ipynb",
   "output_path": "__notebook__.ipynb",
   "parameters": {},
   "start_time": "2022-09-12T16:12:45.220285",
   "version": "2.3.4"
  }
 },
 "nbformat": 4,
 "nbformat_minor": 5
}
