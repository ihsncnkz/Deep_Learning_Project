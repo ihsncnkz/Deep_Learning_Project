{
 "cells": [
  {
   "cell_type": "markdown",
   "id": "98149e11",
   "metadata": {
    "papermill": {
     "duration": 0.012847,
     "end_time": "2022-09-12T17:06:50.534005",
     "exception": false,
     "start_time": "2022-09-12T17:06:50.521158",
     "status": "completed"
    },
    "tags": []
   },
   "source": [
    "# Introduction\n",
    "\n",
    "Hello, Before this, I shared the name of Classification With CNN And ResNet - PyTorch - CPU project. This project is the continuation of that project I shared. The difference between this project from the project I shared, I will use GPU in this project and I will observe differents. In this project, there are only codes. If you want to look detailed version of this project [click here.](https://www.kaggle.com/code/ihsncnkz/classification-with-cnn-and-resnet-pytorch-cpu) In the detailed version, I gave information about the data set. \n",
    "\n",
    "**In this project, Information about what I did:** <br>\n",
    "My purpose of prepare this notebook is because I want to improve myself about the Pytorch and the ResNet. In this notebook, I will use two models of Deep Learning. These are the Residual neural network(ResNet) and Convolutional Neural Network(CNN). I will constitute these models with Pytorch. Firstly, I will prepare the dataset for the models. After I will visualize two images from the dataset I have prepared. After preparing the dataset, I will prepare the models with PyTorch. After I will start training with prepared models. Finally, I will visualize the results of the models. The general operation of this notebook will be like this. At the same time, We will look the difference between the results of the ResNet and CNN models.\n",
    "\n",
    "With this project, I continue to add knowledge to my knowledge. At the moment, I'm on a learning path. I started this learning path with data science and then continued with machine learning and now I am learning deep learning topics. It is in my projects that I have done before this project. I will share those projects in this chapter. In this learning path, I would be very happy if you would examine my notebook and help me with how to improve my notebook or what I should do in this development path. I wish you a good day and good work.\n",
    "\n",
    "My projects about Deep Learning:<br>\n",
    "- [Gender Prediction With Logistic Regression](https://www.kaggle.com/code/ihsncnkz/gender-prediction-with-logistic-regression)\n",
    "- [Cat And Dog Prediction With ANN](https://www.kaggle.com/code/ihsncnkz/cat-and-dog-prediction-with-ann)\n",
    "- [Linear Regression With Pytorch](https://www.kaggle.com/code/ihsncnkz/linear-regression-with-pytorch)\n",
    "- [My First Convolutional Neural Network(CNN) Work](https://www.kaggle.com/code/ihsncnkz/my-first-convolutional-neural-network-cnn-work)\n",
    "- [Predict With CNN Model](https://www.kaggle.com/code/ihsncnkz/predict-with-cnn-model)\n",
    "- [Logistic Regression, ANN And CNN With Pytorch](https://www.kaggle.com/code/ihsncnkz/logistic-regression-ann-and-cnn-with-pytorch)\n",
    "- [RNN And LSTM With Keras](https://www.kaggle.com/code/ihsncnkz/rnn-and-lstm-with-keras)\n",
    "- [Classification With CNN And ResNet - PyTorch - CPU](https://www.kaggle.com/code/ihsncnkz/classification-with-cnn-and-resnet-pytorch-cpu)\n",
    "\n",
    "My projects about Data Science and Machine Learning:\n",
    "- [GPU Search](https://www.kaggle.com/code/ihsncnkz/gpu-search)\n",
    "- [EDA And Linear Regression](https://www.kaggle.com/code/ihsncnkz/eda-and-linear-regression)\n",
    "- [Regression Models](https://www.kaggle.com/code/ihsncnkz/regression-models)\n",
    "- [Logistic Regression](https://www.kaggle.com/code/ihsncnkz/logistic-regression)\n",
    "- [Classification With K-Nearest Neighbors(KNN)](https://www.kaggle.com/code/ihsncnkz/classification-with-k-nearest-neighbors-knn)\n",
    "- [Classification With Support Vector Machine(SVM)](https://www.kaggle.com/code/ihsncnkz/classification-with-support-vector-machine-svm)\n",
    "- [Classification With Naive Bayes Classification](https://www.kaggle.com/code/ihsncnkz/classification-with-naive-bayes-classification)\n",
    "- [Decision Tree And Random Forest Classifier Models](https://www.kaggle.com/code/ihsncnkz/decision-tree-and-random-forest-classifier-models)\n",
    "- [K-Means And Hierarchical Clustering With 3D Plotly](https://www.kaggle.com/code/ihsncnkz/k-means-and-hierarchical-clustering-with-3d-plotly)\n",
    "- [Natural Language Process(NLP) With Naive Bayes](https://www.kaggle.com/code/ihsncnkz/natural-language-process-nlp-with-naive-bayes)\n",
    "- [Recommendation System With KNN](https://www.kaggle.com/code/ihsncnkz/recommendation-system-with-knn)"
   ]
  },
  {
   "cell_type": "markdown",
   "id": "5fe14b2a",
   "metadata": {
    "papermill": {
     "duration": 0.023287,
     "end_time": "2022-09-12T17:06:50.568637",
     "exception": false,
     "start_time": "2022-09-12T17:06:50.545350",
     "status": "completed"
    },
    "tags": []
   },
   "source": [
    "# Content <a id = \"cont\"></a>\n",
    "- [Convolutional Neural Network(CNN)](#1)\n",
    "    - [Load And Prepare Dataset](#1a)\n",
    "        - [Load Train Negative](#1aa)\n",
    "        - [Load Train Positive](#1ab)\n",
    "        - [Concat Train](#1ac)\n",
    "        - [Load Test Negative](#1ad)\n",
    "        - [Load Test Positive](#1ae)\n",
    "        - [Concat Test](#1af)\n",
    "        - [Create Tensor](#1ag)\n",
    "    - [Visualizetion](#1b)\n",
    "    - [Create Model](#1c)\n",
    "    - [Traning Model](#1d)\n",
    "    - [Visualize The Results](#1e)\n",
    "- [Residual neural network(ResNet)](#2)\n",
    "    - [Load and Prepare Dataset](#2a)\n",
    "        - [Load Train Negative](#2aa)\n",
    "        - [Load Train Positive](#2ab)\n",
    "        - [Concat Train](#2ac)\n",
    "        - [Load Test Negative](#2ad)\n",
    "        - [Load Test Positive](#2ae)\n",
    "        - [Concat Test](#2af)\n",
    "        - [Create Tensor](#2ag)\n",
    "    - [Visualization](#2b)\n",
    "    - [Create Model](#2c)\n",
    "    - [Training Model](#2d)\n",
    "    - [Visualize The Result](#2e)\n",
    "- [CONCLUSION](#3)"
   ]
  },
  {
   "cell_type": "code",
   "execution_count": 1,
   "id": "27019235",
   "metadata": {
    "_cell_guid": "b1076dfc-b9ad-4769-8c92-a6c4dae69d19",
    "_uuid": "8f2839f25d086af736a60e9eeb907d3b93b6e0e5",
    "execution": {
     "iopub.execute_input": "2022-09-12T17:06:50.613203Z",
     "iopub.status.busy": "2022-09-12T17:06:50.612686Z",
     "iopub.status.idle": "2022-09-12T17:06:53.141782Z",
     "shell.execute_reply": "2022-09-12T17:06:53.140807Z"
    },
    "papermill": {
     "duration": 2.551861,
     "end_time": "2022-09-12T17:06:53.144275",
     "exception": false,
     "start_time": "2022-09-12T17:06:50.592414",
     "status": "completed"
    },
    "tags": []
   },
   "outputs": [],
   "source": [
    "# İmport Library\n",
    "import numpy as np # linear algebra\n",
    "import pandas as pd # data processing, CSV file I/O (e.g. pd.read_csv)\n",
    "import matplotlib.pyplot as plt\n",
    "import seaborn as sns\n",
    "import os\n",
    "import torch\n",
    "import torch.nn as nn\n",
    "import torch.nn.functional as F\n",
    "import torch.utils.data\n",
    "import torch.optim as optim\n",
    "from PIL import Image\n",
    "import time"
   ]
  },
  {
   "cell_type": "markdown",
   "id": "0ed091a9",
   "metadata": {
    "papermill": {
     "duration": 0.011263,
     "end_time": "2022-09-12T17:06:53.167223",
     "exception": false,
     "start_time": "2022-09-12T17:06:53.155960",
     "status": "completed"
    },
    "tags": []
   },
   "source": [
    "**Device confic Ekstra**<br>\n",
    "If you want to use GPU, You apply the codes below."
   ]
  },
  {
   "cell_type": "code",
   "execution_count": 2,
   "id": "15e6edb7",
   "metadata": {
    "execution": {
     "iopub.execute_input": "2022-09-12T17:06:53.192344Z",
     "iopub.status.busy": "2022-09-12T17:06:53.191420Z",
     "iopub.status.idle": "2022-09-12T17:06:53.254834Z",
     "shell.execute_reply": "2022-09-12T17:06:53.253855Z"
    },
    "papermill": {
     "duration": 0.078877,
     "end_time": "2022-09-12T17:06:53.257371",
     "exception": false,
     "start_time": "2022-09-12T17:06:53.178494",
     "status": "completed"
    },
    "tags": []
   },
   "outputs": [
    {
     "name": "stdout",
     "output_type": "stream",
     "text": [
      "Device: cuda\n"
     ]
    }
   ],
   "source": [
    "device = torch.device(\"cuda\" if torch.cuda.is_available() == True else \"cpu\")\n",
    "print(\"Device:\", device)"
   ]
  },
  {
   "cell_type": "markdown",
   "id": "8e83ef3f",
   "metadata": {
    "papermill": {
     "duration": 0.011123,
     "end_time": "2022-09-12T17:06:53.280105",
     "exception": false,
     "start_time": "2022-09-12T17:06:53.268982",
     "status": "completed"
    },
    "tags": []
   },
   "source": [
    "# Convolutional Neural Network(CNN) <a id = \"1\"></a>\n",
    "[Go Content](#cont)"
   ]
  },
  {
   "cell_type": "markdown",
   "id": "45b5aff2",
   "metadata": {
    "papermill": {
     "duration": 0.011435,
     "end_time": "2022-09-12T17:06:53.302786",
     "exception": false,
     "start_time": "2022-09-12T17:06:53.291351",
     "status": "completed"
    },
    "tags": []
   },
   "source": [
    "## Load And Prepare Dataset <a id = \"1a\"></a>\n",
    "[Go Content](#cont)"
   ]
  },
  {
   "cell_type": "code",
   "execution_count": 3,
   "id": "4279bc87",
   "metadata": {
    "execution": {
     "iopub.execute_input": "2022-09-12T17:06:53.327205Z",
     "iopub.status.busy": "2022-09-12T17:06:53.326900Z",
     "iopub.status.idle": "2022-09-12T17:06:53.332799Z",
     "shell.execute_reply": "2022-09-12T17:06:53.331809Z"
    },
    "papermill": {
     "duration": 0.020227,
     "end_time": "2022-09-12T17:06:53.334738",
     "exception": false,
     "start_time": "2022-09-12T17:06:53.314511",
     "status": "completed"
    },
    "tags": []
   },
   "outputs": [],
   "source": [
    "# Data Load Function\n",
    "def read_images(path, numberofImage):\n",
    "    array = np.zeros([numberofImage, 64*32])\n",
    "    i = 0\n",
    "    for img in os.listdir(path):\n",
    "        img_path = path + \"/\" + img\n",
    "        img = Image.open(img_path, mode = \"r\")\n",
    "        data = np.asarray(img, dtype = \"uint8\")\n",
    "        data = data.flatten()\n",
    "        array[i,:] = data\n",
    "        i += 1\n",
    "    return array"
   ]
  },
  {
   "cell_type": "markdown",
   "id": "9a21c1dc",
   "metadata": {
    "papermill": {
     "duration": 0.011396,
     "end_time": "2022-09-12T17:06:53.358050",
     "exception": false,
     "start_time": "2022-09-12T17:06:53.346654",
     "status": "completed"
    },
    "tags": []
   },
   "source": [
    "### Load Train Negative <a id = \"1aa\"></a>\n",
    "[Go Content](#cont)"
   ]
  },
  {
   "cell_type": "code",
   "execution_count": 4,
   "id": "5ed4b009",
   "metadata": {
    "execution": {
     "iopub.execute_input": "2022-09-12T17:06:53.382410Z",
     "iopub.status.busy": "2022-09-12T17:06:53.382080Z",
     "iopub.status.idle": "2022-09-12T17:13:12.805855Z",
     "shell.execute_reply": "2022-09-12T17:13:12.804772Z"
    },
    "papermill": {
     "duration": 379.438809,
     "end_time": "2022-09-12T17:13:12.808387",
     "exception": false,
     "start_time": "2022-09-12T17:06:53.369578",
     "status": "completed"
    },
    "tags": []
   },
   "outputs": [],
   "source": [
    "Train_neg_path = r\"../input/lsifir/LSIFIR/Classification/Train/neg\"\n",
    "num_Train_neg_img = 43390\n",
    "Train_neg_array = read_images(Train_neg_path, num_Train_neg_img)"
   ]
  },
  {
   "cell_type": "code",
   "execution_count": 5,
   "id": "1cecb7fb",
   "metadata": {
    "execution": {
     "iopub.execute_input": "2022-09-12T17:13:12.834591Z",
     "iopub.status.busy": "2022-09-12T17:13:12.834228Z",
     "iopub.status.idle": "2022-09-12T17:13:12.840827Z",
     "shell.execute_reply": "2022-09-12T17:13:12.839839Z"
    },
    "papermill": {
     "duration": 0.022886,
     "end_time": "2022-09-12T17:13:12.843491",
     "exception": false,
     "start_time": "2022-09-12T17:13:12.820605",
     "status": "completed"
    },
    "tags": []
   },
   "outputs": [
    {
     "name": "stdout",
     "output_type": "stream",
     "text": [
      "Size of x_Train_neg_Tensor:  torch.Size([43390, 2048])\n",
      "Size of y_Train_neg_Tensor:  torch.Size([43390])\n"
     ]
    }
   ],
   "source": [
    "x_Train_neg_Tensor = torch.from_numpy(Train_neg_array)\n",
    "print(\"Size of x_Train_neg_Tensor: \", x_Train_neg_Tensor.size())\n",
    "\n",
    "# I specify negative images as zero.\n",
    "y_Train_neg_Tensor = torch.zeros(num_Train_neg_img, dtype = torch.long)\n",
    "print(\"Size of y_Train_neg_Tensor: \", y_Train_neg_Tensor.size())"
   ]
  },
  {
   "cell_type": "markdown",
   "id": "61fb4a0c",
   "metadata": {
    "papermill": {
     "duration": 0.011709,
     "end_time": "2022-09-12T17:13:12.866711",
     "exception": false,
     "start_time": "2022-09-12T17:13:12.855002",
     "status": "completed"
    },
    "tags": []
   },
   "source": [
    "### Load Train Positive <a id=\"1ab\"></a>\n",
    "[Go Content](#cont)"
   ]
  },
  {
   "cell_type": "code",
   "execution_count": 6,
   "id": "b897d796",
   "metadata": {
    "execution": {
     "iopub.execute_input": "2022-09-12T17:13:12.890991Z",
     "iopub.status.busy": "2022-09-12T17:13:12.890363Z",
     "iopub.status.idle": "2022-09-12T17:14:40.770591Z",
     "shell.execute_reply": "2022-09-12T17:14:40.769584Z"
    },
    "papermill": {
     "duration": 87.895376,
     "end_time": "2022-09-12T17:14:40.773377",
     "exception": false,
     "start_time": "2022-09-12T17:13:12.878001",
     "status": "completed"
    },
    "tags": []
   },
   "outputs": [],
   "source": [
    "Train_pos_path = r\"../input/lsifir/LSIFIR/Classification/Train/pos\"\n",
    "num_Train_pos_img = 10208\n",
    "Train_pos_array = read_images(Train_pos_path, num_Train_pos_img)"
   ]
  },
  {
   "cell_type": "code",
   "execution_count": 7,
   "id": "0b00ea59",
   "metadata": {
    "execution": {
     "iopub.execute_input": "2022-09-12T17:14:40.798381Z",
     "iopub.status.busy": "2022-09-12T17:14:40.798079Z",
     "iopub.status.idle": "2022-09-12T17:14:40.804924Z",
     "shell.execute_reply": "2022-09-12T17:14:40.803903Z"
    },
    "papermill": {
     "duration": 0.022353,
     "end_time": "2022-09-12T17:14:40.807875",
     "exception": false,
     "start_time": "2022-09-12T17:14:40.785522",
     "status": "completed"
    },
    "tags": []
   },
   "outputs": [
    {
     "name": "stdout",
     "output_type": "stream",
     "text": [
      "Size of x_Train_pos_Tensor:  torch.Size([10208, 2048])\n",
      "Size of y_Train_pos_Tensor:  torch.Size([10208])\n"
     ]
    }
   ],
   "source": [
    "x_Train_pos_Tensor = torch.from_numpy(Train_pos_array)\n",
    "print(\"Size of x_Train_pos_Tensor: \", x_Train_pos_Tensor.size())\n",
    "\n",
    "# I specify positive images as one.\n",
    "y_Train_pos_Tensor = torch.ones(num_Train_pos_img, dtype = torch.long)\n",
    "print(\"Size of y_Train_pos_Tensor: \", y_Train_pos_Tensor.size())"
   ]
  },
  {
   "cell_type": "markdown",
   "id": "2d821702",
   "metadata": {
    "papermill": {
     "duration": 0.0119,
     "end_time": "2022-09-12T17:14:40.832666",
     "exception": false,
     "start_time": "2022-09-12T17:14:40.820766",
     "status": "completed"
    },
    "tags": []
   },
   "source": [
    "### Concat Train <a id = \"1ac\"></a>\n",
    "[Go Content](#cont)"
   ]
  },
  {
   "cell_type": "code",
   "execution_count": 8,
   "id": "f806509c",
   "metadata": {
    "execution": {
     "iopub.execute_input": "2022-09-12T17:14:40.856666Z",
     "iopub.status.busy": "2022-09-12T17:14:40.856324Z",
     "iopub.status.idle": "2022-09-12T17:14:41.431890Z",
     "shell.execute_reply": "2022-09-12T17:14:41.430504Z"
    },
    "papermill": {
     "duration": 0.590281,
     "end_time": "2022-09-12T17:14:41.434176",
     "exception": false,
     "start_time": "2022-09-12T17:14:40.843895",
     "status": "completed"
    },
    "tags": []
   },
   "outputs": [
    {
     "name": "stdout",
     "output_type": "stream",
     "text": [
      "Size of X_train:  torch.Size([53598, 2048])\n",
      "Size of Y_train:  torch.Size([53598])\n"
     ]
    }
   ],
   "source": [
    "X_train = torch.cat((x_Train_neg_Tensor, x_Train_pos_Tensor),0)\n",
    "Y_train = torch.cat((y_Train_neg_Tensor, y_Train_pos_Tensor),0)\n",
    "\n",
    "print(\"Size of X_train: \",X_train.size())\n",
    "print(\"Size of Y_train: \",Y_train.size()) "
   ]
  },
  {
   "cell_type": "markdown",
   "id": "f205bd49",
   "metadata": {
    "papermill": {
     "duration": 0.011464,
     "end_time": "2022-09-12T17:14:41.457393",
     "exception": false,
     "start_time": "2022-09-12T17:14:41.445929",
     "status": "completed"
    },
    "tags": []
   },
   "source": [
    "### Load Test Negative <a id = \"1ad\"></a>\n",
    "[Go Content](#cont)"
   ]
  },
  {
   "cell_type": "code",
   "execution_count": 9,
   "id": "bedbba1d",
   "metadata": {
    "execution": {
     "iopub.execute_input": "2022-09-12T17:14:41.482548Z",
     "iopub.status.busy": "2022-09-12T17:14:41.481407Z",
     "iopub.status.idle": "2022-09-12T17:17:52.806752Z",
     "shell.execute_reply": "2022-09-12T17:17:52.805476Z"
    },
    "papermill": {
     "duration": 191.342263,
     "end_time": "2022-09-12T17:17:52.811141",
     "exception": false,
     "start_time": "2022-09-12T17:14:41.468878",
     "status": "completed"
    },
    "tags": []
   },
   "outputs": [],
   "source": [
    "Test_neg_path = r\"../input/lsifir/LSIFIR/Classification/Test/neg\"\n",
    "num_Test_neg_img = 22050\n",
    "Test_neg_array = read_images(Test_neg_path, num_Test_neg_img)"
   ]
  },
  {
   "cell_type": "code",
   "execution_count": 10,
   "id": "2e3bf2de",
   "metadata": {
    "execution": {
     "iopub.execute_input": "2022-09-12T17:17:52.845714Z",
     "iopub.status.busy": "2022-09-12T17:17:52.845291Z",
     "iopub.status.idle": "2022-09-12T17:17:52.852731Z",
     "shell.execute_reply": "2022-09-12T17:17:52.851555Z"
    },
    "papermill": {
     "duration": 0.022893,
     "end_time": "2022-09-12T17:17:52.855309",
     "exception": false,
     "start_time": "2022-09-12T17:17:52.832416",
     "status": "completed"
    },
    "tags": []
   },
   "outputs": [
    {
     "name": "stdout",
     "output_type": "stream",
     "text": [
      "Size of x_Train_neg_Tensor:  torch.Size([20855, 2048])\n",
      "Size of y_Train_neg_Tensor:  torch.Size([20855])\n"
     ]
    }
   ],
   "source": [
    "x_Test_neg_Tensor = torch.from_numpy(Test_neg_array[:20855,:])\n",
    "print(\"Size of x_Train_neg_Tensor: \", x_Test_neg_Tensor.size())\n",
    "\n",
    "# I specify negative images as zero.\n",
    "y_Test_neg_Tensor = torch.zeros(20855, dtype = torch.long)\n",
    "print(\"Size of y_Train_neg_Tensor: \", y_Test_neg_Tensor.size())"
   ]
  },
  {
   "cell_type": "markdown",
   "id": "ebe7ff09",
   "metadata": {
    "papermill": {
     "duration": 0.01165,
     "end_time": "2022-09-12T17:17:52.879941",
     "exception": false,
     "start_time": "2022-09-12T17:17:52.868291",
     "status": "completed"
    },
    "tags": []
   },
   "source": [
    "### Load Test Positive <a id = \"1ae\"></a>\n",
    "[Go Content](#cont)"
   ]
  },
  {
   "cell_type": "code",
   "execution_count": 11,
   "id": "510089e4",
   "metadata": {
    "execution": {
     "iopub.execute_input": "2022-09-12T17:17:52.906228Z",
     "iopub.status.busy": "2022-09-12T17:17:52.905246Z",
     "iopub.status.idle": "2022-09-12T17:18:42.337446Z",
     "shell.execute_reply": "2022-09-12T17:18:42.336485Z"
    },
    "papermill": {
     "duration": 49.447576,
     "end_time": "2022-09-12T17:18:42.339887",
     "exception": false,
     "start_time": "2022-09-12T17:17:52.892311",
     "status": "completed"
    },
    "tags": []
   },
   "outputs": [],
   "source": [
    "Test_pos_path = r\"../input/lsifir/LSIFIR/Classification/Test/pos\"\n",
    "num_Test_pos_img = 5944\n",
    "Test_pos_array = read_images(Test_pos_path, num_Test_pos_img)"
   ]
  },
  {
   "cell_type": "code",
   "execution_count": 12,
   "id": "240360ff",
   "metadata": {
    "execution": {
     "iopub.execute_input": "2022-09-12T17:18:42.365337Z",
     "iopub.status.busy": "2022-09-12T17:18:42.364612Z",
     "iopub.status.idle": "2022-09-12T17:18:42.371611Z",
     "shell.execute_reply": "2022-09-12T17:18:42.370119Z"
    },
    "papermill": {
     "duration": 0.022148,
     "end_time": "2022-09-12T17:18:42.374057",
     "exception": false,
     "start_time": "2022-09-12T17:18:42.351909",
     "status": "completed"
    },
    "tags": []
   },
   "outputs": [
    {
     "name": "stdout",
     "output_type": "stream",
     "text": [
      "Size of x_Train_neg_Tensor:  torch.Size([5944, 2048])\n",
      "Size of y_Train_neg_Tensor:  torch.Size([5944])\n"
     ]
    }
   ],
   "source": [
    "x_Test_pos_Tensor = torch.from_numpy(Test_pos_array)\n",
    "print(\"Size of x_Train_neg_Tensor: \", x_Test_pos_Tensor.size())\n",
    "\n",
    "# I specify positive images as one.\n",
    "y_Test_pos_Tensor = torch.ones(num_Test_pos_img, dtype = torch.long)\n",
    "print(\"Size of y_Train_neg_Tensor: \", y_Test_pos_Tensor.size())"
   ]
  },
  {
   "cell_type": "markdown",
   "id": "44bd96aa",
   "metadata": {
    "papermill": {
     "duration": 0.011516,
     "end_time": "2022-09-12T17:18:42.397870",
     "exception": false,
     "start_time": "2022-09-12T17:18:42.386354",
     "status": "completed"
    },
    "tags": []
   },
   "source": [
    "### Concat Test <a id = \"1af\"></a>\n",
    "[Go Centent](#cont)"
   ]
  },
  {
   "cell_type": "code",
   "execution_count": 13,
   "id": "4286da71",
   "metadata": {
    "execution": {
     "iopub.execute_input": "2022-09-12T17:18:42.422156Z",
     "iopub.status.busy": "2022-09-12T17:18:42.421874Z",
     "iopub.status.idle": "2022-09-12T17:18:42.712683Z",
     "shell.execute_reply": "2022-09-12T17:18:42.710456Z"
    },
    "papermill": {
     "duration": 0.306239,
     "end_time": "2022-09-12T17:18:42.715628",
     "exception": false,
     "start_time": "2022-09-12T17:18:42.409389",
     "status": "completed"
    },
    "tags": []
   },
   "outputs": [
    {
     "name": "stdout",
     "output_type": "stream",
     "text": [
      "Size of X_train:  torch.Size([26799, 2048])\n",
      "Size of Y_train:  torch.Size([26799])\n"
     ]
    }
   ],
   "source": [
    "X_test = torch.cat((x_Test_neg_Tensor, x_Test_pos_Tensor),0)\n",
    "Y_test = torch.cat((y_Test_neg_Tensor, y_Test_pos_Tensor),0)\n",
    "\n",
    "print(\"Size of X_train: \",X_test.size())\n",
    "print(\"Size of Y_train: \",Y_test.size()) "
   ]
  },
  {
   "cell_type": "markdown",
   "id": "0ff9d7a0",
   "metadata": {
    "papermill": {
     "duration": 0.01151,
     "end_time": "2022-09-12T17:18:42.739980",
     "exception": false,
     "start_time": "2022-09-12T17:18:42.728470",
     "status": "completed"
    },
    "tags": []
   },
   "source": [
    "### Create Tensor <a id = \"1ag\"></a>\n",
    "[Go Content](#cont)"
   ]
  },
  {
   "cell_type": "code",
   "execution_count": 14,
   "id": "4007cf47",
   "metadata": {
    "execution": {
     "iopub.execute_input": "2022-09-12T17:18:42.765537Z",
     "iopub.status.busy": "2022-09-12T17:18:42.765141Z",
     "iopub.status.idle": "2022-09-12T17:18:42.771494Z",
     "shell.execute_reply": "2022-09-12T17:18:42.770479Z"
    },
    "papermill": {
     "duration": 0.021544,
     "end_time": "2022-09-12T17:18:42.773619",
     "exception": false,
     "start_time": "2022-09-12T17:18:42.752075",
     "status": "completed"
    },
    "tags": []
   },
   "outputs": [],
   "source": [
    "batch_size = 8933\n",
    "\n",
    "train = torch.utils.data.TensorDataset(X_train, Y_train)\n",
    "trainloader = torch.utils.data.DataLoader(train, batch_size = batch_size, shuffle = True)\n",
    "\n",
    "test = torch.utils.data.TensorDataset(X_test, Y_test)\n",
    "testloader = torch.utils.data.DataLoader(test, batch_size = batch_size, shuffle = False)"
   ]
  },
  {
   "cell_type": "markdown",
   "id": "800387f4",
   "metadata": {
    "papermill": {
     "duration": 0.011737,
     "end_time": "2022-09-12T17:18:42.797136",
     "exception": false,
     "start_time": "2022-09-12T17:18:42.785399",
     "status": "completed"
    },
    "tags": []
   },
   "source": [
    "## Visualizetion <a id = \"1b\"></a>\n",
    "[Go Content](#cont)"
   ]
  },
  {
   "cell_type": "code",
   "execution_count": 15,
   "id": "f946355f",
   "metadata": {
    "execution": {
     "iopub.execute_input": "2022-09-12T17:18:42.822035Z",
     "iopub.status.busy": "2022-09-12T17:18:42.821715Z",
     "iopub.status.idle": "2022-09-12T17:18:42.914717Z",
     "shell.execute_reply": "2022-09-12T17:18:42.913542Z"
    },
    "papermill": {
     "duration": 0.10828,
     "end_time": "2022-09-12T17:18:42.917229",
     "exception": false,
     "start_time": "2022-09-12T17:18:42.808949",
     "status": "completed"
    },
    "tags": []
   },
   "outputs": [
    {
     "data": {
      "text/plain": [
       "(-0.5, 31.5, 63.5, -0.5)"
      ]
     },
     "execution_count": 15,
     "metadata": {},
     "output_type": "execute_result"
    },
    {
     "data": {
      "image/png": "[encoded data removed]",
      "text/plain": [
       "<Figure size 432x288 with 1 Axes>"
      ]
     },
     "metadata": {
      "needs_background": "light"
     },
     "output_type": "display_data"
    }
   ],
   "source": [
    "# Image 1 from x_train\n",
    "plt.imshow(X_train[44301,:].reshape(64,32),cmap = \"gray\")\n",
    "plt.axis(\"off\")"
   ]
  },
  {
   "cell_type": "code",
   "execution_count": 16,
   "id": "13aba8ba",
   "metadata": {
    "execution": {
     "iopub.execute_input": "2022-09-12T17:18:42.982641Z",
     "iopub.status.busy": "2022-09-12T17:18:42.982041Z",
     "iopub.status.idle": "2022-09-12T17:18:43.060498Z",
     "shell.execute_reply": "2022-09-12T17:18:43.059258Z"
    },
    "papermill": {
     "duration": 0.114704,
     "end_time": "2022-09-12T17:18:43.063633",
     "exception": false,
     "start_time": "2022-09-12T17:18:42.948929",
     "status": "completed"
    },
    "tags": []
   },
   "outputs": [
    {
     "data": {
      "text/plain": [
       "(-0.5, 31.5, 63.5, -0.5)"
      ]
     },
     "execution_count": 16,
     "metadata": {},
     "output_type": "execute_result"
    },
    {
     "data": {
      "image/png": "[encoded data removed]",
      "text/plain": [
       "<Figure size 432x288 with 1 Axes>"
      ]
     },
     "metadata": {
      "needs_background": "light"
     },
     "output_type": "display_data"
    }
   ],
   "source": [
    "# Image 2 from x_test\n",
    "plt.imshow(X_test[25100,:].reshape(64,32),cmap = \"gray\")\n",
    "plt.axis(\"off\")"
   ]
  },
  {
   "cell_type": "markdown",
   "id": "db53bf98",
   "metadata": {
    "papermill": {
     "duration": 0.031495,
     "end_time": "2022-09-12T17:18:43.127259",
     "exception": false,
     "start_time": "2022-09-12T17:18:43.095764",
     "status": "completed"
    },
    "tags": []
   },
   "source": [
    "## Create Model <a id = \"1c\"></a>\n",
    "[Go Content](#cont)"
   ]
  },
  {
   "cell_type": "code",
   "execution_count": 17,
   "id": "dee2776d",
   "metadata": {
    "execution": {
     "iopub.execute_input": "2022-09-12T17:18:43.165370Z",
     "iopub.status.busy": "2022-09-12T17:18:43.165027Z",
     "iopub.status.idle": "2022-09-12T17:18:45.976733Z",
     "shell.execute_reply": "2022-09-12T17:18:45.975742Z"
    },
    "papermill": {
     "duration": 2.828268,
     "end_time": "2022-09-12T17:18:45.979131",
     "exception": false,
     "start_time": "2022-09-12T17:18:43.150863",
     "status": "completed"
    },
    "tags": []
   },
   "outputs": [],
   "source": [
    "# Hyper Parameter\n",
    "numberofepochs = 100\n",
    "numberofclass = 2\n",
    "learning_rate = 0.00001\n",
    "\n",
    "# Create Class\n",
    "class CNNmodel(nn.Module):\n",
    "    def __init__(self):\n",
    "        super(CNNmodel,self).__init__()\n",
    "        \n",
    "        self.conv1 = nn.Conv2d(1,10,5)\n",
    "        self.pool = nn.MaxPool2d(2,2)\n",
    "        self.conv2 = nn.Conv2d(10,16,5)\n",
    "        \n",
    "        self.fc1 = nn.Linear(16*13*5,520)\n",
    "        self.fc2 = nn.Linear(520,130)\n",
    "        self.fc3 = nn.Linear(130,numberofclass)\n",
    "        \n",
    "    def forward(self, out):\n",
    "        out = self.pool(F.relu((self.conv1(out))))\n",
    "        out = self.pool(F.relu(self.conv2(out)))\n",
    "        \n",
    "        out = out.view(-1,16*13*5)\n",
    "        out = F.relu(self.fc1(out))\n",
    "        out = F.relu(self.fc2(out))\n",
    "        out = self.fc3(out)\n",
    "        \n",
    "        return out\n",
    "    \n",
    "CNNmodel = CNNmodel().to(device)\n",
    "# If you want to use GPU, You use the code below\n",
    "# CNNmodel = CNNmodel().to(device) \n",
    "\n",
    "# Loss And Optimizer\n",
    "cnn_criterion = nn.CrossEntropyLoss() # For calculate loss\n",
    "\n",
    "cnn_optimizer = optim.SGD(CNNmodel.parameters(), lr = learning_rate, momentum = 0.8) # For optimize weight and bias"
   ]
  },
  {
   "cell_type": "markdown",
   "id": "bf971b82",
   "metadata": {
    "papermill": {
     "duration": 0.012636,
     "end_time": "2022-09-12T17:18:46.004698",
     "exception": false,
     "start_time": "2022-09-12T17:18:45.992062",
     "status": "completed"
    },
    "tags": []
   },
   "source": [
    "## Traning Model <a id = \"1d\"></a>\n",
    "[Go Content](#cont)"
   ]
  },
  {
   "cell_type": "code",
   "execution_count": 18,
   "id": "8667c81c",
   "metadata": {
    "execution": {
     "iopub.execute_input": "2022-09-12T17:18:46.031474Z",
     "iopub.status.busy": "2022-09-12T17:18:46.031161Z",
     "iopub.status.idle": "2022-09-12T17:26:24.457731Z",
     "shell.execute_reply": "2022-09-12T17:26:24.456242Z"
    },
    "papermill": {
     "duration": 458.443225,
     "end_time": "2022-09-12T17:26:24.460870",
     "exception": false,
     "start_time": "2022-09-12T17:18:46.017645",
     "status": "completed"
    },
    "tags": []
   },
   "outputs": [
    {
     "name": "stdout",
     "output_type": "stream",
     "text": [
      "Epoch: 0 | Accuracy Train: 73.0419045486772 | Accuracy Test: 70.1742602335908 | Loss: 0.8405959606170654 \n",
      "Epoch: 1 | Accuracy Train: 77.13720661218703 | Accuracy Test: 74.39456696145379 | Loss: 0.9112182259559631 \n",
      "Epoch: 2 | Accuracy Train: 72.95608045076308 | Accuracy Test: 69.8309638419344 | Loss: 0.7920814156532288 \n",
      "Epoch: 3 | Accuracy Train: 71.0175752826598 | Accuracy Test: 67.84954662487407 | Loss: 0.7382070422172546 \n",
      "Epoch: 4 | Accuracy Train: 74.08112242994142 | Accuracy Test: 70.71159371618344 | Loss: 0.7318483591079712 \n",
      "Epoch: 5 | Accuracy Train: 74.94869211537744 | Accuracy Test: 71.6967051009366 | Loss: 0.6972607374191284 \n",
      "Epoch: 6 | Accuracy Train: 74.9990671293705 | Accuracy Test: 71.60714952050449 | Loss: 0.6762188673019409 \n",
      "Epoch: 7 | Accuracy Train: 75.36288667487592 | Accuracy Test: 71.95417739467891 | Loss: 0.6481812596321106 \n",
      "Epoch: 8 | Accuracy Train: 76.06813687077876 | Accuracy Test: 72.65569610806374 | Loss: 0.6501365303993225 \n",
      "Epoch: 9 | Accuracy Train: 76.32187768200306 | Accuracy Test: 72.89451098921602 | Loss: 0.6239081621170044 \n",
      "Epoch: 10 | Accuracy Train: 76.6912944512855 | Accuracy Test: 73.26765924101646 | Loss: 0.6113680601119995 \n",
      "Epoch: 11 | Accuracy Train: 76.94503526250979 | Accuracy Test: 73.45796484943467 | Loss: 0.5971288084983826 \n",
      "Epoch: 12 | Accuracy Train: 77.2883316541662 | Accuracy Test: 73.79006679353708 | Loss: 0.5805412530899048 \n",
      "Epoch: 13 | Accuracy Train: 77.57379006679353 | Accuracy Test: 73.99902981454532 | Loss: 0.5557124614715576 \n",
      "Epoch: 14 | Accuracy Train: 77.83126236053585 | Accuracy Test: 74.24530766073362 | Loss: 0.5470420122146606 \n",
      "Epoch: 15 | Accuracy Train: 78.11298929064517 | Accuracy Test: 74.61845591253405 | Loss: 0.5350344777107239 \n",
      "Epoch: 16 | Accuracy Train: 78.2249337661853 | Accuracy Test: 74.81622448598829 | Loss: 0.5080063343048096 \n",
      "Epoch: 17 | Accuracy Train: 78.59808201798575 | Accuracy Test: 75.14086346505466 | Loss: 0.5063309073448181 \n",
      "Epoch: 18 | Accuracy Train: 78.78092466136796 | Accuracy Test: 75.28639128325683 | Loss: 0.5027149319648743 \n",
      "Epoch: 19 | Accuracy Train: 79.07384603903131 | Accuracy Test: 75.52893764692712 | Loss: 0.4830612242221832 \n",
      "Epoch: 20 | Accuracy Train: 79.33691555655062 | Accuracy Test: 75.70804880779133 | Loss: 0.4769897162914276 \n",
      "Epoch: 21 | Accuracy Train: 79.62423971043695 | Accuracy Test: 75.98044703160566 | Loss: 0.45800238847732544 \n",
      "Epoch: 22 | Accuracy Train: 79.93395275943132 | Accuracy Test: 76.23791932534796 | Loss: 0.46752795577049255 \n",
      "Epoch: 23 | Accuracy Train: 80.22687413709467 | Accuracy Test: 76.39464159110415 | Loss: 0.45782822370529175 \n",
      "Epoch: 24 | Accuracy Train: 80.53658718608904 | Accuracy Test: 76.6073360946304 | Loss: 0.4535321295261383 \n",
      "Epoch: 25 | Accuracy Train: 80.8425687525654 | Accuracy Test: 76.81629911563864 | Loss: 0.4364505410194397 \n",
      "Epoch: 26 | Accuracy Train: 81.15787902533677 | Accuracy Test: 77.05138251427292 | Loss: 0.4290025234222412 \n",
      "Epoch: 27 | Accuracy Train: 81.46012910929512 | Accuracy Test: 77.19317884995709 | Loss: 0.43005549907684326 \n",
      "Epoch: 28 | Accuracy Train: 81.68774954289339 | Accuracy Test: 77.2901973954252 | Loss: 0.4163725972175598 \n",
      "Epoch: 29 | Accuracy Train: 82.00492555692377 | Accuracy Test: 77.5476696891675 | Loss: 0.41134604811668396 \n",
      "Epoch: 30 | Accuracy Train: 82.33143027724915 | Accuracy Test: 77.73797529758573 | Loss: 0.40032991766929626 \n",
      "Epoch: 31 | Accuracy Train: 82.6318146199485 | Accuracy Test: 77.81260494794581 | Loss: 0.38949036598205566 \n",
      "Epoch: 32 | Accuracy Train: 82.94712489271988 | Accuracy Test: 77.99544759132803 | Loss: 0.39082568883895874 \n",
      "Epoch: 33 | Accuracy Train: 83.22512034031121 | Accuracy Test: 78.14097540953021 | Loss: 0.3820807933807373 \n",
      "Epoch: 34 | Accuracy Train: 83.42848613754245 | Accuracy Test: 78.29396619276838 | Loss: 0.3845963180065155 \n",
      "Epoch: 35 | Accuracy Train: 83.66916675995373 | Accuracy Test: 78.43203104593455 | Loss: 0.394679993391037 \n",
      "Epoch: 36 | Accuracy Train: 83.893055711034 | Accuracy Test: 78.58129034665473 | Loss: 0.3773072361946106 \n",
      "Epoch: 37 | Accuracy Train: 84.07030113063921 | Accuracy Test: 78.74920705996493 | Loss: 0.37944290041923523 \n",
      "Epoch: 38 | Accuracy Train: 84.26060673905742 | Accuracy Test: 78.86488301802306 | Loss: 0.3577379584312439 \n",
      "Epoch: 39 | Accuracy Train: 84.46024105377066 | Accuracy Test: 78.97309601104519 | Loss: 0.3704514503479004 \n",
      "Epoch: 40 | Accuracy Train: 84.63002350833986 | Accuracy Test: 79.0701145565133 | Loss: 0.36305323243141174 \n",
      "Epoch: 41 | Accuracy Train: 84.81100041046308 | Accuracy Test: 79.21564237471547 | Loss: 0.3578857481479645 \n",
      "Epoch: 42 | Accuracy Train: 84.97891712377327 | Accuracy Test: 79.3163924027016 | Loss: 0.34951135516166687 \n",
      "Epoch: 43 | Accuracy Train: 85.10019030560842 | Accuracy Test: 79.39102205306168 | Loss: 0.3455117344856262 \n",
      "Epoch: 44 | Accuracy Train: 85.23079219373857 | Accuracy Test: 79.48430911601179 | Loss: 0.3589736819267273 \n",
      "Epoch: 45 | Accuracy Train: 85.35952834060973 | Accuracy Test: 79.59625359155193 | Loss: 0.3410639464855194 \n",
      "Epoch: 46 | Accuracy Train: 85.48080152244486 | Accuracy Test: 79.68954065450204 | Loss: 0.34530961513519287 \n",
      "Epoch: 47 | Accuracy Train: 85.63006082316504 | Accuracy Test: 79.76790178738013 | Loss: 0.3393552303314209 \n",
      "Epoch: 48 | Accuracy Train: 85.77558864136722 | Accuracy Test: 79.87984626292025 | Loss: 0.3337641954421997 \n",
      "Epoch: 49 | Accuracy Train: 85.89313034068435 | Accuracy Test: 79.93208701817233 | Loss: 0.3418482840061188 \n",
      "Epoch: 50 | Accuracy Train: 86.0255979700735 | Accuracy Test: 80.04403149371245 | Loss: 0.33133983612060547 \n",
      "Epoch: 51 | Accuracy Train: 86.12821373931862 | Accuracy Test: 80.11119817903653 | Loss: 0.3292897343635559 \n",
      "Epoch: 52 | Accuracy Train: 86.25321840367178 | Accuracy Test: 80.15970745177059 | Loss: 0.32277700304985046 \n",
      "Epoch: 53 | Accuracy Train: 86.33531101906787 | Accuracy Test: 80.22314265457666 | Loss: 0.33123311400413513 \n",
      "Epoch: 54 | Accuracy Train: 86.447255494608 | Accuracy Test: 80.29404082241875 | Loss: 0.3207019865512848 \n",
      "Epoch: 55 | Accuracy Train: 86.54240829881712 | Accuracy Test: 80.3313556475988 | Loss: 0.3180024325847626 \n",
      "Epoch: 56 | Accuracy Train: 86.60211201910519 | Accuracy Test: 80.39105936788687 | Loss: 0.3146381676197052 \n",
      "Epoch: 57 | Accuracy Train: 86.72898242471734 | Accuracy Test: 80.45449457069293 | Loss: 0.3239631950855255 \n",
      "Epoch: 58 | Accuracy Train: 86.83532967648047 | Accuracy Test: 80.55151311616105 | Loss: 0.3112351894378662 \n",
      "Epoch: 59 | Accuracy Train: 86.88197320795553 | Accuracy Test: 80.56643904623307 | Loss: 0.3124448359012604 \n",
      "Epoch: 60 | Accuracy Train: 86.98832045971865 | Accuracy Test: 80.64480017911116 | Loss: 0.30984970927238464 \n",
      "Epoch: 61 | Accuracy Train: 87.05362140378372 | Accuracy Test: 80.68584648680921 | Loss: 0.32044824957847595 \n",
      "Epoch: 62 | Accuracy Train: 87.13571401917982 | Accuracy Test: 80.74181872457928 | Loss: 0.3103924095630646 \n",
      "Epoch: 63 | Accuracy Train: 87.22713534087093 | Accuracy Test: 80.77540206724132 | Loss: 0.30786192417144775 \n",
      "Epoch: 64 | Accuracy Train: 87.286839061159 | Accuracy Test: 80.83510578752939 | Loss: 0.30816593766212463 \n",
      "Epoch: 65 | Accuracy Train: 87.35214000522407 | Accuracy Test: 80.87988357774543 | Loss: 0.315920352935791 \n",
      "Epoch: 66 | Accuracy Train: 87.4528900332102 | Accuracy Test: 80.94705026306951 | Loss: 0.3038669526576996 \n",
      "Epoch: 67 | Accuracy Train: 87.51259375349827 | Accuracy Test: 80.97690212321355 | Loss: 0.3023793399333954 \n",
      "Epoch: 68 | Accuracy Train: 87.57416321504533 | Accuracy Test: 81.0179484309116 | Loss: 0.30637943744659424 \n",
      "Epoch: 69 | Accuracy Train: 87.64692712414643 | Accuracy Test: 81.06272622112765 | Loss: 0.29741430282592773 \n",
      "Epoch: 70 | Accuracy Train: 87.69916787939849 | Accuracy Test: 81.11869845889773 | Loss: 0.297592431306839 \n",
      "Epoch: 71 | Accuracy Train: 87.74207992835554 | Accuracy Test: 81.16720773163178 | Loss: 0.29317155480384827 \n",
      "Epoch: 72 | Accuracy Train: 87.7943206836076 | Accuracy Test: 81.21944848688383 | Loss: 0.29829323291778564 \n",
      "Epoch: 73 | Accuracy Train: 87.83163550878764 | Accuracy Test: 81.2679577596179 | Loss: 0.2971965968608856 \n",
      "Epoch: 74 | Accuracy Train: 87.8764132990037 | Accuracy Test: 81.32019851486996 | Loss: 0.2861219048500061 \n",
      "Epoch: 75 | Accuracy Train: 87.91372812418373 | Accuracy Test: 81.353781857532 | Loss: 0.2965008318424225 \n",
      "Epoch: 76 | Accuracy Train: 87.97529758573081 | Accuracy Test: 81.39855964774804 | Loss: 0.2933894395828247 \n",
      "Epoch: 77 | Accuracy Train: 88.02194111720587 | Accuracy Test: 81.42468002537409 | Loss: 0.2919471263885498 \n",
      "Epoch: 78 | Accuracy Train: 88.09283928504794 | Accuracy Test: 81.46199485055412 | Loss: 0.2886490821838379 \n",
      "Epoch: 79 | Accuracy Train: 88.14134855778201 | Accuracy Test: 81.51423560580619 | Loss: 0.28460580110549927 \n",
      "Epoch: 80 | Accuracy Train: 88.20105227807008 | Accuracy Test: 81.57020784357626 | Loss: 0.28516650199890137 \n",
      "Epoch: 81 | Accuracy Train: 88.21597820814209 | Accuracy Test: 81.59259673868428 | Loss: 0.28627756237983704 \n",
      "Epoch: 82 | Accuracy Train: 88.29247359976118 | Accuracy Test: 81.63364304638233 | Loss: 0.2856382727622986 \n",
      "Epoch: 83 | Accuracy Train: 88.34098287249525 | Accuracy Test: 81.64856897645434 | Loss: 0.29052385687828064 \n",
      "Epoch: 84 | Accuracy Train: 88.37456621515729 | Accuracy Test: 81.68215231911638 | Loss: 0.28318536281585693 \n",
      "Epoch: 85 | Accuracy Train: 88.3988208515243 | Accuracy Test: 81.72319862681444 | Loss: 0.2851812243461609 \n",
      "Epoch: 86 | Accuracy Train: 88.43053845292735 | Accuracy Test: 81.76797641703048 | Loss: 0.2818104028701782 \n",
      "Epoch: 87 | Accuracy Train: 88.4678532781074 | Accuracy Test: 81.80902272472854 | Loss: 0.2705794870853424 \n",
      "Epoch: 88 | Accuracy Train: 88.51263106832344 | Accuracy Test: 81.82768013731855 | Loss: 0.2774806320667267 \n",
      "Epoch: 89 | Accuracy Train: 88.5592745997985 | Accuracy Test: 81.85380051494458 | Loss: 0.28616863489151 \n",
      "Epoch: 90 | Accuracy Train: 88.62270980260458 | Accuracy Test: 81.87245792753461 | Loss: 0.275161474943161 \n",
      "Epoch: 91 | Accuracy Train: 88.64136721519459 | Accuracy Test: 81.90977275271466 | Loss: 0.28012651205062866 \n",
      "Epoch: 92 | Accuracy Train: 88.69360797044666 | Accuracy Test: 81.9508190604127 | Loss: 0.2747634947299957 \n",
      "Epoch: 93 | Accuracy Train: 88.71413112429568 | Accuracy Test: 81.96574499048472 | Loss: 0.2813594341278076 \n",
      "Epoch: 94 | Accuracy Train: 88.75331169073473 | Accuracy Test: 81.99559685062876 | Loss: 0.2768235504627228 \n",
      "Epoch: 95 | Accuracy Train: 88.78129780961976 | Accuracy Test: 82.01798574573678 | Loss: 0.27594518661499023 \n",
      "Epoch: 96 | Accuracy Train: 88.81674689354081 | Accuracy Test: 82.05156908839882 | Loss: 0.27358195185661316 \n",
      "Epoch: 97 | Accuracy Train: 88.86898764879287 | Accuracy Test: 82.10007836113287 | Loss: 0.2702081501483917 \n",
      "Epoch: 98 | Accuracy Train: 88.91563118026792 | Accuracy Test: 82.11127280868689 | Loss: 0.2685984671115875 \n",
      "Epoch: 99 | Accuracy Train: 88.9044367327139 | Accuracy Test: 82.1187357737229 | Loss: 0.26621294021606445 \n",
      "Training is Done\n",
      "Process Time:  7.6401945869127905\n"
     ]
    }
   ],
   "source": [
    "# time of start\n",
    "start = time.time()\n",
    "cnn_train_acc = []\n",
    "cnn_test_acc = []\n",
    "cnn_loss_list = []\n",
    "\n",
    "use_gpu = True # If you want to use GPU, Change True\n",
    "\n",
    "# Training\n",
    "\n",
    "for epoch in range(numberofepochs):\n",
    "    for i, data in enumerate(trainloader, 0):\n",
    "        \n",
    "        inputs, labels = data\n",
    "        inputs = inputs.view(batch_size, 1, 64, 32)\n",
    "        inputs = inputs.float()\n",
    "        \n",
    "        # use gpu\n",
    "        if use_gpu:\n",
    "            if torch.cuda.is_available():\n",
    "                inputs, labels = inputs.to(device), labels.to(device)\n",
    "                \n",
    "        # zero gradient\n",
    "        cnn_optimizer.zero_grad()\n",
    "        \n",
    "        # forward\n",
    "        cnn_outputs = CNNmodel(inputs)\n",
    "        \n",
    "        # loss\n",
    "        cnn_loss = cnn_criterion(cnn_outputs, labels)\n",
    "        \n",
    "        # backward\n",
    "        cnn_loss.backward()\n",
    "        \n",
    "        # update weights\n",
    "        cnn_optimizer.step()\n",
    "        \n",
    "    # Test\n",
    "    #print(\"Number Of Epoch: \",epoch)\n",
    "    cnn_test_correct = 0\n",
    "    cnn_test_total = 0\n",
    "    with torch.no_grad():\n",
    "        for data in testloader:\n",
    "            images, labels = data\n",
    "            \n",
    "            images = images.view(batch_size, 1, 64, 32)\n",
    "            images = images.float()\n",
    "            \n",
    "            # use gpu\n",
    "            if use_gpu:\n",
    "                if torch.cuda.is_available():\n",
    "                    images, labels = images.to(device), labels.to(device)\n",
    "            \n",
    "            outputs = CNNmodel(images)\n",
    "            _, predicted = torch.max(outputs.data, 1)\n",
    "            \n",
    "            cnn_test_total += labels.size(0)\n",
    "            cnn_test_correct += (predicted == labels).sum().item()\n",
    "    test_acc = 100* cnn_test_correct / cnn_test_total\n",
    "    #print(\"Accuracy Test: \",test_acc)\n",
    "    cnn_test_acc.append(test_acc)\n",
    "    \n",
    "    # Train\n",
    "    cnn_train_correct = 0\n",
    "    cnn_train_total = 0\n",
    "    with torch.no_grad():\n",
    "        for data in trainloader:\n",
    "            images, labels = data\n",
    "            \n",
    "            images = images.view(batch_size, 1, 64, 32)\n",
    "            images = images.float()\n",
    "            \n",
    "            # use gpu\n",
    "            if use_gpu:\n",
    "                if torch.cuda.is_available():\n",
    "                    images, labels = images.to(device), labels.to(device)\n",
    "            \n",
    "            outputs = CNNmodel(images)\n",
    "            _, predicted = torch.max(outputs.data, 1)\n",
    "            \n",
    "            cnn_train_total += labels.size(0)\n",
    "            cnn_train_correct += (predicted == labels).sum().item()\n",
    "    train_acc = 100* cnn_train_correct / cnn_train_total\n",
    "    #print(\"Accuracy Train: \",train_acc)\n",
    "    cnn_train_acc.append(train_acc)\n",
    "    \n",
    "    cnn_loss_list.append(cnn_loss.item())\n",
    "    #print(\"loss: \",cnn_loss.item())\n",
    "    \n",
    "    print(\"Epoch: {} | Accuracy Train: {} | Accuracy Test: {} | Loss: {} \".format(epoch, train_acc, test_acc, cnn_loss.item()))\n",
    "\n",
    "print(\"Training is Done\")\n",
    "\n",
    "# time of end\n",
    "end = time.time()\n",
    "process_time = (end - start)/60\n",
    "print(\"Process Time: \",process_time)"
   ]
  },
  {
   "cell_type": "markdown",
   "id": "0362fd67",
   "metadata": {
    "papermill": {
     "duration": 0.017141,
     "end_time": "2022-09-12T17:26:24.495818",
     "exception": false,
     "start_time": "2022-09-12T17:26:24.478677",
     "status": "completed"
    },
    "tags": []
   },
   "source": [
    "## Visualize The Results <a id = \"1e\"></a>\n",
    "[Go Content](#cont)"
   ]
  },
  {
   "cell_type": "code",
   "execution_count": 19,
   "id": "534eddd8",
   "metadata": {
    "execution": {
     "iopub.execute_input": "2022-09-12T17:26:24.532487Z",
     "iopub.status.busy": "2022-09-12T17:26:24.531476Z",
     "iopub.status.idle": "2022-09-12T17:26:24.737950Z",
     "shell.execute_reply": "2022-09-12T17:26:24.737062Z"
    },
    "papermill": {
     "duration": 0.227239,
     "end_time": "2022-09-12T17:26:24.740238",
     "exception": false,
     "start_time": "2022-09-12T17:26:24.512999",
     "status": "completed"
    },
    "tags": []
   },
   "outputs": [
    {
     "data": {
      "image/png": "[encoded data removed]",
      "text/plain": [
       "<Figure size 432x288 with 1 Axes>"
      ]
     },
     "metadata": {
      "needs_background": "light"
     },
     "output_type": "display_data"
    }
   ],
   "source": [
    "# Train and Test accuracy graphic\n",
    "epochs = []\n",
    "for i in range(numberofepochs):\n",
    "    epochs.append(i)\n",
    "\n",
    "plt.plot(epochs, cnn_train_acc, label=\"Train\")\n",
    "plt.plot(epochs, cnn_test_acc, label=\"Test\")\n",
    "plt.title(\"Train-Test Accuracy\")\n",
    "plt.xlabel(\"Number of Epochs\")\n",
    "plt.xlabel(\"Accuracy\")\n",
    "plt.legend()\n",
    "plt.show()"
   ]
  },
  {
   "cell_type": "code",
   "execution_count": 20,
   "id": "fa82800c",
   "metadata": {
    "execution": {
     "iopub.execute_input": "2022-09-12T17:26:24.778770Z",
     "iopub.status.busy": "2022-09-12T17:26:24.777016Z",
     "iopub.status.idle": "2022-09-12T17:26:24.958470Z",
     "shell.execute_reply": "2022-09-12T17:26:24.957476Z"
    },
    "papermill": {
     "duration": 0.202301,
     "end_time": "2022-09-12T17:26:24.960772",
     "exception": false,
     "start_time": "2022-09-12T17:26:24.758471",
     "status": "completed"
    },
    "tags": []
   },
   "outputs": [
    {
     "data": {
      "image/png": "[encoded data removed]",
      "text/plain": [
       "<Figure size 432x288 with 1 Axes>"
      ]
     },
     "metadata": {
      "needs_background": "light"
     },
     "output_type": "display_data"
    }
   ],
   "source": [
    "# Loss of cnn model graphic\n",
    "plt.plot(cnn_loss_list)\n",
    "plt.title(\"Loss of CNN Model\")\n",
    "plt.xlabel(\"Index of loss_list\")\n",
    "plt.ylabel(\"Loss\")\n",
    "plt.show()"
   ]
  },
  {
   "cell_type": "markdown",
   "id": "b43eceb2",
   "metadata": {
    "papermill": {
     "duration": 0.017534,
     "end_time": "2022-09-12T17:26:24.996642",
     "exception": false,
     "start_time": "2022-09-12T17:26:24.979108",
     "status": "completed"
    },
    "tags": []
   },
   "source": [
    "# Residual neural network(ResNet) <a id = \"2\"></a>\n",
    "[Go Content](#cont)"
   ]
  },
  {
   "cell_type": "markdown",
   "id": "56fd49e8",
   "metadata": {
    "papermill": {
     "duration": 0.01745,
     "end_time": "2022-09-12T17:26:25.032371",
     "exception": false,
     "start_time": "2022-09-12T17:26:25.014921",
     "status": "completed"
    },
    "tags": []
   },
   "source": [
    "## Load and Prepare Dataset <a id = \"2a\"></a>\n",
    "[Go Content](#cont)"
   ]
  },
  {
   "cell_type": "markdown",
   "id": "0d46d11f",
   "metadata": {
    "papermill": {
     "duration": 0.017464,
     "end_time": "2022-09-12T17:26:25.067482",
     "exception": false,
     "start_time": "2022-09-12T17:26:25.050018",
     "status": "completed"
    },
    "tags": []
   },
   "source": [
    "### Load Train Negative <a id = \"2aa\"></a>\n",
    "[Go Content](#cont)"
   ]
  },
  {
   "cell_type": "code",
   "execution_count": 21,
   "id": "0626614e",
   "metadata": {
    "execution": {
     "iopub.execute_input": "2022-09-12T17:26:25.104657Z",
     "iopub.status.busy": "2022-09-12T17:26:25.103950Z",
     "iopub.status.idle": "2022-09-12T17:27:10.717050Z",
     "shell.execute_reply": "2022-09-12T17:27:10.716026Z"
    },
    "papermill": {
     "duration": 45.634415,
     "end_time": "2022-09-12T17:27:10.719525",
     "exception": false,
     "start_time": "2022-09-12T17:26:25.085110",
     "status": "completed"
    },
    "tags": []
   },
   "outputs": [],
   "source": [
    "res_Train_neg_path = r\"../input/lsifir/LSIFIR/Classification/Train/neg\"\n",
    "res_num_Train_neg_img = 43390\n",
    "res_Train_neg_array = read_images(res_Train_neg_path, res_num_Train_neg_img)"
   ]
  },
  {
   "cell_type": "code",
   "execution_count": 22,
   "id": "a3e3b2ac",
   "metadata": {
    "execution": {
     "iopub.execute_input": "2022-09-12T17:27:10.757805Z",
     "iopub.status.busy": "2022-09-12T17:27:10.756965Z",
     "iopub.status.idle": "2022-09-12T17:27:10.764160Z",
     "shell.execute_reply": "2022-09-12T17:27:10.762940Z"
    },
    "papermill": {
     "duration": 0.029293,
     "end_time": "2022-09-12T17:27:10.767099",
     "exception": false,
     "start_time": "2022-09-12T17:27:10.737806",
     "status": "completed"
    },
    "tags": []
   },
   "outputs": [
    {
     "name": "stdout",
     "output_type": "stream",
     "text": [
      "Size of x_Train_neg_Tensor:  torch.Size([42000, 2048])\n",
      "Size of y_Train_neg_Tensor:  torch.Size([42000])\n"
     ]
    }
   ],
   "source": [
    "x_res_Train_neg_Tensor = torch.from_numpy(res_Train_neg_array[:42000,:])\n",
    "print(\"Size of x_Train_neg_Tensor: \", x_res_Train_neg_Tensor.size())\n",
    "\n",
    "# I specify negative images as zero.\n",
    "y_res_Train_neg_Tensor = torch.zeros(42000, dtype = torch.long)\n",
    "print(\"Size of y_Train_neg_Tensor: \", y_res_Train_neg_Tensor.size())"
   ]
  },
  {
   "cell_type": "markdown",
   "id": "ee0ab15f",
   "metadata": {
    "papermill": {
     "duration": 0.01754,
     "end_time": "2022-09-12T17:27:10.803960",
     "exception": false,
     "start_time": "2022-09-12T17:27:10.786420",
     "status": "completed"
    },
    "tags": []
   },
   "source": [
    "### Load Train Positive <a id = \"2ab\"></a>\n",
    "[Go Content](#cont)"
   ]
  },
  {
   "cell_type": "code",
   "execution_count": 23,
   "id": "2842087e",
   "metadata": {
    "execution": {
     "iopub.execute_input": "2022-09-12T17:27:10.841413Z",
     "iopub.status.busy": "2022-09-12T17:27:10.841081Z",
     "iopub.status.idle": "2022-09-12T17:27:19.695872Z",
     "shell.execute_reply": "2022-09-12T17:27:19.694890Z"
    },
    "papermill": {
     "duration": 8.876086,
     "end_time": "2022-09-12T17:27:19.698517",
     "exception": false,
     "start_time": "2022-09-12T17:27:10.822431",
     "status": "completed"
    },
    "tags": []
   },
   "outputs": [],
   "source": [
    "res_Train_pos_path = r\"../input/lsifir/LSIFIR/Classification/Train/pos\"\n",
    "res_num_Train_pos_img = 10208\n",
    "res_Train_pos_array = read_images(res_Train_pos_path, res_num_Train_pos_img)"
   ]
  },
  {
   "cell_type": "code",
   "execution_count": 24,
   "id": "a6baee6d",
   "metadata": {
    "execution": {
     "iopub.execute_input": "2022-09-12T17:27:19.737213Z",
     "iopub.status.busy": "2022-09-12T17:27:19.736307Z",
     "iopub.status.idle": "2022-09-12T17:27:19.744433Z",
     "shell.execute_reply": "2022-09-12T17:27:19.742368Z"
    },
    "papermill": {
     "duration": 0.03039,
     "end_time": "2022-09-12T17:27:19.747476",
     "exception": false,
     "start_time": "2022-09-12T17:27:19.717086",
     "status": "completed"
    },
    "tags": []
   },
   "outputs": [
    {
     "name": "stdout",
     "output_type": "stream",
     "text": [
      "Size of x_Train_pos_Tensor:  torch.Size([10000, 2048])\n",
      "Size of y_Train_pos_Tensor:  torch.Size([10000])\n"
     ]
    }
   ],
   "source": [
    "x_res_Train_pos_Tensor = torch.from_numpy(res_Train_pos_array[:10000,:])\n",
    "print(\"Size of x_Train_pos_Tensor: \", x_res_Train_pos_Tensor.size())\n",
    "\n",
    "# I specify negative images as one.\n",
    "y_res_Train_pos_Tensor = torch.ones(10000, dtype = torch.long)\n",
    "print(\"Size of y_Train_pos_Tensor: \", y_res_Train_pos_Tensor.size())"
   ]
  },
  {
   "cell_type": "markdown",
   "id": "8cdbd61a",
   "metadata": {
    "papermill": {
     "duration": 0.018373,
     "end_time": "2022-09-12T17:27:19.784998",
     "exception": false,
     "start_time": "2022-09-12T17:27:19.766625",
     "status": "completed"
    },
    "tags": []
   },
   "source": [
    "### Concat Train <a id = \"2ac\"></a>\n",
    "[Go Content](#cont)"
   ]
  },
  {
   "cell_type": "code",
   "execution_count": 25,
   "id": "61100688",
   "metadata": {
    "execution": {
     "iopub.execute_input": "2022-09-12T17:27:19.822816Z",
     "iopub.status.busy": "2022-09-12T17:27:19.822451Z",
     "iopub.status.idle": "2022-09-12T17:27:20.406643Z",
     "shell.execute_reply": "2022-09-12T17:27:20.405100Z"
    },
    "papermill": {
     "duration": 0.606844,
     "end_time": "2022-09-12T17:27:20.409879",
     "exception": false,
     "start_time": "2022-09-12T17:27:19.803035",
     "status": "completed"
    },
    "tags": []
   },
   "outputs": [
    {
     "name": "stdout",
     "output_type": "stream",
     "text": [
      "Size of X_train:  torch.Size([52000, 2048])\n",
      "Size of Y_train:  torch.Size([52000])\n"
     ]
    }
   ],
   "source": [
    "X_res_train = torch.cat((x_res_Train_neg_Tensor, x_res_Train_pos_Tensor),0)\n",
    "Y_res_train = torch.cat((y_res_Train_neg_Tensor, y_res_Train_pos_Tensor),0)\n",
    "\n",
    "print(\"Size of X_train: \",X_res_train.size())\n",
    "print(\"Size of Y_train: \",Y_res_train.size()) "
   ]
  },
  {
   "cell_type": "markdown",
   "id": "71160259",
   "metadata": {
    "papermill": {
     "duration": 0.042125,
     "end_time": "2022-09-12T17:27:20.498157",
     "exception": false,
     "start_time": "2022-09-12T17:27:20.456032",
     "status": "completed"
    },
    "tags": []
   },
   "source": [
    "### Load Test Negative <a id = \"2ad\"></a>\n",
    "[Go Content](#cont)"
   ]
  },
  {
   "cell_type": "code",
   "execution_count": 26,
   "id": "a3a04cb9",
   "metadata": {
    "execution": {
     "iopub.execute_input": "2022-09-12T17:27:20.564920Z",
     "iopub.status.busy": "2022-09-12T17:27:20.564372Z",
     "iopub.status.idle": "2022-09-12T17:27:37.886318Z",
     "shell.execute_reply": "2022-09-12T17:27:37.885258Z"
    },
    "papermill": {
     "duration": 17.353488,
     "end_time": "2022-09-12T17:27:37.888776",
     "exception": false,
     "start_time": "2022-09-12T17:27:20.535288",
     "status": "completed"
    },
    "tags": []
   },
   "outputs": [],
   "source": [
    "res_Test_neg_path = r\"../input/lsifir/LSIFIR/Classification/Test/neg\"\n",
    "res_num_Test_neg_img = 22050\n",
    "res_Test_neg_array = read_images(res_Test_neg_path, res_num_Test_neg_img)"
   ]
  },
  {
   "cell_type": "code",
   "execution_count": 27,
   "id": "4ee93b4d",
   "metadata": {
    "execution": {
     "iopub.execute_input": "2022-09-12T17:27:37.926978Z",
     "iopub.status.busy": "2022-09-12T17:27:37.926088Z",
     "iopub.status.idle": "2022-09-12T17:27:37.932770Z",
     "shell.execute_reply": "2022-09-12T17:27:37.931705Z"
    },
    "papermill": {
     "duration": 0.028902,
     "end_time": "2022-09-12T17:27:37.936043",
     "exception": false,
     "start_time": "2022-09-12T17:27:37.907141",
     "status": "completed"
    },
    "tags": []
   },
   "outputs": [
    {
     "name": "stdout",
     "output_type": "stream",
     "text": [
      "Size of x_Train_neg_Tensor:  torch.Size([18056, 2048])\n",
      "Size of y_Train_neg_Tensor:  torch.Size([18056])\n"
     ]
    }
   ],
   "source": [
    "x_res_Test_neg_Tensor = torch.from_numpy(res_Test_neg_array[:18056,:])\n",
    "print(\"Size of x_Train_neg_Tensor: \", x_res_Test_neg_Tensor.size())\n",
    "\n",
    "# I specify negative images as zero.\n",
    "y_res_Test_neg_Tensor = torch.zeros(18056, dtype = torch.long)\n",
    "print(\"Size of y_Train_neg_Tensor: \", y_res_Test_neg_Tensor.size())"
   ]
  },
  {
   "cell_type": "markdown",
   "id": "a9dbf226",
   "metadata": {
    "papermill": {
     "duration": 0.017894,
     "end_time": "2022-09-12T17:27:37.972890",
     "exception": false,
     "start_time": "2022-09-12T17:27:37.954996",
     "status": "completed"
    },
    "tags": []
   },
   "source": [
    "### Load Test Positive <a id = \"2ae\"></a>\n",
    "[Go Content](#cont)"
   ]
  },
  {
   "cell_type": "code",
   "execution_count": 28,
   "id": "5a449d58",
   "metadata": {
    "execution": {
     "iopub.execute_input": "2022-09-12T17:27:38.010013Z",
     "iopub.status.busy": "2022-09-12T17:27:38.009342Z",
     "iopub.status.idle": "2022-09-12T17:27:42.563200Z",
     "shell.execute_reply": "2022-09-12T17:27:42.562198Z"
    },
    "papermill": {
     "duration": 4.575336,
     "end_time": "2022-09-12T17:27:42.565970",
     "exception": false,
     "start_time": "2022-09-12T17:27:37.990634",
     "status": "completed"
    },
    "tags": []
   },
   "outputs": [],
   "source": [
    "res_Test_pos_path = r\"../input/lsifir/LSIFIR/Classification/Test/pos\"\n",
    "res_num_Test_pos_img = 5944\n",
    "res_Test_pos_array = read_images(res_Test_pos_path, res_num_Test_pos_img)"
   ]
  },
  {
   "cell_type": "code",
   "execution_count": 29,
   "id": "c28809fe",
   "metadata": {
    "execution": {
     "iopub.execute_input": "2022-09-12T17:27:42.604279Z",
     "iopub.status.busy": "2022-09-12T17:27:42.603958Z",
     "iopub.status.idle": "2022-09-12T17:27:42.610496Z",
     "shell.execute_reply": "2022-09-12T17:27:42.609440Z"
    },
    "papermill": {
     "duration": 0.029277,
     "end_time": "2022-09-12T17:27:42.614018",
     "exception": false,
     "start_time": "2022-09-12T17:27:42.584741",
     "status": "completed"
    },
    "tags": []
   },
   "outputs": [
    {
     "name": "stdout",
     "output_type": "stream",
     "text": [
      "Size of x_Train_neg_Tensor:  torch.Size([5944, 2048])\n",
      "Size of y_Train_neg_Tensor:  torch.Size([5944])\n"
     ]
    }
   ],
   "source": [
    "x_res_Test_pos_Tensor = torch.from_numpy(res_Test_pos_array)\n",
    "print(\"Size of x_Train_neg_Tensor: \", x_res_Test_pos_Tensor.size())\n",
    "\n",
    "# I specify negative images as one.\n",
    "y_res_Test_pos_Tensor = torch.ones(res_num_Test_pos_img, dtype = torch.long)\n",
    "print(\"Size of y_Train_neg_Tensor: \", y_res_Test_pos_Tensor.size())"
   ]
  },
  {
   "cell_type": "markdown",
   "id": "8aeab673",
   "metadata": {
    "papermill": {
     "duration": 0.017664,
     "end_time": "2022-09-12T17:27:42.650549",
     "exception": false,
     "start_time": "2022-09-12T17:27:42.632885",
     "status": "completed"
    },
    "tags": []
   },
   "source": [
    "### Concat Test <a id = \"2af\"></a>\n",
    "[Go Content](#cont)"
   ]
  },
  {
   "cell_type": "code",
   "execution_count": 30,
   "id": "a17f0243",
   "metadata": {
    "execution": {
     "iopub.execute_input": "2022-09-12T17:27:42.687648Z",
     "iopub.status.busy": "2022-09-12T17:27:42.687140Z",
     "iopub.status.idle": "2022-09-12T17:27:42.949002Z",
     "shell.execute_reply": "2022-09-12T17:27:42.947817Z"
    },
    "papermill": {
     "duration": 0.284194,
     "end_time": "2022-09-12T17:27:42.952583",
     "exception": false,
     "start_time": "2022-09-12T17:27:42.668389",
     "status": "completed"
    },
    "tags": []
   },
   "outputs": [
    {
     "name": "stdout",
     "output_type": "stream",
     "text": [
      "Size of X_train:  torch.Size([24000, 2048])\n",
      "Size of Y_train:  torch.Size([24000])\n"
     ]
    }
   ],
   "source": [
    "X_res_test = torch.cat((x_res_Test_neg_Tensor, x_res_Test_pos_Tensor),0)\n",
    "Y_res_test = torch.cat((y_res_Test_neg_Tensor, y_res_Test_pos_Tensor),0)\n",
    "\n",
    "print(\"Size of X_train: \",X_res_test.size())\n",
    "print(\"Size of Y_train: \",Y_res_test.size()) "
   ]
  },
  {
   "cell_type": "markdown",
   "id": "0456948a",
   "metadata": {
    "papermill": {
     "duration": 0.018992,
     "end_time": "2022-09-12T17:27:42.992242",
     "exception": false,
     "start_time": "2022-09-12T17:27:42.973250",
     "status": "completed"
    },
    "tags": []
   },
   "source": [
    "### Create Tensor <a id = \"2ag\"></a>\n",
    "[Go Content](#cont)"
   ]
  },
  {
   "cell_type": "code",
   "execution_count": 31,
   "id": "cc113aa8",
   "metadata": {
    "execution": {
     "iopub.execute_input": "2022-09-12T17:27:43.030347Z",
     "iopub.status.busy": "2022-09-12T17:27:43.030010Z",
     "iopub.status.idle": "2022-09-12T17:27:43.035831Z",
     "shell.execute_reply": "2022-09-12T17:27:43.034771Z"
    },
    "papermill": {
     "duration": 0.027428,
     "end_time": "2022-09-12T17:27:43.037815",
     "exception": false,
     "start_time": "2022-09-12T17:27:43.010387",
     "status": "completed"
    },
    "tags": []
   },
   "outputs": [],
   "source": [
    "res_batch_size = 2000\n",
    "\n",
    "# Last prepare data\n",
    "res_train = torch.utils.data.TensorDataset(X_res_train, Y_res_train)\n",
    "res_trainloader = torch.utils.data.DataLoader(res_train, batch_size = res_batch_size, shuffle = True)\n",
    "\n",
    "res_test = torch.utils.data.TensorDataset(X_res_test, Y_res_test)\n",
    "res_testloader = torch.utils.data.DataLoader(res_test, batch_size = res_batch_size, shuffle = False)"
   ]
  },
  {
   "cell_type": "markdown",
   "id": "398957af",
   "metadata": {
    "papermill": {
     "duration": 0.017686,
     "end_time": "2022-09-12T17:27:43.073686",
     "exception": false,
     "start_time": "2022-09-12T17:27:43.056000",
     "status": "completed"
    },
    "tags": []
   },
   "source": [
    "## Visualization <a id = \"2b\"></a>\n",
    "[Go Content](#cont)"
   ]
  },
  {
   "cell_type": "code",
   "execution_count": 32,
   "id": "3c7eb71c",
   "metadata": {
    "execution": {
     "iopub.execute_input": "2022-09-12T17:27:43.111698Z",
     "iopub.status.busy": "2022-09-12T17:27:43.110781Z",
     "iopub.status.idle": "2022-09-12T17:27:43.188207Z",
     "shell.execute_reply": "2022-09-12T17:27:43.186987Z"
    },
    "papermill": {
     "duration": 0.100126,
     "end_time": "2022-09-12T17:27:43.191979",
     "exception": false,
     "start_time": "2022-09-12T17:27:43.091853",
     "status": "completed"
    },
    "tags": []
   },
   "outputs": [
    {
     "data": {
      "text/plain": [
       "(-0.5, 31.5, 63.5, -0.5)"
      ]
     },
     "execution_count": 32,
     "metadata": {},
     "output_type": "execute_result"
    },
    {
     "data": {
      "image/png": "[encoded data removed]",
      "text/plain": [
       "<Figure size 432x288 with 1 Axes>"
      ]
     },
     "metadata": {
      "needs_background": "light"
     },
     "output_type": "display_data"
    }
   ],
   "source": [
    "# Image from x_res_train\n",
    "plt.imshow(X_res_train[45501,:].reshape(64,32),cmap = \"gray\")\n",
    "plt.axis(\"off\")"
   ]
  },
  {
   "cell_type": "code",
   "execution_count": 33,
   "id": "dcc39a1f",
   "metadata": {
    "execution": {
     "iopub.execute_input": "2022-09-12T17:27:43.279200Z",
     "iopub.status.busy": "2022-09-12T17:27:43.278878Z",
     "iopub.status.idle": "2022-09-12T17:27:43.354734Z",
     "shell.execute_reply": "2022-09-12T17:27:43.353931Z"
    },
    "papermill": {
     "duration": 0.117837,
     "end_time": "2022-09-12T17:27:43.357806",
     "exception": false,
     "start_time": "2022-09-12T17:27:43.239969",
     "status": "completed"
    },
    "tags": []
   },
   "outputs": [
    {
     "data": {
      "text/plain": [
       "(-0.5, 31.5, 63.5, -0.5)"
      ]
     },
     "execution_count": 33,
     "metadata": {},
     "output_type": "execute_result"
    },
    {
     "data": {
      "image/png": "[encoded data removed]",
      "text/plain": [
       "<Figure size 432x288 with 1 Axes>"
      ]
     },
     "metadata": {
      "needs_background": "light"
     },
     "output_type": "display_data"
    }
   ],
   "source": [
    "# Image from X_res_test\n",
    "plt.imshow(X_res_test[21000,:].reshape(64,32),cmap = \"gray\")\n",
    "plt.axis(\"off\")"
   ]
  },
  {
   "cell_type": "markdown",
   "id": "48652bfb",
   "metadata": {
    "papermill": {
     "duration": 0.040524,
     "end_time": "2022-09-12T17:27:43.446849",
     "exception": false,
     "start_time": "2022-09-12T17:27:43.406325",
     "status": "completed"
    },
    "tags": []
   },
   "source": [
    "## Create Model <a id = \"2c\"></a>\n",
    "[Go Content](#cont)"
   ]
  },
  {
   "cell_type": "code",
   "execution_count": 34,
   "id": "05b34609",
   "metadata": {
    "execution": {
     "iopub.execute_input": "2022-09-12T17:27:43.486757Z",
     "iopub.status.busy": "2022-09-12T17:27:43.486293Z",
     "iopub.status.idle": "2022-09-12T17:27:43.492052Z",
     "shell.execute_reply": "2022-09-12T17:27:43.491115Z"
    },
    "papermill": {
     "duration": 0.02826,
     "end_time": "2022-09-12T17:27:43.494123",
     "exception": false,
     "start_time": "2022-09-12T17:27:43.465863",
     "status": "completed"
    },
    "tags": []
   },
   "outputs": [],
   "source": [
    "# Hyper Parameters\n",
    "res_numberofepochs = 100\n",
    "res_numberofclasses = 2\n",
    "res_learning_rate = 0.0001\n",
    "\n",
    "def conv3x3(in_planes, out_planes, stride = 1):\n",
    "    return nn.Conv2d(in_planes, out_planes, kernel_size = 3, stride = stride, padding = 1, bias = False)\n",
    "\n",
    "def conv1x1(in_planes, out_planes, stride = 1):\n",
    "    return nn.Conv2d(in_planes, out_planes, kernel_size = 1, stride = stride, bias = False)"
   ]
  },
  {
   "cell_type": "code",
   "execution_count": 35,
   "id": "1dec8fa2",
   "metadata": {
    "execution": {
     "iopub.execute_input": "2022-09-12T17:27:43.532778Z",
     "iopub.status.busy": "2022-09-12T17:27:43.532467Z",
     "iopub.status.idle": "2022-09-12T17:27:43.540954Z",
     "shell.execute_reply": "2022-09-12T17:27:43.539941Z"
    },
    "papermill": {
     "duration": 0.03053,
     "end_time": "2022-09-12T17:27:43.542967",
     "exception": false,
     "start_time": "2022-09-12T17:27:43.512437",
     "status": "completed"
    },
    "tags": []
   },
   "outputs": [],
   "source": [
    "# Create Class\n",
    "class ResNetBasicBlock(nn.Module):\n",
    "    \n",
    "    expansion = 1\n",
    "    \n",
    "    def __init__(self, inplanes, planes, stride = 1, downsample = None):\n",
    "        super(ResNetBasicBlock,self).__init__()\n",
    "        self.conv1 = conv3x3(inplanes, planes, stride)\n",
    "        self.bn1 = nn.BatchNorm2d(planes)\n",
    "        self.relu = nn.ReLU(inplace = True)\n",
    "        self.drop = nn.Dropout(0.9)\n",
    "        self.conv2 = conv3x3(planes, planes)\n",
    "        self.bn2 = nn.BatchNorm2d(planes)\n",
    "        self.downsample = downsample\n",
    "        self.stride = stride\n",
    "        \n",
    "    def forward(self, x):\n",
    "        identity = x\n",
    "        \n",
    "        out = self.conv1(x)\n",
    "        out = self.bn1(out)\n",
    "        out = self.relu(out)\n",
    "        out = self.drop(out)\n",
    "        out = self.conv2(out)\n",
    "        out = self.bn2(out)\n",
    "        out = self.drop(out)\n",
    "        \n",
    "        if self.downsample is not None:\n",
    "            identity = self.downsample(x)\n",
    "        out = out + identity\n",
    "        out = self.relu(out)\n",
    "        return out"
   ]
  },
  {
   "cell_type": "code",
   "execution_count": 36,
   "id": "5120a3e9",
   "metadata": {
    "execution": {
     "iopub.execute_input": "2022-09-12T17:27:43.582149Z",
     "iopub.status.busy": "2022-09-12T17:27:43.581757Z",
     "iopub.status.idle": "2022-09-12T17:27:43.653261Z",
     "shell.execute_reply": "2022-09-12T17:27:43.652261Z"
    },
    "papermill": {
     "duration": 0.094162,
     "end_time": "2022-09-12T17:27:43.655742",
     "exception": false,
     "start_time": "2022-09-12T17:27:43.561580",
     "status": "completed"
    },
    "tags": []
   },
   "outputs": [],
   "source": [
    "class ResNet(nn.Module):\n",
    "    \n",
    "    def __init__(self, block, layers, num_classes = res_numberofclasses):\n",
    "        super(ResNet, self).__init__()\n",
    "        self.inplanes = 64\n",
    "        self.conv1 = nn.Conv2d(1, 64, kernel_size = 7, stride = 2, padding = 3, bias = False)\n",
    "        self.bn1 = nn.BatchNorm2d(64)\n",
    "        self.relu = nn.ReLU(inplace = True)\n",
    "        self.maxpool = nn.MaxPool2d(kernel_size = 3, stride = 2, padding = 1)\n",
    "        self.layer1 = self._make_layer(block, 64, layers[0], stride = 1)\n",
    "        self.layer2 = self._make_layer(block, 128, layers[1], stride = 2)\n",
    "        self.layer3 = self._make_layer(block, 256, layers[2], stride = 2)\n",
    "        \n",
    "        self.avgpool = nn.AdaptiveAvgPool2d((1,1))\n",
    "        self.fc = nn.Linear(256*block.expansion, res_numberofclasses)\n",
    "        \n",
    "        for m in self.modules():\n",
    "            if isinstance(m, nn.Conv2d):\n",
    "                nn.init.kaiming_normal_(m.weight, mode = \"fan_out\", nonlinearity = \"relu\")\n",
    "            elif isinstance(m, nn.BatchNorm2d):\n",
    "                nn.init.constant_(m.weight, 1)\n",
    "                nn.init.constant_(m.bias, 0)\n",
    "                \n",
    "    \n",
    "    def _make_layer(self, block, planes, blocks, stride = 1):\n",
    "        downsample = None\n",
    "        \n",
    "        if stride != 1 or self.inplanes != planes*block.expansion:\n",
    "            downsample = nn.Sequential(conv1x1(self.inplanes, planes * block.expansion, stride),\n",
    "                                      nn.BatchNorm2d(planes*block.expansion))\n",
    "            \n",
    "        layers = []\n",
    "        layers.append(block(self.inplanes, planes, stride, downsample))\n",
    "        self.inplanes = planes*block.expansion\n",
    "        for _ in range(1,blocks):\n",
    "            layers.append(block(self.inplanes, planes))\n",
    "            \n",
    "        return nn.Sequential(*layers)\n",
    "    \n",
    "    def forward(self, x):\n",
    "        x = self.conv1(x)\n",
    "        x = self.bn1(x)\n",
    "        x = self.relu(x)\n",
    "        x = self.maxpool(x)\n",
    "        x = self.layer1(x)\n",
    "        x = self.layer2(x)\n",
    "        x = self.layer3(x)\n",
    "        x = self.avgpool(x)\n",
    "        x = x.view(x.size(0), -1)\n",
    "        x = self.fc(x)\n",
    "        \n",
    "        return x\n",
    "    \n",
    "\n",
    "# For CPU \n",
    "#res_model = ResNet(ResNetBasicBlock, [2,2,2])\n",
    "\n",
    "res_model = ResNet(ResNetBasicBlock, [2,2,2]).to(device)\n",
    "\n",
    "res_criterion = nn.CrossEntropyLoss()\n",
    "\n",
    "res_optimizer = torch.optim.Adam(res_model.parameters(), lr = res_learning_rate)"
   ]
  },
  {
   "cell_type": "markdown",
   "id": "cc2af8d6",
   "metadata": {
    "papermill": {
     "duration": 0.018325,
     "end_time": "2022-09-12T17:27:43.693481",
     "exception": false,
     "start_time": "2022-09-12T17:27:43.675156",
     "status": "completed"
    },
    "tags": []
   },
   "source": [
    "## Training Model <a id = \"2d\"></a>\n",
    "[Go Content](#cont)"
   ]
  },
  {
   "cell_type": "code",
   "execution_count": 37,
   "id": "f0fe8819",
   "metadata": {
    "execution": {
     "iopub.execute_input": "2022-09-12T17:27:43.732700Z",
     "iopub.status.busy": "2022-09-12T17:27:43.732323Z",
     "iopub.status.idle": "2022-09-12T17:44:36.708150Z",
     "shell.execute_reply": "2022-09-12T17:44:36.706161Z"
    },
    "papermill": {
     "duration": 1013.020848,
     "end_time": "2022-09-12T17:44:36.732797",
     "exception": false,
     "start_time": "2022-09-12T17:27:43.711949",
     "status": "completed"
    },
    "tags": []
   },
   "outputs": [
    {
     "name": "stdout",
     "output_type": "stream",
     "text": [
      "Epoch: 0 | Accuracy Train: 79.65192307692308 | Accuracy Test: 74.3125 | Loss: 0.525749683380127 \n",
      "Epoch: 1 | Accuracy Train: 79.90961538461538 | Accuracy Test: 74.0125 | Loss: 0.4947313964366913 \n",
      "Epoch: 2 | Accuracy Train: 79.82692307692308 | Accuracy Test: 71.65 | Loss: 0.40799176692962646 \n",
      "Epoch: 3 | Accuracy Train: 80.60961538461538 | Accuracy Test: 69.56666666666666 | Loss: 0.37819191813468933 \n",
      "Epoch: 4 | Accuracy Train: 82.69807692307693 | Accuracy Test: 69.27916666666667 | Loss: 0.33850589394569397 \n",
      "Epoch: 5 | Accuracy Train: 84.41538461538461 | Accuracy Test: 68.525 | Loss: 0.3062596321105957 \n",
      "Epoch: 6 | Accuracy Train: 85.4826923076923 | Accuracy Test: 67.7875 | Loss: 0.29107916355133057 \n",
      "Epoch: 7 | Accuracy Train: 86.96923076923076 | Accuracy Test: 68.41666666666667 | Loss: 0.2708948254585266 \n",
      "Epoch: 8 | Accuracy Train: 88.03653846153846 | Accuracy Test: 68.2625 | Loss: 0.25301626324653625 \n",
      "Epoch: 9 | Accuracy Train: 88.92692307692307 | Accuracy Test: 67.75416666666666 | Loss: 0.25662702322006226 \n",
      "Epoch: 10 | Accuracy Train: 89.80576923076923 | Accuracy Test: 68.6875 | Loss: 0.23535899817943573 \n",
      "Epoch: 11 | Accuracy Train: 90.90961538461538 | Accuracy Test: 67.94583333333334 | Loss: 0.20705769956111908 \n",
      "Epoch: 12 | Accuracy Train: 91.76923076923077 | Accuracy Test: 68.10416666666667 | Loss: 0.19985154271125793 \n",
      "Epoch: 13 | Accuracy Train: 92.15192307692308 | Accuracy Test: 67.75416666666666 | Loss: 0.17850197851657867 \n",
      "Epoch: 14 | Accuracy Train: 92.9673076923077 | Accuracy Test: 68.80833333333334 | Loss: 0.17851559817790985 \n",
      "Epoch: 15 | Accuracy Train: 93.4673076923077 | Accuracy Test: 68.4375 | Loss: 0.1634274274110794 \n",
      "Epoch: 16 | Accuracy Train: 93.55192307692307 | Accuracy Test: 68.10833333333333 | Loss: 0.14779531955718994 \n",
      "Epoch: 17 | Accuracy Train: 94.09423076923076 | Accuracy Test: 68.36666666666666 | Loss: 0.16098476946353912 \n",
      "Epoch: 18 | Accuracy Train: 94.31346153846154 | Accuracy Test: 69.025 | Loss: 0.13835783302783966 \n",
      "Epoch: 19 | Accuracy Train: 94.63461538461539 | Accuracy Test: 68.675 | Loss: 0.14463360607624054 \n",
      "Epoch: 20 | Accuracy Train: 94.74807692307692 | Accuracy Test: 68.74583333333334 | Loss: 0.13468636572360992 \n",
      "Epoch: 21 | Accuracy Train: 94.90192307692308 | Accuracy Test: 69.2 | Loss: 0.11854369193315506 \n",
      "Epoch: 22 | Accuracy Train: 95.00192307692308 | Accuracy Test: 68.45416666666667 | Loss: 0.11572723835706711 \n",
      "Epoch: 23 | Accuracy Train: 95.2 | Accuracy Test: 69.55 | Loss: 0.13148453831672668 \n",
      "Epoch: 24 | Accuracy Train: 95.475 | Accuracy Test: 69.85833333333333 | Loss: 0.11077236384153366 \n",
      "Epoch: 25 | Accuracy Train: 95.475 | Accuracy Test: 69.05416666666666 | Loss: 0.10853834450244904 \n",
      "Epoch: 26 | Accuracy Train: 95.56538461538462 | Accuracy Test: 69.08333333333333 | Loss: 0.10647597908973694 \n",
      "Epoch: 27 | Accuracy Train: 95.73846153846154 | Accuracy Test: 69.70833333333333 | Loss: 0.11658234149217606 \n",
      "Epoch: 28 | Accuracy Train: 95.81923076923077 | Accuracy Test: 69.59166666666667 | Loss: 0.11573794484138489 \n",
      "Epoch: 29 | Accuracy Train: 95.9 | Accuracy Test: 69.875 | Loss: 0.11573941260576248 \n",
      "Epoch: 30 | Accuracy Train: 96.01538461538462 | Accuracy Test: 69.82083333333334 | Loss: 0.11949232220649719 \n",
      "Epoch: 31 | Accuracy Train: 96.12884615384615 | Accuracy Test: 69.72083333333333 | Loss: 0.08760212361812592 \n",
      "Epoch: 32 | Accuracy Train: 96.2326923076923 | Accuracy Test: 70.00833333333334 | Loss: 0.09984119236469269 \n",
      "Epoch: 33 | Accuracy Train: 96.35 | Accuracy Test: 70.09583333333333 | Loss: 0.08599276840686798 \n",
      "Epoch: 34 | Accuracy Train: 96.3423076923077 | Accuracy Test: 70.33333333333333 | Loss: 0.0891239270567894 \n",
      "Epoch: 35 | Accuracy Train: 96.35 | Accuracy Test: 69.2375 | Loss: 0.08909597247838974 \n",
      "Epoch: 36 | Accuracy Train: 96.55192307692307 | Accuracy Test: 69.87916666666666 | Loss: 0.09526477754116058 \n",
      "Epoch: 37 | Accuracy Train: 96.52884615384616 | Accuracy Test: 69.9125 | Loss: 0.09390168637037277 \n",
      "Epoch: 38 | Accuracy Train: 96.77307692307693 | Accuracy Test: 70.175 | Loss: 0.10582298040390015 \n",
      "Epoch: 39 | Accuracy Train: 96.67115384615384 | Accuracy Test: 70.15 | Loss: 0.09093796461820602 \n",
      "Epoch: 40 | Accuracy Train: 96.75576923076923 | Accuracy Test: 70.27083333333333 | Loss: 0.07195715606212616 \n",
      "Epoch: 41 | Accuracy Train: 96.72884615384615 | Accuracy Test: 69.64583333333333 | Loss: 0.08394506573677063 \n",
      "Epoch: 42 | Accuracy Train: 96.92884615384615 | Accuracy Test: 69.9 | Loss: 0.08209847658872604 \n",
      "Epoch: 43 | Accuracy Train: 96.94807692307693 | Accuracy Test: 70.11666666666666 | Loss: 0.09496088325977325 \n",
      "Epoch: 44 | Accuracy Train: 96.97692307692307 | Accuracy Test: 69.9 | Loss: 0.08271899074316025 \n",
      "Epoch: 45 | Accuracy Train: 97.08653846153847 | Accuracy Test: 70.12916666666666 | Loss: 0.08039217442274094 \n",
      "Epoch: 46 | Accuracy Train: 97.08076923076923 | Accuracy Test: 69.92083333333333 | Loss: 0.07765411585569382 \n",
      "Epoch: 47 | Accuracy Train: 97.09423076923076 | Accuracy Test: 69.6625 | Loss: 0.06822732090950012 \n",
      "Epoch: 48 | Accuracy Train: 97.25769230769231 | Accuracy Test: 70.49583333333334 | Loss: 0.08398368954658508 \n",
      "Epoch: 49 | Accuracy Train: 97.24423076923077 | Accuracy Test: 69.90416666666667 | Loss: 0.07417085766792297 \n",
      "Epoch: 50 | Accuracy Train: 97.37115384615385 | Accuracy Test: 69.69583333333334 | Loss: 0.07093626260757446 \n",
      "Epoch: 51 | Accuracy Train: 97.4 | Accuracy Test: 70.30833333333334 | Loss: 0.06596041470766068 \n",
      "Epoch: 52 | Accuracy Train: 97.275 | Accuracy Test: 69.95 | Loss: 0.0699920803308487 \n",
      "Epoch: 53 | Accuracy Train: 97.38269230769231 | Accuracy Test: 70.35416666666667 | Loss: 0.08927639573812485 \n",
      "Epoch: 54 | Accuracy Train: 97.57692307692308 | Accuracy Test: 69.97083333333333 | Loss: 0.06989927589893341 \n",
      "Epoch: 55 | Accuracy Train: 97.43461538461538 | Accuracy Test: 69.6125 | Loss: 0.07348321378231049 \n",
      "Epoch: 56 | Accuracy Train: 97.50961538461539 | Accuracy Test: 70.63333333333334 | Loss: 0.0729636698961258 \n",
      "Epoch: 57 | Accuracy Train: 97.675 | Accuracy Test: 69.875 | Loss: 0.05749475955963135 \n",
      "Epoch: 58 | Accuracy Train: 97.50769230769231 | Accuracy Test: 70.2375 | Loss: 0.0693923756480217 \n",
      "Epoch: 59 | Accuracy Train: 97.67307692307692 | Accuracy Test: 70.2125 | Loss: 0.06086175516247749 \n",
      "Epoch: 60 | Accuracy Train: 97.55576923076923 | Accuracy Test: 70.4625 | Loss: 0.06600183993577957 \n",
      "Epoch: 61 | Accuracy Train: 97.70576923076923 | Accuracy Test: 70.10416666666667 | Loss: 0.05741197615861893 \n",
      "Epoch: 62 | Accuracy Train: 97.80384615384615 | Accuracy Test: 69.95416666666667 | Loss: 0.06622444093227386 \n",
      "Epoch: 63 | Accuracy Train: 97.7326923076923 | Accuracy Test: 69.45833333333333 | Loss: 0.06489139795303345 \n",
      "Epoch: 64 | Accuracy Train: 97.82884615384616 | Accuracy Test: 70.2375 | Loss: 0.06477946788072586 \n",
      "Epoch: 65 | Accuracy Train: 97.82307692307693 | Accuracy Test: 70.3375 | Loss: 0.05181187391281128 \n",
      "Epoch: 66 | Accuracy Train: 97.92692307692307 | Accuracy Test: 69.89166666666667 | Loss: 0.04831609129905701 \n",
      "Epoch: 67 | Accuracy Train: 98.06346153846154 | Accuracy Test: 70.20833333333333 | Loss: 0.051741912961006165 \n",
      "Epoch: 68 | Accuracy Train: 98.02884615384616 | Accuracy Test: 70.27916666666667 | Loss: 0.0567094162106514 \n",
      "Epoch: 69 | Accuracy Train: 97.85961538461538 | Accuracy Test: 69.9 | Loss: 0.05431491881608963 \n",
      "Epoch: 70 | Accuracy Train: 98.025 | Accuracy Test: 69.425 | Loss: 0.051774509251117706 \n",
      "Epoch: 71 | Accuracy Train: 97.97884615384615 | Accuracy Test: 70.8 | Loss: 0.05432204157114029 \n",
      "Epoch: 72 | Accuracy Train: 98.02307692307693 | Accuracy Test: 70.42916666666666 | Loss: 0.04396141320466995 \n",
      "Epoch: 73 | Accuracy Train: 98.0576923076923 | Accuracy Test: 69.66666666666667 | Loss: 0.05596514791250229 \n",
      "Epoch: 74 | Accuracy Train: 98.17307692307692 | Accuracy Test: 70.01666666666667 | Loss: 0.053048063069581985 \n",
      "Epoch: 75 | Accuracy Train: 98.12307692307692 | Accuracy Test: 69.94583333333334 | Loss: 0.05396100506186485 \n",
      "Epoch: 76 | Accuracy Train: 98.02307692307693 | Accuracy Test: 69.57083333333334 | Loss: 0.05613095313310623 \n",
      "Epoch: 77 | Accuracy Train: 98.14423076923077 | Accuracy Test: 69.9625 | Loss: 0.043947722762823105 \n",
      "Epoch: 78 | Accuracy Train: 98.08269230769231 | Accuracy Test: 70.2375 | Loss: 0.0449833944439888 \n",
      "Epoch: 79 | Accuracy Train: 98.05 | Accuracy Test: 69.47916666666667 | Loss: 0.05342414975166321 \n",
      "Epoch: 80 | Accuracy Train: 98.21538461538462 | Accuracy Test: 69.56666666666666 | Loss: 0.041027311235666275 \n",
      "Epoch: 81 | Accuracy Train: 98.17884615384615 | Accuracy Test: 69.75416666666666 | Loss: 0.04863854497671127 \n",
      "Epoch: 82 | Accuracy Train: 98.21153846153847 | Accuracy Test: 69.85833333333333 | Loss: 0.04403079301118851 \n",
      "Epoch: 83 | Accuracy Train: 98.16538461538461 | Accuracy Test: 69.46666666666667 | Loss: 0.0509934201836586 \n",
      "Epoch: 84 | Accuracy Train: 98.2173076923077 | Accuracy Test: 69.63333333333334 | Loss: 0.046672970056533813 \n",
      "Epoch: 85 | Accuracy Train: 98.27115384615385 | Accuracy Test: 70.37083333333334 | Loss: 0.04102784022688866 \n",
      "Epoch: 86 | Accuracy Train: 98.3173076923077 | Accuracy Test: 70.48333333333333 | Loss: 0.03568043187260628 \n",
      "Epoch: 87 | Accuracy Train: 98.16538461538461 | Accuracy Test: 69.47916666666667 | Loss: 0.05626411363482475 \n",
      "Epoch: 88 | Accuracy Train: 98.29615384615384 | Accuracy Test: 69.7875 | Loss: 0.037222765386104584 \n",
      "Epoch: 89 | Accuracy Train: 98.3423076923077 | Accuracy Test: 70.62083333333334 | Loss: 0.057259783148765564 \n",
      "Epoch: 90 | Accuracy Train: 98.3576923076923 | Accuracy Test: 69.95416666666667 | Loss: 0.04227939620614052 \n",
      "Epoch: 91 | Accuracy Train: 98.24615384615385 | Accuracy Test: 69.89583333333333 | Loss: 0.03841542452573776 \n",
      "Epoch: 92 | Accuracy Train: 98.37692307692308 | Accuracy Test: 70.00416666666666 | Loss: 0.05107222869992256 \n",
      "Epoch: 93 | Accuracy Train: 98.38076923076923 | Accuracy Test: 69.8 | Loss: 0.04723220691084862 \n",
      "Epoch: 94 | Accuracy Train: 98.41346153846153 | Accuracy Test: 69.89166666666667 | Loss: 0.05339733511209488 \n",
      "Epoch: 95 | Accuracy Train: 98.39807692307693 | Accuracy Test: 70.49583333333334 | Loss: 0.04276658594608307 \n",
      "Epoch: 96 | Accuracy Train: 98.39615384615385 | Accuracy Test: 70.54166666666667 | Loss: 0.03967835754156113 \n",
      "Epoch: 97 | Accuracy Train: 98.45961538461539 | Accuracy Test: 70.60416666666667 | Loss: 0.027663780376315117 \n",
      "Epoch: 98 | Accuracy Train: 98.38076923076923 | Accuracy Test: 69.4625 | Loss: 0.03731486573815346 \n",
      "Epoch: 99 | Accuracy Train: 98.38461538461539 | Accuracy Test: 69.5125 | Loss: 0.03514423966407776 \n",
      "Training is Done\n",
      "Process Time:  16.88265827099482\n"
     ]
    }
   ],
   "source": [
    "res_start = time.time() # start of time\n",
    "res_train_acc = []\n",
    "res_test_acc = []\n",
    "res_loss_list = []\n",
    "\n",
    "use_gpu = True # If you want to use GPU, Change True\n",
    "\n",
    "res_total_step = len(res_trainloader)\n",
    "\n",
    "for epoch in range(res_numberofepochs):\n",
    "    for i, (images, labels) in enumerate(res_trainloader):\n",
    "        \n",
    "        images = images.view(res_batch_size, 1, 64, 32)\n",
    "        images = images.float()\n",
    "        \n",
    "        # GPU\n",
    "        if use_gpu:\n",
    "            if torch.cuda.is_available():\n",
    "                images, labels = images.to(device), labels.to(device)\n",
    "                \n",
    "        outputs = res_model(images)\n",
    "        \n",
    "        loss = res_criterion(outputs, labels)\n",
    "        \n",
    "        # backward and optimization\n",
    "        res_optimizer.zero_grad()\n",
    "        loss.backward()\n",
    "        res_optimizer.step()\n",
    "        \"\"\"\n",
    "        if i % 2 == 0:\n",
    "            print(\"epoch: {} {}\\{}\".format(epoch, i, res_total_step))\n",
    "        \"\"\" \n",
    "    # train\n",
    "    res_train_correct = 0\n",
    "    res_train_total = 0\n",
    "    with torch.no_grad():\n",
    "        for data in res_trainloader:\n",
    "            images, labels = data\n",
    "            images = images.view(res_batch_size, 1, 64, 32)\n",
    "            images = images.float()\n",
    "            \n",
    "            # GPU\n",
    "            if use_gpu:\n",
    "                if torch.cuda.is_available():\n",
    "                    images, labels = images.to(device), labels.to(device)\n",
    "                    \n",
    "            outputs = res_model(images)\n",
    "            _, predicted = torch.max(outputs.data, 1)\n",
    "            res_train_total += labels.size(0)\n",
    "            res_train_correct += (predicted == labels).sum().item()\n",
    "            \n",
    "    Accuracy_Train = 100* res_train_correct/res_train_total\n",
    "    #print(\"Accuracy Train: \"(Accuracy_Train)\n",
    "    res_train_acc.append(Accuracy_Train)\n",
    "    \n",
    "    # test\n",
    "    res_test_correct = 0\n",
    "    res_test_total = 0\n",
    "    with torch.no_grad():\n",
    "        for data in res_testloader:\n",
    "            images, labels = data\n",
    "            images = images.view(res_batch_size, 1, 64, 32)\n",
    "            images = images.float()\n",
    "            \n",
    "            # GPU\n",
    "            if use_gpu:\n",
    "                if torch.cuda.is_available():\n",
    "                    images, labels = images.to(device), labels.to(device)\n",
    "                    \n",
    "            outputs = res_model(images)\n",
    "            _, predicted = torch.max(outputs.data, 1)\n",
    "            res_test_total += labels.size(0)\n",
    "            res_test_correct += (predicted == labels).sum().item()\n",
    "          \n",
    "    Accuracy_Test = 100* res_test_correct/res_test_total\n",
    "    #print(\"Accuracy Test: \"(Accuracy_Test)\n",
    "    res_test_acc.append(Accuracy_Test)\n",
    "    \n",
    "    res_loss_list.append(loss.item())\n",
    "          \n",
    "    print(\"Epoch: {} | Accuracy Train: {} | Accuracy Test: {} | Loss: {} \".format(epoch, Accuracy_Train, Accuracy_Test, loss.item()))\n",
    "    \n",
    "print(\"Training is Done\")\n",
    "\n",
    "# time of end\n",
    "res_end = time.time()\n",
    "res_process_time = (res_end - res_start)/60\n",
    "print(\"Process Time: \",res_process_time)"
   ]
  },
  {
   "cell_type": "markdown",
   "id": "b28503a7",
   "metadata": {
    "papermill": {
     "duration": 0.023013,
     "end_time": "2022-09-12T17:44:36.779295",
     "exception": false,
     "start_time": "2022-09-12T17:44:36.756282",
     "status": "completed"
    },
    "tags": []
   },
   "source": [
    "## Visualize The Result <a id = \"2e\"></a>\n",
    "[Go Content](#cont)"
   ]
  },
  {
   "cell_type": "code",
   "execution_count": 38,
   "id": "818c51cf",
   "metadata": {
    "execution": {
     "iopub.execute_input": "2022-09-12T17:44:36.891003Z",
     "iopub.status.busy": "2022-09-12T17:44:36.890659Z",
     "iopub.status.idle": "2022-09-12T17:44:37.084358Z",
     "shell.execute_reply": "2022-09-12T17:44:37.083419Z"
    },
    "papermill": {
     "duration": 0.283994,
     "end_time": "2022-09-12T17:44:37.086571",
     "exception": false,
     "start_time": "2022-09-12T17:44:36.802577",
     "status": "completed"
    },
    "tags": []
   },
   "outputs": [
    {
     "data": {
      "image/png": "[encoded data removed]",
      "text/plain": [
       "<Figure size 432x288 with 1 Axes>"
      ]
     },
     "metadata": {
      "needs_background": "light"
     },
     "output_type": "display_data"
    }
   ],
   "source": [
    "# Train and Test accuracy graphic\n",
    "res_epochs = []\n",
    "for i in range(res_numberofepochs):\n",
    "    res_epochs.append(i)\n",
    "\n",
    "plt.plot(res_epochs, res_train_acc, label=\"Train\")\n",
    "plt.plot(res_epochs, res_test_acc, label=\"Test\")\n",
    "plt.title(\"Train-Test Accuracy\")\n",
    "plt.xlabel(\"Number of Epochs\")\n",
    "plt.xlabel(\"Accuracy\")\n",
    "plt.legend()\n",
    "plt.show()"
   ]
  },
  {
   "cell_type": "code",
   "execution_count": 39,
   "id": "64854f75",
   "metadata": {
    "execution": {
     "iopub.execute_input": "2022-09-12T17:44:37.136343Z",
     "iopub.status.busy": "2022-09-12T17:44:37.136010Z",
     "iopub.status.idle": "2022-09-12T17:44:37.310346Z",
     "shell.execute_reply": "2022-09-12T17:44:37.309429Z"
    },
    "papermill": {
     "duration": 0.201657,
     "end_time": "2022-09-12T17:44:37.312655",
     "exception": false,
     "start_time": "2022-09-12T17:44:37.110998",
     "status": "completed"
    },
    "tags": []
   },
   "outputs": [
    {
     "data": {
      "image/png": "[encoded data removed]",
      "text/plain": [
       "<Figure size 432x288 with 1 Axes>"
      ]
     },
     "metadata": {
      "needs_background": "light"
     },
     "output_type": "display_data"
    }
   ],
   "source": [
    "# Loss of cnn model graphic\n",
    "plt.plot(res_loss_list)\n",
    "plt.title(\"Loss of ResNet Model\")\n",
    "plt.xlabel(\"Index of loss_list\")\n",
    "plt.ylabel(\"Loss\")\n",
    "plt.show()"
   ]
  },
  {
   "cell_type": "markdown",
   "id": "596ce545",
   "metadata": {
    "papermill": {
     "duration": 0.023903,
     "end_time": "2022-09-12T17:44:37.360871",
     "exception": false,
     "start_time": "2022-09-12T17:44:37.336968",
     "status": "completed"
    },
    "tags": []
   },
   "source": [
    "# CONCLUSION <a id = \"3\"></a>\n",
    "---\n",
    "[Go Content](#cont)\n",
    "\n",
    "I arrived end of the project. In this project, I trained very quickly using GPU. If you want to see the results of the project where I use CPU, please [click here](https://www.kaggle.com/code/ihsncnkz/classification-with-cnn-and-resnet-pytorch-cpu) and You can make comparisons between projects. My view is that the CPU has done a slow training with these models but GPU, on the other hand, completed a hundred-step training in a very short time.\n",
    "\n",
    "I am learning the English language newly if I make an errata please advise me in the comment. Thank you for reading my notebook, your votes and your comments. I will be waiting for your advice."
   ]
  }
 ],
 "metadata": {
  "kernelspec": {
   "display_name": "Python 3",
   "language": "python",
   "name": "python3"
  },
  "language_info": {
   "codemirror_mode": {
    "name": "ipython",
    "version": 3
   },
   "file_extension": ".py",
   "mimetype": "text/x-python",
   "name": "python",
   "nbconvert_exporter": "python",
   "pygments_lexer": "ipython3",
   "version": "3.7.12"
  },
  "papermill": {
   "default_parameters": {},
   "duration": 2277.294978,
   "end_time": "2022-09-12T17:44:40.056583",
   "environment_variables": {},
   "exception": null,
   "input_path": "__notebook__.ipynb",
   "output_path": "__notebook__.ipynb",
   "parameters": {},
   "start_time": "2022-09-12T17:06:42.761605",
   "version": "2.3.4"
  }
 },
 "nbformat": 4,
 "nbformat_minor": 5
}
