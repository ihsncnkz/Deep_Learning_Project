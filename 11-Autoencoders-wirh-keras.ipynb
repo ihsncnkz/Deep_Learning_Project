{
 "cells": [
  {
   "cell_type": "markdown",
   "id": "1110fdde",
   "metadata": {
    "papermill": {
     "duration": 0.016154,
     "end_time": "2022-09-21T20:04:46.750360",
     "exception": false,
     "start_time": "2022-09-21T20:04:46.734206",
     "status": "completed"
    },
    "tags": []
   },
   "source": [
    "# Introduction\n",
    "\n",
    "Hello, I continue to learn from where I left off with this project. I am on the learning path at the moment, On This learning path, I make projects and I share with you them. I will mention this topic later in this section. If I were to talk about what I did in this project, Autoencoders is a project I did to learn what it is and how to apply it to the dataset. While doing the project, I took Keras' documentation as my guide. I applied what is in this document to the data set. I will share the link to this documentation in this chapter. If I summarize this notebook shortly, I prepared the dataset for the model firstly and I visualize a few images in the dataset. Then I created my model and applied Autoencoders to the dataset in four different ways. I've added information about what I'm doing in the topic titles. \n",
    "\n",
    "As I mentioned before, I said that I am on a learning path. To this learning path, I started with Data Science, continued the Machine Learning, and at the moment, I am learning the topics of Deep Learning. At the same time, I make projects about I learned topics in this learning path. I already mentioned above. I will share with you my completed projects in this chapter. In this learning path, I would be very happy if you would examine my project and help me with how to improve my project or what I should do in this development path. I wish you a good day and good work.\n",
    "\n",
    "[For a detailed description of the dataset, please click here](https://www.kaggle.com/datasets/zalando-research/fashionmnist)\n",
    "\n",
    "[Documantation of Keras about Autoencoders](https://blog.keras.io/building-autoencoders-in-keras.html)\n",
    "\n",
    "My projects about Deep Learning:<br>\n",
    "- [Gender Prediction With Logistic Regression](https://www.kaggle.com/code/ihsncnkz/gender-prediction-with-logistic-regression)\n",
    "- [Cat And Dog Prediction With ANN](https://www.kaggle.com/code/ihsncnkz/cat-and-dog-prediction-with-ann)\n",
    "- [Linear Regression With Pytorch](https://www.kaggle.com/code/ihsncnkz/linear-regression-with-pytorch)\n",
    "- [My First Convolutional Neural Network(CNN) Work](https://www.kaggle.com/code/ihsncnkz/my-first-convolutional-neural-network-cnn-work)\n",
    "- [Predict With CNN Model](https://www.kaggle.com/code/ihsncnkz/predict-with-cnn-model)\n",
    "- [Logistic Regression, ANN And CNN With Pytorch](https://www.kaggle.com/code/ihsncnkz/logistic-regression-ann-and-cnn-with-pytorch)\n",
    "- [RNN And LSTM With Keras](https://www.kaggle.com/code/ihsncnkz/rnn-and-lstm-with-keras)\n",
    "- [Classification With CNN And ResNet - PyTorch - CPU](https://www.kaggle.com/code/ihsncnkz/classification-with-cnn-and-resnet-pytorch-cpu)\n",
    "- [Classification With CNN And ResNet - PyTorch - GPU](https://www.kaggle.com/code/ihsncnkz/classification-with-cnn-and-resnet-pytorch-gpu)\n",
    "- [Transfer Learning With Keras - VGG16 / VGG19](https://www.kaggle.com/code/ihsncnkz/transfer-learning-with-keras-vgg16-vgg19)\n",
    "\n",
    "My projects about Data Science and Machine Learning:\n",
    "- [GPU Search](https://www.kaggle.com/code/ihsncnkz/gpu-search)\n",
    "- [EDA And Linear Regression](https://www.kaggle.com/code/ihsncnkz/eda-and-linear-regression)\n",
    "- [Regression Models](https://www.kaggle.com/code/ihsncnkz/regression-models)\n",
    "- [Logistic Regression](https://www.kaggle.com/code/ihsncnkz/logistic-regression)\n",
    "- [Classification With K-Nearest Neighbors(KNN)](https://www.kaggle.com/code/ihsncnkz/classification-with-k-nearest-neighbors-knn)\n",
    "- [Classification With Support Vector Machine(SVM)](https://www.kaggle.com/code/ihsncnkz/classification-with-support-vector-machine-svm)\n",
    "- [Classification With Naive Bayes Classification](https://www.kaggle.com/code/ihsncnkz/classification-with-naive-bayes-classification)\n",
    "- [Decision Tree And Random Forest Classifier Models](https://www.kaggle.com/code/ihsncnkz/decision-tree-and-random-forest-classifier-models)\n",
    "- [K-Means And Hierarchical Clustering With 3D Plotly](https://www.kaggle.com/code/ihsncnkz/k-means-and-hierarchical-clustering-with-3d-plotly)\n",
    "- [Natural Language Process(NLP) With Naive Bayes](https://www.kaggle.com/code/ihsncnkz/natural-language-process-nlp-with-naive-bayes)\n",
    "- [Recommendation System With KNN](https://www.kaggle.com/code/ihsncnkz/recommendation-system-with-knn)"
   ]
  },
  {
   "cell_type": "markdown",
   "id": "2055df0a",
   "metadata": {
    "papermill": {
     "duration": 0.013251,
     "end_time": "2022-09-21T20:04:46.777472",
     "exception": false,
     "start_time": "2022-09-21T20:04:46.764221",
     "status": "completed"
    },
    "tags": []
   },
   "source": [
    "# Content <a id= \"cont\"></a>\n",
    "- [Data Prepare And Review](#0)\n",
    "- [Autoencoders](#1)\n",
    "    - [The Simple Autoencoders](#1a)\n",
    "        - [Create Model](#1a1)\n",
    "        - [Train Model](#1a2)\n",
    "        - [Model Result Evaluation](#1a3)\n",
    "        - [Save History](#1a4)\n",
    "        - [Load History](#1a5)\n",
    "        - [Evaluate Result And Visualizetion](#1a6)\n",
    "    - [Deep Autoencoder](#1b)\n",
    "        - [Create Model](#1b1)\n",
    "        - [Train Model](#1b2)\n",
    "        - [Model Result Evaluation](#1b3)\n",
    "    - [Convolutional Autoencoder](#1c)\n",
    "        - [Prepare Data For Create Model](#1c1)\n",
    "        - [Create Model](#1c2)\n",
    "        - [Train Model](#1c3)\n",
    "        - [Model Result Evaluation](#1c4)\n",
    "    - [Application To Image Denoising](#1d)\n",
    "        - [Change Dataset](#1d1)\n",
    "        - [Train Model](#1d2)\n",
    "        - [Model Result Evaluation](#1d3)\n",
    "- [CONCLUSION](#3)"
   ]
  },
  {
   "cell_type": "code",
   "execution_count": 1,
   "id": "eff6ab1b",
   "metadata": {
    "_cell_guid": "b1076dfc-b9ad-4769-8c92-a6c4dae69d19",
    "_uuid": "8f2839f25d086af736a60e9eeb907d3b93b6e0e5",
    "execution": {
     "iopub.execute_input": "2022-09-21T20:04:46.808795Z",
     "iopub.status.busy": "2022-09-21T20:04:46.808073Z",
     "iopub.status.idle": "2022-09-21T20:04:53.000283Z",
     "shell.execute_reply": "2022-09-21T20:04:52.998876Z"
    },
    "papermill": {
     "duration": 6.210479,
     "end_time": "2022-09-21T20:04:53.003354",
     "exception": false,
     "start_time": "2022-09-21T20:04:46.792875",
     "status": "completed"
    },
    "tags": []
   },
   "outputs": [
    {
     "name": "stdout",
     "output_type": "stream",
     "text": [
      "/kaggle/input/fashionmnist/t10k-labels-idx1-ubyte\n",
      "/kaggle/input/fashionmnist/t10k-images-idx3-ubyte\n",
      "/kaggle/input/fashionmnist/fashion-mnist_test.csv\n",
      "/kaggle/input/fashionmnist/fashion-mnist_train.csv\n",
      "/kaggle/input/fashionmnist/train-labels-idx1-ubyte\n",
      "/kaggle/input/fashionmnist/train-images-idx3-ubyte\n"
     ]
    }
   ],
   "source": [
    "# This Python 3 environment comes with many helpful analytics libraries installed\n",
    "# It is defined by the kaggle/python Docker image: https://github.com/kaggle/docker-python\n",
    "# For example, here's several helpful packages to load\n",
    "\n",
    "import numpy as np # linear algebra\n",
    "import pandas as pd # data processing, CSV file I/O (e.g. pd.read_csv)\n",
    "import matplotlib.pyplot as plt\n",
    "import json, codecs\n",
    "from keras.models import Model\n",
    "from keras.layers import Dense, Input, Conv2D, MaxPooling2D, UpSampling2D\n",
    "\n",
    "# Input data files are available in the read-only \"../input/\" directory\n",
    "# For example, running this (by clicking run or pressing Shift+Enter) will list all files under the input directory\n",
    "\n",
    "import os\n",
    "for dirname, _, filenames in os.walk('/kaggle/input'):\n",
    "    for filename in filenames:\n",
    "        print(os.path.join(dirname, filename))\n",
    "\n",
    "# You can write up to 20GB to the current directory (/kaggle/working/) that gets preserved as output when you create a version using \"Save & Run All\" \n",
    "# You can also write temporary files to /kaggle/temp/, but they won't be saved outside of the current session"
   ]
  },
  {
   "cell_type": "markdown",
   "id": "28560705",
   "metadata": {
    "papermill": {
     "duration": 0.013759,
     "end_time": "2022-09-21T20:04:53.031434",
     "exception": false,
     "start_time": "2022-09-21T20:04:53.017675",
     "status": "completed"
    },
    "tags": []
   },
   "source": [
    "# Data Prepare And Review <a id = \"0\"></a>\n",
    "[Go Content](#cont)\n",
    "\n",
    "In this chapter, I prepared the dataset for the model and I reviewed it."
   ]
  },
  {
   "cell_type": "code",
   "execution_count": 2,
   "id": "2f18fa0f",
   "metadata": {
    "execution": {
     "iopub.execute_input": "2022-09-21T20:04:53.061929Z",
     "iopub.status.busy": "2022-09-21T20:04:53.061256Z",
     "iopub.status.idle": "2022-09-21T20:05:00.853495Z",
     "shell.execute_reply": "2022-09-21T20:05:00.852615Z"
    },
    "papermill": {
     "duration": 7.810515,
     "end_time": "2022-09-21T20:05:00.856195",
     "exception": false,
     "start_time": "2022-09-21T20:04:53.045680",
     "status": "completed"
    },
    "tags": []
   },
   "outputs": [],
   "source": [
    "# I read the dataset with the pandas library.\n",
    "train = pd.read_csv(\"/kaggle/input/fashionmnist/fashion-mnist_train.csv\")\n",
    "test = pd.read_csv(\"/kaggle/input/fashionmnist/fashion-mnist_test.csv\")"
   ]
  },
  {
   "cell_type": "code",
   "execution_count": 3,
   "id": "5d9052bb",
   "metadata": {
    "execution": {
     "iopub.execute_input": "2022-09-21T20:05:00.887301Z",
     "iopub.status.busy": "2022-09-21T20:05:00.886581Z",
     "iopub.status.idle": "2022-09-21T20:05:00.922375Z",
     "shell.execute_reply": "2022-09-21T20:05:00.921144Z"
    },
    "papermill": {
     "duration": 0.054251,
     "end_time": "2022-09-21T20:05:00.925019",
     "exception": false,
     "start_time": "2022-09-21T20:05:00.870768",
     "status": "completed"
    },
    "tags": []
   },
   "outputs": [
    {
     "data": {
      "text/html": [
       "<div>\n",
       "<style scoped>\n",
       "    .dataframe tbody tr th:only-of-type {\n",
       "        vertical-align: middle;\n",
       "    }\n",
       "\n",
       "    .dataframe tbody tr th {\n",
       "        vertical-align: top;\n",
       "    }\n",
       "\n",
       "    .dataframe thead th {\n",
       "        text-align: right;\n",
       "    }\n",
       "</style>\n",
       "<table border=\"1\" class=\"dataframe\">\n",
       "  <thead>\n",
       "    <tr style=\"text-align: right;\">\n",
       "      <th></th>\n",
       "      <th>label</th>\n",
       "      <th>pixel1</th>\n",
       "      <th>pixel2</th>\n",
       "      <th>pixel3</th>\n",
       "      <th>pixel4</th>\n",
       "      <th>pixel5</th>\n",
       "      <th>pixel6</th>\n",
       "      <th>pixel7</th>\n",
       "      <th>pixel8</th>\n",
       "      <th>pixel9</th>\n",
       "      <th>...</th>\n",
       "      <th>pixel775</th>\n",
       "      <th>pixel776</th>\n",
       "      <th>pixel777</th>\n",
       "      <th>pixel778</th>\n",
       "      <th>pixel779</th>\n",
       "      <th>pixel780</th>\n",
       "      <th>pixel781</th>\n",
       "      <th>pixel782</th>\n",
       "      <th>pixel783</th>\n",
       "      <th>pixel784</th>\n",
       "    </tr>\n",
       "  </thead>\n",
       "  <tbody>\n",
       "    <tr>\n",
       "      <th>0</th>\n",
       "      <td>2</td>\n",
       "      <td>0</td>\n",
       "      <td>0</td>\n",
       "      <td>0</td>\n",
       "      <td>0</td>\n",
       "      <td>0</td>\n",
       "      <td>0</td>\n",
       "      <td>0</td>\n",
       "      <td>0</td>\n",
       "      <td>0</td>\n",
       "      <td>...</td>\n",
       "      <td>0</td>\n",
       "      <td>0</td>\n",
       "      <td>0</td>\n",
       "      <td>0</td>\n",
       "      <td>0</td>\n",
       "      <td>0</td>\n",
       "      <td>0</td>\n",
       "      <td>0</td>\n",
       "      <td>0</td>\n",
       "      <td>0</td>\n",
       "    </tr>\n",
       "    <tr>\n",
       "      <th>1</th>\n",
       "      <td>9</td>\n",
       "      <td>0</td>\n",
       "      <td>0</td>\n",
       "      <td>0</td>\n",
       "      <td>0</td>\n",
       "      <td>0</td>\n",
       "      <td>0</td>\n",
       "      <td>0</td>\n",
       "      <td>0</td>\n",
       "      <td>0</td>\n",
       "      <td>...</td>\n",
       "      <td>0</td>\n",
       "      <td>0</td>\n",
       "      <td>0</td>\n",
       "      <td>0</td>\n",
       "      <td>0</td>\n",
       "      <td>0</td>\n",
       "      <td>0</td>\n",
       "      <td>0</td>\n",
       "      <td>0</td>\n",
       "      <td>0</td>\n",
       "    </tr>\n",
       "    <tr>\n",
       "      <th>2</th>\n",
       "      <td>6</td>\n",
       "      <td>0</td>\n",
       "      <td>0</td>\n",
       "      <td>0</td>\n",
       "      <td>0</td>\n",
       "      <td>0</td>\n",
       "      <td>0</td>\n",
       "      <td>0</td>\n",
       "      <td>5</td>\n",
       "      <td>0</td>\n",
       "      <td>...</td>\n",
       "      <td>0</td>\n",
       "      <td>0</td>\n",
       "      <td>0</td>\n",
       "      <td>30</td>\n",
       "      <td>43</td>\n",
       "      <td>0</td>\n",
       "      <td>0</td>\n",
       "      <td>0</td>\n",
       "      <td>0</td>\n",
       "      <td>0</td>\n",
       "    </tr>\n",
       "    <tr>\n",
       "      <th>3</th>\n",
       "      <td>0</td>\n",
       "      <td>0</td>\n",
       "      <td>0</td>\n",
       "      <td>0</td>\n",
       "      <td>1</td>\n",
       "      <td>2</td>\n",
       "      <td>0</td>\n",
       "      <td>0</td>\n",
       "      <td>0</td>\n",
       "      <td>0</td>\n",
       "      <td>...</td>\n",
       "      <td>3</td>\n",
       "      <td>0</td>\n",
       "      <td>0</td>\n",
       "      <td>0</td>\n",
       "      <td>0</td>\n",
       "      <td>1</td>\n",
       "      <td>0</td>\n",
       "      <td>0</td>\n",
       "      <td>0</td>\n",
       "      <td>0</td>\n",
       "    </tr>\n",
       "    <tr>\n",
       "      <th>4</th>\n",
       "      <td>3</td>\n",
       "      <td>0</td>\n",
       "      <td>0</td>\n",
       "      <td>0</td>\n",
       "      <td>0</td>\n",
       "      <td>0</td>\n",
       "      <td>0</td>\n",
       "      <td>0</td>\n",
       "      <td>0</td>\n",
       "      <td>0</td>\n",
       "      <td>...</td>\n",
       "      <td>0</td>\n",
       "      <td>0</td>\n",
       "      <td>0</td>\n",
       "      <td>0</td>\n",
       "      <td>0</td>\n",
       "      <td>0</td>\n",
       "      <td>0</td>\n",
       "      <td>0</td>\n",
       "      <td>0</td>\n",
       "      <td>0</td>\n",
       "    </tr>\n",
       "    <tr>\n",
       "      <th>...</th>\n",
       "      <td>...</td>\n",
       "      <td>...</td>\n",
       "      <td>...</td>\n",
       "      <td>...</td>\n",
       "      <td>...</td>\n",
       "      <td>...</td>\n",
       "      <td>...</td>\n",
       "      <td>...</td>\n",
       "      <td>...</td>\n",
       "      <td>...</td>\n",
       "      <td>...</td>\n",
       "      <td>...</td>\n",
       "      <td>...</td>\n",
       "      <td>...</td>\n",
       "      <td>...</td>\n",
       "      <td>...</td>\n",
       "      <td>...</td>\n",
       "      <td>...</td>\n",
       "      <td>...</td>\n",
       "      <td>...</td>\n",
       "      <td>...</td>\n",
       "    </tr>\n",
       "    <tr>\n",
       "      <th>59995</th>\n",
       "      <td>9</td>\n",
       "      <td>0</td>\n",
       "      <td>0</td>\n",
       "      <td>0</td>\n",
       "      <td>0</td>\n",
       "      <td>0</td>\n",
       "      <td>0</td>\n",
       "      <td>0</td>\n",
       "      <td>0</td>\n",
       "      <td>0</td>\n",
       "      <td>...</td>\n",
       "      <td>0</td>\n",
       "      <td>0</td>\n",
       "      <td>0</td>\n",
       "      <td>0</td>\n",
       "      <td>0</td>\n",
       "      <td>0</td>\n",
       "      <td>0</td>\n",
       "      <td>0</td>\n",
       "      <td>0</td>\n",
       "      <td>0</td>\n",
       "    </tr>\n",
       "    <tr>\n",
       "      <th>59996</th>\n",
       "      <td>1</td>\n",
       "      <td>0</td>\n",
       "      <td>0</td>\n",
       "      <td>0</td>\n",
       "      <td>0</td>\n",
       "      <td>0</td>\n",
       "      <td>0</td>\n",
       "      <td>0</td>\n",
       "      <td>0</td>\n",
       "      <td>0</td>\n",
       "      <td>...</td>\n",
       "      <td>73</td>\n",
       "      <td>0</td>\n",
       "      <td>0</td>\n",
       "      <td>0</td>\n",
       "      <td>0</td>\n",
       "      <td>0</td>\n",
       "      <td>0</td>\n",
       "      <td>0</td>\n",
       "      <td>0</td>\n",
       "      <td>0</td>\n",
       "    </tr>\n",
       "    <tr>\n",
       "      <th>59997</th>\n",
       "      <td>8</td>\n",
       "      <td>0</td>\n",
       "      <td>0</td>\n",
       "      <td>0</td>\n",
       "      <td>0</td>\n",
       "      <td>0</td>\n",
       "      <td>0</td>\n",
       "      <td>0</td>\n",
       "      <td>0</td>\n",
       "      <td>0</td>\n",
       "      <td>...</td>\n",
       "      <td>160</td>\n",
       "      <td>162</td>\n",
       "      <td>163</td>\n",
       "      <td>135</td>\n",
       "      <td>94</td>\n",
       "      <td>0</td>\n",
       "      <td>0</td>\n",
       "      <td>0</td>\n",
       "      <td>0</td>\n",
       "      <td>0</td>\n",
       "    </tr>\n",
       "    <tr>\n",
       "      <th>59998</th>\n",
       "      <td>8</td>\n",
       "      <td>0</td>\n",
       "      <td>0</td>\n",
       "      <td>0</td>\n",
       "      <td>0</td>\n",
       "      <td>0</td>\n",
       "      <td>0</td>\n",
       "      <td>0</td>\n",
       "      <td>0</td>\n",
       "      <td>0</td>\n",
       "      <td>...</td>\n",
       "      <td>0</td>\n",
       "      <td>0</td>\n",
       "      <td>0</td>\n",
       "      <td>0</td>\n",
       "      <td>0</td>\n",
       "      <td>0</td>\n",
       "      <td>0</td>\n",
       "      <td>0</td>\n",
       "      <td>0</td>\n",
       "      <td>0</td>\n",
       "    </tr>\n",
       "    <tr>\n",
       "      <th>59999</th>\n",
       "      <td>7</td>\n",
       "      <td>0</td>\n",
       "      <td>0</td>\n",
       "      <td>0</td>\n",
       "      <td>0</td>\n",
       "      <td>0</td>\n",
       "      <td>0</td>\n",
       "      <td>0</td>\n",
       "      <td>0</td>\n",
       "      <td>0</td>\n",
       "      <td>...</td>\n",
       "      <td>0</td>\n",
       "      <td>0</td>\n",
       "      <td>0</td>\n",
       "      <td>0</td>\n",
       "      <td>0</td>\n",
       "      <td>0</td>\n",
       "      <td>0</td>\n",
       "      <td>0</td>\n",
       "      <td>0</td>\n",
       "      <td>0</td>\n",
       "    </tr>\n",
       "  </tbody>\n",
       "</table>\n",
       "<p>60000 rows × 785 columns</p>\n",
       "</div>"
      ],
      "text/plain": [
       "       label  pixel1  pixel2  pixel3  pixel4  pixel5  pixel6  pixel7  pixel8  \\\n",
       "0          2       0       0       0       0       0       0       0       0   \n",
       "1          9       0       0       0       0       0       0       0       0   \n",
       "2          6       0       0       0       0       0       0       0       5   \n",
       "3          0       0       0       0       1       2       0       0       0   \n",
       "4          3       0       0       0       0       0       0       0       0   \n",
       "...      ...     ...     ...     ...     ...     ...     ...     ...     ...   \n",
       "59995      9       0       0       0       0       0       0       0       0   \n",
       "59996      1       0       0       0       0       0       0       0       0   \n",
       "59997      8       0       0       0       0       0       0       0       0   \n",
       "59998      8       0       0       0       0       0       0       0       0   \n",
       "59999      7       0       0       0       0       0       0       0       0   \n",
       "\n",
       "       pixel9  ...  pixel775  pixel776  pixel777  pixel778  pixel779  \\\n",
       "0           0  ...         0         0         0         0         0   \n",
       "1           0  ...         0         0         0         0         0   \n",
       "2           0  ...         0         0         0        30        43   \n",
       "3           0  ...         3         0         0         0         0   \n",
       "4           0  ...         0         0         0         0         0   \n",
       "...       ...  ...       ...       ...       ...       ...       ...   \n",
       "59995       0  ...         0         0         0         0         0   \n",
       "59996       0  ...        73         0         0         0         0   \n",
       "59997       0  ...       160       162       163       135        94   \n",
       "59998       0  ...         0         0         0         0         0   \n",
       "59999       0  ...         0         0         0         0         0   \n",
       "\n",
       "       pixel780  pixel781  pixel782  pixel783  pixel784  \n",
       "0             0         0         0         0         0  \n",
       "1             0         0         0         0         0  \n",
       "2             0         0         0         0         0  \n",
       "3             1         0         0         0         0  \n",
       "4             0         0         0         0         0  \n",
       "...         ...       ...       ...       ...       ...  \n",
       "59995         0         0         0         0         0  \n",
       "59996         0         0         0         0         0  \n",
       "59997         0         0         0         0         0  \n",
       "59998         0         0         0         0         0  \n",
       "59999         0         0         0         0         0  \n",
       "\n",
       "[60000 rows x 785 columns]"
      ]
     },
     "execution_count": 3,
     "metadata": {},
     "output_type": "execute_result"
    }
   ],
   "source": [
    "# Train dataset\n",
    "train"
   ]
  },
  {
   "cell_type": "code",
   "execution_count": 4,
   "id": "c664ff9a",
   "metadata": {
    "execution": {
     "iopub.execute_input": "2022-09-21T20:05:00.956444Z",
     "iopub.status.busy": "2022-09-21T20:05:00.955569Z",
     "iopub.status.idle": "2022-09-21T20:05:00.981091Z",
     "shell.execute_reply": "2022-09-21T20:05:00.979952Z"
    },
    "papermill": {
     "duration": 0.044124,
     "end_time": "2022-09-21T20:05:00.983737",
     "exception": false,
     "start_time": "2022-09-21T20:05:00.939613",
     "status": "completed"
    },
    "tags": []
   },
   "outputs": [
    {
     "data": {
      "text/html": [
       "<div>\n",
       "<style scoped>\n",
       "    .dataframe tbody tr th:only-of-type {\n",
       "        vertical-align: middle;\n",
       "    }\n",
       "\n",
       "    .dataframe tbody tr th {\n",
       "        vertical-align: top;\n",
       "    }\n",
       "\n",
       "    .dataframe thead th {\n",
       "        text-align: right;\n",
       "    }\n",
       "</style>\n",
       "<table border=\"1\" class=\"dataframe\">\n",
       "  <thead>\n",
       "    <tr style=\"text-align: right;\">\n",
       "      <th></th>\n",
       "      <th>label</th>\n",
       "      <th>pixel1</th>\n",
       "      <th>pixel2</th>\n",
       "      <th>pixel3</th>\n",
       "      <th>pixel4</th>\n",
       "      <th>pixel5</th>\n",
       "      <th>pixel6</th>\n",
       "      <th>pixel7</th>\n",
       "      <th>pixel8</th>\n",
       "      <th>pixel9</th>\n",
       "      <th>...</th>\n",
       "      <th>pixel775</th>\n",
       "      <th>pixel776</th>\n",
       "      <th>pixel777</th>\n",
       "      <th>pixel778</th>\n",
       "      <th>pixel779</th>\n",
       "      <th>pixel780</th>\n",
       "      <th>pixel781</th>\n",
       "      <th>pixel782</th>\n",
       "      <th>pixel783</th>\n",
       "      <th>pixel784</th>\n",
       "    </tr>\n",
       "  </thead>\n",
       "  <tbody>\n",
       "    <tr>\n",
       "      <th>0</th>\n",
       "      <td>0</td>\n",
       "      <td>0</td>\n",
       "      <td>0</td>\n",
       "      <td>0</td>\n",
       "      <td>0</td>\n",
       "      <td>0</td>\n",
       "      <td>0</td>\n",
       "      <td>0</td>\n",
       "      <td>9</td>\n",
       "      <td>8</td>\n",
       "      <td>...</td>\n",
       "      <td>103</td>\n",
       "      <td>87</td>\n",
       "      <td>56</td>\n",
       "      <td>0</td>\n",
       "      <td>0</td>\n",
       "      <td>0</td>\n",
       "      <td>0</td>\n",
       "      <td>0</td>\n",
       "      <td>0</td>\n",
       "      <td>0</td>\n",
       "    </tr>\n",
       "    <tr>\n",
       "      <th>1</th>\n",
       "      <td>1</td>\n",
       "      <td>0</td>\n",
       "      <td>0</td>\n",
       "      <td>0</td>\n",
       "      <td>0</td>\n",
       "      <td>0</td>\n",
       "      <td>0</td>\n",
       "      <td>0</td>\n",
       "      <td>0</td>\n",
       "      <td>0</td>\n",
       "      <td>...</td>\n",
       "      <td>34</td>\n",
       "      <td>0</td>\n",
       "      <td>0</td>\n",
       "      <td>0</td>\n",
       "      <td>0</td>\n",
       "      <td>0</td>\n",
       "      <td>0</td>\n",
       "      <td>0</td>\n",
       "      <td>0</td>\n",
       "      <td>0</td>\n",
       "    </tr>\n",
       "    <tr>\n",
       "      <th>2</th>\n",
       "      <td>2</td>\n",
       "      <td>0</td>\n",
       "      <td>0</td>\n",
       "      <td>0</td>\n",
       "      <td>0</td>\n",
       "      <td>0</td>\n",
       "      <td>0</td>\n",
       "      <td>14</td>\n",
       "      <td>53</td>\n",
       "      <td>99</td>\n",
       "      <td>...</td>\n",
       "      <td>0</td>\n",
       "      <td>0</td>\n",
       "      <td>0</td>\n",
       "      <td>0</td>\n",
       "      <td>63</td>\n",
       "      <td>53</td>\n",
       "      <td>31</td>\n",
       "      <td>0</td>\n",
       "      <td>0</td>\n",
       "      <td>0</td>\n",
       "    </tr>\n",
       "    <tr>\n",
       "      <th>3</th>\n",
       "      <td>2</td>\n",
       "      <td>0</td>\n",
       "      <td>0</td>\n",
       "      <td>0</td>\n",
       "      <td>0</td>\n",
       "      <td>0</td>\n",
       "      <td>0</td>\n",
       "      <td>0</td>\n",
       "      <td>0</td>\n",
       "      <td>0</td>\n",
       "      <td>...</td>\n",
       "      <td>137</td>\n",
       "      <td>126</td>\n",
       "      <td>140</td>\n",
       "      <td>0</td>\n",
       "      <td>133</td>\n",
       "      <td>224</td>\n",
       "      <td>222</td>\n",
       "      <td>56</td>\n",
       "      <td>0</td>\n",
       "      <td>0</td>\n",
       "    </tr>\n",
       "    <tr>\n",
       "      <th>4</th>\n",
       "      <td>3</td>\n",
       "      <td>0</td>\n",
       "      <td>0</td>\n",
       "      <td>0</td>\n",
       "      <td>0</td>\n",
       "      <td>0</td>\n",
       "      <td>0</td>\n",
       "      <td>0</td>\n",
       "      <td>0</td>\n",
       "      <td>0</td>\n",
       "      <td>...</td>\n",
       "      <td>0</td>\n",
       "      <td>0</td>\n",
       "      <td>0</td>\n",
       "      <td>0</td>\n",
       "      <td>0</td>\n",
       "      <td>0</td>\n",
       "      <td>0</td>\n",
       "      <td>0</td>\n",
       "      <td>0</td>\n",
       "      <td>0</td>\n",
       "    </tr>\n",
       "    <tr>\n",
       "      <th>...</th>\n",
       "      <td>...</td>\n",
       "      <td>...</td>\n",
       "      <td>...</td>\n",
       "      <td>...</td>\n",
       "      <td>...</td>\n",
       "      <td>...</td>\n",
       "      <td>...</td>\n",
       "      <td>...</td>\n",
       "      <td>...</td>\n",
       "      <td>...</td>\n",
       "      <td>...</td>\n",
       "      <td>...</td>\n",
       "      <td>...</td>\n",
       "      <td>...</td>\n",
       "      <td>...</td>\n",
       "      <td>...</td>\n",
       "      <td>...</td>\n",
       "      <td>...</td>\n",
       "      <td>...</td>\n",
       "      <td>...</td>\n",
       "      <td>...</td>\n",
       "    </tr>\n",
       "    <tr>\n",
       "      <th>9995</th>\n",
       "      <td>0</td>\n",
       "      <td>0</td>\n",
       "      <td>0</td>\n",
       "      <td>0</td>\n",
       "      <td>0</td>\n",
       "      <td>0</td>\n",
       "      <td>0</td>\n",
       "      <td>0</td>\n",
       "      <td>0</td>\n",
       "      <td>0</td>\n",
       "      <td>...</td>\n",
       "      <td>32</td>\n",
       "      <td>23</td>\n",
       "      <td>14</td>\n",
       "      <td>20</td>\n",
       "      <td>0</td>\n",
       "      <td>0</td>\n",
       "      <td>1</td>\n",
       "      <td>0</td>\n",
       "      <td>0</td>\n",
       "      <td>0</td>\n",
       "    </tr>\n",
       "    <tr>\n",
       "      <th>9996</th>\n",
       "      <td>6</td>\n",
       "      <td>0</td>\n",
       "      <td>0</td>\n",
       "      <td>0</td>\n",
       "      <td>0</td>\n",
       "      <td>0</td>\n",
       "      <td>0</td>\n",
       "      <td>0</td>\n",
       "      <td>0</td>\n",
       "      <td>0</td>\n",
       "      <td>...</td>\n",
       "      <td>0</td>\n",
       "      <td>0</td>\n",
       "      <td>0</td>\n",
       "      <td>2</td>\n",
       "      <td>52</td>\n",
       "      <td>23</td>\n",
       "      <td>28</td>\n",
       "      <td>0</td>\n",
       "      <td>0</td>\n",
       "      <td>0</td>\n",
       "    </tr>\n",
       "    <tr>\n",
       "      <th>9997</th>\n",
       "      <td>8</td>\n",
       "      <td>0</td>\n",
       "      <td>0</td>\n",
       "      <td>0</td>\n",
       "      <td>0</td>\n",
       "      <td>0</td>\n",
       "      <td>0</td>\n",
       "      <td>0</td>\n",
       "      <td>0</td>\n",
       "      <td>0</td>\n",
       "      <td>...</td>\n",
       "      <td>175</td>\n",
       "      <td>172</td>\n",
       "      <td>172</td>\n",
       "      <td>182</td>\n",
       "      <td>199</td>\n",
       "      <td>222</td>\n",
       "      <td>42</td>\n",
       "      <td>0</td>\n",
       "      <td>1</td>\n",
       "      <td>0</td>\n",
       "    </tr>\n",
       "    <tr>\n",
       "      <th>9998</th>\n",
       "      <td>8</td>\n",
       "      <td>0</td>\n",
       "      <td>1</td>\n",
       "      <td>3</td>\n",
       "      <td>0</td>\n",
       "      <td>0</td>\n",
       "      <td>0</td>\n",
       "      <td>0</td>\n",
       "      <td>0</td>\n",
       "      <td>0</td>\n",
       "      <td>...</td>\n",
       "      <td>0</td>\n",
       "      <td>0</td>\n",
       "      <td>0</td>\n",
       "      <td>0</td>\n",
       "      <td>0</td>\n",
       "      <td>1</td>\n",
       "      <td>0</td>\n",
       "      <td>0</td>\n",
       "      <td>0</td>\n",
       "      <td>0</td>\n",
       "    </tr>\n",
       "    <tr>\n",
       "      <th>9999</th>\n",
       "      <td>1</td>\n",
       "      <td>0</td>\n",
       "      <td>0</td>\n",
       "      <td>0</td>\n",
       "      <td>0</td>\n",
       "      <td>0</td>\n",
       "      <td>0</td>\n",
       "      <td>0</td>\n",
       "      <td>140</td>\n",
       "      <td>119</td>\n",
       "      <td>...</td>\n",
       "      <td>111</td>\n",
       "      <td>95</td>\n",
       "      <td>75</td>\n",
       "      <td>44</td>\n",
       "      <td>1</td>\n",
       "      <td>0</td>\n",
       "      <td>0</td>\n",
       "      <td>0</td>\n",
       "      <td>0</td>\n",
       "      <td>0</td>\n",
       "    </tr>\n",
       "  </tbody>\n",
       "</table>\n",
       "<p>10000 rows × 785 columns</p>\n",
       "</div>"
      ],
      "text/plain": [
       "      label  pixel1  pixel2  pixel3  pixel4  pixel5  pixel6  pixel7  pixel8  \\\n",
       "0         0       0       0       0       0       0       0       0       9   \n",
       "1         1       0       0       0       0       0       0       0       0   \n",
       "2         2       0       0       0       0       0       0      14      53   \n",
       "3         2       0       0       0       0       0       0       0       0   \n",
       "4         3       0       0       0       0       0       0       0       0   \n",
       "...     ...     ...     ...     ...     ...     ...     ...     ...     ...   \n",
       "9995      0       0       0       0       0       0       0       0       0   \n",
       "9996      6       0       0       0       0       0       0       0       0   \n",
       "9997      8       0       0       0       0       0       0       0       0   \n",
       "9998      8       0       1       3       0       0       0       0       0   \n",
       "9999      1       0       0       0       0       0       0       0     140   \n",
       "\n",
       "      pixel9  ...  pixel775  pixel776  pixel777  pixel778  pixel779  pixel780  \\\n",
       "0          8  ...       103        87        56         0         0         0   \n",
       "1          0  ...        34         0         0         0         0         0   \n",
       "2         99  ...         0         0         0         0        63        53   \n",
       "3          0  ...       137       126       140         0       133       224   \n",
       "4          0  ...         0         0         0         0         0         0   \n",
       "...      ...  ...       ...       ...       ...       ...       ...       ...   \n",
       "9995       0  ...        32        23        14        20         0         0   \n",
       "9996       0  ...         0         0         0         2        52        23   \n",
       "9997       0  ...       175       172       172       182       199       222   \n",
       "9998       0  ...         0         0         0         0         0         1   \n",
       "9999     119  ...       111        95        75        44         1         0   \n",
       "\n",
       "      pixel781  pixel782  pixel783  pixel784  \n",
       "0            0         0         0         0  \n",
       "1            0         0         0         0  \n",
       "2           31         0         0         0  \n",
       "3          222        56         0         0  \n",
       "4            0         0         0         0  \n",
       "...        ...       ...       ...       ...  \n",
       "9995         1         0         0         0  \n",
       "9996        28         0         0         0  \n",
       "9997        42         0         1         0  \n",
       "9998         0         0         0         0  \n",
       "9999         0         0         0         0  \n",
       "\n",
       "[10000 rows x 785 columns]"
      ]
     },
     "execution_count": 4,
     "metadata": {},
     "output_type": "execute_result"
    }
   ],
   "source": [
    "# test dataset\n",
    "test"
   ]
  },
  {
   "cell_type": "code",
   "execution_count": 5,
   "id": "732c394f",
   "metadata": {
    "execution": {
     "iopub.execute_input": "2022-09-21T20:05:01.017069Z",
     "iopub.status.busy": "2022-09-21T20:05:01.016173Z",
     "iopub.status.idle": "2022-09-21T20:05:01.221448Z",
     "shell.execute_reply": "2022-09-21T20:05:01.220334Z"
    },
    "papermill": {
     "duration": 0.224749,
     "end_time": "2022-09-21T20:05:01.224028",
     "exception": false,
     "start_time": "2022-09-21T20:05:00.999279",
     "status": "completed"
    },
    "tags": []
   },
   "outputs": [
    {
     "data": {
      "text/html": [
       "<div>\n",
       "<style scoped>\n",
       "    .dataframe tbody tr th:only-of-type {\n",
       "        vertical-align: middle;\n",
       "    }\n",
       "\n",
       "    .dataframe tbody tr th {\n",
       "        vertical-align: top;\n",
       "    }\n",
       "\n",
       "    .dataframe thead th {\n",
       "        text-align: right;\n",
       "    }\n",
       "</style>\n",
       "<table border=\"1\" class=\"dataframe\">\n",
       "  <thead>\n",
       "    <tr style=\"text-align: right;\">\n",
       "      <th></th>\n",
       "      <th>pixel1</th>\n",
       "      <th>pixel2</th>\n",
       "      <th>pixel3</th>\n",
       "      <th>pixel4</th>\n",
       "      <th>pixel5</th>\n",
       "      <th>pixel6</th>\n",
       "      <th>pixel7</th>\n",
       "      <th>pixel8</th>\n",
       "      <th>pixel9</th>\n",
       "      <th>pixel10</th>\n",
       "      <th>...</th>\n",
       "      <th>pixel775</th>\n",
       "      <th>pixel776</th>\n",
       "      <th>pixel777</th>\n",
       "      <th>pixel778</th>\n",
       "      <th>pixel779</th>\n",
       "      <th>pixel780</th>\n",
       "      <th>pixel781</th>\n",
       "      <th>pixel782</th>\n",
       "      <th>pixel783</th>\n",
       "      <th>pixel784</th>\n",
       "    </tr>\n",
       "  </thead>\n",
       "  <tbody>\n",
       "    <tr>\n",
       "      <th>0</th>\n",
       "      <td>0</td>\n",
       "      <td>0</td>\n",
       "      <td>0</td>\n",
       "      <td>0</td>\n",
       "      <td>0</td>\n",
       "      <td>0</td>\n",
       "      <td>0</td>\n",
       "      <td>0</td>\n",
       "      <td>0</td>\n",
       "      <td>0</td>\n",
       "      <td>...</td>\n",
       "      <td>0</td>\n",
       "      <td>0</td>\n",
       "      <td>0</td>\n",
       "      <td>0</td>\n",
       "      <td>0</td>\n",
       "      <td>0</td>\n",
       "      <td>0</td>\n",
       "      <td>0</td>\n",
       "      <td>0</td>\n",
       "      <td>0</td>\n",
       "    </tr>\n",
       "    <tr>\n",
       "      <th>1</th>\n",
       "      <td>0</td>\n",
       "      <td>0</td>\n",
       "      <td>0</td>\n",
       "      <td>0</td>\n",
       "      <td>0</td>\n",
       "      <td>0</td>\n",
       "      <td>0</td>\n",
       "      <td>0</td>\n",
       "      <td>0</td>\n",
       "      <td>0</td>\n",
       "      <td>...</td>\n",
       "      <td>0</td>\n",
       "      <td>0</td>\n",
       "      <td>0</td>\n",
       "      <td>0</td>\n",
       "      <td>0</td>\n",
       "      <td>0</td>\n",
       "      <td>0</td>\n",
       "      <td>0</td>\n",
       "      <td>0</td>\n",
       "      <td>0</td>\n",
       "    </tr>\n",
       "    <tr>\n",
       "      <th>2</th>\n",
       "      <td>0</td>\n",
       "      <td>0</td>\n",
       "      <td>0</td>\n",
       "      <td>0</td>\n",
       "      <td>0</td>\n",
       "      <td>0</td>\n",
       "      <td>0</td>\n",
       "      <td>5</td>\n",
       "      <td>0</td>\n",
       "      <td>0</td>\n",
       "      <td>...</td>\n",
       "      <td>0</td>\n",
       "      <td>0</td>\n",
       "      <td>0</td>\n",
       "      <td>30</td>\n",
       "      <td>43</td>\n",
       "      <td>0</td>\n",
       "      <td>0</td>\n",
       "      <td>0</td>\n",
       "      <td>0</td>\n",
       "      <td>0</td>\n",
       "    </tr>\n",
       "    <tr>\n",
       "      <th>3</th>\n",
       "      <td>0</td>\n",
       "      <td>0</td>\n",
       "      <td>0</td>\n",
       "      <td>1</td>\n",
       "      <td>2</td>\n",
       "      <td>0</td>\n",
       "      <td>0</td>\n",
       "      <td>0</td>\n",
       "      <td>0</td>\n",
       "      <td>0</td>\n",
       "      <td>...</td>\n",
       "      <td>3</td>\n",
       "      <td>0</td>\n",
       "      <td>0</td>\n",
       "      <td>0</td>\n",
       "      <td>0</td>\n",
       "      <td>1</td>\n",
       "      <td>0</td>\n",
       "      <td>0</td>\n",
       "      <td>0</td>\n",
       "      <td>0</td>\n",
       "    </tr>\n",
       "    <tr>\n",
       "      <th>4</th>\n",
       "      <td>0</td>\n",
       "      <td>0</td>\n",
       "      <td>0</td>\n",
       "      <td>0</td>\n",
       "      <td>0</td>\n",
       "      <td>0</td>\n",
       "      <td>0</td>\n",
       "      <td>0</td>\n",
       "      <td>0</td>\n",
       "      <td>0</td>\n",
       "      <td>...</td>\n",
       "      <td>0</td>\n",
       "      <td>0</td>\n",
       "      <td>0</td>\n",
       "      <td>0</td>\n",
       "      <td>0</td>\n",
       "      <td>0</td>\n",
       "      <td>0</td>\n",
       "      <td>0</td>\n",
       "      <td>0</td>\n",
       "      <td>0</td>\n",
       "    </tr>\n",
       "    <tr>\n",
       "      <th>...</th>\n",
       "      <td>...</td>\n",
       "      <td>...</td>\n",
       "      <td>...</td>\n",
       "      <td>...</td>\n",
       "      <td>...</td>\n",
       "      <td>...</td>\n",
       "      <td>...</td>\n",
       "      <td>...</td>\n",
       "      <td>...</td>\n",
       "      <td>...</td>\n",
       "      <td>...</td>\n",
       "      <td>...</td>\n",
       "      <td>...</td>\n",
       "      <td>...</td>\n",
       "      <td>...</td>\n",
       "      <td>...</td>\n",
       "      <td>...</td>\n",
       "      <td>...</td>\n",
       "      <td>...</td>\n",
       "      <td>...</td>\n",
       "      <td>...</td>\n",
       "    </tr>\n",
       "    <tr>\n",
       "      <th>59995</th>\n",
       "      <td>0</td>\n",
       "      <td>0</td>\n",
       "      <td>0</td>\n",
       "      <td>0</td>\n",
       "      <td>0</td>\n",
       "      <td>0</td>\n",
       "      <td>0</td>\n",
       "      <td>0</td>\n",
       "      <td>0</td>\n",
       "      <td>0</td>\n",
       "      <td>...</td>\n",
       "      <td>0</td>\n",
       "      <td>0</td>\n",
       "      <td>0</td>\n",
       "      <td>0</td>\n",
       "      <td>0</td>\n",
       "      <td>0</td>\n",
       "      <td>0</td>\n",
       "      <td>0</td>\n",
       "      <td>0</td>\n",
       "      <td>0</td>\n",
       "    </tr>\n",
       "    <tr>\n",
       "      <th>59996</th>\n",
       "      <td>0</td>\n",
       "      <td>0</td>\n",
       "      <td>0</td>\n",
       "      <td>0</td>\n",
       "      <td>0</td>\n",
       "      <td>0</td>\n",
       "      <td>0</td>\n",
       "      <td>0</td>\n",
       "      <td>0</td>\n",
       "      <td>0</td>\n",
       "      <td>...</td>\n",
       "      <td>73</td>\n",
       "      <td>0</td>\n",
       "      <td>0</td>\n",
       "      <td>0</td>\n",
       "      <td>0</td>\n",
       "      <td>0</td>\n",
       "      <td>0</td>\n",
       "      <td>0</td>\n",
       "      <td>0</td>\n",
       "      <td>0</td>\n",
       "    </tr>\n",
       "    <tr>\n",
       "      <th>59997</th>\n",
       "      <td>0</td>\n",
       "      <td>0</td>\n",
       "      <td>0</td>\n",
       "      <td>0</td>\n",
       "      <td>0</td>\n",
       "      <td>0</td>\n",
       "      <td>0</td>\n",
       "      <td>0</td>\n",
       "      <td>0</td>\n",
       "      <td>0</td>\n",
       "      <td>...</td>\n",
       "      <td>160</td>\n",
       "      <td>162</td>\n",
       "      <td>163</td>\n",
       "      <td>135</td>\n",
       "      <td>94</td>\n",
       "      <td>0</td>\n",
       "      <td>0</td>\n",
       "      <td>0</td>\n",
       "      <td>0</td>\n",
       "      <td>0</td>\n",
       "    </tr>\n",
       "    <tr>\n",
       "      <th>59998</th>\n",
       "      <td>0</td>\n",
       "      <td>0</td>\n",
       "      <td>0</td>\n",
       "      <td>0</td>\n",
       "      <td>0</td>\n",
       "      <td>0</td>\n",
       "      <td>0</td>\n",
       "      <td>0</td>\n",
       "      <td>0</td>\n",
       "      <td>0</td>\n",
       "      <td>...</td>\n",
       "      <td>0</td>\n",
       "      <td>0</td>\n",
       "      <td>0</td>\n",
       "      <td>0</td>\n",
       "      <td>0</td>\n",
       "      <td>0</td>\n",
       "      <td>0</td>\n",
       "      <td>0</td>\n",
       "      <td>0</td>\n",
       "      <td>0</td>\n",
       "    </tr>\n",
       "    <tr>\n",
       "      <th>59999</th>\n",
       "      <td>0</td>\n",
       "      <td>0</td>\n",
       "      <td>0</td>\n",
       "      <td>0</td>\n",
       "      <td>0</td>\n",
       "      <td>0</td>\n",
       "      <td>0</td>\n",
       "      <td>0</td>\n",
       "      <td>0</td>\n",
       "      <td>0</td>\n",
       "      <td>...</td>\n",
       "      <td>0</td>\n",
       "      <td>0</td>\n",
       "      <td>0</td>\n",
       "      <td>0</td>\n",
       "      <td>0</td>\n",
       "      <td>0</td>\n",
       "      <td>0</td>\n",
       "      <td>0</td>\n",
       "      <td>0</td>\n",
       "      <td>0</td>\n",
       "    </tr>\n",
       "  </tbody>\n",
       "</table>\n",
       "<p>60000 rows × 784 columns</p>\n",
       "</div>"
      ],
      "text/plain": [
       "       pixel1  pixel2  pixel3  pixel4  pixel5  pixel6  pixel7  pixel8  pixel9  \\\n",
       "0           0       0       0       0       0       0       0       0       0   \n",
       "1           0       0       0       0       0       0       0       0       0   \n",
       "2           0       0       0       0       0       0       0       5       0   \n",
       "3           0       0       0       1       2       0       0       0       0   \n",
       "4           0       0       0       0       0       0       0       0       0   \n",
       "...       ...     ...     ...     ...     ...     ...     ...     ...     ...   \n",
       "59995       0       0       0       0       0       0       0       0       0   \n",
       "59996       0       0       0       0       0       0       0       0       0   \n",
       "59997       0       0       0       0       0       0       0       0       0   \n",
       "59998       0       0       0       0       0       0       0       0       0   \n",
       "59999       0       0       0       0       0       0       0       0       0   \n",
       "\n",
       "       pixel10  ...  pixel775  pixel776  pixel777  pixel778  pixel779  \\\n",
       "0            0  ...         0         0         0         0         0   \n",
       "1            0  ...         0         0         0         0         0   \n",
       "2            0  ...         0         0         0        30        43   \n",
       "3            0  ...         3         0         0         0         0   \n",
       "4            0  ...         0         0         0         0         0   \n",
       "...        ...  ...       ...       ...       ...       ...       ...   \n",
       "59995        0  ...         0         0         0         0         0   \n",
       "59996        0  ...        73         0         0         0         0   \n",
       "59997        0  ...       160       162       163       135        94   \n",
       "59998        0  ...         0         0         0         0         0   \n",
       "59999        0  ...         0         0         0         0         0   \n",
       "\n",
       "       pixel780  pixel781  pixel782  pixel783  pixel784  \n",
       "0             0         0         0         0         0  \n",
       "1             0         0         0         0         0  \n",
       "2             0         0         0         0         0  \n",
       "3             1         0         0         0         0  \n",
       "4             0         0         0         0         0  \n",
       "...         ...       ...       ...       ...       ...  \n",
       "59995         0         0         0         0         0  \n",
       "59996         0         0         0         0         0  \n",
       "59997         0         0         0         0         0  \n",
       "59998         0         0         0         0         0  \n",
       "59999         0         0         0         0         0  \n",
       "\n",
       "[60000 rows x 784 columns]"
      ]
     },
     "execution_count": 5,
     "metadata": {},
     "output_type": "execute_result"
    }
   ],
   "source": [
    "# I removed the label column because I don't need it.\n",
    "x_train = train.drop(labels = [\"label\"], axis = 1)\n",
    "x_test = test.drop(labels = [\"label\"], axis = 1)\n",
    "x_train"
   ]
  },
  {
   "cell_type": "code",
   "execution_count": 6,
   "id": "ed9c8b74",
   "metadata": {
    "execution": {
     "iopub.execute_input": "2022-09-21T20:05:01.257284Z",
     "iopub.status.busy": "2022-09-21T20:05:01.256831Z",
     "iopub.status.idle": "2022-09-21T20:05:01.493563Z",
     "shell.execute_reply": "2022-09-21T20:05:01.492605Z"
    },
    "papermill": {
     "duration": 0.256646,
     "end_time": "2022-09-21T20:05:01.496330",
     "exception": false,
     "start_time": "2022-09-21T20:05:01.239684",
     "status": "completed"
    },
    "tags": []
   },
   "outputs": [],
   "source": [
    "# I changed the type of dataset.\n",
    "# I normalize the data by dividing by 255.0.\n",
    "x_train = x_train.astype(\"float32\") / 255.0\n",
    "x_test = x_test.astype(\"float32\") / 255.0"
   ]
  },
  {
   "cell_type": "code",
   "execution_count": 7,
   "id": "89fad6ab",
   "metadata": {
    "execution": {
     "iopub.execute_input": "2022-09-21T20:05:01.530661Z",
     "iopub.status.busy": "2022-09-21T20:05:01.530203Z",
     "iopub.status.idle": "2022-09-21T20:05:01.661795Z",
     "shell.execute_reply": "2022-09-21T20:05:01.660154Z"
    },
    "papermill": {
     "duration": 0.152925,
     "end_time": "2022-09-21T20:05:01.665953",
     "exception": false,
     "start_time": "2022-09-21T20:05:01.513028",
     "status": "completed"
    },
    "tags": []
   },
   "outputs": [
    {
     "data": {
      "image/png": "[encoded data removed]",
      "text/plain": [
       "<Figure size 432x288 with 1 Axes>"
      ]
     },
     "metadata": {
      "needs_background": "light"
     },
     "output_type": "display_data"
    }
   ],
   "source": [
    "# I visualized some image within the dataset.\n",
    "img = x_train.iloc[45000].to_numpy()\n",
    "img = img.reshape((28,28))\n",
    "plt.imshow(img)\n",
    "plt.axis(\"off\")\n",
    "plt.show()"
   ]
  },
  {
   "cell_type": "code",
   "execution_count": 8,
   "id": "08390807",
   "metadata": {
    "execution": {
     "iopub.execute_input": "2022-09-21T20:05:01.711214Z",
     "iopub.status.busy": "2022-09-21T20:05:01.709975Z",
     "iopub.status.idle": "2022-09-21T20:05:01.805447Z",
     "shell.execute_reply": "2022-09-21T20:05:01.803838Z"
    },
    "papermill": {
     "duration": 0.116752,
     "end_time": "2022-09-21T20:05:01.809606",
     "exception": false,
     "start_time": "2022-09-21T20:05:01.692854",
     "status": "completed"
    },
    "tags": []
   },
   "outputs": [
    {
     "data": {
      "image/png": "[encoded data removed]",
      "text/plain": [
       "<Figure size 432x288 with 1 Axes>"
      ]
     },
     "metadata": {
      "needs_background": "light"
     },
     "output_type": "display_data"
    }
   ],
   "source": [
    "# I visualized some image within the dataset.\n",
    "img = x_train.iloc[19246].to_numpy()\n",
    "img = img.reshape((28,28))\n",
    "plt.imshow(img)\n",
    "plt.axis(\"off\")\n",
    "plt.show()"
   ]
  },
  {
   "cell_type": "markdown",
   "id": "66716e9e",
   "metadata": {
    "papermill": {
     "duration": 0.016791,
     "end_time": "2022-09-21T20:05:01.867805",
     "exception": false,
     "start_time": "2022-09-21T20:05:01.851014",
     "status": "completed"
    },
    "tags": []
   },
   "source": [
    "# Autoencoders <a id = \"1\"></a>\n",
    "[Go Content](#cont)\n",
    "\n",
    "**What is the Autoencoders?**\n",
    "\n",
    "Autoencoders are neural networks. Neural networks are composed of multiple layers, and the defining aspect of an autoencoder is that the input layers contain exactly as much information as the output layer. The reason that the input layer and output layer has the exact same number of units is that an autoencoder aims to replicate the input data. It outputs a copy of the data after analyzing it and reconstructing it in an unsupervised fashion.\n",
    "\n",
    "If You want more information about Autoencoders, [click here](https://www.unite.ai/what-is-an-autoencoder/)\n",
    "\n",
    "**Autoencoders' Structure** <br>\n",
    "![Autoencoders' Structure](https://www.jeremyjordan.me/content/images/2018/03/Screen-Shot-2018-03-07-at-8.24.37-AM.png)"
   ]
  },
  {
   "cell_type": "markdown",
   "id": "e120af0c",
   "metadata": {
    "papermill": {
     "duration": 0.016075,
     "end_time": "2022-09-21T20:05:01.900105",
     "exception": false,
     "start_time": "2022-09-21T20:05:01.884030",
     "status": "completed"
    },
    "tags": []
   },
   "source": [
    "## The Simple Autoencoders <a id = \"1a\"></a>\n",
    "[Go Content](#cont)\n",
    "\n",
    "In this chapter, I created a basic Autoencoders model and I made to train with this model. I visualized the results of simple autoencoders."
   ]
  },
  {
   "cell_type": "markdown",
   "id": "af9fbaa2",
   "metadata": {
    "papermill": {
     "duration": 0.015783,
     "end_time": "2022-09-21T20:05:01.932123",
     "exception": false,
     "start_time": "2022-09-21T20:05:01.916340",
     "status": "completed"
    },
    "tags": []
   },
   "source": [
    "### Create Model <a id = \"1a1\"></a>\n",
    "[Go Content](#cont)\n",
    "\n",
    "I created the model in the below code."
   ]
  },
  {
   "cell_type": "code",
   "execution_count": 9,
   "id": "78be9882",
   "metadata": {
    "execution": {
     "iopub.execute_input": "2022-09-21T20:05:01.966022Z",
     "iopub.status.busy": "2022-09-21T20:05:01.965306Z",
     "iopub.status.idle": "2022-09-21T20:05:02.267677Z",
     "shell.execute_reply": "2022-09-21T20:05:02.266518Z"
    },
    "papermill": {
     "duration": 0.322407,
     "end_time": "2022-09-21T20:05:02.270295",
     "exception": false,
     "start_time": "2022-09-21T20:05:01.947888",
     "status": "completed"
    },
    "tags": []
   },
   "outputs": [
    {
     "name": "stderr",
     "output_type": "stream",
     "text": [
      "2022-09-21 20:05:02.013845: I tensorflow/core/common_runtime/process_util.cc:146] Creating new thread pool with default inter op setting: 2. Tune using inter_op_parallelism_threads for best performance.\n"
     ]
    }
   ],
   "source": [
    "input_img = Input(shape = (784,))\n",
    "\n",
    "encoded0 = Dense(32, activation = \"relu\")(input_img)\n",
    "\n",
    "encoded1 = Dense(16, activation = \"relu\")(encoded0)\n",
    "\n",
    "decoded0 = Dense(32, activation = \"relu\")(encoded1)\n",
    "\n",
    "decoded1 = Dense(784, activation = \"sigmoid\")(decoded0)\n",
    "\n",
    "sim_autoencoder = Model(input_img, decoded1)\n",
    "\n",
    "sim_autoencoder.compile(optimizer = \"rmsprop\", loss = \"binary_crossentropy\")"
   ]
  },
  {
   "cell_type": "code",
   "execution_count": 10,
   "id": "bc2f7628",
   "metadata": {
    "execution": {
     "iopub.execute_input": "2022-09-21T20:05:02.304117Z",
     "iopub.status.busy": "2022-09-21T20:05:02.303671Z",
     "iopub.status.idle": "2022-09-21T20:05:02.310695Z",
     "shell.execute_reply": "2022-09-21T20:05:02.309433Z"
    },
    "papermill": {
     "duration": 0.026828,
     "end_time": "2022-09-21T20:05:02.313311",
     "exception": false,
     "start_time": "2022-09-21T20:05:02.286483",
     "status": "completed"
    },
    "tags": []
   },
   "outputs": [
    {
     "name": "stdout",
     "output_type": "stream",
     "text": [
      "Model: \"model\"\n",
      "_________________________________________________________________\n",
      "Layer (type)                 Output Shape              Param #   \n",
      "=================================================================\n",
      "input_1 (InputLayer)         [(None, 784)]             0         \n",
      "_________________________________________________________________\n",
      "dense (Dense)                (None, 32)                25120     \n",
      "_________________________________________________________________\n",
      "dense_1 (Dense)              (None, 16)                528       \n",
      "_________________________________________________________________\n",
      "dense_2 (Dense)              (None, 32)                544       \n",
      "_________________________________________________________________\n",
      "dense_3 (Dense)              (None, 784)               25872     \n",
      "=================================================================\n",
      "Total params: 52,064\n",
      "Trainable params: 52,064\n",
      "Non-trainable params: 0\n",
      "_________________________________________________________________\n"
     ]
    }
   ],
   "source": [
    "# Structure of Model\n",
    "sim_autoencoder.summary()"
   ]
  },
  {
   "cell_type": "markdown",
   "id": "a0cb35c9",
   "metadata": {
    "papermill": {
     "duration": 0.015789,
     "end_time": "2022-09-21T20:05:02.345071",
     "exception": false,
     "start_time": "2022-09-21T20:05:02.329282",
     "status": "completed"
    },
    "tags": []
   },
   "source": [
    "### Train Model <a id = \"1a2\"></a>\n",
    "[Go Content](#cont)\n",
    "\n",
    "In this chapter, I am training with the model."
   ]
  },
  {
   "cell_type": "code",
   "execution_count": 11,
   "id": "dc0916a7",
   "metadata": {
    "execution": {
     "iopub.execute_input": "2022-09-21T20:05:02.380224Z",
     "iopub.status.busy": "2022-09-21T20:05:02.378795Z",
     "iopub.status.idle": "2022-09-21T20:11:26.467223Z",
     "shell.execute_reply": "2022-09-21T20:11:26.465091Z"
    },
    "papermill": {
     "duration": 384.109359,
     "end_time": "2022-09-21T20:11:26.470775",
     "exception": false,
     "start_time": "2022-09-21T20:05:02.361416",
     "status": "completed"
    },
    "tags": []
   },
   "outputs": [
    {
     "name": "stderr",
     "output_type": "stream",
     "text": [
      "2022-09-21 20:05:03.670320: I tensorflow/compiler/mlir/mlir_graph_optimization_pass.cc:185] None of the MLIR Optimization Passes are enabled (registered 2)\n"
     ]
    },
    {
     "name": "stdout",
     "output_type": "stream",
     "text": [
      "Epoch 1/100\n",
      "235/235 [==============================] - 9s 32ms/step - loss: 0.4178 - val_loss: 0.3571\n",
      "Epoch 2/100\n",
      "235/235 [==============================] - 4s 18ms/step - loss: 0.3411 - val_loss: 0.3298\n",
      "Epoch 3/100\n",
      "235/235 [==============================] - 4s 17ms/step - loss: 0.3250 - val_loss: 0.3195\n",
      "Epoch 4/100\n",
      "235/235 [==============================] - 3s 14ms/step - loss: 0.3192 - val_loss: 0.3160\n",
      "Epoch 5/100\n",
      "235/235 [==============================] - 3s 13ms/step - loss: 0.3154 - val_loss: 0.3148\n",
      "Epoch 6/100\n",
      "235/235 [==============================] - 3s 13ms/step - loss: 0.3124 - val_loss: 0.3123\n",
      "Epoch 7/100\n",
      "235/235 [==============================] - 3s 14ms/step - loss: 0.3099 - val_loss: 0.3090\n",
      "Epoch 8/100\n",
      "235/235 [==============================] - 3s 14ms/step - loss: 0.3078 - val_loss: 0.3080\n",
      "Epoch 9/100\n",
      "235/235 [==============================] - 3s 13ms/step - loss: 0.3061 - val_loss: 0.3053\n",
      "Epoch 10/100\n",
      "235/235 [==============================] - 3s 13ms/step - loss: 0.3047 - val_loss: 0.3066\n",
      "Epoch 11/100\n",
      "235/235 [==============================] - 3s 13ms/step - loss: 0.3036 - val_loss: 0.3030\n",
      "Epoch 12/100\n",
      "235/235 [==============================] - 3s 14ms/step - loss: 0.3025 - val_loss: 0.3020\n",
      "Epoch 13/100\n",
      "235/235 [==============================] - 3s 14ms/step - loss: 0.3016 - val_loss: 0.3015\n",
      "Epoch 14/100\n",
      "235/235 [==============================] - 3s 13ms/step - loss: 0.3007 - val_loss: 0.3005\n",
      "Epoch 15/100\n",
      "235/235 [==============================] - 3s 13ms/step - loss: 0.3000 - val_loss: 0.3001\n",
      "Epoch 16/100\n",
      "235/235 [==============================] - 3s 13ms/step - loss: 0.2992 - val_loss: 0.3001\n",
      "Epoch 17/100\n",
      "235/235 [==============================] - 3s 13ms/step - loss: 0.2986 - val_loss: 0.2974\n",
      "Epoch 18/100\n",
      "235/235 [==============================] - 3s 14ms/step - loss: 0.2981 - val_loss: 0.3002\n",
      "Epoch 19/100\n",
      "235/235 [==============================] - 3s 13ms/step - loss: 0.2976 - val_loss: 0.2963\n",
      "Epoch 20/100\n",
      "235/235 [==============================] - 3s 13ms/step - loss: 0.2971 - val_loss: 0.2973\n",
      "Epoch 21/100\n",
      "235/235 [==============================] - 3s 13ms/step - loss: 0.2967 - val_loss: 0.2964\n",
      "Epoch 22/100\n",
      "235/235 [==============================] - 3s 14ms/step - loss: 0.2963 - val_loss: 0.2959\n",
      "Epoch 23/100\n",
      "235/235 [==============================] - 3s 14ms/step - loss: 0.2958 - val_loss: 0.2954\n",
      "Epoch 24/100\n",
      "235/235 [==============================] - 3s 13ms/step - loss: 0.2955 - val_loss: 0.2950\n",
      "Epoch 25/100\n",
      "235/235 [==============================] - 3s 14ms/step - loss: 0.2952 - val_loss: 0.2947\n",
      "Epoch 26/100\n",
      "235/235 [==============================] - 3s 13ms/step - loss: 0.2949 - val_loss: 0.2946\n",
      "Epoch 27/100\n",
      "235/235 [==============================] - 3s 13ms/step - loss: 0.2946 - val_loss: 0.2945\n",
      "Epoch 28/100\n",
      "235/235 [==============================] - 3s 13ms/step - loss: 0.2943 - val_loss: 0.2953\n",
      "Epoch 29/100\n",
      "235/235 [==============================] - 3s 13ms/step - loss: 0.2941 - val_loss: 0.2946\n",
      "Epoch 30/100\n",
      "235/235 [==============================] - 3s 13ms/step - loss: 0.2938 - val_loss: 0.2936\n",
      "Epoch 31/100\n",
      "235/235 [==============================] - 3s 13ms/step - loss: 0.2936 - val_loss: 0.2940\n",
      "Epoch 32/100\n",
      "235/235 [==============================] - 3s 15ms/step - loss: 0.2934 - val_loss: 0.2938\n",
      "Epoch 33/100\n",
      "235/235 [==============================] - 3s 14ms/step - loss: 0.2932 - val_loss: 0.2927\n",
      "Epoch 34/100\n",
      "235/235 [==============================] - 3s 13ms/step - loss: 0.2930 - val_loss: 0.2943\n",
      "Epoch 35/100\n",
      "235/235 [==============================] - 3s 13ms/step - loss: 0.2928 - val_loss: 0.2932\n",
      "Epoch 36/100\n",
      "235/235 [==============================] - 3s 13ms/step - loss: 0.2926 - val_loss: 0.2930\n",
      "Epoch 37/100\n",
      "235/235 [==============================] - 3s 13ms/step - loss: 0.2924 - val_loss: 0.2928\n",
      "Epoch 38/100\n",
      "235/235 [==============================] - 3s 13ms/step - loss: 0.2923 - val_loss: 0.2934\n",
      "Epoch 39/100\n",
      "235/235 [==============================] - 3s 14ms/step - loss: 0.2921 - val_loss: 0.2915\n",
      "Epoch 40/100\n",
      "235/235 [==============================] - 3s 13ms/step - loss: 0.2920 - val_loss: 0.2927\n",
      "Epoch 41/100\n",
      "235/235 [==============================] - 3s 13ms/step - loss: 0.2918 - val_loss: 0.2915\n",
      "Epoch 42/100\n",
      "235/235 [==============================] - 4s 16ms/step - loss: 0.2917 - val_loss: 0.2921\n",
      "Epoch 43/100\n",
      "235/235 [==============================] - 3s 13ms/step - loss: 0.2915 - val_loss: 0.2915\n",
      "Epoch 44/100\n",
      "235/235 [==============================] - 3s 13ms/step - loss: 0.2914 - val_loss: 0.2920\n",
      "Epoch 45/100\n",
      "235/235 [==============================] - 3s 13ms/step - loss: 0.2913 - val_loss: 0.2923\n",
      "Epoch 46/100\n",
      "235/235 [==============================] - 3s 13ms/step - loss: 0.2911 - val_loss: 0.2918\n",
      "Epoch 47/100\n",
      "235/235 [==============================] - 3s 13ms/step - loss: 0.2910 - val_loss: 0.2911\n",
      "Epoch 48/100\n",
      "235/235 [==============================] - 3s 13ms/step - loss: 0.2909 - val_loss: 0.2910\n",
      "Epoch 49/100\n",
      "235/235 [==============================] - 3s 13ms/step - loss: 0.2908 - val_loss: 0.2908\n",
      "Epoch 50/100\n",
      "235/235 [==============================] - 3s 13ms/step - loss: 0.2907 - val_loss: 0.2903\n",
      "Epoch 51/100\n",
      "235/235 [==============================] - 3s 13ms/step - loss: 0.2906 - val_loss: 0.2908\n",
      "Epoch 52/100\n",
      "235/235 [==============================] - 3s 15ms/step - loss: 0.2905 - val_loss: 0.2907\n",
      "Epoch 53/100\n",
      "235/235 [==============================] - 3s 14ms/step - loss: 0.2904 - val_loss: 0.2904\n",
      "Epoch 54/100\n",
      "235/235 [==============================] - 3s 13ms/step - loss: 0.2904 - val_loss: 0.2902\n",
      "Epoch 55/100\n",
      "235/235 [==============================] - 3s 14ms/step - loss: 0.2903 - val_loss: 0.2908\n",
      "Epoch 56/100\n",
      "235/235 [==============================] - 3s 13ms/step - loss: 0.2902 - val_loss: 0.2901\n",
      "Epoch 57/100\n",
      "235/235 [==============================] - 3s 13ms/step - loss: 0.2901 - val_loss: 0.2903\n",
      "Epoch 58/100\n",
      "235/235 [==============================] - 3s 13ms/step - loss: 0.2900 - val_loss: 0.2901\n",
      "Epoch 59/100\n",
      "235/235 [==============================] - 3s 13ms/step - loss: 0.2900 - val_loss: 0.2902\n",
      "Epoch 60/100\n",
      "235/235 [==============================] - 3s 13ms/step - loss: 0.2899 - val_loss: 0.2897\n",
      "Epoch 61/100\n",
      "235/235 [==============================] - 3s 13ms/step - loss: 0.2898 - val_loss: 0.2905\n",
      "Epoch 62/100\n",
      "235/235 [==============================] - 4s 15ms/step - loss: 0.2897 - val_loss: 0.2901\n",
      "Epoch 63/100\n",
      "235/235 [==============================] - 3s 14ms/step - loss: 0.2897 - val_loss: 0.2898\n",
      "Epoch 64/100\n",
      "235/235 [==============================] - 3s 13ms/step - loss: 0.2896 - val_loss: 0.2901\n",
      "Epoch 65/100\n",
      "235/235 [==============================] - 3s 13ms/step - loss: 0.2895 - val_loss: 0.2894\n",
      "Epoch 66/100\n",
      "235/235 [==============================] - 3s 14ms/step - loss: 0.2895 - val_loss: 0.2895\n",
      "Epoch 67/100\n",
      "235/235 [==============================] - 3s 13ms/step - loss: 0.2894 - val_loss: 0.2893\n",
      "Epoch 68/100\n",
      "235/235 [==============================] - 3s 13ms/step - loss: 0.2894 - val_loss: 0.2894\n",
      "Epoch 69/100\n",
      "235/235 [==============================] - 3s 13ms/step - loss: 0.2893 - val_loss: 0.2901\n",
      "Epoch 70/100\n",
      "235/235 [==============================] - 3s 14ms/step - loss: 0.2893 - val_loss: 0.2900\n",
      "Epoch 71/100\n",
      "235/235 [==============================] - 3s 14ms/step - loss: 0.2892 - val_loss: 0.2897\n",
      "Epoch 72/100\n",
      "235/235 [==============================] - 4s 16ms/step - loss: 0.2892 - val_loss: 0.2881\n",
      "Epoch 73/100\n",
      "235/235 [==============================] - 3s 13ms/step - loss: 0.2891 - val_loss: 0.2887\n",
      "Epoch 74/100\n",
      "235/235 [==============================] - 3s 14ms/step - loss: 0.2890 - val_loss: 0.2888\n",
      "Epoch 75/100\n",
      "235/235 [==============================] - 3s 13ms/step - loss: 0.2890 - val_loss: 0.2885\n",
      "Epoch 76/100\n",
      "235/235 [==============================] - 3s 13ms/step - loss: 0.2889 - val_loss: 0.2892\n",
      "Epoch 77/100\n",
      "235/235 [==============================] - 3s 14ms/step - loss: 0.2889 - val_loss: 0.2889\n",
      "Epoch 78/100\n",
      "235/235 [==============================] - 3s 13ms/step - loss: 0.2888 - val_loss: 0.2889\n",
      "Epoch 79/100\n",
      "235/235 [==============================] - 3s 13ms/step - loss: 0.2888 - val_loss: 0.2889\n",
      "Epoch 80/100\n",
      "235/235 [==============================] - 3s 14ms/step - loss: 0.2887 - val_loss: 0.2891\n",
      "Epoch 81/100\n",
      "235/235 [==============================] - 3s 13ms/step - loss: 0.2887 - val_loss: 0.2885\n",
      "Epoch 82/100\n",
      "235/235 [==============================] - 4s 16ms/step - loss: 0.2887 - val_loss: 0.2888\n",
      "Epoch 83/100\n",
      "235/235 [==============================] - 3s 13ms/step - loss: 0.2886 - val_loss: 0.2893\n",
      "Epoch 84/100\n",
      "235/235 [==============================] - 3s 14ms/step - loss: 0.2886 - val_loss: 0.2890\n",
      "Epoch 85/100\n",
      "235/235 [==============================] - 3s 13ms/step - loss: 0.2885 - val_loss: 0.2888\n",
      "Epoch 86/100\n",
      "235/235 [==============================] - 3s 13ms/step - loss: 0.2885 - val_loss: 0.2888\n",
      "Epoch 87/100\n",
      "235/235 [==============================] - 3s 14ms/step - loss: 0.2884 - val_loss: 0.2890\n",
      "Epoch 88/100\n",
      "235/235 [==============================] - 3s 13ms/step - loss: 0.2884 - val_loss: 0.2880\n",
      "Epoch 89/100\n",
      "235/235 [==============================] - 3s 13ms/step - loss: 0.2884 - val_loss: 0.2880\n",
      "Epoch 90/100\n",
      "235/235 [==============================] - 3s 13ms/step - loss: 0.2883 - val_loss: 0.2875\n",
      "Epoch 91/100\n",
      "235/235 [==============================] - 3s 13ms/step - loss: 0.2883 - val_loss: 0.2882\n",
      "Epoch 92/100\n",
      "235/235 [==============================] - 4s 16ms/step - loss: 0.2882 - val_loss: 0.2890\n",
      "Epoch 93/100\n",
      "235/235 [==============================] - 3s 13ms/step - loss: 0.2882 - val_loss: 0.2888\n",
      "Epoch 94/100\n",
      "235/235 [==============================] - 3s 14ms/step - loss: 0.2882 - val_loss: 0.2879\n",
      "Epoch 95/100\n",
      "235/235 [==============================] - 3s 13ms/step - loss: 0.2882 - val_loss: 0.2887\n",
      "Epoch 96/100\n",
      "235/235 [==============================] - 3s 13ms/step - loss: 0.2881 - val_loss: 0.2884\n",
      "Epoch 97/100\n",
      "235/235 [==============================] - 3s 13ms/step - loss: 0.2881 - val_loss: 0.2879\n",
      "Epoch 98/100\n",
      "235/235 [==============================] - 3s 13ms/step - loss: 0.2880 - val_loss: 0.2880\n",
      "Epoch 99/100\n",
      "235/235 [==============================] - 3s 13ms/step - loss: 0.2880 - val_loss: 0.2881\n",
      "Epoch 100/100\n",
      "235/235 [==============================] - 3s 13ms/step - loss: 0.2880 - val_loss: 0.2885\n"
     ]
    }
   ],
   "source": [
    "sim_hist = sim_autoencoder.fit(x_train, x_train,\n",
    "                      epochs = 100,\n",
    "                      batch_size = 256,\n",
    "                      shuffle = True,\n",
    "                      validation_data = (x_train, x_train))"
   ]
  },
  {
   "cell_type": "markdown",
   "id": "b4f4033d",
   "metadata": {
    "papermill": {
     "duration": 0.256444,
     "end_time": "2022-09-21T20:11:26.991436",
     "exception": false,
     "start_time": "2022-09-21T20:11:26.734992",
     "status": "completed"
    },
    "tags": []
   },
   "source": [
    "### Model Result Evaluation <a id = \"1a3\"></a>\n",
    "[Go Content](#cont)\n",
    "\n",
    "In this chapter, I visualized the result of simple autoencoders."
   ]
  },
  {
   "cell_type": "code",
   "execution_count": 12,
   "id": "435adb92",
   "metadata": {
    "execution": {
     "iopub.execute_input": "2022-09-21T20:11:27.593013Z",
     "iopub.status.busy": "2022-09-21T20:11:27.592140Z",
     "iopub.status.idle": "2022-09-21T20:11:27.847945Z",
     "shell.execute_reply": "2022-09-21T20:11:27.846815Z"
    },
    "papermill": {
     "duration": 0.594772,
     "end_time": "2022-09-21T20:11:27.850504",
     "exception": false,
     "start_time": "2022-09-21T20:11:27.255732",
     "status": "completed"
    },
    "tags": []
   },
   "outputs": [
    {
     "data": {
      "image/png": "[encoded data removed]",
      "text/plain": [
       "<Figure size 432x288 with 1 Axes>"
      ]
     },
     "metadata": {
      "needs_background": "light"
     },
     "output_type": "display_data"
    }
   ],
   "source": [
    "# Visualized the result of simple autoencoders\n",
    "plt.plot(sim_hist.history[\"loss\"], label = \"Train Loss\")\n",
    "plt.plot(sim_hist.history[\"val_loss\"], label = \"Validation Loss\")\n",
    "plt.legend()\n",
    "plt.show()"
   ]
  },
  {
   "cell_type": "markdown",
   "id": "e597f4ce",
   "metadata": {
    "papermill": {
     "duration": 0.257969,
     "end_time": "2022-09-21T20:11:28.368424",
     "exception": false,
     "start_time": "2022-09-21T20:11:28.110455",
     "status": "completed"
    },
    "tags": []
   },
   "source": [
    "### Save History <a id = \"1a4\"></a>\n",
    "[Go Content](#cont)\n",
    "\n",
    "In this chapter, I registered the result of simple autoencoders."
   ]
  },
  {
   "cell_type": "code",
   "execution_count": 13,
   "id": "a8ca04cf",
   "metadata": {
    "execution": {
     "iopub.execute_input": "2022-09-21T20:11:28.884485Z",
     "iopub.status.busy": "2022-09-21T20:11:28.884062Z",
     "iopub.status.idle": "2022-09-21T20:11:28.928880Z",
     "shell.execute_reply": "2022-09-21T20:11:28.927789Z"
    },
    "papermill": {
     "duration": 0.306564,
     "end_time": "2022-09-21T20:11:28.931704",
     "exception": false,
     "start_time": "2022-09-21T20:11:28.625140",
     "status": "completed"
    },
    "tags": []
   },
   "outputs": [],
   "source": [
    "# Registered the values(weight and bias) of simple autoencoders\n",
    "sim_autoencoder.save_weights(\"autoencoder_model.h5\")"
   ]
  },
  {
   "cell_type": "code",
   "execution_count": 14,
   "id": "0fc98897",
   "metadata": {
    "execution": {
     "iopub.execute_input": "2022-09-21T20:11:29.456556Z",
     "iopub.status.busy": "2022-09-21T20:11:29.456161Z",
     "iopub.status.idle": "2022-09-21T20:11:29.462109Z",
     "shell.execute_reply": "2022-09-21T20:11:29.461240Z"
    },
    "papermill": {
     "duration": 0.269182,
     "end_time": "2022-09-21T20:11:29.464205",
     "exception": false,
     "start_time": "2022-09-21T20:11:29.195023",
     "status": "completed"
    },
    "tags": []
   },
   "outputs": [],
   "source": [
    "# Registered the result of simple autoencoders\n",
    "with open(\"sim_autoencoder_hist.json\",\"w\") as f:\n",
    "    json.dump(sim_hist.history,f)"
   ]
  },
  {
   "cell_type": "markdown",
   "id": "c52d3e91",
   "metadata": {
    "papermill": {
     "duration": 0.25632,
     "end_time": "2022-09-21T20:11:29.977444",
     "exception": false,
     "start_time": "2022-09-21T20:11:29.721124",
     "status": "completed"
    },
    "tags": []
   },
   "source": [
    "### Load History <a id = \"1a5\"></a>\n",
    "[Go Content](#cont)\n",
    "\n",
    "I have uploaded the results I saved in this section."
   ]
  },
  {
   "cell_type": "code",
   "execution_count": 15,
   "id": "f835a096",
   "metadata": {
    "execution": {
     "iopub.execute_input": "2022-09-21T20:11:30.552612Z",
     "iopub.status.busy": "2022-09-21T20:11:30.551854Z",
     "iopub.status.idle": "2022-09-21T20:11:30.557103Z",
     "shell.execute_reply": "2022-09-21T20:11:30.556300Z"
    },
    "papermill": {
     "duration": 0.266699,
     "end_time": "2022-09-21T20:11:30.559267",
     "exception": false,
     "start_time": "2022-09-21T20:11:30.292568",
     "status": "completed"
    },
    "tags": []
   },
   "outputs": [],
   "source": [
    "# Load resut\n",
    "with codecs.open(\"sim_autoencoder_hist.json\", \"r\", encoding = \"utf-8\") as f:\n",
    "    load_hist = json.loads(f.read())"
   ]
  },
  {
   "cell_type": "code",
   "execution_count": 16,
   "id": "0da9f34d",
   "metadata": {
    "execution": {
     "iopub.execute_input": "2022-09-21T20:11:31.080377Z",
     "iopub.status.busy": "2022-09-21T20:11:31.079629Z",
     "iopub.status.idle": "2022-09-21T20:11:31.289224Z",
     "shell.execute_reply": "2022-09-21T20:11:31.288112Z"
    },
    "papermill": {
     "duration": 0.472108,
     "end_time": "2022-09-21T20:11:31.291777",
     "exception": false,
     "start_time": "2022-09-21T20:11:30.819669",
     "status": "completed"
    },
    "tags": []
   },
   "outputs": [
    {
     "data": {
      "image/png": "[encoded data removed]",
      "text/plain": [
       "<Figure size 432x288 with 1 Axes>"
      ]
     },
     "metadata": {
      "needs_background": "light"
     },
     "output_type": "display_data"
    }
   ],
   "source": [
    "# Visualize the results I saved\n",
    "plt.plot(load_hist[\"loss\"], label = \"Train Loss\")\n",
    "plt.plot(load_hist[\"val_loss\"], label = \"Validation Loss\")\n",
    "plt.legend()\n",
    "plt.show()"
   ]
  },
  {
   "cell_type": "markdown",
   "id": "8a966c21",
   "metadata": {
    "papermill": {
     "duration": 0.263183,
     "end_time": "2022-09-21T20:11:31.816484",
     "exception": false,
     "start_time": "2022-09-21T20:11:31.553301",
     "status": "completed"
    },
    "tags": []
   },
   "source": [
    "### Evaluate Result And Visualizetion <a id = \"1a6\"></a>\n",
    "[Go Content](#cont)\n",
    "\n",
    "In this chapter, I visualized the result of simple autoencoders."
   ]
  },
  {
   "cell_type": "code",
   "execution_count": 17,
   "id": "a32057e3",
   "metadata": {
    "execution": {
     "iopub.execute_input": "2022-09-21T20:11:32.350866Z",
     "iopub.status.busy": "2022-09-21T20:11:32.350419Z",
     "iopub.status.idle": "2022-09-21T20:11:32.945404Z",
     "shell.execute_reply": "2022-09-21T20:11:32.944288Z"
    },
    "papermill": {
     "duration": 0.861475,
     "end_time": "2022-09-21T20:11:32.948756",
     "exception": false,
     "start_time": "2022-09-21T20:11:32.087281",
     "status": "completed"
    },
    "tags": []
   },
   "outputs": [],
   "source": [
    "# Encodered x_test data with the simple autoencoders.\n",
    "sim_encoder = Model(input_img, encoded1)\n",
    "sim_encoded_img = sim_encoder.predict(x_test)"
   ]
  },
  {
   "cell_type": "markdown",
   "id": "a3304b6d",
   "metadata": {
    "papermill": {
     "duration": 0.257287,
     "end_time": "2022-09-21T20:11:33.525618",
     "exception": false,
     "start_time": "2022-09-21T20:11:33.268331",
     "status": "completed"
    },
    "tags": []
   },
   "source": [
    "In the code below, I first visualized the unencoded image and then the encoded but not decoded image."
   ]
  },
  {
   "cell_type": "code",
   "execution_count": 18,
   "id": "688d1b3b",
   "metadata": {
    "execution": {
     "iopub.execute_input": "2022-09-21T20:11:34.043572Z",
     "iopub.status.busy": "2022-09-21T20:11:34.043155Z",
     "iopub.status.idle": "2022-09-21T20:11:34.276538Z",
     "shell.execute_reply": "2022-09-21T20:11:34.274629Z"
    },
    "papermill": {
     "duration": 0.499756,
     "end_time": "2022-09-21T20:11:34.281607",
     "exception": false,
     "start_time": "2022-09-21T20:11:33.781851",
     "status": "completed"
    },
    "tags": []
   },
   "outputs": [
    {
     "data": {
      "image/png": "[encoded data removed]",
      "text/plain": [
       "<Figure size 432x288 with 1 Axes>"
      ]
     },
     "metadata": {
      "needs_background": "light"
     },
     "output_type": "display_data"
    },
    {
     "name": "stdout",
     "output_type": "stream",
     "text": [
      "#################################\n"
     ]
    },
    {
     "data": {
      "image/png": "[encoded data removed]",
      "text/plain": [
       "<Figure size 432x288 with 1 Axes>"
      ]
     },
     "metadata": {
      "needs_background": "light"
     },
     "output_type": "display_data"
    }
   ],
   "source": [
    "img = x_test.iloc[5000].to_numpy()\n",
    "img = img.reshape((28,28))\n",
    "plt.imshow(img)\n",
    "plt.axis(\"off\")\n",
    "plt.show()\n",
    "print(\"#################################\")\n",
    "plt.figure()\n",
    "plt.imshow(sim_encoded_img[5000].reshape(4,4))\n",
    "plt.axis(\"off\")\n",
    "plt.show()"
   ]
  },
  {
   "cell_type": "code",
   "execution_count": 19,
   "id": "c792eb13",
   "metadata": {
    "execution": {
     "iopub.execute_input": "2022-09-21T20:11:34.823608Z",
     "iopub.status.busy": "2022-09-21T20:11:34.823190Z",
     "iopub.status.idle": "2022-09-21T20:11:35.458771Z",
     "shell.execute_reply": "2022-09-21T20:11:35.457597Z"
    },
    "papermill": {
     "duration": 0.899215,
     "end_time": "2022-09-21T20:11:35.461503",
     "exception": false,
     "start_time": "2022-09-21T20:11:34.562288",
     "status": "completed"
    },
    "tags": []
   },
   "outputs": [],
   "source": [
    "# I predict x_test with the simple autoencoders.\n",
    "# I make encoder and decoder.\n",
    "sim_decoded_img = sim_autoencoder.predict(x_test)"
   ]
  },
  {
   "cell_type": "markdown",
   "id": "a71503fd",
   "metadata": {
    "papermill": {
     "duration": 0.295271,
     "end_time": "2022-09-21T20:11:36.020743",
     "exception": false,
     "start_time": "2022-09-21T20:11:35.725472",
     "status": "completed"
    },
    "tags": []
   },
   "source": [
    "I visualized real images and predicted images in the below code."
   ]
  },
  {
   "cell_type": "code",
   "execution_count": 20,
   "id": "6d154e63",
   "metadata": {
    "execution": {
     "iopub.execute_input": "2022-09-21T20:11:36.623478Z",
     "iopub.status.busy": "2022-09-21T20:11:36.623010Z",
     "iopub.status.idle": "2022-09-21T20:11:37.365550Z",
     "shell.execute_reply": "2022-09-21T20:11:37.364292Z"
    },
    "papermill": {
     "duration": 1.018201,
     "end_time": "2022-09-21T20:11:37.368631",
     "exception": false,
     "start_time": "2022-09-21T20:11:36.350430",
     "status": "completed"
    },
    "tags": []
   },
   "outputs": [
    {
     "data": {
      "image/png": "[encoded data removed]",
      "text/plain": [
       "<Figure size 1440x288 with 20 Axes>"
      ]
     },
     "metadata": {
      "needs_background": "light"
     },
     "output_type": "display_data"
    }
   ],
   "source": [
    "n = 10\n",
    "plt.figure(figsize = (20,4))\n",
    "for i in range(n):\n",
    "    #display original\n",
    "    ax = plt.subplot(2, n, i+1)\n",
    "    img = x_test.iloc[i].to_numpy()\n",
    "    img = img.reshape((28,28))\n",
    "    plt.imshow(img)\n",
    "    plt.axis(\"off\")\n",
    "    \n",
    "    # display reconstruction\n",
    "    ax = plt.subplot(2, n, i + n+1)\n",
    "    plt.imshow(sim_decoded_img[i].reshape(28,28))\n",
    "    plt.axis(\"off\")\n",
    "plt.show()"
   ]
  },
  {
   "cell_type": "markdown",
   "id": "66ffa0c0",
   "metadata": {
    "papermill": {
     "duration": 0.260405,
     "end_time": "2022-09-21T20:11:37.945786",
     "exception": false,
     "start_time": "2022-09-21T20:11:37.685381",
     "status": "completed"
    },
    "tags": []
   },
   "source": [
    "## Deep Autoencoder <a id = \"1b\"></a>\n",
    "[Go Content](#cont)\n",
    "\n",
    "In this section, I created a slightly deeper autoencoder model than the model in the basic autoencoder section. The reason why I say deep is that I added a few more hidden layers and performed the training."
   ]
  },
  {
   "cell_type": "markdown",
   "id": "82b0eee9",
   "metadata": {
    "papermill": {
     "duration": 0.258782,
     "end_time": "2022-09-21T20:11:38.462121",
     "exception": false,
     "start_time": "2022-09-21T20:11:38.203339",
     "status": "completed"
    },
    "tags": []
   },
   "source": [
    "### Create Model <a id = \"1b1\"></a>\n",
    "[Go Content](#cont)\n",
    "\n",
    "In this chapter, I created a deep autoencoder model."
   ]
  },
  {
   "cell_type": "code",
   "execution_count": 21,
   "id": "0cdd8a0f",
   "metadata": {
    "execution": {
     "iopub.execute_input": "2022-09-21T20:11:38.983172Z",
     "iopub.status.busy": "2022-09-21T20:11:38.982733Z",
     "iopub.status.idle": "2022-09-21T20:11:39.070543Z",
     "shell.execute_reply": "2022-09-21T20:11:39.069584Z"
    },
    "papermill": {
     "duration": 0.351615,
     "end_time": "2022-09-21T20:11:39.072936",
     "exception": false,
     "start_time": "2022-09-21T20:11:38.721321",
     "status": "completed"
    },
    "tags": []
   },
   "outputs": [],
   "source": [
    "# Create deep autoencoder model\n",
    "deep_input_img = Input(shape = (784,))\n",
    "\n",
    "deepencoded = Dense(256, activation = \"relu\")(deep_input_img)\n",
    "deepencoded = Dense(128, activation = \"relu\")(deepencoded)\n",
    "deepencoded = Dense(64, activation = \"relu\")(deepencoded)\n",
    "deepencoded = Dense(32, activation = \"relu\")(deepencoded)\n",
    "\n",
    "deepdecoded = Dense(64, activation = \"relu\")(deepencoded)\n",
    "deepdecoded = Dense(128, activation = \"relu\")(deepdecoded)\n",
    "deepdecoded = Dense(256, activation = \"relu\")(deepdecoded)\n",
    "deepdecoded = Dense(784, activation = \"sigmoid\")(deepdecoded)\n",
    "\n",
    "deep_autoencoder = Model(deep_input_img, deepdecoded)\n",
    "deep_autoencoder.compile(optimizer = \"rmsprop\", loss = \"binary_crossentropy\")"
   ]
  },
  {
   "cell_type": "code",
   "execution_count": 22,
   "id": "7353a2f2",
   "metadata": {
    "execution": {
     "iopub.execute_input": "2022-09-21T20:11:39.593213Z",
     "iopub.status.busy": "2022-09-21T20:11:39.592013Z",
     "iopub.status.idle": "2022-09-21T20:11:39.599739Z",
     "shell.execute_reply": "2022-09-21T20:11:39.598372Z"
    },
    "papermill": {
     "duration": 0.270386,
     "end_time": "2022-09-21T20:11:39.601835",
     "exception": false,
     "start_time": "2022-09-21T20:11:39.331449",
     "status": "completed"
    },
    "tags": []
   },
   "outputs": [
    {
     "name": "stdout",
     "output_type": "stream",
     "text": [
      "Model: \"model_2\"\n",
      "_________________________________________________________________\n",
      "Layer (type)                 Output Shape              Param #   \n",
      "=================================================================\n",
      "input_2 (InputLayer)         [(None, 784)]             0         \n",
      "_________________________________________________________________\n",
      "dense_4 (Dense)              (None, 256)               200960    \n",
      "_________________________________________________________________\n",
      "dense_5 (Dense)              (None, 128)               32896     \n",
      "_________________________________________________________________\n",
      "dense_6 (Dense)              (None, 64)                8256      \n",
      "_________________________________________________________________\n",
      "dense_7 (Dense)              (None, 32)                2080      \n",
      "_________________________________________________________________\n",
      "dense_8 (Dense)              (None, 64)                2112      \n",
      "_________________________________________________________________\n",
      "dense_9 (Dense)              (None, 128)               8320      \n",
      "_________________________________________________________________\n",
      "dense_10 (Dense)             (None, 256)               33024     \n",
      "_________________________________________________________________\n",
      "dense_11 (Dense)             (None, 784)               201488    \n",
      "=================================================================\n",
      "Total params: 489,136\n",
      "Trainable params: 489,136\n",
      "Non-trainable params: 0\n",
      "_________________________________________________________________\n"
     ]
    }
   ],
   "source": [
    "# Structure of Model\n",
    "deep_autoencoder.summary()"
   ]
  },
  {
   "cell_type": "markdown",
   "id": "414ad6b8",
   "metadata": {
    "papermill": {
     "duration": 0.260594,
     "end_time": "2022-09-21T20:11:40.121303",
     "exception": false,
     "start_time": "2022-09-21T20:11:39.860709",
     "status": "completed"
    },
    "tags": []
   },
   "source": [
    "### Train Model <a id = \"1b2\"></a>\n",
    "[Go Content](#cont)\n",
    "\n",
    "In this chapter, I am training with the model."
   ]
  },
  {
   "cell_type": "code",
   "execution_count": 23,
   "id": "4b2c6446",
   "metadata": {
    "execution": {
     "iopub.execute_input": "2022-09-21T20:11:40.702133Z",
     "iopub.status.busy": "2022-09-21T20:11:40.701095Z",
     "iopub.status.idle": "2022-09-21T20:21:38.166812Z",
     "shell.execute_reply": "2022-09-21T20:21:38.165612Z"
    },
    "papermill": {
     "duration": 597.788837,
     "end_time": "2022-09-21T20:21:38.169525",
     "exception": false,
     "start_time": "2022-09-21T20:11:40.380688",
     "status": "completed"
    },
    "tags": []
   },
   "outputs": [
    {
     "name": "stdout",
     "output_type": "stream",
     "text": [
      "Epoch 1/100\n",
      "235/235 [==============================] - 9s 33ms/step - loss: 0.3877 - val_loss: 0.3515\n",
      "Epoch 2/100\n",
      "235/235 [==============================] - 6s 24ms/step - loss: 0.3314 - val_loss: 0.3218\n",
      "Epoch 3/100\n",
      "235/235 [==============================] - 6s 25ms/step - loss: 0.3189 - val_loss: 0.3101\n",
      "Epoch 4/100\n",
      "235/235 [==============================] - 7s 28ms/step - loss: 0.3120 - val_loss: 0.3148\n",
      "Epoch 5/100\n",
      "235/235 [==============================] - 6s 25ms/step - loss: 0.3073 - val_loss: 0.3042\n",
      "Epoch 6/100\n",
      "235/235 [==============================] - 6s 25ms/step - loss: 0.3036 - val_loss: 0.2981\n",
      "Epoch 7/100\n",
      "235/235 [==============================] - 6s 25ms/step - loss: 0.3008 - val_loss: 0.3008\n",
      "Epoch 8/100\n",
      "235/235 [==============================] - 6s 25ms/step - loss: 0.2985 - val_loss: 0.3021\n",
      "Epoch 9/100\n",
      "235/235 [==============================] - 6s 24ms/step - loss: 0.2967 - val_loss: 0.2937\n",
      "Epoch 10/100\n",
      "235/235 [==============================] - 7s 28ms/step - loss: 0.2950 - val_loss: 0.2962\n",
      "Epoch 11/100\n",
      "235/235 [==============================] - 6s 24ms/step - loss: 0.2936 - val_loss: 0.2939\n",
      "Epoch 12/100\n",
      "235/235 [==============================] - 6s 25ms/step - loss: 0.2923 - val_loss: 0.2945\n",
      "Epoch 13/100\n",
      "235/235 [==============================] - 6s 25ms/step - loss: 0.2914 - val_loss: 0.2900\n",
      "Epoch 14/100\n",
      "235/235 [==============================] - 6s 25ms/step - loss: 0.2904 - val_loss: 0.2917\n",
      "Epoch 15/100\n",
      "235/235 [==============================] - 7s 29ms/step - loss: 0.2896 - val_loss: 0.2876\n",
      "Epoch 16/100\n",
      "235/235 [==============================] - 6s 25ms/step - loss: 0.2889 - val_loss: 0.2874\n",
      "Epoch 17/100\n",
      "235/235 [==============================] - 6s 25ms/step - loss: 0.2882 - val_loss: 0.2891\n",
      "Epoch 18/100\n",
      "235/235 [==============================] - 6s 24ms/step - loss: 0.2877 - val_loss: 0.2865\n",
      "Epoch 19/100\n",
      "235/235 [==============================] - 6s 25ms/step - loss: 0.2871 - val_loss: 0.2851\n",
      "Epoch 20/100\n",
      "235/235 [==============================] - 7s 28ms/step - loss: 0.2866 - val_loss: 0.2862\n",
      "Epoch 21/100\n",
      "235/235 [==============================] - 7s 29ms/step - loss: 0.2862 - val_loss: 0.2844\n",
      "Epoch 22/100\n",
      "235/235 [==============================] - 6s 24ms/step - loss: 0.2857 - val_loss: 0.2852\n",
      "Epoch 23/100\n",
      "235/235 [==============================] - 6s 24ms/step - loss: 0.2853 - val_loss: 0.2872\n",
      "Epoch 24/100\n",
      "235/235 [==============================] - 6s 25ms/step - loss: 0.2849 - val_loss: 0.2856\n",
      "Epoch 25/100\n",
      "235/235 [==============================] - 7s 28ms/step - loss: 0.2846 - val_loss: 0.2838\n",
      "Epoch 26/100\n",
      "235/235 [==============================] - 6s 25ms/step - loss: 0.2843 - val_loss: 0.2864\n",
      "Epoch 27/100\n",
      "235/235 [==============================] - 6s 24ms/step - loss: 0.2839 - val_loss: 0.2842\n",
      "Epoch 28/100\n",
      "235/235 [==============================] - 6s 24ms/step - loss: 0.2836 - val_loss: 0.2821\n",
      "Epoch 29/100\n",
      "235/235 [==============================] - 6s 24ms/step - loss: 0.2832 - val_loss: 0.2846\n",
      "Epoch 30/100\n",
      "235/235 [==============================] - 6s 24ms/step - loss: 0.2830 - val_loss: 0.2824\n",
      "Epoch 31/100\n",
      "235/235 [==============================] - 7s 28ms/step - loss: 0.2827 - val_loss: 0.2847\n",
      "Epoch 32/100\n",
      "235/235 [==============================] - 6s 25ms/step - loss: 0.2825 - val_loss: 0.2843\n",
      "Epoch 33/100\n",
      "235/235 [==============================] - 6s 25ms/step - loss: 0.2823 - val_loss: 0.2812\n",
      "Epoch 34/100\n",
      "235/235 [==============================] - 6s 24ms/step - loss: 0.2820 - val_loss: 0.2800\n",
      "Epoch 35/100\n",
      "235/235 [==============================] - 6s 24ms/step - loss: 0.2818 - val_loss: 0.2829\n",
      "Epoch 36/100\n",
      "235/235 [==============================] - 7s 28ms/step - loss: 0.2816 - val_loss: 0.2808\n",
      "Epoch 37/100\n",
      "235/235 [==============================] - 6s 24ms/step - loss: 0.2814 - val_loss: 0.2813\n",
      "Epoch 38/100\n",
      "235/235 [==============================] - 6s 25ms/step - loss: 0.2812 - val_loss: 0.2820\n",
      "Epoch 39/100\n",
      "235/235 [==============================] - 6s 24ms/step - loss: 0.2811 - val_loss: 0.2798\n",
      "Epoch 40/100\n",
      "235/235 [==============================] - 6s 24ms/step - loss: 0.2808 - val_loss: 0.2808\n",
      "Epoch 41/100\n",
      "235/235 [==============================] - 7s 28ms/step - loss: 0.2807 - val_loss: 0.2806\n",
      "Epoch 42/100\n",
      "235/235 [==============================] - 6s 25ms/step - loss: 0.2804 - val_loss: 0.2796\n",
      "Epoch 43/100\n",
      "235/235 [==============================] - 6s 24ms/step - loss: 0.2803 - val_loss: 0.2799\n",
      "Epoch 44/100\n",
      "235/235 [==============================] - 6s 24ms/step - loss: 0.2801 - val_loss: 0.2793\n",
      "Epoch 45/100\n",
      "235/235 [==============================] - 6s 25ms/step - loss: 0.2800 - val_loss: 0.2799\n",
      "Epoch 46/100\n",
      "235/235 [==============================] - 6s 25ms/step - loss: 0.2799 - val_loss: 0.2811\n",
      "Epoch 47/100\n",
      "235/235 [==============================] - 7s 28ms/step - loss: 0.2797 - val_loss: 0.2805\n",
      "Epoch 48/100\n",
      "235/235 [==============================] - 6s 24ms/step - loss: 0.2796 - val_loss: 0.2782\n",
      "Epoch 49/100\n",
      "235/235 [==============================] - 6s 24ms/step - loss: 0.2795 - val_loss: 0.2793\n",
      "Epoch 50/100\n",
      "235/235 [==============================] - 6s 25ms/step - loss: 0.2793 - val_loss: 0.2806\n",
      "Epoch 51/100\n",
      "235/235 [==============================] - 6s 24ms/step - loss: 0.2792 - val_loss: 0.2788\n",
      "Epoch 52/100\n",
      "235/235 [==============================] - 7s 28ms/step - loss: 0.2791 - val_loss: 0.2784\n",
      "Epoch 53/100\n",
      "235/235 [==============================] - 6s 24ms/step - loss: 0.2790 - val_loss: 0.2782\n",
      "Epoch 54/100\n",
      "235/235 [==============================] - 6s 24ms/step - loss: 0.2788 - val_loss: 0.2803\n",
      "Epoch 55/100\n",
      "235/235 [==============================] - 6s 24ms/step - loss: 0.2787 - val_loss: 0.2785\n",
      "Epoch 56/100\n",
      "235/235 [==============================] - 6s 25ms/step - loss: 0.2786 - val_loss: 0.2788\n",
      "Epoch 57/100\n",
      "235/235 [==============================] - 6s 25ms/step - loss: 0.2785 - val_loss: 0.2792\n",
      "Epoch 58/100\n",
      "235/235 [==============================] - 7s 28ms/step - loss: 0.2784 - val_loss: 0.2785\n",
      "Epoch 59/100\n",
      "235/235 [==============================] - 6s 25ms/step - loss: 0.2783 - val_loss: 0.2791\n",
      "Epoch 60/100\n",
      "235/235 [==============================] - 6s 26ms/step - loss: 0.2782 - val_loss: 0.2781\n",
      "Epoch 61/100\n",
      "235/235 [==============================] - 6s 25ms/step - loss: 0.2781 - val_loss: 0.2767\n",
      "Epoch 62/100\n",
      "235/235 [==============================] - 6s 25ms/step - loss: 0.2780 - val_loss: 0.2779\n",
      "Epoch 63/100\n",
      "235/235 [==============================] - 7s 29ms/step - loss: 0.2779 - val_loss: 0.2778\n",
      "Epoch 64/100\n",
      "235/235 [==============================] - 6s 24ms/step - loss: 0.2779 - val_loss: 0.2774\n",
      "Epoch 65/100\n",
      "235/235 [==============================] - 6s 24ms/step - loss: 0.2777 - val_loss: 0.2778\n",
      "Epoch 66/100\n",
      "235/235 [==============================] - 6s 25ms/step - loss: 0.2777 - val_loss: 0.2767\n",
      "Epoch 67/100\n",
      "235/235 [==============================] - 6s 24ms/step - loss: 0.2776 - val_loss: 0.2768\n",
      "Epoch 68/100\n",
      "235/235 [==============================] - 7s 28ms/step - loss: 0.2775 - val_loss: 0.2777\n",
      "Epoch 69/100\n",
      "235/235 [==============================] - 6s 24ms/step - loss: 0.2775 - val_loss: 0.2773\n",
      "Epoch 70/100\n",
      "235/235 [==============================] - 6s 24ms/step - loss: 0.2774 - val_loss: 0.2776\n",
      "Epoch 71/100\n",
      "235/235 [==============================] - 6s 24ms/step - loss: 0.2773 - val_loss: 0.2763\n",
      "Epoch 72/100\n",
      "235/235 [==============================] - 6s 24ms/step - loss: 0.2773 - val_loss: 0.2763\n",
      "Epoch 73/100\n",
      "235/235 [==============================] - 6s 24ms/step - loss: 0.2772 - val_loss: 0.2769\n",
      "Epoch 74/100\n",
      "235/235 [==============================] - 7s 28ms/step - loss: 0.2771 - val_loss: 0.2780\n",
      "Epoch 75/100\n",
      "235/235 [==============================] - 6s 24ms/step - loss: 0.2770 - val_loss: 0.2773\n",
      "Epoch 76/100\n",
      "235/235 [==============================] - 6s 24ms/step - loss: 0.2770 - val_loss: 0.2761\n",
      "Epoch 77/100\n",
      "235/235 [==============================] - 6s 25ms/step - loss: 0.2769 - val_loss: 0.2763\n",
      "Epoch 78/100\n",
      "235/235 [==============================] - 6s 24ms/step - loss: 0.2769 - val_loss: 0.2772\n",
      "Epoch 79/100\n",
      "235/235 [==============================] - 7s 29ms/step - loss: 0.2768 - val_loss: 0.2768\n",
      "Epoch 80/100\n",
      "235/235 [==============================] - 6s 25ms/step - loss: 0.2767 - val_loss: 0.2763\n",
      "Epoch 81/100\n",
      "235/235 [==============================] - 6s 24ms/step - loss: 0.2767 - val_loss: 0.2778\n",
      "Epoch 82/100\n",
      "235/235 [==============================] - 6s 25ms/step - loss: 0.2766 - val_loss: 0.2764\n",
      "Epoch 83/100\n",
      "235/235 [==============================] - 6s 24ms/step - loss: 0.2766 - val_loss: 0.2768\n",
      "Epoch 84/100\n",
      "235/235 [==============================] - 7s 29ms/step - loss: 0.2765 - val_loss: 0.2760\n",
      "Epoch 85/100\n",
      "235/235 [==============================] - 6s 25ms/step - loss: 0.2764 - val_loss: 0.2761\n",
      "Epoch 86/100\n",
      "235/235 [==============================] - 6s 25ms/step - loss: 0.2764 - val_loss: 0.2784\n",
      "Epoch 87/100\n",
      "235/235 [==============================] - 6s 24ms/step - loss: 0.2764 - val_loss: 0.2763\n",
      "Epoch 88/100\n",
      "235/235 [==============================] - 6s 25ms/step - loss: 0.2763 - val_loss: 0.2758\n",
      "Epoch 89/100\n",
      "235/235 [==============================] - 6s 24ms/step - loss: 0.2763 - val_loss: 0.2757\n",
      "Epoch 90/100\n",
      "235/235 [==============================] - 7s 29ms/step - loss: 0.2762 - val_loss: 0.2769\n",
      "Epoch 91/100\n",
      "235/235 [==============================] - 6s 24ms/step - loss: 0.2762 - val_loss: 0.2754\n",
      "Epoch 92/100\n",
      "235/235 [==============================] - 6s 24ms/step - loss: 0.2761 - val_loss: 0.2755\n",
      "Epoch 93/100\n",
      "235/235 [==============================] - 6s 25ms/step - loss: 0.2761 - val_loss: 0.2763\n",
      "Epoch 94/100\n",
      "235/235 [==============================] - 6s 25ms/step - loss: 0.2761 - val_loss: 0.2770\n",
      "Epoch 95/100\n",
      "235/235 [==============================] - 7s 29ms/step - loss: 0.2760 - val_loss: 0.2759\n",
      "Epoch 96/100\n",
      "235/235 [==============================] - 6s 24ms/step - loss: 0.2760 - val_loss: 0.2756\n",
      "Epoch 97/100\n",
      "235/235 [==============================] - 6s 24ms/step - loss: 0.2759 - val_loss: 0.2746\n",
      "Epoch 98/100\n",
      "235/235 [==============================] - 6s 24ms/step - loss: 0.2759 - val_loss: 0.2750\n",
      "Epoch 99/100\n",
      "235/235 [==============================] - 6s 24ms/step - loss: 0.2759 - val_loss: 0.2759\n",
      "Epoch 100/100\n",
      "235/235 [==============================] - 7s 28ms/step - loss: 0.2758 - val_loss: 0.2762\n"
     ]
    }
   ],
   "source": [
    "deep_hist = deep_autoencoder.fit(x_train, x_train,\n",
    "                                 epochs = 100,\n",
    "                                 batch_size = 256,\n",
    "                                 shuffle = True,\n",
    "                                 validation_data = (x_train, x_train))"
   ]
  },
  {
   "cell_type": "markdown",
   "id": "d03b10a0",
   "metadata": {
    "papermill": {
     "duration": 0.733812,
     "end_time": "2022-09-21T20:21:39.648793",
     "exception": false,
     "start_time": "2022-09-21T20:21:38.914981",
     "status": "completed"
    },
    "tags": []
   },
   "source": [
    "### Model Result Evaluation <a id = \"1b3\"></a>\n",
    "[Go Content](#cont)\n",
    "\n",
    "In this chapter, I visualized the result of the deep autoencoder model."
   ]
  },
  {
   "cell_type": "code",
   "execution_count": 24,
   "id": "2b15b701",
   "metadata": {
    "execution": {
     "iopub.execute_input": "2022-09-21T20:21:41.276460Z",
     "iopub.status.busy": "2022-09-21T20:21:41.275713Z",
     "iopub.status.idle": "2022-09-21T20:21:41.486276Z",
     "shell.execute_reply": "2022-09-21T20:21:41.485361Z"
    },
    "papermill": {
     "duration": 1.045796,
     "end_time": "2022-09-21T20:21:41.488630",
     "exception": false,
     "start_time": "2022-09-21T20:21:40.442834",
     "status": "completed"
    },
    "tags": []
   },
   "outputs": [
    {
     "data": {
      "image/png": "[encoded data removed]",
      "text/plain": [
       "<Figure size 432x288 with 1 Axes>"
      ]
     },
     "metadata": {
      "needs_background": "light"
     },
     "output_type": "display_data"
    }
   ],
   "source": [
    "# Visualized the result of deep autoencoders\n",
    "plt.plot(deep_hist.history[\"loss\"], label = \"Train Loss\")\n",
    "plt.plot(deep_hist.history[\"val_loss\"], label = \"Validation Loss\")\n",
    "plt.legend()\n",
    "plt.show()"
   ]
  },
  {
   "cell_type": "markdown",
   "id": "68021ab7",
   "metadata": {
    "papermill": {
     "duration": 0.738831,
     "end_time": "2022-09-21T20:21:42.968989",
     "exception": false,
     "start_time": "2022-09-21T20:21:42.230158",
     "status": "completed"
    },
    "tags": []
   },
   "source": [
    "In the below code, I predict x_test with the deep autoencoders model."
   ]
  },
  {
   "cell_type": "code",
   "execution_count": 25,
   "id": "2fe69f7b",
   "metadata": {
    "execution": {
     "iopub.execute_input": "2022-09-21T20:21:44.514790Z",
     "iopub.status.busy": "2022-09-21T20:21:44.514028Z",
     "iopub.status.idle": "2022-09-21T20:21:45.822224Z",
     "shell.execute_reply": "2022-09-21T20:21:45.821009Z"
    },
    "papermill": {
     "duration": 2.05378,
     "end_time": "2022-09-21T20:21:45.824972",
     "exception": false,
     "start_time": "2022-09-21T20:21:43.771192",
     "status": "completed"
    },
    "tags": []
   },
   "outputs": [],
   "source": [
    "deep_decoded_img = deep_autoencoder.predict(x_test)"
   ]
  },
  {
   "cell_type": "markdown",
   "id": "ebb84df5",
   "metadata": {
    "papermill": {
     "duration": 0.821594,
     "end_time": "2022-09-21T20:21:47.445382",
     "exception": false,
     "start_time": "2022-09-21T20:21:46.623788",
     "status": "completed"
    },
    "tags": []
   },
   "source": [
    "In the below code, I visualize prediction results."
   ]
  },
  {
   "cell_type": "code",
   "execution_count": 26,
   "id": "f9913060",
   "metadata": {
    "execution": {
     "iopub.execute_input": "2022-09-21T20:21:48.985012Z",
     "iopub.status.busy": "2022-09-21T20:21:48.984567Z",
     "iopub.status.idle": "2022-09-21T20:21:49.721000Z",
     "shell.execute_reply": "2022-09-21T20:21:49.719933Z"
    },
    "papermill": {
     "duration": 1.54562,
     "end_time": "2022-09-21T20:21:49.723523",
     "exception": false,
     "start_time": "2022-09-21T20:21:48.177903",
     "status": "completed"
    },
    "tags": []
   },
   "outputs": [
    {
     "data": {
      "image/png": "[encoded data removed]",
      "text/plain": [
       "<Figure size 1440x288 with 20 Axes>"
      ]
     },
     "metadata": {
      "needs_background": "light"
     },
     "output_type": "display_data"
    }
   ],
   "source": [
    "n = 10\n",
    "plt.figure(figsize = (20,4))\n",
    "for i in range(n):\n",
    "    #display original\n",
    "    ax = plt.subplot(2, n, i+1)\n",
    "    img = x_test.iloc[i].to_numpy()\n",
    "    img = img.reshape((28,28))\n",
    "    plt.imshow(img)\n",
    "    plt.axis(\"off\")\n",
    "    \n",
    "    # display reconstruction\n",
    "    ax = plt.subplot(2, n, i + n+1)\n",
    "    plt.imshow(deep_decoded_img[i].reshape(28,28))\n",
    "    plt.axis(\"off\")\n",
    "plt.show()"
   ]
  },
  {
   "cell_type": "markdown",
   "id": "00b25233",
   "metadata": {
    "papermill": {
     "duration": 0.74432,
     "end_time": "2022-09-21T20:21:51.203995",
     "exception": false,
     "start_time": "2022-09-21T20:21:50.459675",
     "status": "completed"
    },
    "tags": []
   },
   "source": [
    "## Convolutional Autoencoder <a id = \"1c\"></a>\n",
    "[Go Content](#cont)\n",
    "\n",
    "In this chapter, I created an autoencoder with Convolutional neural networks(CNN). "
   ]
  },
  {
   "cell_type": "markdown",
   "id": "c9589d33",
   "metadata": {
    "papermill": {
     "duration": 0.863334,
     "end_time": "2022-09-21T20:21:52.869200",
     "exception": false,
     "start_time": "2022-09-21T20:21:52.005866",
     "status": "completed"
    },
    "tags": []
   },
   "source": [
    "### Prepare Data For Create Model <a id = \"1c1\"></a>\n",
    "[Go Content](#cont)\n",
    "\n",
    "In this chapter, I prepared the dataset for the model. I changed the shape of the dataset."
   ]
  },
  {
   "cell_type": "code",
   "execution_count": 27,
   "id": "06015bec",
   "metadata": {
    "execution": {
     "iopub.execute_input": "2022-09-21T20:21:54.354771Z",
     "iopub.status.busy": "2022-09-21T20:21:54.354366Z",
     "iopub.status.idle": "2022-09-21T20:21:54.360223Z",
     "shell.execute_reply": "2022-09-21T20:21:54.359109Z"
    },
    "papermill": {
     "duration": 0.753544,
     "end_time": "2022-09-21T20:21:54.362359",
     "exception": false,
     "start_time": "2022-09-21T20:21:53.608815",
     "status": "completed"
    },
    "tags": []
   },
   "outputs": [],
   "source": [
    "x_train_cnn = np.reshape(x_train.to_numpy(), (len(x_train), 28, 28, 1))\n",
    "x_test_cnn = np.reshape(x_test.to_numpy(), (len(x_test), 28, 28, 1))"
   ]
  },
  {
   "cell_type": "code",
   "execution_count": 28,
   "id": "458fa47f",
   "metadata": {
    "execution": {
     "iopub.execute_input": "2022-09-21T20:21:55.917154Z",
     "iopub.status.busy": "2022-09-21T20:21:55.916688Z",
     "iopub.status.idle": "2022-09-21T20:21:55.922964Z",
     "shell.execute_reply": "2022-09-21T20:21:55.921811Z"
    },
    "papermill": {
     "duration": 0.750393,
     "end_time": "2022-09-21T20:21:55.925146",
     "exception": false,
     "start_time": "2022-09-21T20:21:55.174753",
     "status": "completed"
    },
    "tags": []
   },
   "outputs": [
    {
     "name": "stdout",
     "output_type": "stream",
     "text": [
      "x_train_cnn shape:  (60000, 28, 28, 1)\n",
      "x_test_cnn shape:  (10000, 28, 28, 1)\n"
     ]
    }
   ],
   "source": [
    "print(\"x_train_cnn shape: \", x_train_cnn.shape)\n",
    "print(\"x_test_cnn shape: \", x_test_cnn.shape)"
   ]
  },
  {
   "cell_type": "markdown",
   "id": "264fd6cd",
   "metadata": {
    "papermill": {
     "duration": 0.808415,
     "end_time": "2022-09-21T20:21:57.530658",
     "exception": false,
     "start_time": "2022-09-21T20:21:56.722243",
     "status": "completed"
    },
    "tags": []
   },
   "source": [
    "### Create Model <a id = \"1c2\"></a>\n",
    "[Go Content](#cont)\n",
    "\n",
    "In this chapter, I created the autoencoder with CNN."
   ]
  },
  {
   "cell_type": "code",
   "execution_count": 29,
   "id": "2fe4c26c",
   "metadata": {
    "execution": {
     "iopub.execute_input": "2022-09-21T20:21:59.097675Z",
     "iopub.status.busy": "2022-09-21T20:21:59.097241Z",
     "iopub.status.idle": "2022-09-21T20:21:59.197591Z",
     "shell.execute_reply": "2022-09-21T20:21:59.196670Z"
    },
    "papermill": {
     "duration": 0.905857,
     "end_time": "2022-09-21T20:21:59.200316",
     "exception": false,
     "start_time": "2022-09-21T20:21:58.294459",
     "status": "completed"
    },
    "tags": []
   },
   "outputs": [],
   "source": [
    "cnn_input_img = Input(shape=(28, 28, 1))\n",
    "\n",
    "x = Conv2D(16, (3, 3), activation='relu', padding='same')(cnn_input_img)\n",
    "x = MaxPooling2D((2,2), padding = \"same\")(x)\n",
    "x = Conv2D(8, (3,3), activation = \"relu\", padding = \"same\")(x)\n",
    "x = MaxPooling2D((2,2), padding = \"same\")(x)\n",
    "x = Conv2D(8, (3,3), activation = \"relu\", padding = \"same\")(x)\n",
    "cnn_encoded = MaxPooling2D((2,2), padding = \"same\")(x)\n",
    "\n",
    "x = Conv2D(8, (3,3), activation = \"relu\", padding = \"same\")(cnn_encoded)\n",
    "x = UpSampling2D((2,2))(x)\n",
    "x = Conv2D(8, (3,3), activation = \"relu\", padding = \"same\")(x)\n",
    "x = UpSampling2D((2,2))(x)\n",
    "x = Conv2D(16, (3,3), activation = \"relu\")(x)\n",
    "x = UpSampling2D((2,2))(x)\n",
    "cnn_decoded = Conv2D(1, (3,3), activation = \"sigmoid\", padding = \"same\")(x)\n",
    "\n",
    "cnn_autoencoder = Model(cnn_input_img, cnn_decoded)\n",
    "cnn_autoencoder.compile(optimizer = \"adam\", loss = \"binary_crossentropy\")"
   ]
  },
  {
   "cell_type": "markdown",
   "id": "ee2d8c8c",
   "metadata": {
    "papermill": {
     "duration": 0.737338,
     "end_time": "2022-09-21T20:22:00.670099",
     "exception": false,
     "start_time": "2022-09-21T20:21:59.932761",
     "status": "completed"
    },
    "tags": []
   },
   "source": [
    "### Train Model <a id = \"1c3\"></a>\n",
    "[Go Content](#cont)\n",
    "\n",
    "In this chapter, I am training with the model."
   ]
  },
  {
   "cell_type": "code",
   "execution_count": 30,
   "id": "cd0122cd",
   "metadata": {
    "execution": {
     "iopub.execute_input": "2022-09-21T20:22:02.270964Z",
     "iopub.status.busy": "2022-09-21T20:22:02.270561Z",
     "iopub.status.idle": "2022-09-21T20:46:15.966772Z",
     "shell.execute_reply": "2022-09-21T20:46:15.965794Z"
    },
    "papermill": {
     "duration": 1454.504201,
     "end_time": "2022-09-21T20:46:15.969466",
     "exception": false,
     "start_time": "2022-09-21T20:22:01.465265",
     "status": "completed"
    },
    "tags": []
   },
   "outputs": [
    {
     "name": "stdout",
     "output_type": "stream",
     "text": [
      "Epoch 1/100\n",
      "235/235 [==============================] - 16s 64ms/step - loss: 0.4103 - val_loss: 0.3195\n",
      "Epoch 2/100\n",
      "235/235 [==============================] - 14s 59ms/step - loss: 0.3136 - val_loss: 0.3074\n",
      "Epoch 3/100\n",
      "235/235 [==============================] - 15s 64ms/step - loss: 0.3061 - val_loss: 0.3026\n",
      "Epoch 4/100\n",
      "235/235 [==============================] - 14s 59ms/step - loss: 0.3022 - val_loss: 0.2998\n",
      "Epoch 5/100\n",
      "235/235 [==============================] - 15s 64ms/step - loss: 0.2997 - val_loss: 0.2974\n",
      "Epoch 6/100\n",
      "235/235 [==============================] - 14s 59ms/step - loss: 0.2977 - val_loss: 0.2959\n",
      "Epoch 7/100\n",
      "235/235 [==============================] - 15s 64ms/step - loss: 0.2961 - val_loss: 0.2942\n",
      "Epoch 8/100\n",
      "235/235 [==============================] - 14s 59ms/step - loss: 0.2947 - val_loss: 0.2929\n",
      "Epoch 9/100\n",
      "235/235 [==============================] - 14s 60ms/step - loss: 0.2935 - val_loss: 0.2918\n",
      "Epoch 10/100\n",
      "235/235 [==============================] - 15s 62ms/step - loss: 0.2925 - val_loss: 0.2906\n",
      "Epoch 11/100\n",
      "235/235 [==============================] - 14s 60ms/step - loss: 0.2916 - val_loss: 0.2900\n",
      "Epoch 12/100\n",
      "235/235 [==============================] - 15s 62ms/step - loss: 0.2907 - val_loss: 0.2891\n",
      "Epoch 13/100\n",
      "235/235 [==============================] - 14s 60ms/step - loss: 0.2900 - val_loss: 0.2885\n",
      "Epoch 14/100\n",
      "235/235 [==============================] - 15s 64ms/step - loss: 0.2895 - val_loss: 0.2879\n",
      "Epoch 15/100\n",
      "235/235 [==============================] - 14s 59ms/step - loss: 0.2889 - val_loss: 0.2878\n",
      "Epoch 16/100\n",
      "235/235 [==============================] - 15s 65ms/step - loss: 0.2885 - val_loss: 0.2868\n",
      "Epoch 17/100\n",
      "235/235 [==============================] - 14s 60ms/step - loss: 0.2880 - val_loss: 0.2869\n",
      "Epoch 18/100\n",
      "235/235 [==============================] - 15s 65ms/step - loss: 0.2877 - val_loss: 0.2861\n",
      "Epoch 19/100\n",
      "235/235 [==============================] - 14s 59ms/step - loss: 0.2873 - val_loss: 0.2858\n",
      "Epoch 20/100\n",
      "235/235 [==============================] - 14s 60ms/step - loss: 0.2870 - val_loss: 0.2856\n",
      "Epoch 21/100\n",
      "235/235 [==============================] - 15s 62ms/step - loss: 0.2867 - val_loss: 0.2854\n",
      "Epoch 22/100\n",
      "235/235 [==============================] - 14s 59ms/step - loss: 0.2864 - val_loss: 0.2848\n",
      "Epoch 23/100\n",
      "235/235 [==============================] - 15s 63ms/step - loss: 0.2861 - val_loss: 0.2846\n",
      "Epoch 24/100\n",
      "235/235 [==============================] - 14s 59ms/step - loss: 0.2859 - val_loss: 0.2845\n",
      "Epoch 25/100\n",
      "235/235 [==============================] - 15s 64ms/step - loss: 0.2856 - val_loss: 0.2840\n",
      "Epoch 26/100\n",
      "235/235 [==============================] - 14s 61ms/step - loss: 0.2853 - val_loss: 0.2839\n",
      "Epoch 27/100\n",
      "235/235 [==============================] - 15s 64ms/step - loss: 0.2851 - val_loss: 0.2835\n",
      "Epoch 28/100\n",
      "235/235 [==============================] - 14s 60ms/step - loss: 0.2848 - val_loss: 0.2833\n",
      "Epoch 29/100\n",
      "235/235 [==============================] - 15s 65ms/step - loss: 0.2846 - val_loss: 0.2831\n",
      "Epoch 30/100\n",
      "235/235 [==============================] - 14s 60ms/step - loss: 0.2844 - val_loss: 0.2829\n",
      "Epoch 31/100\n",
      "235/235 [==============================] - 15s 63ms/step - loss: 0.2842 - val_loss: 0.2827\n",
      "Epoch 32/100\n",
      "235/235 [==============================] - 15s 62ms/step - loss: 0.2840 - val_loss: 0.2824\n",
      "Epoch 33/100\n",
      "235/235 [==============================] - 14s 60ms/step - loss: 0.2838 - val_loss: 0.2825\n",
      "Epoch 34/100\n",
      "235/235 [==============================] - 15s 65ms/step - loss: 0.2836 - val_loss: 0.2821\n",
      "Epoch 35/100\n",
      "235/235 [==============================] - 14s 60ms/step - loss: 0.2835 - val_loss: 0.2819\n",
      "Epoch 36/100\n",
      "235/235 [==============================] - 15s 65ms/step - loss: 0.2833 - val_loss: 0.2821\n",
      "Epoch 37/100\n",
      "235/235 [==============================] - 14s 60ms/step - loss: 0.2831 - val_loss: 0.2817\n",
      "Epoch 38/100\n",
      "235/235 [==============================] - 15s 66ms/step - loss: 0.2830 - val_loss: 0.2817\n",
      "Epoch 39/100\n",
      "235/235 [==============================] - 14s 59ms/step - loss: 0.2829 - val_loss: 0.2817\n",
      "Epoch 40/100\n",
      "235/235 [==============================] - 15s 63ms/step - loss: 0.2827 - val_loss: 0.2814\n",
      "Epoch 41/100\n",
      "235/235 [==============================] - 14s 61ms/step - loss: 0.2826 - val_loss: 0.2812\n",
      "Epoch 42/100\n",
      "235/235 [==============================] - 15s 63ms/step - loss: 0.2825 - val_loss: 0.2812\n",
      "Epoch 43/100\n",
      "235/235 [==============================] - 15s 62ms/step - loss: 0.2824 - val_loss: 0.2811\n",
      "Epoch 44/100\n",
      "235/235 [==============================] - 15s 63ms/step - loss: 0.2823 - val_loss: 0.2808\n",
      "Epoch 45/100\n",
      "235/235 [==============================] - 14s 62ms/step - loss: 0.2821 - val_loss: 0.2806\n",
      "Epoch 46/100\n",
      "235/235 [==============================] - 14s 60ms/step - loss: 0.2821 - val_loss: 0.2808\n",
      "Epoch 47/100\n",
      "235/235 [==============================] - 15s 62ms/step - loss: 0.2819 - val_loss: 0.2807\n",
      "Epoch 48/100\n",
      "235/235 [==============================] - 15s 63ms/step - loss: 0.2818 - val_loss: 0.2805\n",
      "Epoch 49/100\n",
      "235/235 [==============================] - 15s 63ms/step - loss: 0.2818 - val_loss: 0.2803\n",
      "Epoch 50/100\n",
      "235/235 [==============================] - 15s 63ms/step - loss: 0.2817 - val_loss: 0.2808\n",
      "Epoch 51/100\n",
      "235/235 [==============================] - 15s 63ms/step - loss: 0.2816 - val_loss: 0.2801\n",
      "Epoch 52/100\n",
      "235/235 [==============================] - 15s 62ms/step - loss: 0.2815 - val_loss: 0.2808\n",
      "Epoch 53/100\n",
      "235/235 [==============================] - 15s 62ms/step - loss: 0.2814 - val_loss: 0.2800\n",
      "Epoch 54/100\n",
      "235/235 [==============================] - 14s 60ms/step - loss: 0.2814 - val_loss: 0.2804\n",
      "Epoch 55/100\n",
      "235/235 [==============================] - 15s 63ms/step - loss: 0.2812 - val_loss: 0.2798\n",
      "Epoch 56/100\n",
      "235/235 [==============================] - 14s 59ms/step - loss: 0.2812 - val_loss: 0.2805\n",
      "Epoch 57/100\n",
      "235/235 [==============================] - 15s 64ms/step - loss: 0.2812 - val_loss: 0.2798\n",
      "Epoch 58/100\n",
      "235/235 [==============================] - 14s 59ms/step - loss: 0.2811 - val_loss: 0.2797\n",
      "Epoch 59/100\n",
      "235/235 [==============================] - 14s 62ms/step - loss: 0.2810 - val_loss: 0.2797\n",
      "Epoch 60/100\n",
      "235/235 [==============================] - 15s 63ms/step - loss: 0.2810 - val_loss: 0.2796\n",
      "Epoch 61/100\n",
      "235/235 [==============================] - 14s 58ms/step - loss: 0.2809 - val_loss: 0.2795\n",
      "Epoch 62/100\n",
      "235/235 [==============================] - 15s 64ms/step - loss: 0.2808 - val_loss: 0.2798\n",
      "Epoch 63/100\n",
      "235/235 [==============================] - 14s 59ms/step - loss: 0.2808 - val_loss: 0.2795\n",
      "Epoch 64/100\n",
      "235/235 [==============================] - 15s 65ms/step - loss: 0.2808 - val_loss: 0.2793\n",
      "Epoch 65/100\n",
      "235/235 [==============================] - 14s 58ms/step - loss: 0.2806 - val_loss: 0.2792\n",
      "Epoch 66/100\n",
      "235/235 [==============================] - 15s 65ms/step - loss: 0.2806 - val_loss: 0.2796\n",
      "Epoch 67/100\n",
      "235/235 [==============================] - 14s 59ms/step - loss: 0.2806 - val_loss: 0.2798\n",
      "Epoch 68/100\n",
      "235/235 [==============================] - 15s 62ms/step - loss: 0.2805 - val_loss: 0.2790\n",
      "Epoch 69/100\n",
      "235/235 [==============================] - 15s 62ms/step - loss: 0.2804 - val_loss: 0.2791\n",
      "Epoch 70/100\n",
      "235/235 [==============================] - 14s 58ms/step - loss: 0.2804 - val_loss: 0.2793\n",
      "Epoch 71/100\n",
      "235/235 [==============================] - 15s 65ms/step - loss: 0.2803 - val_loss: 0.2790\n",
      "Epoch 72/100\n",
      "235/235 [==============================] - 14s 59ms/step - loss: 0.2802 - val_loss: 0.2788\n",
      "Epoch 73/100\n",
      "235/235 [==============================] - 15s 64ms/step - loss: 0.2803 - val_loss: 0.2789\n",
      "Epoch 74/100\n",
      "235/235 [==============================] - 14s 59ms/step - loss: 0.2802 - val_loss: 0.2789\n",
      "Epoch 75/100\n",
      "235/235 [==============================] - 15s 62ms/step - loss: 0.2801 - val_loss: 0.2794\n",
      "Epoch 76/100\n",
      "235/235 [==============================] - 15s 63ms/step - loss: 0.2801 - val_loss: 0.2789\n",
      "Epoch 77/100\n",
      "235/235 [==============================] - 15s 62ms/step - loss: 0.2800 - val_loss: 0.2786\n",
      "Epoch 78/100\n",
      "235/235 [==============================] - 15s 62ms/step - loss: 0.2800 - val_loss: 0.2791\n",
      "Epoch 79/100\n",
      "235/235 [==============================] - 15s 63ms/step - loss: 0.2799 - val_loss: 0.2785\n",
      "Epoch 80/100\n",
      "235/235 [==============================] - 14s 60ms/step - loss: 0.2799 - val_loss: 0.2786\n",
      "Epoch 81/100\n",
      "235/235 [==============================] - 15s 64ms/step - loss: 0.2798 - val_loss: 0.2784\n",
      "Epoch 82/100\n",
      "235/235 [==============================] - 14s 60ms/step - loss: 0.2799 - val_loss: 0.2784\n",
      "Epoch 83/100\n",
      "235/235 [==============================] - 15s 62ms/step - loss: 0.2798 - val_loss: 0.2783\n",
      "Epoch 84/100\n",
      "235/235 [==============================] - 15s 63ms/step - loss: 0.2797 - val_loss: 0.2784\n",
      "Epoch 85/100\n",
      "235/235 [==============================] - 14s 61ms/step - loss: 0.2797 - val_loss: 0.2783\n",
      "Epoch 86/100\n",
      "235/235 [==============================] - 15s 63ms/step - loss: 0.2796 - val_loss: 0.2782\n",
      "Epoch 87/100\n",
      "235/235 [==============================] - 14s 59ms/step - loss: 0.2796 - val_loss: 0.2782\n",
      "Epoch 88/100\n",
      "235/235 [==============================] - 16s 66ms/step - loss: 0.2795 - val_loss: 0.2782\n",
      "Epoch 89/100\n",
      "235/235 [==============================] - 14s 60ms/step - loss: 0.2795 - val_loss: 0.2782\n",
      "Epoch 90/100\n",
      "235/235 [==============================] - 16s 66ms/step - loss: 0.2795 - val_loss: 0.2781\n",
      "Epoch 91/100\n",
      "235/235 [==============================] - 14s 59ms/step - loss: 0.2794 - val_loss: 0.2781\n",
      "Epoch 92/100\n",
      "235/235 [==============================] - 15s 64ms/step - loss: 0.2794 - val_loss: 0.2781\n",
      "Epoch 93/100\n",
      "235/235 [==============================] - 14s 61ms/step - loss: 0.2793 - val_loss: 0.2780\n",
      "Epoch 94/100\n",
      "235/235 [==============================] - 14s 59ms/step - loss: 0.2794 - val_loss: 0.2785\n",
      "Epoch 95/100\n",
      "235/235 [==============================] - 15s 66ms/step - loss: 0.2793 - val_loss: 0.2779\n",
      "Epoch 96/100\n",
      "235/235 [==============================] - 14s 60ms/step - loss: 0.2793 - val_loss: 0.2778\n",
      "Epoch 97/100\n",
      "235/235 [==============================] - 15s 66ms/step - loss: 0.2792 - val_loss: 0.2780\n",
      "Epoch 98/100\n",
      "235/235 [==============================] - 14s 59ms/step - loss: 0.2792 - val_loss: 0.2780\n",
      "Epoch 99/100\n",
      "235/235 [==============================] - 15s 62ms/step - loss: 0.2792 - val_loss: 0.2778\n",
      "Epoch 100/100\n",
      "235/235 [==============================] - 15s 63ms/step - loss: 0.2791 - val_loss: 0.2779\n"
     ]
    }
   ],
   "source": [
    "cnn_hist = cnn_autoencoder.fit(x_train_cnn, x_train_cnn,\n",
    "                              epochs = 100,\n",
    "                              batch_size = 256,\n",
    "                              shuffle = True,\n",
    "                              validation_data = (x_test_cnn, x_test_cnn))"
   ]
  },
  {
   "cell_type": "markdown",
   "id": "97f530ca",
   "metadata": {
    "papermill": {
     "duration": 2.294555,
     "end_time": "2022-09-21T20:46:20.594732",
     "exception": false,
     "start_time": "2022-09-21T20:46:18.300177",
     "status": "completed"
    },
    "tags": []
   },
   "source": [
    "### Model Result Evaluation <a id = \"1c4\"></a>\n",
    "[Go Content](#cont)\n",
    "\n",
    "In this chapter, I visualized the result of the model."
   ]
  },
  {
   "cell_type": "code",
   "execution_count": 31,
   "id": "cf52c481",
   "metadata": {
    "execution": {
     "iopub.execute_input": "2022-09-21T20:46:25.193532Z",
     "iopub.status.busy": "2022-09-21T20:46:25.193111Z",
     "iopub.status.idle": "2022-09-21T20:46:25.410948Z",
     "shell.execute_reply": "2022-09-21T20:46:25.409990Z"
    },
    "papermill": {
     "duration": 2.548907,
     "end_time": "2022-09-21T20:46:25.413369",
     "exception": false,
     "start_time": "2022-09-21T20:46:22.864462",
     "status": "completed"
    },
    "tags": []
   },
   "outputs": [
    {
     "data": {
      "image/png": "[encoded data removed]",
      "text/plain": [
       "<Figure size 432x288 with 1 Axes>"
      ]
     },
     "metadata": {
      "needs_background": "light"
     },
     "output_type": "display_data"
    }
   ],
   "source": [
    "# Visualized the result of model\n",
    "plt.plot(cnn_hist.history[\"loss\"], label = \"Train Loss\")\n",
    "plt.plot(cnn_hist.history[\"val_loss\"], label = \"Validation Loss\")\n",
    "plt.legend()\n",
    "plt.show()"
   ]
  },
  {
   "cell_type": "markdown",
   "id": "67a17f9a",
   "metadata": {
    "papermill": {
     "duration": 2.260047,
     "end_time": "2022-09-21T20:46:29.988219",
     "exception": false,
     "start_time": "2022-09-21T20:46:27.728172",
     "status": "completed"
    },
    "tags": []
   },
   "source": [
    "In the below code, I predict x_test_cnn with the model."
   ]
  },
  {
   "cell_type": "code",
   "execution_count": 32,
   "id": "81f28fbb",
   "metadata": {
    "execution": {
     "iopub.execute_input": "2022-09-21T20:46:34.490014Z",
     "iopub.status.busy": "2022-09-21T20:46:34.489577Z",
     "iopub.status.idle": "2022-09-21T20:46:36.041587Z",
     "shell.execute_reply": "2022-09-21T20:46:36.040289Z"
    },
    "papermill": {
     "duration": 3.8044,
     "end_time": "2022-09-21T20:46:36.044315",
     "exception": false,
     "start_time": "2022-09-21T20:46:32.239915",
     "status": "completed"
    },
    "tags": []
   },
   "outputs": [],
   "source": [
    "cnn_decoded_img = cnn_autoencoder.predict(x_test_cnn)"
   ]
  },
  {
   "cell_type": "markdown",
   "id": "99b28c46",
   "metadata": {
    "papermill": {
     "duration": 2.339434,
     "end_time": "2022-09-21T20:46:40.662336",
     "exception": false,
     "start_time": "2022-09-21T20:46:38.322902",
     "status": "completed"
    },
    "tags": []
   },
   "source": [
    "In the below code, I visualize prediction results."
   ]
  },
  {
   "cell_type": "code",
   "execution_count": 33,
   "id": "a349dad5",
   "metadata": {
    "execution": {
     "iopub.execute_input": "2022-09-21T20:46:45.214875Z",
     "iopub.status.busy": "2022-09-21T20:46:45.214077Z",
     "iopub.status.idle": "2022-09-21T20:46:45.953088Z",
     "shell.execute_reply": "2022-09-21T20:46:45.951809Z"
    },
    "papermill": {
     "duration": 3.021548,
     "end_time": "2022-09-21T20:46:45.956303",
     "exception": false,
     "start_time": "2022-09-21T20:46:42.934755",
     "status": "completed"
    },
    "tags": []
   },
   "outputs": [
    {
     "data": {
      "image/png": "[encoded data removed]",
      "text/plain": [
       "<Figure size 1440x288 with 20 Axes>"
      ]
     },
     "metadata": {
      "needs_background": "light"
     },
     "output_type": "display_data"
    }
   ],
   "source": [
    "n = 10\n",
    "plt.figure(figsize = (20,4))\n",
    "for i in range(n):\n",
    "    #display original\n",
    "    ax = plt.subplot(2, n, i+1)\n",
    "    img = x_test.iloc[i].to_numpy()\n",
    "    img = img.reshape((28,28))\n",
    "    plt.imshow(img)\n",
    "    plt.axis(\"off\")\n",
    "    \n",
    "    # display reconstruction\n",
    "    ax = plt.subplot(2, n, i + n+1)\n",
    "    plt.imshow(cnn_decoded_img[i].reshape(28,28))\n",
    "    plt.axis(\"off\")\n",
    "plt.show()"
   ]
  },
  {
   "cell_type": "markdown",
   "id": "f759f053",
   "metadata": {
    "papermill": {
     "duration": 2.259878,
     "end_time": "2022-09-21T20:46:50.541112",
     "exception": false,
     "start_time": "2022-09-21T20:46:48.281234",
     "status": "completed"
    },
    "tags": []
   },
   "source": [
    "## Application To Image Denoising <a id = \"1d\"></a>\n",
    "[Go Content](#cont)\n",
    "\n",
    "In this chapter, I applied image denoising to images of the dataset."
   ]
  },
  {
   "cell_type": "markdown",
   "id": "43cf720d",
   "metadata": {
    "papermill": {
     "duration": 2.315541,
     "end_time": "2022-09-21T20:46:55.120472",
     "exception": false,
     "start_time": "2022-09-21T20:46:52.804931",
     "status": "completed"
    },
    "tags": []
   },
   "source": [
    "### Change Dataset <a id = \"1d1\"></a>\n",
    "[Go Content](#cont)\n",
    "\n",
    "In this chapter, I prepared the dataset and I applied image denoise into the image of dataset."
   ]
  },
  {
   "cell_type": "code",
   "execution_count": 34,
   "id": "8a3e7ed5",
   "metadata": {
    "execution": {
     "iopub.execute_input": "2022-09-21T20:46:59.774034Z",
     "iopub.status.busy": "2022-09-21T20:46:59.773620Z",
     "iopub.status.idle": "2022-09-21T20:47:02.388625Z",
     "shell.execute_reply": "2022-09-21T20:47:02.387359Z"
    },
    "papermill": {
     "duration": 4.910318,
     "end_time": "2022-09-21T20:47:02.391346",
     "exception": false,
     "start_time": "2022-09-21T20:46:57.481028",
     "status": "completed"
    },
    "tags": []
   },
   "outputs": [],
   "source": [
    "# Image Denoise\n",
    "noise_factor = 0.5\n",
    "x_train_noisy = x_train_cnn + noise_factor * np.random.normal(loc = 0.0, scale = 1.0, size = x_train_cnn.shape)\n",
    "x_test_noisy = x_test_cnn + noise_factor * np.random.normal(loc=0.0, scale=1.0, size=x_test_cnn.shape)\n",
    "\n",
    "x_train_noisy = np.clip(x_train_noisy, 0., 1.)\n",
    "x_test_noisy = np.clip(x_test_noisy, 0., 1.)"
   ]
  },
  {
   "cell_type": "code",
   "execution_count": 35,
   "id": "710a9fa6",
   "metadata": {
    "execution": {
     "iopub.execute_input": "2022-09-21T20:47:06.921481Z",
     "iopub.status.busy": "2022-09-21T20:47:06.920761Z",
     "iopub.status.idle": "2022-09-21T20:47:07.703719Z",
     "shell.execute_reply": "2022-09-21T20:47:07.702614Z"
    },
    "papermill": {
     "duration": 3.061314,
     "end_time": "2022-09-21T20:47:07.706293",
     "exception": false,
     "start_time": "2022-09-21T20:47:04.644979",
     "status": "completed"
    },
    "tags": []
   },
   "outputs": [
    {
     "data": {
      "image/png": "[encoded data removed]",
      "text/plain": [
       "<Figure size 1440x144 with 10 Axes>"
      ]
     },
     "metadata": {
      "needs_background": "light"
     },
     "output_type": "display_data"
    }
   ],
   "source": [
    "# I visualize the images I create.\n",
    "n = 10\n",
    "plt.figure(figsize = (20,2))\n",
    "for i in range(1, n + 1):\n",
    "    ax = plt.subplot(1, n, i)\n",
    "    plt.imshow(x_test_noisy[i].reshape(28,28))\n",
    "    plt.gray()\n",
    "    ax.get_xaxis().set_visible(False)\n",
    "    ax.get_yaxis().set_visible(False)\n",
    "plt.show()"
   ]
  },
  {
   "cell_type": "markdown",
   "id": "64ea3b7b",
   "metadata": {
    "papermill": {
     "duration": 2.307742,
     "end_time": "2022-09-21T20:47:12.289300",
     "exception": false,
     "start_time": "2022-09-21T20:47:09.981558",
     "status": "completed"
    },
    "tags": []
   },
   "source": [
    "### Train Model <a id = \"1d2\"></a>\n",
    "[Go Content](#cont)\n",
    "\n",
    "In this chapter, I am training with the model. I used the CNN model."
   ]
  },
  {
   "cell_type": "code",
   "execution_count": 36,
   "id": "81921101",
   "metadata": {
    "execution": {
     "iopub.execute_input": "2022-09-21T20:47:16.821927Z",
     "iopub.status.busy": "2022-09-21T20:47:16.821488Z",
     "iopub.status.idle": "2022-09-21T21:12:02.049914Z",
     "shell.execute_reply": "2022-09-21T21:12:02.048941Z"
    },
    "papermill": {
     "duration": 1487.49951,
     "end_time": "2022-09-21T21:12:02.052720",
     "exception": false,
     "start_time": "2022-09-21T20:47:14.553210",
     "status": "completed"
    },
    "tags": []
   },
   "outputs": [
    {
     "name": "stdout",
     "output_type": "stream",
     "text": [
      "Epoch 1/100\n",
      "235/235 [==============================] - 15s 64ms/step - loss: 0.5726 - val_loss: 0.5679\n",
      "Epoch 2/100\n",
      "235/235 [==============================] - 14s 61ms/step - loss: 0.5673 - val_loss: 0.5660\n",
      "Epoch 3/100\n",
      "235/235 [==============================] - 16s 67ms/step - loss: 0.5660 - val_loss: 0.5649\n",
      "Epoch 4/100\n",
      "235/235 [==============================] - 14s 60ms/step - loss: 0.5650 - val_loss: 0.5641\n",
      "Epoch 5/100\n",
      "235/235 [==============================] - 16s 67ms/step - loss: 0.5642 - val_loss: 0.5634\n",
      "Epoch 6/100\n",
      "235/235 [==============================] - 14s 60ms/step - loss: 0.5636 - val_loss: 0.5628\n",
      "Epoch 7/100\n",
      "235/235 [==============================] - 15s 64ms/step - loss: 0.5631 - val_loss: 0.5623\n",
      "Epoch 8/100\n",
      "235/235 [==============================] - 15s 63ms/step - loss: 0.5626 - val_loss: 0.5617\n",
      "Epoch 9/100\n",
      "235/235 [==============================] - 14s 59ms/step - loss: 0.5621 - val_loss: 0.5612\n",
      "Epoch 10/100\n",
      "235/235 [==============================] - 16s 67ms/step - loss: 0.5617 - val_loss: 0.5608\n",
      "Epoch 11/100\n",
      "235/235 [==============================] - 14s 59ms/step - loss: 0.5613 - val_loss: 0.5611\n",
      "Epoch 12/100\n",
      "235/235 [==============================] - 16s 68ms/step - loss: 0.5610 - val_loss: 0.5603\n",
      "Epoch 13/100\n",
      "235/235 [==============================] - 14s 60ms/step - loss: 0.5606 - val_loss: 0.5598\n",
      "Epoch 14/100\n",
      "235/235 [==============================] - 15s 62ms/step - loss: 0.5604 - val_loss: 0.5596\n",
      "Epoch 15/100\n",
      "235/235 [==============================] - 16s 66ms/step - loss: 0.5601 - val_loss: 0.5594\n",
      "Epoch 16/100\n",
      "235/235 [==============================] - 15s 65ms/step - loss: 0.5599 - val_loss: 0.5591\n",
      "Epoch 17/100\n",
      "235/235 [==============================] - 15s 65ms/step - loss: 0.5596 - val_loss: 0.5589\n",
      "Epoch 18/100\n",
      "235/235 [==============================] - 15s 64ms/step - loss: 0.5594 - val_loss: 0.5588\n",
      "Epoch 19/100\n",
      "235/235 [==============================] - 15s 62ms/step - loss: 0.5593 - val_loss: 0.5585\n",
      "Epoch 20/100\n",
      "235/235 [==============================] - 15s 64ms/step - loss: 0.5591 - val_loss: 0.5583\n",
      "Epoch 21/100\n",
      "235/235 [==============================] - 14s 60ms/step - loss: 0.5589 - val_loss: 0.5581\n",
      "Epoch 22/100\n",
      "235/235 [==============================] - 16s 68ms/step - loss: 0.5588 - val_loss: 0.5583\n",
      "Epoch 23/100\n",
      "235/235 [==============================] - 14s 60ms/step - loss: 0.5586 - val_loss: 0.5578\n",
      "Epoch 24/100\n",
      "235/235 [==============================] - 16s 68ms/step - loss: 0.5584 - val_loss: 0.5576\n",
      "Epoch 25/100\n",
      "235/235 [==============================] - 14s 60ms/step - loss: 0.5583 - val_loss: 0.5576\n",
      "Epoch 26/100\n",
      "235/235 [==============================] - 14s 59ms/step - loss: 0.5581 - val_loss: 0.5575\n",
      "Epoch 27/100\n",
      "235/235 [==============================] - 16s 68ms/step - loss: 0.5580 - val_loss: 0.5574\n",
      "Epoch 28/100\n",
      "235/235 [==============================] - 14s 60ms/step - loss: 0.5579 - val_loss: 0.5572\n",
      "Epoch 29/100\n",
      "235/235 [==============================] - 16s 68ms/step - loss: 0.5578 - val_loss: 0.5571\n",
      "Epoch 30/100\n",
      "235/235 [==============================] - 14s 60ms/step - loss: 0.5577 - val_loss: 0.5570\n",
      "Epoch 31/100\n",
      "235/235 [==============================] - 15s 65ms/step - loss: 0.5576 - val_loss: 0.5573\n",
      "Epoch 32/100\n",
      "235/235 [==============================] - 15s 64ms/step - loss: 0.5576 - val_loss: 0.5569\n",
      "Epoch 33/100\n",
      "235/235 [==============================] - 15s 63ms/step - loss: 0.5575 - val_loss: 0.5571\n",
      "Epoch 34/100\n",
      "235/235 [==============================] - 15s 64ms/step - loss: 0.5574 - val_loss: 0.5566\n",
      "Epoch 35/100\n",
      "235/235 [==============================] - 15s 63ms/step - loss: 0.5573 - val_loss: 0.5567\n",
      "Epoch 36/100\n",
      "235/235 [==============================] - 15s 62ms/step - loss: 0.5572 - val_loss: 0.5564\n",
      "Epoch 37/100\n",
      "235/235 [==============================] - 16s 67ms/step - loss: 0.5571 - val_loss: 0.5564\n",
      "Epoch 38/100\n",
      "235/235 [==============================] - 14s 60ms/step - loss: 0.5570 - val_loss: 0.5563\n",
      "Epoch 39/100\n",
      "235/235 [==============================] - 16s 68ms/step - loss: 0.5570 - val_loss: 0.5562\n",
      "Epoch 40/100\n",
      "235/235 [==============================] - 14s 59ms/step - loss: 0.5569 - val_loss: 0.5565\n",
      "Epoch 41/100\n",
      "235/235 [==============================] - 15s 62ms/step - loss: 0.5568 - val_loss: 0.5561\n",
      "Epoch 42/100\n",
      "235/235 [==============================] - 15s 65ms/step - loss: 0.5567 - val_loss: 0.5562\n",
      "Epoch 43/100\n",
      "235/235 [==============================] - 14s 60ms/step - loss: 0.5567 - val_loss: 0.5563\n",
      "Epoch 44/100\n",
      "235/235 [==============================] - 16s 70ms/step - loss: 0.5566 - val_loss: 0.5559\n",
      "Epoch 45/100\n",
      "235/235 [==============================] - 14s 59ms/step - loss: 0.5566 - val_loss: 0.5560\n",
      "Epoch 46/100\n",
      "235/235 [==============================] - 16s 68ms/step - loss: 0.5565 - val_loss: 0.5563\n",
      "Epoch 47/100\n",
      "235/235 [==============================] - 14s 61ms/step - loss: 0.5565 - val_loss: 0.5558\n",
      "Epoch 48/100\n",
      "235/235 [==============================] - 15s 64ms/step - loss: 0.5564 - val_loss: 0.5558\n",
      "Epoch 49/100\n",
      "235/235 [==============================] - 15s 65ms/step - loss: 0.5564 - val_loss: 0.5557\n",
      "Epoch 50/100\n",
      "235/235 [==============================] - 15s 64ms/step - loss: 0.5563 - val_loss: 0.5557\n",
      "Epoch 51/100\n",
      "235/235 [==============================] - 15s 65ms/step - loss: 0.5563 - val_loss: 0.5556\n",
      "Epoch 52/100\n",
      "235/235 [==============================] - 15s 65ms/step - loss: 0.5562 - val_loss: 0.5558\n",
      "Epoch 53/100\n",
      "235/235 [==============================] - 14s 60ms/step - loss: 0.5562 - val_loss: 0.5557\n",
      "Epoch 54/100\n",
      "235/235 [==============================] - 15s 63ms/step - loss: 0.5561 - val_loss: 0.5555\n",
      "Epoch 55/100\n",
      "235/235 [==============================] - 14s 60ms/step - loss: 0.5561 - val_loss: 0.5554\n",
      "Epoch 56/100\n",
      "235/235 [==============================] - 16s 69ms/step - loss: 0.5561 - val_loss: 0.5553\n",
      "Epoch 57/100\n",
      "235/235 [==============================] - 14s 60ms/step - loss: 0.5560 - val_loss: 0.5553\n",
      "Epoch 58/100\n",
      "235/235 [==============================] - 14s 60ms/step - loss: 0.5560 - val_loss: 0.5553\n",
      "Epoch 59/100\n",
      "235/235 [==============================] - 15s 63ms/step - loss: 0.5559 - val_loss: 0.5553\n",
      "Epoch 60/100\n",
      "235/235 [==============================] - 15s 63ms/step - loss: 0.5559 - val_loss: 0.5551\n",
      "Epoch 61/100\n",
      "235/235 [==============================] - 16s 66ms/step - loss: 0.5558 - val_loss: 0.5551\n",
      "Epoch 62/100\n",
      "235/235 [==============================] - 14s 60ms/step - loss: 0.5557 - val_loss: 0.5550\n",
      "Epoch 63/100\n",
      "235/235 [==============================] - 15s 63ms/step - loss: 0.5557 - val_loss: 0.5550\n",
      "Epoch 64/100\n",
      "235/235 [==============================] - 14s 60ms/step - loss: 0.5557 - val_loss: 0.5550\n",
      "Epoch 65/100\n",
      "235/235 [==============================] - 16s 68ms/step - loss: 0.5556 - val_loss: 0.5549\n",
      "Epoch 66/100\n",
      "235/235 [==============================] - 14s 60ms/step - loss: 0.5556 - val_loss: 0.5549\n",
      "Epoch 67/100\n",
      "235/235 [==============================] - 15s 64ms/step - loss: 0.5555 - val_loss: 0.5548\n",
      "Epoch 68/100\n",
      "235/235 [==============================] - 14s 60ms/step - loss: 0.5555 - val_loss: 0.5548\n",
      "Epoch 69/100\n",
      "235/235 [==============================] - 15s 65ms/step - loss: 0.5554 - val_loss: 0.5552\n",
      "Epoch 70/100\n",
      "235/235 [==============================] - 15s 65ms/step - loss: 0.5554 - val_loss: 0.5547\n",
      "Epoch 71/100\n",
      "235/235 [==============================] - 15s 63ms/step - loss: 0.5553 - val_loss: 0.5550\n",
      "Epoch 72/100\n",
      "235/235 [==============================] - 14s 60ms/step - loss: 0.5553 - val_loss: 0.5547\n",
      "Epoch 73/100\n",
      "235/235 [==============================] - 14s 60ms/step - loss: 0.5553 - val_loss: 0.5546\n",
      "Epoch 74/100\n",
      "235/235 [==============================] - 16s 69ms/step - loss: 0.5552 - val_loss: 0.5545\n",
      "Epoch 75/100\n",
      "235/235 [==============================] - 14s 60ms/step - loss: 0.5552 - val_loss: 0.5544\n",
      "Epoch 76/100\n",
      "235/235 [==============================] - 15s 63ms/step - loss: 0.5551 - val_loss: 0.5548\n",
      "Epoch 77/100\n",
      "235/235 [==============================] - 14s 60ms/step - loss: 0.5551 - val_loss: 0.5543\n",
      "Epoch 78/100\n",
      "235/235 [==============================] - 15s 64ms/step - loss: 0.5550 - val_loss: 0.5545\n",
      "Epoch 79/100\n",
      "235/235 [==============================] - 16s 67ms/step - loss: 0.5550 - val_loss: 0.5544\n",
      "Epoch 80/100\n",
      "235/235 [==============================] - 15s 64ms/step - loss: 0.5549 - val_loss: 0.5543\n",
      "Epoch 81/100\n",
      "235/235 [==============================] - 14s 59ms/step - loss: 0.5549 - val_loss: 0.5543\n",
      "Epoch 82/100\n",
      "235/235 [==============================] - 15s 63ms/step - loss: 0.5549 - val_loss: 0.5542\n",
      "Epoch 83/100\n",
      "235/235 [==============================] - 15s 64ms/step - loss: 0.5548 - val_loss: 0.5544\n",
      "Epoch 84/100\n",
      "235/235 [==============================] - 15s 66ms/step - loss: 0.5548 - val_loss: 0.5545\n",
      "Epoch 85/100\n",
      "235/235 [==============================] - 14s 60ms/step - loss: 0.5548 - val_loss: 0.5542\n",
      "Epoch 86/100\n",
      "235/235 [==============================] - 15s 63ms/step - loss: 0.5547 - val_loss: 0.5543\n",
      "Epoch 87/100\n",
      "235/235 [==============================] - 14s 60ms/step - loss: 0.5547 - val_loss: 0.5540\n",
      "Epoch 88/100\n",
      "235/235 [==============================] - 17s 71ms/step - loss: 0.5547 - val_loss: 0.5540\n",
      "Epoch 89/100\n",
      "235/235 [==============================] - 14s 60ms/step - loss: 0.5546 - val_loss: 0.5539\n",
      "Epoch 90/100\n",
      "235/235 [==============================] - 14s 61ms/step - loss: 0.5546 - val_loss: 0.5542\n",
      "Epoch 91/100\n",
      "235/235 [==============================] - 15s 63ms/step - loss: 0.5546 - val_loss: 0.5540\n",
      "Epoch 92/100\n",
      "235/235 [==============================] - 15s 64ms/step - loss: 0.5546 - val_loss: 0.5541\n",
      "Epoch 93/100\n",
      "235/235 [==============================] - 16s 69ms/step - loss: 0.5545 - val_loss: 0.5540\n",
      "Epoch 94/100\n",
      "235/235 [==============================] - 14s 60ms/step - loss: 0.5545 - val_loss: 0.5539\n",
      "Epoch 95/100\n",
      "235/235 [==============================] - 15s 63ms/step - loss: 0.5545 - val_loss: 0.5538\n",
      "Epoch 96/100\n",
      "235/235 [==============================] - 14s 60ms/step - loss: 0.5545 - val_loss: 0.5539\n",
      "Epoch 97/100\n",
      "235/235 [==============================] - 17s 71ms/step - loss: 0.5544 - val_loss: 0.5543\n",
      "Epoch 98/100\n",
      "235/235 [==============================] - 14s 60ms/step - loss: 0.5544 - val_loss: 0.5537\n",
      "Epoch 99/100\n",
      "235/235 [==============================] - 15s 64ms/step - loss: 0.5543 - val_loss: 0.5537\n",
      "Epoch 100/100\n",
      "235/235 [==============================] - 14s 60ms/step - loss: 0.5544 - val_loss: 0.5536\n"
     ]
    }
   ],
   "source": [
    "cnn_Aid_hist = cnn_autoencoder.fit(x_train_noisy, x_train_noisy,\n",
    "                                   epochs = 100,\n",
    "                                   batch_size = 256,\n",
    "                                   shuffle = True,\n",
    "                                   validation_data = (x_test_noisy, x_test_noisy))"
   ]
  },
  {
   "cell_type": "markdown",
   "id": "f2629dba",
   "metadata": {
    "papermill": {
     "duration": 3.756992,
     "end_time": "2022-09-21T21:12:09.701404",
     "exception": false,
     "start_time": "2022-09-21T21:12:05.944412",
     "status": "completed"
    },
    "tags": []
   },
   "source": [
    "### Model Result Evaluation <a id = \"1d3\"></a>\n",
    "[Go Content](#cont)\n",
    "\n",
    "In this chapter, I visualized the result of the model."
   ]
  },
  {
   "cell_type": "code",
   "execution_count": 37,
   "id": "80d40bc6",
   "metadata": {
    "execution": {
     "iopub.execute_input": "2022-09-21T21:12:17.450144Z",
     "iopub.status.busy": "2022-09-21T21:12:17.449384Z",
     "iopub.status.idle": "2022-09-21T21:12:17.667924Z",
     "shell.execute_reply": "2022-09-21T21:12:17.666796Z"
    },
    "papermill": {
     "duration": 4.07225,
     "end_time": "2022-09-21T21:12:17.670432",
     "exception": false,
     "start_time": "2022-09-21T21:12:13.598182",
     "status": "completed"
    },
    "tags": []
   },
   "outputs": [
    {
     "data": {
      "image/png": "[encoded data removed]",
      "text/plain": [
       "<Figure size 432x288 with 1 Axes>"
      ]
     },
     "metadata": {
      "needs_background": "light"
     },
     "output_type": "display_data"
    }
   ],
   "source": [
    "plt.plot(cnn_Aid_hist.history[\"loss\"], label = \"Train Loss\")\n",
    "plt.plot(cnn_Aid_hist.history[\"val_loss\"], label = \"Validation Loss\")\n",
    "plt.legend()\n",
    "plt.show()"
   ]
  },
  {
   "cell_type": "markdown",
   "id": "efd2450b",
   "metadata": {
    "papermill": {
     "duration": 3.743416,
     "end_time": "2022-09-21T21:12:25.245706",
     "exception": false,
     "start_time": "2022-09-21T21:12:21.502290",
     "status": "completed"
    },
    "tags": []
   },
   "source": [
    "In the below code, I predict x_test_noisy with the model."
   ]
  },
  {
   "cell_type": "code",
   "execution_count": 38,
   "id": "fce96e79",
   "metadata": {
    "execution": {
     "iopub.execute_input": "2022-09-21T21:12:32.897257Z",
     "iopub.status.busy": "2022-09-21T21:12:32.896841Z",
     "iopub.status.idle": "2022-09-21T21:12:34.274344Z",
     "shell.execute_reply": "2022-09-21T21:12:34.273427Z"
    },
    "papermill": {
     "duration": 5.196969,
     "end_time": "2022-09-21T21:12:34.276839",
     "exception": false,
     "start_time": "2022-09-21T21:12:29.079870",
     "status": "completed"
    },
    "tags": []
   },
   "outputs": [],
   "source": [
    "cnnAid_decoded_img = cnn_autoencoder.predict(x_test_noisy)"
   ]
  },
  {
   "cell_type": "markdown",
   "id": "79a221a1",
   "metadata": {
    "papermill": {
     "duration": 3.823326,
     "end_time": "2022-09-21T21:12:41.797874",
     "exception": false,
     "start_time": "2022-09-21T21:12:37.974548",
     "status": "completed"
    },
    "tags": []
   },
   "source": [
    "In the below code, I visualize prediction results."
   ]
  },
  {
   "cell_type": "code",
   "execution_count": 39,
   "id": "7898010d",
   "metadata": {
    "execution": {
     "iopub.execute_input": "2022-09-21T21:12:49.370123Z",
     "iopub.status.busy": "2022-09-21T21:12:49.369670Z",
     "iopub.status.idle": "2022-09-21T21:12:50.117788Z",
     "shell.execute_reply": "2022-09-21T21:12:50.116223Z"
    },
    "papermill": {
     "duration": 4.564234,
     "end_time": "2022-09-21T21:12:50.121231",
     "exception": false,
     "start_time": "2022-09-21T21:12:45.556997",
     "status": "completed"
    },
    "tags": []
   },
   "outputs": [
    {
     "data": {
      "image/png": "[encoded data removed]",
      "text/plain": [
       "<Figure size 1440x288 with 20 Axes>"
      ]
     },
     "metadata": {
      "needs_background": "light"
     },
     "output_type": "display_data"
    }
   ],
   "source": [
    "n = 10\n",
    "plt.figure(figsize = (20,4))\n",
    "for i in range(n):\n",
    "    #display original\n",
    "    ax = plt.subplot(2, n, i+1)\n",
    "    plt.imshow(x_test_noisy[i].reshape(28, 28))\n",
    "    plt.axis(\"off\")\n",
    "    \n",
    "    # display reconstruction\n",
    "    ax = plt.subplot(2, n, i + n+1)\n",
    "    plt.imshow(cnnAid_decoded_img[i].reshape(28,28))\n",
    "    plt.axis(\"off\")\n",
    "plt.show()"
   ]
  },
  {
   "cell_type": "markdown",
   "id": "3f1fc8aa",
   "metadata": {
    "papermill": {
     "duration": 3.70405,
     "end_time": "2022-09-21T21:12:57.636288",
     "exception": false,
     "start_time": "2022-09-21T21:12:53.932238",
     "status": "completed"
    },
    "tags": []
   },
   "source": [
    "# CONCLUSION <a id = \"3\"></a>\n",
    "---\n",
    "[Go Content](#cont)\n",
    "\n",
    "I am learning the English language newly if I make an errata please advise me in the comment. Thank you for reading my notebook, your votes and your comments. I will be waiting for your advice."
   ]
  }
 ],
 "metadata": {
  "kernelspec": {
   "display_name": "Python 3",
   "language": "python",
   "name": "python3"
  },
  "language_info": {
   "codemirror_mode": {
    "name": "ipython",
    "version": 3
   },
   "file_extension": ".py",
   "mimetype": "text/x-python",
   "name": "python",
   "nbconvert_exporter": "python",
   "pygments_lexer": "ipython3",
   "version": "3.7.12"
  },
  "papermill": {
   "default_parameters": {},
   "duration": 4106.897095,
   "end_time": "2022-09-21T21:13:04.635466",
   "environment_variables": {},
   "exception": null,
   "input_path": "__notebook__.ipynb",
   "output_path": "__notebook__.ipynb",
   "parameters": {},
   "start_time": "2022-09-21T20:04:37.738371",
   "version": "2.3.4"
  }
 },
 "nbformat": 4,
 "nbformat_minor": 5
}
